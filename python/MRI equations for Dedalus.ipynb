{
 "metadata": {
  "name": ""
 },
 "nbformat": 3,
 "nbformat_minor": 0,
 "worksheets": [
  {
   "cells": [
    {
     "cell_type": "markdown",
     "metadata": {},
     "source": [
      "# MRI Equations for Dedalus\n",
      "\n",
      "Here, I'll expand the streamfunction formalism into equations suitable for Dedalus."
     ]
    },
    {
     "cell_type": "code",
     "collapsed": false,
     "input": [
      "from sympy import *"
     ],
     "language": "python",
     "metadata": {},
     "outputs": [],
     "prompt_number": 1
    },
    {
     "cell_type": "code",
     "collapsed": false,
     "input": [
      "init_printing()"
     ],
     "language": "python",
     "metadata": {},
     "outputs": [],
     "prompt_number": 2
    },
    {
     "cell_type": "code",
     "collapsed": false,
     "input": [
      "psi, u, A, b, x, z = symbols(\"psi, u, A, b, x, z\")"
     ],
     "language": "python",
     "metadata": {},
     "outputs": [],
     "prompt_number": 3
    },
    {
     "cell_type": "code",
     "collapsed": false,
     "input": [
      "psi = Function('psi')(x,z)\n",
      "psi_x = Function('psi_x')(x,z)\n",
      "psi_xx = Function('psi_xx')(x,z)\n",
      "psi_xxx = Function('psi_xxx')(x,z)\n",
      "psi_xxxx = Function('psi_xxxx')(x,z)\n",
      "#psi_x = Derivative(psi,x)\n",
      "#psi_xx = Derivative(psi_x,x)\n",
      "#psi_xxx = Derivative(psi_xx,x)\n",
      "#psi_xxxx = Derivative(psi_xxx,x)"
     ],
     "language": "python",
     "metadata": {},
     "outputs": [],
     "prompt_number": 17
    },
    {
     "cell_type": "code",
     "collapsed": false,
     "input": [
      "#psi_x, psi_xx, psi_xxx, psi_xxxx = symbols(\"psi_x, psi_xx, psi_xxx, psi_xxxx\")"
     ],
     "language": "python",
     "metadata": {},
     "outputs": [],
     "prompt_number": 5
    },
    {
     "cell_type": "code",
     "collapsed": false,
     "input": [
      "class J(Function):\n",
      "    nargs = 2\n",
      "    @classmethod\n",
      "    def eval(cls, f, g):\n",
      "        return Derivative(f,z)*Derivative(g,x) - Derivative(f,x)*Derivative(g,z)"
     ],
     "language": "python",
     "metadata": {},
     "outputs": [],
     "prompt_number": 6
    },
    {
     "cell_type": "code",
     "collapsed": false,
     "input": [
      "class nabla_sq(Function):\n",
      "    nargs = 1\n",
      "    @classmethod\n",
      "    def eval(cls, f):\n",
      "        return Derivative(f,x,2) + Derivative(f,z,2) "
     ],
     "language": "python",
     "metadata": {},
     "outputs": [],
     "prompt_number": 7
    },
    {
     "cell_type": "code",
     "collapsed": false,
     "input": [
      "class nabla_quad(Function):\n",
      "    nargs = 1\n",
      "    @classmethod\n",
      "    def eval(cls, f):\n",
      "        return Derivative(f,x,4) + Derivative(f,z,4) "
     ],
     "language": "python",
     "metadata": {},
     "outputs": [],
     "prompt_number": 8
    },
    {
     "cell_type": "code",
     "collapsed": false,
     "input": [
      "J(psi, A)"
     ],
     "language": "python",
     "metadata": {},
     "outputs": [
      {
       "latex": [
        "$$\\frac{d}{d x} A \\frac{\\partial}{\\partial z} \\psi{\\left (x,z \\right )} - \\frac{d}{d z} A \\frac{\\partial}{\\partial x} \\psi{\\left (x,z \\right )}$$"
       ],
       "metadata": {},
       "output_type": "pyout",
       "png": "[encoded data removed]",
       "prompt_number": 9,
       "text": [
        "d     \u2202             d     \u2202          \n",
        "\u2500\u2500(A)\u22c5\u2500\u2500(\u03c8(x, z)) - \u2500\u2500(A)\u22c5\u2500\u2500(\u03c8(x, z))\n",
        "dx    \u2202z            dz    \u2202x         "
       ]
      }
     ],
     "prompt_number": 9
    },
    {
     "cell_type": "code",
     "collapsed": false,
     "input": [
      "nabla_sq(A)"
     ],
     "language": "python",
     "metadata": {},
     "outputs": [
      {
       "latex": [
        "$$\\frac{d^{2}}{d x^{2}}  A + \\frac{d^{2}}{d z^{2}}  A$$"
       ],
       "metadata": {},
       "output_type": "pyout",
       "png": "[encoded data removed]",
       "prompt_number": 10,
       "text": [
        "  2        2   \n",
        " d        d    \n",
        "\u2500\u2500\u2500(A) + \u2500\u2500\u2500(A)\n",
        "  2        2   \n",
        "dx       dz    "
       ]
      }
     ],
     "prompt_number": 10
    },
    {
     "cell_type": "code",
     "collapsed": false,
     "input": [
      "nabla_quad(A)"
     ],
     "language": "python",
     "metadata": {},
     "outputs": [
      {
       "latex": [
        "$$\\frac{d^{4}}{d x^{4}}  A + \\frac{d^{4}}{d z^{4}}  A$$"
       ],
       "metadata": {},
       "output_type": "pyout",
       "png": "[encoded data removed]",
       "prompt_number": 11,
       "text": [
        "  4        4   \n",
        " d        d    \n",
        "\u2500\u2500\u2500(A) + \u2500\u2500\u2500(A)\n",
        "  4        4   \n",
        "dx       dz    "
       ]
      }
     ],
     "prompt_number": 11
    },
    {
     "cell_type": "code",
     "collapsed": false,
     "input": [
      "j1 = J(psi,nabla_sq(psi))"
     ],
     "language": "python",
     "metadata": {},
     "outputs": [],
     "prompt_number": 12
    },
    {
     "cell_type": "code",
     "collapsed": false,
     "input": [
      "j1.subs(Derivative(psi,x),psi_x)"
     ],
     "language": "python",
     "metadata": {},
     "outputs": [
      {
       "latex": [
        "$$- \\operatorname{psi\\_x}{\\left (x,z \\right )} \\frac{\\partial}{\\partial z}\\left(\\frac{\\partial}{\\partial x} \\operatorname{psi\\_x}{\\left (x,z \\right )} + \\frac{\\partial^{2}}{\\partial z^{2}}  \\operatorname{psi\\_x}{\\left (x,z \\right )}\\right) + \\frac{\\partial}{\\partial x}\\left(\\frac{\\partial}{\\partial x} \\operatorname{psi\\_x}{\\left (x,z \\right )} + \\frac{\\partial^{2}}{\\partial z^{2}}  \\operatorname{psi\\_x}{\\left (x,z \\right )}\\right) \\frac{\\partial}{\\partial z} \\psi{\\left (x,z \\right )}$$"
       ],
       "metadata": {},
       "output_type": "pyout",
       "png": "[encoded data removed]",
       "prompt_number": 21,
       "text": [
        "             \u239b                 2          \u239e     \u239b                 2          \u239e\n",
        "           \u2202 \u239c\u2202               \u2202           \u239f   \u2202 \u239c\u2202               \u2202           \u239f\n",
        "- \u03c8\u2093(x, z)\u22c5\u2500\u2500\u239c\u2500\u2500(\u03c8\u2093(x, z)) + \u2500\u2500\u2500(\u03c8\u2093(x, z))\u239f + \u2500\u2500\u239c\u2500\u2500(\u03c8\u2093(x, z)) + \u2500\u2500\u2500(\u03c8\u2093(x, z))\u239f\n",
        "           \u2202z\u239c\u2202x               2          \u239f   \u2202x\u239c\u2202x               2          \u239f\n",
        "             \u239d               \u2202z           \u23a0     \u239d               \u2202z           \u23a0\n",
        "\n",
        "            \n",
        " \u2202          \n",
        "\u22c5\u2500\u2500(\u03c8(x, z))\n",
        " \u2202z         \n",
        "            "
       ]
      }
     ],
     "prompt_number": 21
    },
    {
     "cell_type": "code",
     "collapsed": false,
     "input": [
      "j1"
     ],
     "language": "python",
     "metadata": {},
     "outputs": [
      {
       "latex": [
        "$$\\frac{\\partial}{\\partial x}\\left(\\frac{\\partial^{2}}{\\partial x^{2}}  \\psi{\\left (x,z \\right )} + \\frac{\\partial^{2}}{\\partial z^{2}}  \\psi{\\left (x,z \\right )}\\right) \\frac{\\partial}{\\partial z} \\psi{\\left (x,z \\right )} - \\frac{\\partial}{\\partial z}\\left(\\frac{\\partial^{2}}{\\partial x^{2}}  \\psi{\\left (x,z \\right )} + \\frac{\\partial^{2}}{\\partial z^{2}}  \\psi{\\left (x,z \\right )}\\right) \\frac{\\partial}{\\partial x} \\psi{\\left (x,z \\right )}$$"
       ],
       "metadata": {},
       "output_type": "pyout",
       "png": "[encoded data removed]",
       "prompt_number": 26,
       "text": [
        "  \u239b  2              2         \u239e                 \u239b  2              2         \u239e \n",
        "\u2202 \u239c \u2202              \u2202          \u239f \u2202             \u2202 \u239c \u2202              \u2202          \u239f \n",
        "\u2500\u2500\u239c\u2500\u2500\u2500(\u03c8(x, z)) + \u2500\u2500\u2500(\u03c8(x, z))\u239f\u22c5\u2500\u2500(\u03c8(x, z)) - \u2500\u2500\u239c\u2500\u2500\u2500(\u03c8(x, z)) + \u2500\u2500\u2500(\u03c8(x, z))\u239f\u22c5\n",
        "\u2202x\u239c  2              2         \u239f \u2202z            \u2202z\u239c  2              2         \u239f \n",
        "  \u239d\u2202x             \u2202z          \u23a0                 \u239d\u2202x             \u2202z          \u23a0 \n",
        "\n",
        "           \n",
        "\u2202          \n",
        "\u2500\u2500(\u03c8(x, z))\n",
        "\u2202x         \n",
        "           "
       ]
      }
     ],
     "prompt_number": 26
    },
    {
     "cell_type": "code",
     "collapsed": false,
     "input": [
      "j2 = Derivative(psi,x) - Derivative(psi,z,z)"
     ],
     "language": "python",
     "metadata": {},
     "outputs": [],
     "prompt_number": 34
    },
    {
     "cell_type": "code",
     "collapsed": false,
     "input": [
      "j2.subs(Derivative(psi,x,1), psi_x)"
     ],
     "language": "python",
     "metadata": {},
     "outputs": [
      {
       "latex": [
        "$$\\operatorname{psi\\_x}{\\left (x,z \\right )} - \\frac{\\partial^{2}}{\\partial z^{2}}  \\operatorname{psi\\_x}{\\left (x,z \\right )}$$"
       ],
       "metadata": {},
       "output_type": "pyout",
       "png": "[encoded data removed]",
       "prompt_number": 35,
       "text": [
        "             2          \n",
        "            \u2202           \n",
        "\u03c8\u2093(x, z) - \u2500\u2500\u2500(\u03c8\u2093(x, z))\n",
        "             2          \n",
        "           \u2202z           "
       ]
      }
     ],
     "prompt_number": 35
    },
    {
     "cell_type": "code",
     "collapsed": false,
     "input": [
      "j3 = Derivative(psi,z,2)"
     ],
     "language": "python",
     "metadata": {},
     "outputs": [],
     "prompt_number": 36
    },
    {
     "cell_type": "code",
     "collapsed": false,
     "input": [
      "j3.subs(Derivative(psi,x),psi_x)"
     ],
     "language": "python",
     "metadata": {},
     "outputs": [
      {
       "latex": [
        "$$\\frac{\\partial^{2}}{\\partial z^{2}}  \\operatorname{psi\\_x}{\\left (x,z \\right )}$$"
       ],
       "metadata": {},
       "output_type": "pyout",
       "png": "[encoded data removed]",
       "prompt_number": 37,
       "text": [
        "  2          \n",
        " \u2202           \n",
        "\u2500\u2500\u2500(\u03c8\u2093(x, z))\n",
        "  2          \n",
        "\u2202z           "
       ]
      }
     ],
     "prompt_number": 37
    },
    {
     "cell_type": "code",
     "collapsed": false,
     "input": [
      "import sympy"
     ],
     "language": "python",
     "metadata": {},
     "outputs": [],
     "prompt_number": 38
    },
    {
     "cell_type": "code",
     "collapsed": false,
     "input": [
      "print(sympy.__version__)"
     ],
     "language": "python",
     "metadata": {},
     "outputs": [
      {
       "output_type": "stream",
       "stream": "stdout",
       "text": [
        "0.7.4.1\n"
       ]
      }
     ],
     "prompt_number": 40
    },
    {
     "cell_type": "code",
     "collapsed": false,
     "input": [
      "import sys\n",
      "print(sys.version)"
     ],
     "language": "python",
     "metadata": {},
     "outputs": [
      {
       "output_type": "stream",
       "stream": "stdout",
       "text": [
        "3.3.2 (default, Mar 24 2014, 15:17:10) \n",
        "[GCC 4.8.2]\n"
       ]
      }
     ],
     "prompt_number": 42
    },
    {
     "cell_type": "code",
     "collapsed": false,
     "input": [],
     "language": "python",
     "metadata": {},
     "outputs": []
    }
   ],
   "metadata": {}
  }
 ]
}