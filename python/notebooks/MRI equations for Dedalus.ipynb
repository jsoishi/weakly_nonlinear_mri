{
 "metadata": {
  "name": "",
  "signature": "sha256:b780b6a137b49defd23258b3c8ac41371f77e48e6ea115580ebb7934867560ab"
 },
 "nbformat": 3,
 "nbformat_minor": 0,
 "worksheets": [
  {
   "cells": [
    {
     "cell_type": "markdown",
     "metadata": {},
     "source": [
      "# MRI Equations for Dedalus\n",
      "\n",
      "Here, I'll expand the streamfunction formalism into equations suitable for Dedalus."
     ]
    },
    {
     "cell_type": "code",
     "collapsed": false,
     "input": [
      "from sympy import *"
     ],
     "language": "python",
     "metadata": {},
     "outputs": [],
     "prompt_number": 1
    },
    {
     "cell_type": "code",
     "collapsed": false,
     "input": [
      "init_printing()"
     ],
     "language": "python",
     "metadata": {},
     "outputs": [],
     "prompt_number": 2
    },
    {
     "cell_type": "markdown",
     "metadata": {},
     "source": [
      "indepenent variables"
     ]
    },
    {
     "cell_type": "code",
     "collapsed": false,
     "input": [
      "x, z,t  = symbols(\"x, z, t\")"
     ],
     "language": "python",
     "metadata": {},
     "outputs": [],
     "prompt_number": 3
    },
    {
     "cell_type": "markdown",
     "metadata": {},
     "source": [
      "Parameters"
     ]
    },
    {
     "cell_type": "code",
     "collapsed": false,
     "input": [
      "B0, Re, Rm = symbols(\"B_0, Re, Rm\")"
     ],
     "language": "python",
     "metadata": {},
     "outputs": [],
     "prompt_number": 4
    },
    {
     "cell_type": "markdown",
     "metadata": {},
     "source": [
      "Fields to solve for (and their derivatives, if Sympy could handle them)"
     ]
    },
    {
     "cell_type": "code",
     "collapsed": false,
     "input": [
      "u = Function('u')(t,x,z)\n",
      "A = Function('A')(t,x,z)\n",
      "b = Function('b')(t,x,z)"
     ],
     "language": "python",
     "metadata": {},
     "outputs": [],
     "prompt_number": 5
    },
    {
     "cell_type": "code",
     "collapsed": false,
     "input": [
      "psi = Function('psi')(t,x,z)\n",
      "psi_x = Function('psi_x')(t,x,z)\n",
      "psi_xx = Function('psi_xx')(t,x,z)\n",
      "psi_xxx = Function('psi_xxx')(t,x,z)\n",
      "#psi_x = Derivative(psi,x)\n",
      "#psi_xx = Derivative(psi_x,x)\n",
      "#psi_xxx = Derivative(psi_xx,x)"
     ],
     "language": "python",
     "metadata": {},
     "outputs": [],
     "prompt_number": 6
    },
    {
     "cell_type": "code",
     "collapsed": false,
     "input": [
      "class J(Function):\n",
      "    nargs = 2\n",
      "    @classmethod\n",
      "    def eval(cls, f, g):\n",
      "        return Derivative(f,z)*Derivative(g,x) - Derivative(f,x)*Derivative(g,z)"
     ],
     "language": "python",
     "metadata": {},
     "outputs": [],
     "prompt_number": 7
    },
    {
     "cell_type": "code",
     "collapsed": false,
     "input": [
      "class nabla_sq(Function):\n",
      "    nargs = 1\n",
      "    @classmethod\n",
      "    def eval(cls, f):\n",
      "        return Derivative(f,x,2) + Derivative(f,z,2) "
     ],
     "language": "python",
     "metadata": {},
     "outputs": [],
     "prompt_number": 8
    },
    {
     "cell_type": "code",
     "collapsed": false,
     "input": [
      "class nabla_quad(Function):\n",
      "    nargs = 1\n",
      "    @classmethod\n",
      "    def eval(cls, f):\n",
      "        return Derivative(f,x,4) + Derivative(f,z,4) "
     ],
     "language": "python",
     "metadata": {},
     "outputs": [],
     "prompt_number": 9
    },
    {
     "cell_type": "code",
     "collapsed": false,
     "input": [
      "J(psi, A)"
     ],
     "language": "python",
     "metadata": {},
     "outputs": [
      {
       "latex": [
        "$$\\frac{\\partial}{\\partial x} A{\\left (t,x,z \\right )} \\frac{\\partial}{\\partial z} \\psi{\\left (t,x,z \\right )} - \\frac{\\partial}{\\partial z} A{\\left (t,x,z \\right )} \\frac{\\partial}{\\partial x} \\psi{\\left (t,x,z \\right )}$$"
       ],
       "metadata": {},
       "output_type": "pyout",
       "png": "[encoded data removed]",
       "prompt_number": 10,
       "text": [
        "\u2202              \u2202                \u2202              \u2202             \n",
        "\u2500\u2500(A(t, x, z))\u22c5\u2500\u2500(\u03c8(t, x, z)) - \u2500\u2500(A(t, x, z))\u22c5\u2500\u2500(\u03c8(t, x, z))\n",
        "\u2202x             \u2202z               \u2202z             \u2202x            "
       ]
      }
     ],
     "prompt_number": 10
    },
    {
     "cell_type": "code",
     "collapsed": false,
     "input": [
      "nabla_sq(A)"
     ],
     "language": "python",
     "metadata": {},
     "outputs": [
      {
       "latex": [
        "$$\\frac{\\partial^{2}}{\\partial x^{2}}  A{\\left (t,x,z \\right )} + \\frac{\\partial^{2}}{\\partial z^{2}}  A{\\left (t,x,z \\right )}$$"
       ],
       "metadata": {},
       "output_type": "pyout",
       "png": "[encoded data removed]",
       "prompt_number": 11,
       "text": [
        "  2                 2            \n",
        " \u2202                 \u2202             \n",
        "\u2500\u2500\u2500(A(t, x, z)) + \u2500\u2500\u2500(A(t, x, z))\n",
        "  2                 2            \n",
        "\u2202x                \u2202z             "
       ]
      }
     ],
     "prompt_number": 11
    },
    {
     "cell_type": "code",
     "collapsed": false,
     "input": [
      "nabla_quad(A)"
     ],
     "language": "python",
     "metadata": {},
     "outputs": [
      {
       "latex": [
        "$$\\frac{\\partial^{4}}{\\partial x^{4}}  A{\\left (t,x,z \\right )} + \\frac{\\partial^{4}}{\\partial z^{4}}  A{\\left (t,x,z \\right )}$$"
       ],
       "metadata": {},
       "output_type": "pyout",
       "png": "[encoded data removed]",
       "prompt_number": 12,
       "text": [
        "  4                 4            \n",
        " \u2202                 \u2202             \n",
        "\u2500\u2500\u2500(A(t, x, z)) + \u2500\u2500\u2500(A(t, x, z))\n",
        "  4                 4            \n",
        "\u2202x                \u2202z             "
       ]
      }
     ],
     "prompt_number": 12
    },
    {
     "cell_type": "code",
     "collapsed": false,
     "input": [
      "j1 = J(psi,nabla_sq(psi))"
     ],
     "language": "python",
     "metadata": {},
     "outputs": [],
     "prompt_number": 13
    },
    {
     "cell_type": "markdown",
     "metadata": {},
     "source": [
      "# Equations\n",
      "\n",
      "Now let's expand the equations."
     ]
    },
    {
     "cell_type": "markdown",
     "metadata": {},
     "source": [
      "## Streamfunction\n",
      "\n",
      "$\\partial_t \\nabla^2 \\Psi \\, + \\, J\\left(\\Psi, \\nabla^2 \\Psi\\right) \\, - \\, 2 \\partial_z u_{1y} \\, = \\, \\frac{1}{4\\pi} B_0 \\partial_z \\nabla^2 A \\, + \\, \\frac{1}{4\\pi}J\\left(A, \\nabla^2 A \\right) \\, + \\, \\frac{1}{Re}\\nabla^4 \\Psi$"
     ]
    },
    {
     "cell_type": "code",
     "collapsed": false,
     "input": [
      "Derivative(nabla_sq(psi),t) + J(psi,nabla_sq(psi)) - 2*Derivative(u,z) - B0/4*pi * Derivative(nabla_sq(A),z) - 1/4*pi * J(A, nabla_sq(A)) - nabla_quad(psi)/Re"
     ],
     "language": "python",
     "metadata": {},
     "outputs": [
      {
       "latex": [
        "$$- \\frac{\\pi B_{0}}{4} \\frac{\\partial}{\\partial z}\\left(\\frac{\\partial^{2}}{\\partial x^{2}}  A{\\left (t,x,z \\right )} + \\frac{\\partial^{2}}{\\partial z^{2}}  A{\\left (t,x,z \\right )}\\right) - 0.25 \\pi \\left(\\frac{\\partial}{\\partial x}\\left(\\frac{\\partial^{2}}{\\partial x^{2}}  A{\\left (t,x,z \\right )} + \\frac{\\partial^{2}}{\\partial z^{2}}  A{\\left (t,x,z \\right )}\\right) \\frac{\\partial}{\\partial z} A{\\left (t,x,z \\right )} - \\frac{\\partial}{\\partial z}\\left(\\frac{\\partial^{2}}{\\partial x^{2}}  A{\\left (t,x,z \\right )} + \\frac{\\partial^{2}}{\\partial z^{2}}  A{\\left (t,x,z \\right )}\\right) \\frac{\\partial}{\\partial x} A{\\left (t,x,z \\right )}\\right) + \\frac{\\partial}{\\partial t}\\left(\\frac{\\partial^{2}}{\\partial x^{2}}  \\psi{\\left (t,x,z \\right )} + \\frac{\\partial^{2}}{\\partial z^{2}}  \\psi{\\left (t,x,z \\right )}\\right) + \\frac{\\partial}{\\partial x}\\left(\\frac{\\partial^{2}}{\\partial x^{2}}  \\psi{\\left (t,x,z \\right )} + \\frac{\\partial^{2}}{\\partial z^{2}}  \\psi{\\left (t,x,z \\right )}\\right) \\frac{\\partial}{\\partial z} \\psi{\\left (t,x,z \\right )} - \\frac{\\partial}{\\partial z}\\left(\\frac{\\partial^{2}}{\\partial x^{2}}  \\psi{\\left (t,x,z \\right )} + \\frac{\\partial^{2}}{\\partial z^{2}}  \\psi{\\left (t,x,z \\right )}\\right) \\frac{\\partial}{\\partial x} \\psi{\\left (t,x,z \\right )} - 2 \\frac{\\partial}{\\partial z} u{\\left (t,x,z \\right )} - \\frac{1}{Re} \\left(\\frac{\\partial^{4}}{\\partial x^{4}}  \\psi{\\left (t,x,z \\right )} + \\frac{\\partial^{4}}{\\partial z^{4}}  \\psi{\\left (t,x,z \\right )}\\right)$$"
       ],
       "metadata": {},
       "output_type": "pyout",
       "png": "[encoded data removed]",
       "prompt_number": 16,
       "text": [
        "         \u239b  2                 2            \u239e                                  \n",
        "       \u2202 \u239c \u2202                 \u2202             \u239f                                  \n",
        "  \u03c0\u22c5B\u2080\u22c5\u2500\u2500\u239c\u2500\u2500\u2500(A(t, x, z)) + \u2500\u2500\u2500(A(t, x, z))\u239f                                  \n",
        "       \u2202z\u239c  2                 2            \u239f          \u239b  \u239b  2                 \n",
        "         \u239d\u2202x                \u2202z             \u23a0          \u239c\u2202 \u239c \u2202                 \u2202\n",
        "- \u2500\u2500\u2500\u2500\u2500\u2500\u2500\u2500\u2500\u2500\u2500\u2500\u2500\u2500\u2500\u2500\u2500\u2500\u2500\u2500\u2500\u2500\u2500\u2500\u2500\u2500\u2500\u2500\u2500\u2500\u2500\u2500\u2500\u2500\u2500\u2500\u2500\u2500\u2500\u2500\u2500\u2500 - 0.25\u22c5\u03c0\u22c5\u239c\u2500\u2500\u239c\u2500\u2500\u2500(A(t, x, z)) + \u2500\u2500\n",
        "                      4                               \u239c\u2202x\u239c  2                 \n",
        "                                                      \u239d  \u239d\u2202x                \u2202z\n",
        "\n",
        "                                                                              \n",
        "                                                                              \n",
        "                                                                              \n",
        "2            \u239e                    \u239b  2                 2            \u239e         \n",
        "             \u239f \u2202                \u2202 \u239c \u2202                 \u2202             \u239f \u2202       \n",
        "\u2500(A(t, x, z))\u239f\u22c5\u2500\u2500(A(t, x, z)) - \u2500\u2500\u239c\u2500\u2500\u2500(A(t, x, z)) + \u2500\u2500\u2500(A(t, x, z))\u239f\u22c5\u2500\u2500(A(t, \n",
        "2            \u239f \u2202z               \u2202z\u239c  2                 2            \u239f \u2202x      \n",
        "             \u23a0                    \u239d\u2202x                \u2202z             \u23a0         \n",
        "\n",
        "                                                                              \n",
        "                                                                              \n",
        "                                                                              \n",
        "      \u239e     \u239b  2                 2            \u239e     \u239b  2                 2    \n",
        "      \u239f   \u2202 \u239c \u2202                 \u2202             \u239f   \u2202 \u239c \u2202                 \u2202     \n",
        "x, z))\u239f + \u2500\u2500\u239c\u2500\u2500\u2500(\u03c8(t, x, z)) + \u2500\u2500\u2500(\u03c8(t, x, z))\u239f + \u2500\u2500\u239c\u2500\u2500\u2500(\u03c8(t, x, z)) + \u2500\u2500\u2500(\u03c8(t\n",
        "      \u239f   \u2202t\u239c  2                 2            \u239f   \u2202x\u239c  2                 2    \n",
        "      \u23a0     \u239d\u2202x                \u2202z             \u23a0     \u239d\u2202x                \u2202z     \n",
        "\n",
        "                                                                              \n",
        "                                                                              \n",
        "                                                                              \n",
        "        \u239e                    \u239b  2                 2            \u239e              \n",
        "        \u239f \u2202                \u2202 \u239c \u2202                 \u2202             \u239f \u2202            \n",
        ", x, z))\u239f\u22c5\u2500\u2500(\u03c8(t, x, z)) - \u2500\u2500\u239c\u2500\u2500\u2500(\u03c8(t, x, z)) + \u2500\u2500\u2500(\u03c8(t, x, z))\u239f\u22c5\u2500\u2500(\u03c8(t, x, z)\n",
        "        \u239f \u2202z               \u2202z\u239c  2                 2            \u239f \u2202x           \n",
        "        \u23a0                    \u239d\u2202x                \u2202z             \u23a0              \n",
        "\n",
        "                         4                 4            \n",
        "                        \u2202                 \u2202             \n",
        "                       \u2500\u2500\u2500(\u03c8(t, x, z)) + \u2500\u2500\u2500(\u03c8(t, x, z))\n",
        "                         4                 4            \n",
        "      \u2202                \u2202x                \u2202z             \n",
        ") - 2\u22c5\u2500\u2500(u(t, x, z)) - \u2500\u2500\u2500\u2500\u2500\u2500\u2500\u2500\u2500\u2500\u2500\u2500\u2500\u2500\u2500\u2500\u2500\u2500\u2500\u2500\u2500\u2500\u2500\u2500\u2500\u2500\u2500\u2500\u2500\u2500\u2500\u2500\u2500\n",
        "      \u2202z                               Re               \n",
        "                                                        "
       ]
      }
     ],
     "prompt_number": 16
    },
    {
     "cell_type": "markdown",
     "metadata": {},
     "source": [
      "## y-velocity\n",
      "$\\partial_t u_{1y} \\, + \\, J\\left(\\Psi, u_{1y}\\right) \\, + \\, \\left(2 - \\Omega_0 q\\right) \\partial_z \\Psi \\, = \\, \\frac{1}{4\\pi}B_0\\partial_z B_{1y} \\, + \\, \\frac{1}{4\\pi} J\\left(A, B_{1y}\\right) \\, + \\, \\frac{1}{Re} \\nabla^2 u_{1y}$"
     ]
    },
    {
     "cell_type": "code",
     "collapsed": false,
     "input": [
      "J(psi, u)"
     ],
     "language": "python",
     "metadata": {},
     "outputs": [
      {
       "latex": [
        "$$- \\frac{\\partial}{\\partial x} \\psi{\\left (t,x,z \\right )} \\frac{\\partial}{\\partial z} u{\\left (t,x,z \\right )} + \\frac{\\partial}{\\partial z} \\psi{\\left (t,x,z \\right )} \\frac{\\partial}{\\partial x} u{\\left (t,x,z \\right )}$$"
       ],
       "metadata": {},
       "output_type": "pyout",
       "png": "[encoded data removed]",
       "prompt_number": 17,
       "text": [
        "  \u2202              \u2202                \u2202              \u2202             \n",
        "- \u2500\u2500(\u03c8(t, x, z))\u22c5\u2500\u2500(u(t, x, z)) + \u2500\u2500(\u03c8(t, x, z))\u22c5\u2500\u2500(u(t, x, z))\n",
        "  \u2202x             \u2202z               \u2202z             \u2202x            "
       ]
      }
     ],
     "prompt_number": 17
    },
    {
     "cell_type": "code",
     "collapsed": false,
     "input": [
      "J(A, b)/(4*pi)"
     ],
     "language": "python",
     "metadata": {},
     "outputs": [
      {
       "latex": [
        "$$\\frac{1}{4 \\pi} \\left(- \\frac{\\partial}{\\partial x} A{\\left (t,x,z \\right )} \\frac{\\partial}{\\partial z} b{\\left (t,x,z \\right )} + \\frac{\\partial}{\\partial z} A{\\left (t,x,z \\right )} \\frac{\\partial}{\\partial x} b{\\left (t,x,z \\right )}\\right)$$"
       ],
       "metadata": {},
       "output_type": "pyout",
       "png": "[encoded data removed]",
       "prompt_number": 21,
       "text": [
        "  \u2202              \u2202                \u2202              \u2202             \n",
        "- \u2500\u2500(A(t, x, z))\u22c5\u2500\u2500(b(t, x, z)) + \u2500\u2500(A(t, x, z))\u22c5\u2500\u2500(b(t, x, z))\n",
        "  \u2202x             \u2202z               \u2202z             \u2202x            \n",
        "\u2500\u2500\u2500\u2500\u2500\u2500\u2500\u2500\u2500\u2500\u2500\u2500\u2500\u2500\u2500\u2500\u2500\u2500\u2500\u2500\u2500\u2500\u2500\u2500\u2500\u2500\u2500\u2500\u2500\u2500\u2500\u2500\u2500\u2500\u2500\u2500\u2500\u2500\u2500\u2500\u2500\u2500\u2500\u2500\u2500\u2500\u2500\u2500\u2500\u2500\u2500\u2500\u2500\u2500\u2500\u2500\u2500\u2500\u2500\u2500\u2500\u2500\u2500\n",
        "                              4\u22c5\u03c0                              "
       ]
      }
     ],
     "prompt_number": 21
    },
    {
     "cell_type": "markdown",
     "metadata": {},
     "source": [
      "## Vector Potential\n",
      "\n",
      "$\\partial_t A \\, = \\, B_0 \\partial_z \\Psi \\, + \\, J\\left(A, \\Psi\\right) \\, + \\, \\frac{1}{Rm} \\nabla^2 A$ "
     ]
    },
    {
     "cell_type": "code",
     "collapsed": false,
     "input": [
      "J(A, psi)"
     ],
     "language": "python",
     "metadata": {},
     "outputs": [
      {
       "latex": [
        "$$- \\frac{\\partial}{\\partial x} A{\\left (t,x,z \\right )} \\frac{\\partial}{\\partial z} \\psi{\\left (t,x,z \\right )} + \\frac{\\partial}{\\partial z} A{\\left (t,x,z \\right )} \\frac{\\partial}{\\partial x} \\psi{\\left (t,x,z \\right )}$$"
       ],
       "metadata": {},
       "output_type": "pyout",
       "png": "[encoded data removed]",
       "prompt_number": 22,
       "text": [
        "  \u2202              \u2202                \u2202              \u2202             \n",
        "- \u2500\u2500(A(t, x, z))\u22c5\u2500\u2500(\u03c8(t, x, z)) + \u2500\u2500(A(t, x, z))\u22c5\u2500\u2500(\u03c8(t, x, z))\n",
        "  \u2202x             \u2202z               \u2202z             \u2202x            "
       ]
      }
     ],
     "prompt_number": 22
    },
    {
     "cell_type": "markdown",
     "metadata": {},
     "source": [
      "## y-magnetic field\n",
      "$\\partial_t B_{1y} \\, = \\, B_0 \\partial_z u_{1y} \\, + \\, J\\left(A, u_{1y}\\right) \\, - \\, J\\left(\\Psi, B_{1y}\\right) \\, + \\, \\frac{1}{Rm} \\nabla^2 B_{1y}  \\, - \\, q \\Omega_0 \\partial_z A$"
     ]
    },
    {
     "cell_type": "code",
     "collapsed": false,
     "input": [
      "J(A,u)"
     ],
     "language": "python",
     "metadata": {},
     "outputs": [
      {
       "latex": [
        "$$- \\frac{\\partial}{\\partial x} A{\\left (t,x,z \\right )} \\frac{\\partial}{\\partial z} u{\\left (t,x,z \\right )} + \\frac{\\partial}{\\partial z} A{\\left (t,x,z \\right )} \\frac{\\partial}{\\partial x} u{\\left (t,x,z \\right )}$$"
       ],
       "metadata": {},
       "output_type": "pyout",
       "png": "[encoded data removed]",
       "prompt_number": 23,
       "text": [
        "  \u2202              \u2202                \u2202              \u2202             \n",
        "- \u2500\u2500(A(t, x, z))\u22c5\u2500\u2500(u(t, x, z)) + \u2500\u2500(A(t, x, z))\u22c5\u2500\u2500(u(t, x, z))\n",
        "  \u2202x             \u2202z               \u2202z             \u2202x            "
       ]
      }
     ],
     "prompt_number": 23
    },
    {
     "cell_type": "code",
     "collapsed": false,
     "input": [
      "J(psi, b)"
     ],
     "language": "python",
     "metadata": {},
     "outputs": [
      {
       "latex": [
        "$$\\frac{\\partial}{\\partial x} b{\\left (t,x,z \\right )} \\frac{\\partial}{\\partial z} \\psi{\\left (t,x,z \\right )} - \\frac{\\partial}{\\partial z} b{\\left (t,x,z \\right )} \\frac{\\partial}{\\partial x} \\psi{\\left (t,x,z \\right )}$$"
       ],
       "metadata": {},
       "output_type": "pyout",
       "png": "[encoded data removed]",
       "prompt_number": 24,
       "text": [
        "\u2202              \u2202                \u2202              \u2202             \n",
        "\u2500\u2500(b(t, x, z))\u22c5\u2500\u2500(\u03c8(t, x, z)) - \u2500\u2500(b(t, x, z))\u22c5\u2500\u2500(\u03c8(t, x, z))\n",
        "\u2202x             \u2202z               \u2202z             \u2202x            "
       ]
      }
     ],
     "prompt_number": 24
    },
    {
     "cell_type": "code",
     "collapsed": false,
     "input": [],
     "language": "python",
     "metadata": {},
     "outputs": []
    }
   ],
   "metadata": {}
  }
 ]
}