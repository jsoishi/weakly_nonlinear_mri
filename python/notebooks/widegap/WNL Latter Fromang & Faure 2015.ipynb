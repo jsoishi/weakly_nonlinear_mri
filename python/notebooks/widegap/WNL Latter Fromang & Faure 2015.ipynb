{
 "cells": [
  {
   "cell_type": "code",
   "execution_count": 52,
   "metadata": {
    "collapsed": true
   },
   "outputs": [],
   "source": [
    "from sympy import *\n",
    "from sympy.interactive import printing\n",
    "printing.init_printing(use_latex=True)\n",
    "%matplotlib inline\n",
    "\n",
    "q, vA, kz, eps, Omega1, psi, k, Omega = symbols(\"q v_A k_z epsilon Omega_1 psi k Omega\", real=True)\n",
    "dt, dr, dz, dZ, dT = symbols(\"d_t d_r d_z d_Z d_T\")\n",
    "r, z, t  = symbols(\"r, z, t\")\n",
    "sigma = symbols(\"sigma\")\n",
    "u1 = Function('u1')(r)\n",
    "u2 = Function('u2')(r)\n",
    "u3 = Function('u3')(r)"
   ]
  },
  {
   "cell_type": "markdown",
   "metadata": {},
   "source": [
    "Full equation is term1 + term2 = term3"
   ]
  },
  {
   "cell_type": "code",
   "execution_count": 20,
   "metadata": {
    "collapsed": false
   },
   "outputs": [],
   "source": [
    "term1 = dr**2*(r**(1/2)*(eps*u1 + eps**2*u2 + eps**3*u3))"
   ]
  },
  {
   "cell_type": "code",
   "execution_count": 21,
   "metadata": {
    "collapsed": true
   },
   "outputs": [],
   "source": [
    "term2 = -((3/(4*r**2)) + kz**2 - 2*eps*1j*kz*dZ - eps**2*dZ**2)*(r**(1/2)*(eps*u1 + eps**2*u2 + eps**3*u3))"
   ]
  },
  {
   "cell_type": "code",
   "execution_count": 22,
   "metadata": {
    "collapsed": true
   },
   "outputs": [],
   "source": [
    "kzsqexpand = (kz**2 - 2*eps*1j*kz*dZ - eps**2*dZ**2)"
   ]
  },
  {
   "cell_type": "code",
   "execution_count": 23,
   "metadata": {
    "collapsed": true
   },
   "outputs": [],
   "source": [
    "sigsqexpand = (sigma**2 + 2*sigma*eps**2*dT)"
   ]
  },
  {
   "cell_type": "code",
   "execution_count": 38,
   "metadata": {
    "collapsed": false
   },
   "outputs": [],
   "source": [
    "term3 = (-kzsqexpand/(r**(2*q)))*2*Omega1**2*(((q-2)*sigsqexpand + q*kzsqexpand*vA**2)/(sigsqexpand + kzsqexpand*vA**2)**2)*(r**(1/2))#*(eps*u1 + eps**2*u2 + eps**3*u3))"
   ]
  },
  {
   "cell_type": "code",
   "execution_count": 39,
   "metadata": {
    "collapsed": false
   },
   "outputs": [
    {
     "data": {
      "image/png": "[encoded data removed]",
      "text/latex": [
       "$$d_{r}^{2} \\epsilon^{3} \\operatorname{u_{3}}{\\left (r \\right )} + d_{r}^{2} \\epsilon^{2} \\operatorname{u_{2}}{\\left (r \\right )} + d_{r}^{2} \\epsilon \\operatorname{u_{1}}{\\left (r \\right )}$$"
      ],
      "text/plain": [
       "  2  3           2  2           2        \n",
       "dᵣ ⋅ε ⋅u₃(r) + dᵣ ⋅ε ⋅u₂(r) + dᵣ ⋅ε⋅u₁(r)"
      ]
     },
     "execution_count": 39,
     "metadata": {},
     "output_type": "execute_result"
    }
   ],
   "source": [
    "((term1).expand()).collect(eps)"
   ]
  },
  {
   "cell_type": "code",
   "execution_count": 40,
   "metadata": {
    "collapsed": false
   },
   "outputs": [
    {
     "data": {
      "image/png": "[encoded data removed]",
      "text/latex": [
       "$$d_{Z}^{2} \\epsilon^{5} \\operatorname{u_{3}}{\\left (r \\right )} + \\epsilon^{4} \\left(d_{Z}^{2} \\operatorname{u_{2}}{\\left (r \\right )} + 2.0 i d_{Z} k_{z} \\operatorname{u_{3}}{\\left (r \\right )}\\right) + \\epsilon^{3} \\left(d_{Z}^{2} \\operatorname{u_{1}}{\\left (r \\right )} + 2.0 i d_{Z} k_{z} \\operatorname{u_{2}}{\\left (r \\right )} - k_{z}^{2} \\operatorname{u_{3}}{\\left (r \\right )} - \\frac{3}{4 r^{2}} \\operatorname{u_{3}}{\\left (r \\right )}\\right) + \\epsilon^{2} \\left(2.0 i d_{Z} k_{z} \\operatorname{u_{1}}{\\left (r \\right )} - k_{z}^{2} \\operatorname{u_{2}}{\\left (r \\right )} - \\frac{3}{4 r^{2}} \\operatorname{u_{2}}{\\left (r \\right )}\\right) + \\epsilon \\left(- k_{z}^{2} \\operatorname{u_{1}}{\\left (r \\right )} - \\frac{3}{4 r^{2}} \\operatorname{u_{1}}{\\left (r \\right )}\\right)$$"
      ],
      "text/plain": [
       "   2  5          4 ⎛   2                            ⎞    3 ⎛   2              \n",
       "d_Z ⋅ε ⋅u₃(r) + ε ⋅⎝d_Z ⋅u₂(r) + 2.0⋅ⅈ⋅d_Z⋅k_z⋅u₃(r)⎠ + ε ⋅⎜d_Z ⋅u₁(r) + 2.0⋅ⅈ\n",
       "                                                           ⎜                  \n",
       "                                                           ⎝                  \n",
       "\n",
       "                    2         3⋅u₃(r)⎞    2 ⎛                         2       \n",
       "⋅d_Z⋅k_z⋅u₂(r) - k_z ⋅u₃(r) - ───────⎟ + ε ⋅⎜2.0⋅ⅈ⋅d_Z⋅k_z⋅u₁(r) - k_z ⋅u₂(r) \n",
       "                                   2 ⎟      ⎜                                 \n",
       "                                4⋅r  ⎠      ⎝                                 \n",
       "\n",
       "  3⋅u₂(r)⎞     ⎛     2         3⋅u₁(r)⎞\n",
       "- ───────⎟ + ε⋅⎜- k_z ⋅u₁(r) - ───────⎟\n",
       "       2 ⎟     ⎜                    2 ⎟\n",
       "    4⋅r  ⎠     ⎝                 4⋅r  ⎠"
      ]
     },
     "execution_count": 40,
     "metadata": {},
     "output_type": "execute_result"
    }
   ],
   "source": [
    "((term2).expand()).collect(eps)"
   ]
  },
  {
   "cell_type": "code",
   "execution_count": 49,
   "metadata": {
    "collapsed": false
   },
   "outputs": [
    {
     "data": {
      "image/png": "[encoded data removed]",
      "text/latex": [
       "$$- \\frac{2 \\Omega_{1}^{2} r^{- 2 q}}{\\left(\\sigma^{2} + v_{A}^{2} \\left(- 2.0 i d_{Z} \\epsilon k_{z} + k_{z}^{2}\\right)\\right)^{2}} \\left(q v_{A}^{2} \\left(- 2.0 i d_{Z} \\epsilon k_{z} + k_{z}^{2}\\right) + \\sigma^{2} \\left(q - 2\\right)\\right) \\left(2.0 i d_{Z} \\epsilon k_{z} - k_{z}^{2}\\right) + \\epsilon \\left(d_{r}^{2} \\operatorname{u_{1}}{\\left (r \\right )} + \\left(2.0 i d_{Z} \\epsilon k_{z} - k_{z}^{2} - \\frac{3}{4 r^{2}}\\right) \\operatorname{u_{1}}{\\left (r \\right )}\\right)$$"
      ],
      "text/plain": [
       "      2  -2⋅q ⎛     2 ⎛                            2⎞    2        ⎞ ⎛         \n",
       "  2⋅Ω₁ ⋅r    ⋅⎝q⋅v_A ⋅⎝--2.0⋅(-1)⋅ⅈ⋅d_Z⋅ε⋅k_z + k_z ⎠ + σ ⋅(q - 2)⎠⋅⎝2.0⋅ⅈ⋅d_Z\n",
       "- ────────────────────────────────────────────────────────────────────────────\n",
       "                                                                    2         \n",
       "                         ⎛ 2      2 ⎛                            2⎞⎞          \n",
       "                         ⎝σ  + v_A ⋅⎝--2.0⋅(-1)⋅ⅈ⋅d_Z⋅ε⋅k_z + k_z ⎠⎠          \n",
       "\n",
       "            2⎞                                                        \n",
       "⋅ε⋅k_z - k_z ⎠     ⎛  2         ⎛                     2    3  ⎞      ⎞\n",
       "────────────── + ε⋅⎜dᵣ ⋅u₁(r) + ⎜2.0⋅ⅈ⋅d_Z⋅ε⋅k_z - k_z  - ────⎟⋅u₁(r)⎟\n",
       "                   ⎜            ⎜                            2⎟      ⎟\n",
       "                   ⎝            ⎝                         4⋅r ⎠      ⎠\n",
       "                                                                      "
      ]
     },
     "execution_count": 49,
     "metadata": {},
     "output_type": "execute_result"
    }
   ],
   "source": [
    "((term1 + term2 - term3).subs(eps**2, 0)).collect(eps)"
   ]
  },
  {
   "cell_type": "code",
   "execution_count": 56,
   "metadata": {
    "collapsed": false
   },
   "outputs": [
    {
     "data": {
      "image/png": "[encoded data removed]",
      "text/latex": [
       "$$\\frac{1}{r} \\left(\\frac{k^{2} v_{A}^{2}}{\\sigma} + \\sigma\\right) \\left(d_{r}^{2} - \\frac{d_{r}}{r} - 1.0 k^{2}\\right)$$"
      ],
      "text/plain": [
       "⎛ 2    2    ⎞                       \n",
       "⎜k ⋅v_A     ⎟ ⎛  2   dᵣ           2⎞\n",
       "⎜─────── + σ⎟⋅⎜dᵣ  - ── - - -1.0⋅k ⎟\n",
       "⎝   σ       ⎠ ⎝      r             ⎠\n",
       "────────────────────────────────────\n",
       "                 r                  "
      ]
     },
     "execution_count": 56,
     "metadata": {},
     "output_type": "execute_result"
    }
   ],
   "source": [
    "D = ((1/r)*(dr**2 + (1j*k)**2 - (1/r)*dr))\n",
    "(sigma + vA**2*k**2*(1/sigma))*D"
   ]
  },
  {
   "cell_type": "code",
   "execution_count": 58,
   "metadata": {
    "collapsed": false
   },
   "outputs": [
    {
     "data": {
      "image/png": "[encoded data removed]",
      "text/latex": [
       "$$r$$"
      ],
      "text/plain": [
       "r"
      ]
     },
     "execution_count": 58,
     "metadata": {},
     "output_type": "execute_result"
    }
   ],
   "source": [
    "r"
   ]
  },
  {
   "cell_type": "code",
   "execution_count": null,
   "metadata": {
    "collapsed": true
   },
   "outputs": [],
   "source": []
  }
 ],
 "metadata": {
  "kernelspec": {
   "display_name": "Python 2",
   "language": "python",
   "name": "python2"
  },
  "language_info": {
   "codemirror_mode": {
    "name": "ipython",
    "version": 2
   },
   "file_extension": ".py",
   "mimetype": "text/x-python",
   "name": "python",
   "nbconvert_exporter": "python",
   "pygments_lexer": "ipython2",
   "version": "2.7.9"
  }
 },
 "nbformat": 4,
 "nbformat_minor": 0
}
