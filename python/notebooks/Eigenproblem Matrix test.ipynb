{
 "cells": [
  {
   "cell_type": "code",
   "execution_count": 1,
   "metadata": {
    "collapsed": true
   },
   "outputs": [],
   "source": [
    "%matplotlib inline"
   ]
  },
  {
   "cell_type": "code",
   "execution_count": 2,
   "metadata": {
    "collapsed": true
   },
   "outputs": [],
   "source": [
    "import sys                                                                                                                                                                                                                                                                       \n",
    "from mpi4py import MPI"
   ]
  },
  {
   "cell_type": "code",
   "execution_count": 3,
   "metadata": {
    "collapsed": true
   },
   "outputs": [],
   "source": [
    "sys.path.append(\"/home/jsoishi/hg-projects/eigentools\")"
   ]
  },
  {
   "cell_type": "code",
   "execution_count": 4,
   "metadata": {
    "collapsed": false
   },
   "outputs": [],
   "source": [
    "from eigentools import Eigenproblem, CriticalFinder                                                                                                                                                                                                                              \n",
    "import time                                                                                                                                                                                                                                                                      \n",
    "import dedalus.public as de                                                                                                                                                                                                                                                      \n",
    "import numpy as np                                                                                                                                                                                                                                                               \n",
    "import matplotlib.pylab as plt                                                                                                                                                                                                                                                   \n",
    "                                                                                                                                                                                                                                                                                 \n",
    "comm = MPI.COMM_WORLD"
   ]
  },
  {
   "cell_type": "code",
   "execution_count": 5,
   "metadata": {
    "collapsed": false
   },
   "outputs": [
    {
     "name": "stderr",
     "output_type": "stream",
     "text": [
      "DEBUG:domain:Global coeff shape: [128]\n",
      "DEBUG:distributor:Mesh: []\n",
      "INFO:problems:Solving EVP with homogeneity tolerance of 1.000e-10\n"
     ]
    },
    {
     "name": "stdout",
     "output_type": "stream",
     "text": [
      "2016-02-23 17:28:29,796 problems 0/1 INFO :: Solving EVP with homogeneity tolerance of 1.000e-10\n"
     ]
    },
    {
     "name": "stderr",
     "output_type": "stream",
     "text": [
      "DEBUG:problems:Parsing Eqn 0\n",
      "DEBUG:problems:  Condition: True\n",
      "DEBUG:problems:  LHS string form: sigma*psixx - Q**2*sigma*psi - iR*dx(psixxx) + 2*iR*Q**2*psixx - iR*Q**4*psi - 2*1j*Q*u - (2/beta)*1j*Q*dx(Ax) + (2/beta)*Q**3*1j*A\n",
      "DEBUG:problems:  RHS string form: 0\n",
      "DEBUG:problems:  LHS object form: (((((((sigma*psixx) + (-1*(((Q**2)*sigma)*psi))) + (-1*(iR*dx(psixxx)))) + (((2*iR)*(Q**2))*psixx)) + (-1*((iR*(Q**4))*psi))) + (-1*((2j*Q)*u))) + (-1*((((2*(beta**-1))*1j)*Q)*dx(Ax)))) + ((((2*(beta**-1))*(Q**3))*1j)*A)\n",
      "DEBUG:problems:  RHS object form: 0\n",
      "DEBUG:problems:  M linear form: psixx + ((-1*(Q**2))*psi)\n",
      "DEBUG:problems:  L linear form: ((((((-1*iR)*dx(psixxx)) + (((2*iR)*(Q**2))*psixx)) + ((-1*(iR*(Q**4)))*psi)) + ((-1*(2j*Q))*u)) + ((-1*(((2*(beta**-1))*1j)*Q))*dx(Ax))) + ((((2*(beta**-1))*(Q**3))*1j)*A)\n",
      "DEBUG:problems:Parsing Eqn 1\n",
      "DEBUG:problems:  Condition: True\n",
      "DEBUG:problems:  LHS string form: sigma*u - iR*dx(ux) + iR*Q**2*u - (q - 2)*1j*Q*psi - (2/beta)*1j*Q*B\n",
      "DEBUG:problems:  RHS string form: 0\n",
      "DEBUG:problems:  LHS object form: ((((sigma*u) + (-1*(iR*dx(ux)))) + ((iR*(Q**2))*u)) + (-1*((((q + -2)*1j)*Q)*psi))) + (-1*((((2*(beta**-1))*1j)*Q)*B))\n",
      "DEBUG:problems:  RHS object form: 0\n",
      "DEBUG:problems:  M linear form: u\n",
      "DEBUG:problems:  L linear form: ((((-1*iR)*dx(ux)) + ((iR*(Q**2))*u)) + ((-1*(((q + -2)*1j)*Q))*psi)) + ((-1*(((2*(beta**-1))*1j)*Q))*B)\n",
      "DEBUG:problems:Parsing Eqn 2\n",
      "DEBUG:problems:  Condition: True\n",
      "DEBUG:problems:  LHS string form: sigma*A - iRm*dx(Ax) + iRm*Q**2*A - 1j*Q*psi\n",
      "DEBUG:problems:  RHS string form: 0\n",
      "DEBUG:problems:  LHS object form: (((sigma*A) + (-1*(iRm*dx(Ax)))) + ((iRm*(Q**2))*A)) + (-1*((1j*Q)*psi))\n",
      "DEBUG:problems:  RHS object form: 0\n",
      "DEBUG:problems:  M linear form: A\n",
      "DEBUG:problems:  L linear form: (((-1*iRm)*dx(Ax)) + ((iRm*(Q**2))*A)) + ((-1*(1j*Q))*psi)\n",
      "DEBUG:problems:Parsing Eqn 3\n",
      "DEBUG:problems:  Condition: True\n",
      "DEBUG:problems:  LHS string form: sigma*B - iRm*dx(Bx) + iRm*Q**2*B - 1j*Q*u + q*1j*Q*A\n",
      "DEBUG:problems:  RHS string form: 0\n",
      "DEBUG:problems:  LHS object form: ((((sigma*B) + (-1*(iRm*dx(Bx)))) + ((iRm*(Q**2))*B)) + (-1*((1j*Q)*u))) + (((q*1j)*Q)*A)\n",
      "DEBUG:problems:  RHS object form: 0\n",
      "DEBUG:problems:  M linear form: B\n",
      "DEBUG:problems:  L linear form: ((((-1*iRm)*dx(Bx)) + ((iRm*(Q**2))*B)) + ((-1*(1j*Q))*u)) + (((q*1j)*Q)*A)\n",
      "DEBUG:problems:Parsing Eqn 4\n",
      "DEBUG:problems:  Condition: True\n",
      "DEBUG:problems:  LHS string form: dx(psi) - psix\n",
      "DEBUG:problems:  RHS string form: 0\n",
      "DEBUG:problems:  LHS object form: dx(psi) + (-1*psix)\n",
      "DEBUG:problems:  RHS object form: 0\n",
      "DEBUG:problems:  M linear form: 0\n",
      "DEBUG:problems:  L linear form: dx(psi) + (-1*psix)\n",
      "DEBUG:problems:Parsing Eqn 5\n",
      "DEBUG:problems:  Condition: True\n",
      "DEBUG:problems:  LHS string form: dx(psix) - psixx\n",
      "DEBUG:problems:  RHS string form: 0\n",
      "DEBUG:problems:  LHS object form: dx(psix) + (-1*psixx)\n",
      "DEBUG:problems:  RHS object form: 0\n",
      "DEBUG:problems:  M linear form: 0\n",
      "DEBUG:problems:  L linear form: dx(psix) + (-1*psixx)\n",
      "DEBUG:problems:Parsing Eqn 6\n",
      "DEBUG:problems:  Condition: True\n",
      "DEBUG:problems:  LHS string form: dx(psixx) - psixxx\n",
      "DEBUG:problems:  RHS string form: 0\n",
      "DEBUG:problems:  LHS object form: dx(psixx) + (-1*psixxx)\n",
      "DEBUG:problems:  RHS object form: 0\n",
      "DEBUG:problems:  M linear form: 0\n",
      "DEBUG:problems:  L linear form: dx(psixx) + (-1*psixxx)\n",
      "DEBUG:problems:Parsing Eqn 7\n",
      "DEBUG:problems:  Condition: True\n",
      "DEBUG:problems:  LHS string form: dx(u) - ux\n",
      "DEBUG:problems:  RHS string form: 0\n",
      "DEBUG:problems:  LHS object form: dx(u) + (-1*ux)\n",
      "DEBUG:problems:  RHS object form: 0\n",
      "DEBUG:problems:  M linear form: 0\n",
      "DEBUG:problems:  L linear form: dx(u) + (-1*ux)\n",
      "DEBUG:problems:Parsing Eqn 8\n",
      "DEBUG:problems:  Condition: True\n",
      "DEBUG:problems:  LHS string form: dx(A) - Ax\n",
      "DEBUG:problems:  RHS string form: 0\n",
      "DEBUG:problems:  LHS object form: dx(A) + (-1*Ax)\n",
      "DEBUG:problems:  RHS object form: 0\n",
      "DEBUG:problems:  M linear form: 0\n",
      "DEBUG:problems:  L linear form: dx(A) + (-1*Ax)\n",
      "DEBUG:problems:Parsing Eqn 9\n",
      "DEBUG:problems:  Condition: True\n",
      "DEBUG:problems:  LHS string form: dx(B) - Bx\n",
      "DEBUG:problems:  RHS string form: 0\n",
      "DEBUG:problems:  LHS object form: dx(B) + (-1*Bx)\n",
      "DEBUG:problems:  RHS object form: 0\n",
      "DEBUG:problems:  M linear form: 0\n",
      "DEBUG:problems:  L linear form: dx(B) + (-1*Bx)\n",
      "DEBUG:problems:Parsing BC 0\n",
      "DEBUG:problems:  Condition: True\n",
      "DEBUG:problems:  LHS string form: left(u)\n",
      "DEBUG:problems:  RHS string form: 0\n",
      "DEBUG:problems:  LHS object form: interp(u,'x',left)\n",
      "DEBUG:problems:  RHS object form: 0\n",
      "DEBUG:problems:  M linear form: 0\n",
      "DEBUG:problems:  L linear form: interp(u,'x',left)\n",
      "DEBUG:problems:Parsing BC 1\n",
      "DEBUG:problems:  Condition: True\n",
      "DEBUG:problems:  LHS string form: right(u)\n",
      "DEBUG:problems:  RHS string form: 0\n",
      "DEBUG:problems:  LHS object form: interp(u,'x',right)\n",
      "DEBUG:problems:  RHS object form: 0\n",
      "DEBUG:problems:  M linear form: 0\n",
      "DEBUG:problems:  L linear form: interp(u,'x',right)\n",
      "DEBUG:problems:Parsing BC 2\n",
      "DEBUG:problems:  Condition: True\n",
      "DEBUG:problems:  LHS string form: left(psi)\n",
      "DEBUG:problems:  RHS string form: 0\n",
      "DEBUG:problems:  LHS object form: interp(psi,'x',left)\n",
      "DEBUG:problems:  RHS object form: 0\n",
      "DEBUG:problems:  M linear form: 0\n",
      "DEBUG:problems:  L linear form: interp(psi,'x',left)\n",
      "DEBUG:problems:Parsing BC 3\n",
      "DEBUG:problems:  Condition: True\n",
      "DEBUG:problems:  LHS string form: right(psi)\n",
      "DEBUG:problems:  RHS string form: 0\n",
      "DEBUG:problems:  LHS object form: interp(psi,'x',right)\n",
      "DEBUG:problems:  RHS object form: 0\n",
      "DEBUG:problems:  M linear form: 0\n",
      "DEBUG:problems:  L linear form: interp(psi,'x',right)\n",
      "DEBUG:problems:Parsing BC 4\n",
      "DEBUG:problems:  Condition: True\n",
      "DEBUG:problems:  LHS string form: left(A)\n",
      "DEBUG:problems:  RHS string form: 0\n",
      "DEBUG:problems:  LHS object form: interp(A,'x',left)\n",
      "DEBUG:problems:  RHS object form: 0\n",
      "DEBUG:problems:  M linear form: 0\n",
      "DEBUG:problems:  L linear form: interp(A,'x',left)\n",
      "DEBUG:problems:Parsing BC 5\n",
      "DEBUG:problems:  Condition: True\n",
      "DEBUG:problems:  LHS string form: right(A)\n",
      "DEBUG:problems:  RHS string form: 0\n",
      "DEBUG:problems:  LHS object form: interp(A,'x',right)\n",
      "DEBUG:problems:  RHS object form: 0\n",
      "DEBUG:problems:  M linear form: 0\n",
      "DEBUG:problems:  L linear form: interp(A,'x',right)\n",
      "DEBUG:problems:Parsing BC 6\n",
      "DEBUG:problems:  Condition: True\n",
      "DEBUG:problems:  LHS string form: left(psix)\n",
      "DEBUG:problems:  RHS string form: 0\n",
      "DEBUG:problems:  LHS object form: interp(psix,'x',left)\n",
      "DEBUG:problems:  RHS object form: 0\n",
      "DEBUG:problems:  M linear form: 0\n",
      "DEBUG:problems:  L linear form: interp(psix,'x',left)\n",
      "DEBUG:problems:Parsing BC 7\n",
      "DEBUG:problems:  Condition: True\n",
      "DEBUG:problems:  LHS string form: right(psix)\n",
      "DEBUG:problems:  RHS string form: 0\n",
      "DEBUG:problems:  LHS object form: interp(psix,'x',right)\n",
      "DEBUG:problems:  RHS object form: 0\n",
      "DEBUG:problems:  M linear form: 0\n",
      "DEBUG:problems:  L linear form: interp(psix,'x',right)\n",
      "DEBUG:problems:Parsing BC 8\n",
      "DEBUG:problems:  Condition: True\n",
      "DEBUG:problems:  LHS string form: left(Bx)\n",
      "DEBUG:problems:  RHS string form: 0\n",
      "DEBUG:problems:  LHS object form: interp(Bx,'x',left)\n",
      "DEBUG:problems:  RHS object form: 0\n",
      "DEBUG:problems:  M linear form: 0\n",
      "DEBUG:problems:  L linear form: interp(Bx,'x',left)\n",
      "DEBUG:problems:Parsing BC 9\n",
      "DEBUG:problems:  Condition: True\n",
      "DEBUG:problems:  LHS string form: right(Bx)\n",
      "DEBUG:problems:  RHS string form: 0\n",
      "DEBUG:problems:  LHS object form: interp(Bx,'x',right)\n",
      "DEBUG:problems:  RHS object form: 0\n",
      "DEBUG:problems:  M linear form: 0\n",
      "DEBUG:problems:  L linear form: interp(Bx,'x',right)\n",
      "DEBUG:solvers:Beginning EVP instantiation\n",
      "DEBUG:solvers:Finished EVP instantiation\n"
     ]
    }
   ],
   "source": [
    "# Define the MRI problem in Dedalus:                                                                                                                                                                                                                                             \n",
    "                                                                                                                                                                                                                                                                                 \n",
    "x = de.Chebyshev('x',128)                                                                                                                                                                                                                                                        \n",
    "d = de.Domain([x],comm=MPI.COMM_SELF)                                                                                                                                                                                                                                            \n",
    "                                                                                                                                                                                                                                                                                 \n",
    "mri = de.EVP(d,['psi','u', 'A', 'B', 'psix', 'psixx', 'psixxx', 'ux', 'Ax', 'Bx'],'sigma')                                                                                                                                                                                       \n",
    "                                                                                                                                                                                                                                                                                 \n",
    "                                                                                                                                                                                                                                                                                 \n",
    "Rm = 1/1.0333333333333334\n",
    "Pm = 0.001\n",
    "mri.parameters['q'] = 1.5\n",
    "mri.parameters['beta'] = 25.0\n",
    "mri.parameters['iR'] = Pm/Rm\n",
    "mri.parameters['iRm'] = 1./Rm\n",
    "mri.parameters['Q'] = 1.0333333333333334                                                                                                                                                                                                                                                    \n",
    "\n",
    "mri.add_equation(\"sigma*psixx - Q**2*sigma*psi - iR*dx(psixxx) + 2*iR*Q**2*psixx - iR*Q**4*psi - 2*1j*Q*u - (2/beta)*1j*Q*dx(Ax) + (2/beta)*Q**3*1j*A = 0\")                                                                                                                      \n",
    "mri.add_equation(\"sigma*u - iR*dx(ux) + iR*Q**2*u - (q - 2)*1j*Q*psi - (2/beta)*1j*Q*B = 0\")                                                                                                                                                                                     \n",
    "mri.add_equation(\"sigma*A - iRm*dx(Ax) + iRm*Q**2*A - 1j*Q*psi = 0\")                                                                                                                                                                                                             \n",
    "mri.add_equation(\"sigma*B - iRm*dx(Bx) + iRm*Q**2*B - 1j*Q*u + q*1j*Q*A = 0\")                                                                                                                                                                                                    \n",
    "mri.add_equation(\"dx(psi) - psix = 0\")                                                                                                                                                                                                                                           \n",
    "mri.add_equation(\"dx(psix) - psixx = 0\")                                                                                                                                                                                                                                         \n",
    "mri.add_equation(\"dx(psixx) - psixxx = 0\")                                                                                                                                                                                                                                       \n",
    "mri.add_equation(\"dx(u) - ux = 0\")                                                                                                                                                                                                                                               \n",
    "mri.add_equation(\"dx(A) - Ax = 0\")                                                                                                                                                                                                                                               \n",
    "mri.add_equation(\"dx(B) - Bx = 0\")\n",
    "\n",
    "mri.add_bc(\"left(u) = 0\")                                                                                                                                                                                                                                                        \n",
    "mri.add_bc(\"right(u) = 0\")                                                                                                                                                                                                                                                       \n",
    "mri.add_bc(\"left(psi) = 0\")                                                                                                                                                                                                                                                      \n",
    "mri.add_bc(\"right(psi) = 0\")                                                                                                                                                                                                                                                     \n",
    "mri.add_bc(\"left(A) = 0\")                                                                                                                                                                                                                                                        \n",
    "mri.add_bc(\"right(A) = 0\")                                                                                                                                                                                                                                                       \n",
    "mri.add_bc(\"left(psix) = 0\")                                                                                                                                                                                                                                                     \n",
    "mri.add_bc(\"right(psix) = 0\")                                                                                                                                                                                                                                                    \n",
    "mri.add_bc(\"left(Bx) = 0\")                                                                                                                                                                                                                                                       \n",
    "mri.add_bc(\"right(Bx) = 0\")                                                                                                                                                                                                                                                      \n",
    "\n",
    "# create an Eigenproblem object                                                                                                                                                                                                                                                  \n",
    "EP = Eigenproblem(mri)                                                                                                                                                                                                                                                           \n",
    "                                                                                                                                                                                                                                                                   \n"
   ]
  },
  {
   "cell_type": "code",
   "execution_count": 6,
   "metadata": {
    "collapsed": false
   },
   "outputs": [
    {
     "name": "stderr",
     "output_type": "stream",
     "text": [
      "/home/jsoishi/tmp/dedalus-exp/lib/python3.4/site-packages/scipy/linalg/decomp.py:55: RuntimeWarning: divide by zero encountered in true_divide\n",
      "  w = alpha / beta\n",
      "/home/jsoishi/tmp/dedalus-exp/lib/python3.4/site-packages/scipy/linalg/decomp.py:55: RuntimeWarning: invalid value encountered in true_divide\n",
      "  w = alpha / beta\n",
      "DEBUG:domain:Global coeff shape: [192]\n",
      "DEBUG:distributor:Mesh: []\n",
      "INFO:problems:Solving EVP with homogeneity tolerance of 1.000e-10\n"
     ]
    },
    {
     "name": "stdout",
     "output_type": "stream",
     "text": [
      "2016-02-23 17:30:07,923 problems 0/1 INFO :: Solving EVP with homogeneity tolerance of 1.000e-10\n"
     ]
    },
    {
     "name": "stderr",
     "output_type": "stream",
     "text": [
      "DEBUG:problems:Parsing Eqn 0\n",
      "DEBUG:problems:  Condition: True\n",
      "DEBUG:problems:  LHS string form: sigma*psixx - Q**2*sigma*psi - iR*dx(psixxx) + 2*iR*Q**2*psixx - iR*Q**4*psi - 2*1j*Q*u - (2/beta)*1j*Q*dx(Ax) + (2/beta)*Q**3*1j*A\n",
      "DEBUG:problems:  RHS string form: 0\n",
      "DEBUG:problems:  LHS object form: (((((((sigma*psixx) + (-1*(((Q**2)*sigma)*psi))) + (-1*(iR*dx(psixxx)))) + (((2*iR)*(Q**2))*psixx)) + (-1*((iR*(Q**4))*psi))) + (-1*((2j*Q)*u))) + (-1*((((2*(beta**-1))*1j)*Q)*dx(Ax)))) + ((((2*(beta**-1))*(Q**3))*1j)*A)\n",
      "DEBUG:problems:  RHS object form: 0\n",
      "DEBUG:problems:  M linear form: psixx + ((-1*(Q**2))*psi)\n",
      "DEBUG:problems:  L linear form: ((((((-1*iR)*dx(psixxx)) + (((2*iR)*(Q**2))*psixx)) + ((-1*(iR*(Q**4)))*psi)) + ((-1*(2j*Q))*u)) + ((-1*(((2*(beta**-1))*1j)*Q))*dx(Ax))) + ((((2*(beta**-1))*(Q**3))*1j)*A)\n",
      "DEBUG:problems:Parsing Eqn 1\n",
      "DEBUG:problems:  Condition: True\n",
      "DEBUG:problems:  LHS string form: sigma*u - iR*dx(ux) + iR*Q**2*u - (q - 2)*1j*Q*psi - (2/beta)*1j*Q*B\n",
      "DEBUG:problems:  RHS string form: 0\n",
      "DEBUG:problems:  LHS object form: ((((sigma*u) + (-1*(iR*dx(ux)))) + ((iR*(Q**2))*u)) + (-1*((((q + -2)*1j)*Q)*psi))) + (-1*((((2*(beta**-1))*1j)*Q)*B))\n",
      "DEBUG:problems:  RHS object form: 0\n",
      "DEBUG:problems:  M linear form: u\n",
      "DEBUG:problems:  L linear form: ((((-1*iR)*dx(ux)) + ((iR*(Q**2))*u)) + ((-1*(((q + -2)*1j)*Q))*psi)) + ((-1*(((2*(beta**-1))*1j)*Q))*B)\n",
      "DEBUG:problems:Parsing Eqn 2\n",
      "DEBUG:problems:  Condition: True\n",
      "DEBUG:problems:  LHS string form: sigma*A - iRm*dx(Ax) + iRm*Q**2*A - 1j*Q*psi\n",
      "DEBUG:problems:  RHS string form: 0\n",
      "DEBUG:problems:  LHS object form: (((sigma*A) + (-1*(iRm*dx(Ax)))) + ((iRm*(Q**2))*A)) + (-1*((1j*Q)*psi))\n",
      "DEBUG:problems:  RHS object form: 0\n",
      "DEBUG:problems:  M linear form: A\n",
      "DEBUG:problems:  L linear form: (((-1*iRm)*dx(Ax)) + ((iRm*(Q**2))*A)) + ((-1*(1j*Q))*psi)\n",
      "DEBUG:problems:Parsing Eqn 3\n",
      "DEBUG:problems:  Condition: True\n",
      "DEBUG:problems:  LHS string form: sigma*B - iRm*dx(Bx) + iRm*Q**2*B - 1j*Q*u + q*1j*Q*A\n",
      "DEBUG:problems:  RHS string form: 0\n",
      "DEBUG:problems:  LHS object form: ((((sigma*B) + (-1*(iRm*dx(Bx)))) + ((iRm*(Q**2))*B)) + (-1*((1j*Q)*u))) + (((q*1j)*Q)*A)\n",
      "DEBUG:problems:  RHS object form: 0\n",
      "DEBUG:problems:  M linear form: B\n",
      "DEBUG:problems:  L linear form: ((((-1*iRm)*dx(Bx)) + ((iRm*(Q**2))*B)) + ((-1*(1j*Q))*u)) + (((q*1j)*Q)*A)\n",
      "DEBUG:problems:Parsing Eqn 4\n",
      "DEBUG:problems:  Condition: True\n",
      "DEBUG:problems:  LHS string form: dx(psi) - psix\n",
      "DEBUG:problems:  RHS string form: 0\n",
      "DEBUG:problems:  LHS object form: dx(psi) + (-1*psix)\n",
      "DEBUG:problems:  RHS object form: 0\n",
      "DEBUG:problems:  M linear form: 0\n",
      "DEBUG:problems:  L linear form: dx(psi) + (-1*psix)\n",
      "DEBUG:problems:Parsing Eqn 5\n",
      "DEBUG:problems:  Condition: True\n",
      "DEBUG:problems:  LHS string form: dx(psix) - psixx\n",
      "DEBUG:problems:  RHS string form: 0\n",
      "DEBUG:problems:  LHS object form: dx(psix) + (-1*psixx)\n",
      "DEBUG:problems:  RHS object form: 0\n",
      "DEBUG:problems:  M linear form: 0\n",
      "DEBUG:problems:  L linear form: dx(psix) + (-1*psixx)\n",
      "DEBUG:problems:Parsing Eqn 6\n",
      "DEBUG:problems:  Condition: True\n",
      "DEBUG:problems:  LHS string form: dx(psixx) - psixxx\n",
      "DEBUG:problems:  RHS string form: 0\n",
      "DEBUG:problems:  LHS object form: dx(psixx) + (-1*psixxx)\n",
      "DEBUG:problems:  RHS object form: 0\n",
      "DEBUG:problems:  M linear form: 0\n",
      "DEBUG:problems:  L linear form: dx(psixx) + (-1*psixxx)\n",
      "DEBUG:problems:Parsing Eqn 7\n",
      "DEBUG:problems:  Condition: True\n",
      "DEBUG:problems:  LHS string form: dx(u) - ux\n",
      "DEBUG:problems:  RHS string form: 0\n",
      "DEBUG:problems:  LHS object form: dx(u) + (-1*ux)\n",
      "DEBUG:problems:  RHS object form: 0\n",
      "DEBUG:problems:  M linear form: 0\n",
      "DEBUG:problems:  L linear form: dx(u) + (-1*ux)\n",
      "DEBUG:problems:Parsing Eqn 8\n",
      "DEBUG:problems:  Condition: True\n",
      "DEBUG:problems:  LHS string form: dx(A) - Ax\n",
      "DEBUG:problems:  RHS string form: 0\n",
      "DEBUG:problems:  LHS object form: dx(A) + (-1*Ax)\n",
      "DEBUG:problems:  RHS object form: 0\n",
      "DEBUG:problems:  M linear form: 0\n",
      "DEBUG:problems:  L linear form: dx(A) + (-1*Ax)\n",
      "DEBUG:problems:Parsing Eqn 9\n",
      "DEBUG:problems:  Condition: True\n",
      "DEBUG:problems:  LHS string form: dx(B) - Bx\n",
      "DEBUG:problems:  RHS string form: 0\n",
      "DEBUG:problems:  LHS object form: dx(B) + (-1*Bx)\n",
      "DEBUG:problems:  RHS object form: 0\n",
      "DEBUG:problems:  M linear form: 0\n",
      "DEBUG:problems:  L linear form: dx(B) + (-1*Bx)\n",
      "DEBUG:problems:Parsing BC 0\n",
      "DEBUG:problems:  Condition: True\n",
      "DEBUG:problems:  LHS string form: left(u)\n",
      "DEBUG:problems:  RHS string form: 0\n",
      "DEBUG:problems:  LHS object form: interp(u,'x',left)\n",
      "DEBUG:problems:  RHS object form: 0\n",
      "DEBUG:problems:  M linear form: 0\n",
      "DEBUG:problems:  L linear form: interp(u,'x',left)\n",
      "DEBUG:problems:Parsing BC 1\n",
      "DEBUG:problems:  Condition: True\n",
      "DEBUG:problems:  LHS string form: right(u)\n",
      "DEBUG:problems:  RHS string form: 0\n",
      "DEBUG:problems:  LHS object form: interp(u,'x',right)\n",
      "DEBUG:problems:  RHS object form: 0\n",
      "DEBUG:problems:  M linear form: 0\n",
      "DEBUG:problems:  L linear form: interp(u,'x',right)\n",
      "DEBUG:problems:Parsing BC 2\n",
      "DEBUG:problems:  Condition: True\n",
      "DEBUG:problems:  LHS string form: left(psi)\n",
      "DEBUG:problems:  RHS string form: 0\n",
      "DEBUG:problems:  LHS object form: interp(psi,'x',left)\n",
      "DEBUG:problems:  RHS object form: 0\n",
      "DEBUG:problems:  M linear form: 0\n",
      "DEBUG:problems:  L linear form: interp(psi,'x',left)\n",
      "DEBUG:problems:Parsing BC 3\n",
      "DEBUG:problems:  Condition: True\n",
      "DEBUG:problems:  LHS string form: right(psi)\n",
      "DEBUG:problems:  RHS string form: 0\n",
      "DEBUG:problems:  LHS object form: interp(psi,'x',right)\n",
      "DEBUG:problems:  RHS object form: 0\n",
      "DEBUG:problems:  M linear form: 0\n",
      "DEBUG:problems:  L linear form: interp(psi,'x',right)\n",
      "DEBUG:problems:Parsing BC 4\n",
      "DEBUG:problems:  Condition: True\n",
      "DEBUG:problems:  LHS string form: left(A)\n",
      "DEBUG:problems:  RHS string form: 0\n",
      "DEBUG:problems:  LHS object form: interp(A,'x',left)\n",
      "DEBUG:problems:  RHS object form: 0\n",
      "DEBUG:problems:  M linear form: 0\n",
      "DEBUG:problems:  L linear form: interp(A,'x',left)\n",
      "DEBUG:problems:Parsing BC 5\n",
      "DEBUG:problems:  Condition: True\n",
      "DEBUG:problems:  LHS string form: right(A)\n",
      "DEBUG:problems:  RHS string form: 0\n",
      "DEBUG:problems:  LHS object form: interp(A,'x',right)\n",
      "DEBUG:problems:  RHS object form: 0\n",
      "DEBUG:problems:  M linear form: 0\n",
      "DEBUG:problems:  L linear form: interp(A,'x',right)\n",
      "DEBUG:problems:Parsing BC 6\n",
      "DEBUG:problems:  Condition: True\n",
      "DEBUG:problems:  LHS string form: left(psix)\n",
      "DEBUG:problems:  RHS string form: 0\n",
      "DEBUG:problems:  LHS object form: interp(psix,'x',left)\n",
      "DEBUG:problems:  RHS object form: 0\n",
      "DEBUG:problems:  M linear form: 0\n",
      "DEBUG:problems:  L linear form: interp(psix,'x',left)\n",
      "DEBUG:problems:Parsing BC 7\n",
      "DEBUG:problems:  Condition: True\n",
      "DEBUG:problems:  LHS string form: right(psix)\n",
      "DEBUG:problems:  RHS string form: 0\n",
      "DEBUG:problems:  LHS object form: interp(psix,'x',right)\n",
      "DEBUG:problems:  RHS object form: 0\n",
      "DEBUG:problems:  M linear form: 0\n",
      "DEBUG:problems:  L linear form: interp(psix,'x',right)\n",
      "DEBUG:problems:Parsing BC 8\n",
      "DEBUG:problems:  Condition: True\n",
      "DEBUG:problems:  LHS string form: left(Bx)\n",
      "DEBUG:problems:  RHS string form: 0\n",
      "DEBUG:problems:  LHS object form: interp(Bx,'x',left)\n",
      "DEBUG:problems:  RHS object form: 0\n",
      "DEBUG:problems:  M linear form: 0\n",
      "DEBUG:problems:  L linear form: interp(Bx,'x',left)\n",
      "DEBUG:problems:Parsing BC 9\n",
      "DEBUG:problems:  Condition: True\n",
      "DEBUG:problems:  LHS string form: right(Bx)\n",
      "DEBUG:problems:  RHS string form: 0\n",
      "DEBUG:problems:  LHS object form: interp(Bx,'x',right)\n",
      "DEBUG:problems:  RHS object form: 0\n",
      "DEBUG:problems:  M linear form: 0\n",
      "DEBUG:problems:  L linear form: interp(Bx,'x',right)\n",
      "DEBUG:solvers:Beginning EVP instantiation\n",
      "DEBUG:solvers:Finished EVP instantiation\n"
     ]
    },
    {
     "name": "stdout",
     "output_type": "stream",
     "text": [
      "Eigenvalue solver failed to converge for parameters {}\n",
      "MRI corrected growth rate =        nan\n"
     ]
    }
   ],
   "source": [
    "gr = EP.growth_rate({})\n",
    "print(\"MRI corrected growth rate = {0:10.5e}\".format(gr))"
   ]
  },
  {
   "cell_type": "code",
   "execution_count": 7,
   "metadata": {
    "collapsed": true
   },
   "outputs": [],
   "source": [
    "import numpy.linalg as LA"
   ]
  },
  {
   "cell_type": "code",
   "execution_count": 8,
   "metadata": {
    "collapsed": true
   },
   "outputs": [],
   "source": [
    "def get_L_M(solver):\n",
    "    p = solver.pencils[0]\n",
    "    p.build_matrices(solver.problem,['M','L'])\n",
    "    L = p.L.todense()\n",
    "    M = p.M.todense()\n",
    "    \n",
    "    return L, M"
   ]
  },
  {
   "cell_type": "code",
   "execution_count": 9,
   "metadata": {
    "collapsed": true
   },
   "outputs": [],
   "source": [
    "def find_cond_num(solver):\n",
    "    L, M = get_L_M(solver)\n",
    "    \n",
    "    return LA.cond(L)"
   ]
  },
  {
   "cell_type": "code",
   "execution_count": 10,
   "metadata": {
    "collapsed": false
   },
   "outputs": [
    {
     "data": {
      "text/plain": [
       "497569.47513864149"
      ]
     },
     "execution_count": 10,
     "metadata": {},
     "output_type": "execute_result"
    }
   ],
   "source": [
    "find_cond_num(EP.solver)"
   ]
  },
  {
   "cell_type": "code",
   "execution_count": 11,
   "metadata": {
    "collapsed": false
   },
   "outputs": [
    {
     "name": "stderr",
     "output_type": "stream",
     "text": [
      "DEBUG:solvers:Beginning EVP instantiation\n",
      "DEBUG:solvers:Finished EVP instantiation\n"
     ]
    },
    {
     "data": {
      "text/plain": [
       "748288.60954851354"
      ]
     },
     "execution_count": 11,
     "metadata": {},
     "output_type": "execute_result"
    }
   ],
   "source": [
    "find_cond_num(EP.EVP_hires.build_solver())"
   ]
  },
  {
   "cell_type": "code",
   "execution_count": 12,
   "metadata": {
    "collapsed": false
   },
   "outputs": [],
   "source": [
    "L, M = get_L_M(EP.solver)"
   ]
  },
  {
   "cell_type": "code",
   "execution_count": 13,
   "metadata": {
    "collapsed": false
   },
   "outputs": [
    {
     "data": {
      "text/plain": [
       "<matplotlib.colorbar.Colorbar at 0x7fbb2ad355c0>"
      ]
     },
     "execution_count": 13,
     "metadata": {},
     "output_type": "execute_result"
    },
    {
     "data": {
      "image/png": "[encoded data removed]",
      "text/plain": [
       "<matplotlib.figure.Figure at 0x7fbb2ae21a58>"
      ]
     },
     "metadata": {},
     "output_type": "display_data"
    }
   ],
   "source": [
    "plt.imshow(L.real,vmin=-1,vmax=1,cmap='RdBu')\n",
    "plt.colorbar()"
   ]
  },
  {
   "cell_type": "code",
   "execution_count": 14,
   "metadata": {
    "collapsed": false
   },
   "outputs": [
    {
     "name": "stderr",
     "output_type": "stream",
     "text": [
      "/home/jsoishi/tmp/dedalus-exp/lib/python3.4/site-packages/numpy/linalg/linalg.py:1776: RuntimeWarning: overflow encountered in det\n",
      "  r = _umath_linalg.det(a, signature=signature)\n",
      "/home/jsoishi/tmp/dedalus-exp/lib/python3.4/site-packages/numpy/linalg/linalg.py:1776: RuntimeWarning: invalid value encountered in det\n",
      "  r = _umath_linalg.det(a, signature=signature)\n"
     ]
    },
    {
     "data": {
      "text/plain": [
       "(inf+nan*j)"
      ]
     },
     "execution_count": 14,
     "metadata": {},
     "output_type": "execute_result"
    }
   ],
   "source": [
    "LA.det(L+M)"
   ]
  },
  {
   "cell_type": "code",
   "execution_count": 15,
   "metadata": {
    "collapsed": false
   },
   "outputs": [
    {
     "data": {
      "text/plain": [
       "1.0"
      ]
     },
     "execution_count": 15,
     "metadata": {},
     "output_type": "execute_result"
    }
   ],
   "source": [
    "M.real.max()"
   ]
  },
  {
   "cell_type": "code",
   "execution_count": 20,
   "metadata": {
    "collapsed": false
   },
   "outputs": [
    {
     "name": "stdout",
     "output_type": "stream",
     "text": [
      "The Cython extension is already loaded. To reload it, use:\n",
      "  %reload_ext Cython\n"
     ]
    }
   ],
   "source": [
    "%load_ext Cython"
   ]
  },
  {
   "cell_type": "markdown",
   "metadata": {},
   "source": [
    "from http://www.netlib.org/lapack/explore-html/db/d55/group__complex16_g_eeigen.html#gaad769423756706f1186027c9dd7615e4\n",
    "\n",
    "```\n",
    "subroutine zggevx\t(\tcharacter \tBALANC,\n",
    "character \tJOBVL,\n",
    "character \tJOBVR,\n",
    "character \tSENSE,\n",
    "integer \tN,\n",
    "complex*16, dimension( lda, * ) \tA,\n",
    "integer \tLDA,\n",
    "complex*16, dimension( ldb, * ) \tB,\n",
    "integer \tLDB,\n",
    "complex*16, dimension( * ) \tALPHA,\n",
    "complex*16, dimension( * ) \tBETA,\n",
    "complex*16, dimension( ldvl, * ) \tVL,\n",
    "integer \tLDVL,\n",
    "complex*16, dimension( ldvr, * ) \tVR,\n",
    "integer \tLDVR,\n",
    "integer \tILO,\n",
    "integer \tIHI,\n",
    "double precision, dimension( * ) \tLSCALE,\n",
    "double precision, dimension( * ) \tRSCALE,\n",
    "double precision \tABNRM,\n",
    "double precision \tBBNRM,\n",
    "double precision, dimension( * ) \tRCONDE,\n",
    "double precision, dimension( * ) \tRCONDV,\n",
    "complex*16, dimension( * ) \tWORK,\n",
    "integer \tLWORK,\n",
    "double precision, dimension( * ) \tRWORK,\n",
    "integer, dimension( * ) \tIWORK,\n",
    "logical, dimension( * ) \tBWORK,\n",
    "integer \tINFO \n",
    ")\n",
    "```"
   ]
  },
  {
   "cell_type": "code",
   "execution_count": 17,
   "metadata": {
    "collapsed": false
   },
   "outputs": [
    {
     "name": "stderr",
     "output_type": "stream",
     "text": [
      "\n",
      "Error compiling Cython file:\n",
      "------------------------------------------------------------\n",
      "...\n",
      "    JOBVL='N'\n",
      "    JOBVR='V'\n",
      "    SENSE='B'\n",
      "    lapack.zggevx(&BALANC, &JOBVL, &JOBVR, &SENSE, &N, <complex *> np.PyArray_DATA(A), \n",
      "                  &LDA, <complex *> np.PyArray_DATA(B), &LDB, \n",
      "^\n",
      "------------------------------------------------------------\n",
      "\n",
      "/home/jsoishi/.cache/ipython/cython/_cython_magic_eed23c72ec9727f8f01b6cdc58e477a3.pyx:35:0: Expected an identifier or literal\n"
     ]
    }
   ],
   "source": [
    "%%cython\n",
    "import numpy as np\n",
    "cimport numpy as np\n",
    "cimport scipy.linalg.cython_lapack as lapack \n",
    "\n",
    "DTYPE = np.complex\n",
    "ctypedef np.complex_t DTYPE_t\n",
    "ctypedef np.float_t DTYPE_dp\n",
    "ctypedef np.int_t DTYPE_int\n",
    "\n",
    "def baleig(np.ndarray[DTYPE_t, ndim=2] A, np.ndarray[DTYPE_t, ndim=2] B):\n",
    "    #need to check that A, B are complex, square, and the same size!\n",
    "    \n",
    "    \n",
    "    cdef int N, LDA, LDB, LDVL, LDVR, ILO, IHI, LWORK, INFO\n",
    "    cdef complex VL # we do not solve for this\n",
    "    cdef float ABNRM, BBNRM\n",
    "    N = A.shape[0]\n",
    "    LDA = A.shape[1]\n",
    "    LDB = B.shape[1]\n",
    "\n",
    "    if LDA != LDB:\n",
    "        raise ValueError(\"A and B must be the same size\")\n",
    "    if N != LDA:\n",
    "        raise ValueError(\"A must be square!\")\n",
    "    if N != LDB:\n",
    "        raise ValueError(\"B must be square!\")\n",
    "    \n",
    "    cdef np.ndarray[DTYPE_t, ndim=1] ALPHA = np.zeros([N,],dtype=DTYPE)\n",
    "    cdef np.ndarray[DTYPE_t, ndim=1] BETA = np.zeros([N,],dtype=DTYPE)\n",
    "    \n",
    "    cdef np.ndarray[DTYPE_dp, ndim=1] RCONDE = np.zeros([N,],dtype=np.float)\n",
    "    cdef np.ndarray[DTYPE_dp, ndim=1] RCONDV = np.zeros([N,],dtype=np.float)\n",
    "    \n",
    "    cdef np.ndarray[DTYPE_t, ndim=1] VR = np.zeros([N,],dtype=DTYPE)\n",
    "    cdef np.ndarray[DTYPE_dp, ndim=1] LSCALE = np.zeros([N,],dtype=np.float)\n",
    "    cdef np.ndarray[DTYPE_dp, ndim=1] RSCALE = np.zeros([N,],dtype=np.float)\n",
    "\n",
    "    cdef char BALANC, JOBVL, JOBVR, SENSE\n",
    "    \n",
    "    # hard code balance option\n",
    "    BALANC='B'\n",
    "    JOBVL='N'\n",
    "    JOBVR='V'\n",
    "    SENSE='B'\n",
    "    \n",
    "    #The dimension of the array WORK. LWORK >= max(1,2*N).\n",
    "    #      If SENSE = 'E', LWORK >= max(1,4*N).\n",
    "    #      If SENSE = 'V' or 'B', LWORK >= max(1,2*N*N+2*N).\n",
    "    LWORK = np.max(1,2*N*N+2*N)\n",
    "    cdef np.ndarray[DTYPE_t, ndim=1] WORK = np.empty([LWORK,],dtype=DTYPE)\n",
    "    \n",
    "    #          lrwork must be at least max(1,6*N) if BALANC = 'S' or 'B',\n",
    "    #      and at least max(1,2*N) otherwise.\n",
    "    #      Real workspace.\n",
    "    cdef np.ndarray[DTYPE_dp, ndim=1] RWORK = np.empty([6*N,],dtype=np.float)\n",
    "    cdef np.ndarray[DTYPE_int,ndim=1] IWORK = np.empty([N+2,],dtype=np.int)\n",
    "    \n",
    "    \n",
    "    \n",
    "    lapack.zggevx(&BALANC, &JOBVL, &JOBVR, &SENSE, &N, <complex *> np.PyArray_DATA(A), \n",
    "                  &LDA, <complex *> np.PyArray_DATA(B), &LDB, <complex *> np.PyArray_DATA(ALPHA),\n",
    "                  <complex *> np.PyArray_DATA(BETA), &VL, <complex *> np.PyArray_DATA(VR),\n",
    "                  &LVDR, &ILO, &IHI, <double *> np.PyArray_DATA(LSCALE),\n",
    "                  <double *> np.PyArray_DATA(RSCALE), &ABNRM, &BBNRM,\n",
    "                  <double *> np.PyArray_DATA(RCONDE), <double *> np.PyArray_DATA(RCONDV), \n",
    "                  <complex *> np.PyArray_DATA(WORK), &LWORK,\n",
    "                  <double *> np.PyArray_DATA(RWORK), <int *> np.PyArray_DATA(IWORK),\n",
    "                 )\n",
    "                  "
   ]
  },
  {
   "cell_type": "code",
   "execution_count": 18,
   "metadata": {
    "collapsed": false
   },
   "outputs": [
    {
     "name": "stderr",
     "output_type": "stream",
     "text": [
      "\n",
      "Error compiling Cython file:\n",
      "------------------------------------------------------------\n",
      "...\n",
      "import numpy as np\n",
      "cimport numpy as cnp\n",
      "cimport scipy.linalg.cython_lapack as lapack \n",
      "DTYPE = np.float\n",
      "ctypedef np.float_t DTYPE_t\n",
      "        ^\n",
      "------------------------------------------------------------\n",
      "\n",
      "/home/jsoishi/.cache/ipython/cython/_cython_magic_d7e04dcca85999a76d237006786b806c.pyx:5:9: 'np' is not a cimported module\n",
      "\n",
      "Error compiling Cython file:\n",
      "------------------------------------------------------------\n",
      "...\n",
      "cimport numpy as cnp\n",
      "cimport scipy.linalg.cython_lapack as lapack \n",
      "DTYPE = np.float\n",
      "ctypedef np.float_t DTYPE_t\n",
      "\n",
      "def dgbsv_test(np.ndarray[DTYPE_t, ndim=2] A):\n",
      "              ^\n",
      "------------------------------------------------------------\n",
      "\n",
      "/home/jsoishi/.cache/ipython/cython/_cython_magic_d7e04dcca85999a76d237006786b806c.pyx:7:15: 'np' is not a cimported module\n",
      "\n",
      "Error compiling Cython file:\n",
      "------------------------------------------------------------\n",
      "...\n",
      "\n",
      "def dgbsv_test(np.ndarray[DTYPE_t, ndim=2] A):\n",
      "    cdef int imax = A.shape[0]\n",
      "    cdef int jmax = A.shape[1]\n",
      "    cdef int N, KL, KU, LDAB, IPIV, INFO\n",
      "    cdef np.ndarray B = np.zeros([imax,], dtype=DTYPE)\n",
      "        ^\n",
      "------------------------------------------------------------\n",
      "\n",
      "/home/jsoishi/.cache/ipython/cython/_cython_magic_d7e04dcca85999a76d237006786b806c.pyx:11:9: 'np' is not a cimported module\n",
      "warning: /home/jsoishi/.cache/ipython/cython/_cython_magic_d7e04dcca85999a76d237006786b806c.pyx:15:21: local variable 'KL' referenced before assignment\n",
      "warning: /home/jsoishi/.cache/ipython/cython/_cython_magic_d7e04dcca85999a76d237006786b806c.pyx:15:24: local variable 'KU' referenced before assignment\n",
      "warning: /home/jsoishi/.cache/ipython/cython/_cython_magic_d7e04dcca85999a76d237006786b806c.pyx:15:39: local variable 'IPIV' referenced before assignment\n",
      "warning: /home/jsoishi/.cache/ipython/cython/_cython_magic_d7e04dcca85999a76d237006786b806c.pyx:15:111: local variable 'INFO' referenced before assignment\n",
      "\n",
      "Error compiling Cython file:\n",
      "------------------------------------------------------------\n",
      "...\n",
      "    cdef int N, KL, KU, LDAB, IPIV, INFO\n",
      "    cdef np.ndarray B = np.zeros([imax,], dtype=DTYPE)\n",
      "    \n",
      "    N  = A.shape[1]\n",
      "    LDAB = A.shape[0]\n",
      "    lapack.dgbsv(N,KL,KU,1,A,LDAB, IPIV, <double *> cnp.PyArray_DATA(B), N, <double *> cnp.PyArray_DATA(A),INFO)\n",
      "               ^\n",
      "------------------------------------------------------------\n",
      "\n",
      "/home/jsoishi/.cache/ipython/cython/_cython_magic_d7e04dcca85999a76d237006786b806c.pyx:15:16: Call with wrong number of arguments (expected 10, got 11)\n"
     ]
    }
   ],
   "source": [
    "%%cython\n",
    "import numpy as np\n",
    "cimport numpy as cnp\n",
    "cimport scipy.linalg.cython_lapack as lapack \n",
    "DTYPE = np.float\n",
    "ctypedef np.float_t DTYPE_t\n",
    "\n",
    "def dgbsv_test(np.ndarray[DTYPE_t, ndim=2] A):\n",
    "    cdef int imax = A.shape[0]\n",
    "    cdef int jmax = A.shape[1]\n",
    "    cdef int N, KL, KU, LDAB, IPIV, INFO\n",
    "    cdef np.ndarray B = np.zeros([imax,], dtype=DTYPE)\n",
    "    \n",
    "    N  = A.shape[1]\n",
    "    LDAB = A.shape[0]\n",
    "    lapack.dgbsv(N,KL,KU,1,A,LDAB, IPIV, <double *> cnp.PyArray_DATA(B), N, <double *> cnp.PyArray_DATA(A),INFO)\n",
    "    \n",
    "    return B"
   ]
  },
  {
   "cell_type": "code",
   "execution_count": 19,
   "metadata": {
    "collapsed": false
   },
   "outputs": [
    {
     "ename": "NameError",
     "evalue": "name 'dgbsv_test' is not defined",
     "output_type": "error",
     "traceback": [
      "\u001b[1;31m---------------------------------------------------------------------------\u001b[0m",
      "\u001b[1;31mNameError\u001b[0m                                 Traceback (most recent call last)",
      "\u001b[1;32m<ipython-input-19-2418ac3bbcb9>\u001b[0m in \u001b[0;36m<module>\u001b[1;34m()\u001b[0m\n\u001b[0;32m      1\u001b[0m \u001b[0mA\u001b[0m \u001b[1;33m=\u001b[0m \u001b[0mnp\u001b[0m\u001b[1;33m.\u001b[0m\u001b[0mzeros\u001b[0m\u001b[1;33m(\u001b[0m\u001b[1;33m(\u001b[0m\u001b[1;36m10\u001b[0m\u001b[1;33m,\u001b[0m\u001b[1;36m10\u001b[0m\u001b[1;33m)\u001b[0m\u001b[1;33m,\u001b[0m\u001b[0mdtype\u001b[0m\u001b[1;33m=\u001b[0m\u001b[1;34m'float'\u001b[0m\u001b[1;33m)\u001b[0m\u001b[1;33m\u001b[0m\u001b[0m\n\u001b[0;32m      2\u001b[0m \u001b[1;33m\u001b[0m\u001b[0m\n\u001b[1;32m----> 3\u001b[1;33m \u001b[0mdgbsv_test\u001b[0m\u001b[1;33m(\u001b[0m\u001b[0mA\u001b[0m\u001b[1;33m)\u001b[0m\u001b[1;33m\u001b[0m\u001b[0m\n\u001b[0m",
      "\u001b[1;31mNameError\u001b[0m: name 'dgbsv_test' is not defined"
     ]
    }
   ],
   "source": [
    "A = np.zeros((10,10),dtype='float')\n",
    "\n",
    "dgbsv_test(A)"
   ]
  },
  {
   "cell_type": "code",
   "execution_count": null,
   "metadata": {
    "collapsed": false
   },
   "outputs": [],
   "source": [
    "A."
   ]
  },
  {
   "cell_type": "code",
   "execution_count": null,
   "metadata": {
    "collapsed": true
   },
   "outputs": [],
   "source": []
  }
 ],
 "metadata": {
  "kernelspec": {
   "display_name": "Python 3",
   "language": "python",
   "name": "python3"
  },
  "language_info": {
   "codemirror_mode": {
    "name": "ipython",
    "version": 3
   },
   "file_extension": ".py",
   "mimetype": "text/x-python",
   "name": "python",
   "nbconvert_exporter": "python",
   "pygments_lexer": "ipython3",
   "version": "3.4.1"
  }
 },
 "nbformat": 4,
 "nbformat_minor": 0
}
