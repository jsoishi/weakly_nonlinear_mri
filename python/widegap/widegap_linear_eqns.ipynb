{
 "cells": [
  {
   "cell_type": "code",
   "execution_count": 122,
   "metadata": {
    "collapsed": false
   },
   "outputs": [],
   "source": [
    "%matplotlib nbagg"
   ]
  },
  {
   "cell_type": "code",
   "execution_count": 123,
   "metadata": {
    "collapsed": true
   },
   "outputs": [],
   "source": [
    "import logging\n",
    "\n",
    "root = logging.root\n",
    "for h in root.handlers:\n",
    "    h.setLevel(\"INFO\")"
   ]
  },
  {
   "cell_type": "code",
   "execution_count": 166,
   "metadata": {
    "collapsed": true
   },
   "outputs": [],
   "source": [
    "import dedalus.public as de\n",
    "import numpy as np\n",
    "import matplotlib.pylab as plt"
   ]
  },
  {
   "cell_type": "code",
   "execution_count": 167,
   "metadata": {
    "collapsed": true
   },
   "outputs": [],
   "source": [
    "plt.style.use('ggplot')"
   ]
  },
  {
   "cell_type": "code",
   "execution_count": 168,
   "metadata": {
    "collapsed": true
   },
   "outputs": [],
   "source": [
    "nr1 = 256 #128\n",
    "r1 = de.Chebyshev('r', nr1, interval=(9, 11))\n",
    "d1 = de.Domain([r1])\n",
    "\n",
    "nr2 = 412#164\n",
    "r2 = de.Chebyshev('r', nr2, interval=(9, 11))\n",
    "d2 = de.Domain([r2])"
   ]
  },
  {
   "cell_type": "code",
   "execution_count": 169,
   "metadata": {
    "collapsed": true
   },
   "outputs": [],
   "source": [
    "# critical parameters\n",
    "Rm = 5.646#Rm = 4.9 #4.879\n",
    "iRm = 1.0/Rm\n",
    "Pm = 1.6E-6 #Pm = 0.001\n",
    "Re = Rm/Pm\n",
    "iR = 1.0/Re\n",
    "q = 1.9368 #q = 1.5\n",
    "Q = 0.748\n",
    "beta = 25.0"
   ]
  },
  {
   "cell_type": "code",
   "execution_count": 170,
   "metadata": {
    "collapsed": false
   },
   "outputs": [
    {
     "name": "stdout",
     "output_type": "stream",
     "text": [
      "2016-04-21 18:26:49,237 problems 0/1 INFO :: Solving EVP with homogeneity tolerance of 1.000e-10\n"
     ]
    }
   ],
   "source": [
    "widegap = de.EVP(d1,['psi','u', 'A', 'B', 'psir', 'psirr', 'psirrr', 'ur', 'Ar', 'Br'],'sigma')\n",
    "widegap.parameters['Q'] = Q\n",
    "widegap.parameters['iR'] = iR\n",
    "widegap.parameters['iRm'] = iRm\n",
    "widegap.parameters['q'] = q\n",
    "widegap.parameters['beta'] = beta"
   ]
  },
  {
   "cell_type": "markdown",
   "metadata": {},
   "source": [
    "Linear widegap MRI equations multiplied by $r^4$"
   ]
  },
  {
   "cell_type": "markdown",
   "metadata": {},
   "source": [
    "$\\left[\\begin{matrix}- 3.0 i \\Omega_{0} Q r^{4} r^{- q} u{\\left (t,r,z \\right )} - \\frac{1.0 r^{3}}{R_{e}} Q^{4} \\psi{\\left (t,r,z \\right )} + \\frac{2.0 i}{\\beta} Q^{3} r^{3} A{\\left (t,r,z \\right )} + \\frac{2.0 d_{r}^{2}}{R_{e}} Q^{2} r^{3} \\psi{\\left (t,r,z \\right )} - \\frac{2.0 d_{r}}{R_{e}} Q^{2} r^{2} \\psi{\\left (t,r,z \\right )} - \\frac{2.0 i}{\\beta} Q d_{r}^{2} r^{3} A{\\left (t,r,z \\right )} + \\frac{2.0 i}{\\beta} Q d_{r} r^{2} A{\\left (t,r,z \\right )} - \\frac{d_{r}^{4} r^{3}}{R_{e}} \\psi{\\left (t,r,z \\right )} + \\frac{2 d_{r}^{3}}{R_{e}} r^{2} \\psi{\\left (t,r,z \\right )} - \\frac{3 r}{R_{e}} d_{r}^{2} \\psi{\\left (t,r,z \\right )} + \\frac{3 d_{r}}{R_{e}} \\psi{\\left (t,r,z \\right )}\\\\- 1.0 i \\Omega_{0} Q q r^{3} r^{- q} \\psi{\\left (t,r,z \\right )} + 4.0 i \\Omega_{0} Q r^{3} r^{- q} \\psi{\\left (t,r,z \\right )} + \\frac{1.0 r^{4}}{R_{e}} Q^{2} u{\\left (t,r,z \\right )} - \\frac{2.0 i}{\\beta} Q r^{4} B{\\left (t,r,z \\right )} - \\frac{d_{r}^{2} r^{4}}{R_{e}} u{\\left (t,r,z \\right )} - \\frac{d_{r} r^{3}}{R_{e}} u{\\left (t,r,z \\right )} + \\frac{r^{3}}{R_{e}} u{\\left (t,r,z \\right )}\\\\\\frac{1.0 r^{4}}{R_{m}} Q^{2} A{\\left (t,r,z \\right )} - 1.0 i Q r^{4} \\psi{\\left (t,r,z \\right )} - \\frac{d_{r}^{2} r^{4}}{R_{m}} A{\\left (t,r,z \\right )} + \\frac{d_{r} r^{3}}{R_{m}} A{\\left (t,r,z \\right )}\\\\1.0 i \\Omega_{0} Q q r^{3} r^{- q} A{\\left (t,r,z \\right )} - 2.0 i \\Omega_{0} Q r^{3} r^{- q} A{\\left (t,r,z \\right )} + \\frac{1.0 r^{4}}{R_{m}} Q^{2} B{\\left (t,r,z \\right )} - 1.0 i Q r^{4} u{\\left (t,r,z \\right )} - \\frac{d_{r}^{2} r^{4}}{R_{m}} B{\\left (t,r,z \\right )} - \\frac{d_{r} r^{3}}{R_{m}} B{\\left (t,r,z \\right )} + \\frac{r^{2}}{R_{m}} B{\\left (t,r,z \\right )}\\end{matrix}\\right]$ \n",
    "+ $\\left[\\begin{matrix}- 1.0 Q^{2} r^{3} \\sigma \\psi{\\left (t,r,z \\right )} + d_{r}^{2} r^{3} \\sigma \\psi{\\left (t,r,z \\right )} - d_{r} r^{2} \\sigma \\psi{\\left (t,r,z \\right )}\\\\r^{4} \\sigma u{\\left (t,r,z \\right )}\\\\r^{4} \\sigma A{\\left (t,r,z \\right )}\\\\r^{4} \\sigma B{\\left (t,r,z \\right )}\\end{matrix}\\right]$\n",
    "= 0"
   ]
  },
  {
   "cell_type": "code",
   "execution_count": 171,
   "metadata": {
    "collapsed": true
   },
   "outputs": [],
   "source": [
    "widegap.add_equation(\"sigma*(-1*Q**2*r**3*psi + r**3*psirr - r**2*psir) - 3*1j*Q*r**(4 - q)*u - iR*r**3*Q**4*psi + (2/beta)*1j*Q**3*r**3*A + iR*2*Q**2*r**3*psirr - iR*2*Q**2*r**2*psir - (2/beta)*1j*Q*r**3*dr(Ar) + (2/beta)*1j*Q*r**2*Ar - iR*r**3*dr(psirrr) + 2*iR*r**2*psirrr - iR*3*r*psirr + iR*3*psir = 0\")\n",
    "widegap.add_equation(\"sigma*(r**4*u) - 1j*Q*q*r**(3 - q)*psi + 4*1j*Q*r**(3 - q)*psi + iR*r**4*Q**2*u - (2/beta)*1j*Q*r**4*B - iR*r**4*dr(ur) - iR*r**3*ur + iR*r**3*u = 0\")\n",
    "widegap.add_equation(\"sigma*(r**4*A) + iRm*r**4*Q**2*A - 1j*Q*r**4*psi - iRm*r**4*dr(Ar) + iRm*r**3*Ar = 0\")\n",
    "widegap.add_equation(\"sigma*(r**4*B) + 1j*Q*q*r**(3 - q)*A - 2*1j*Q*r**(3 - q)*A + iRm*r**4*Q**2*B - 1j*Q*r**4*u - iRm*r**4*dr(Br) - iRm*r**3*Br + iRm*r**2*B = 0\")"
   ]
  },
  {
   "cell_type": "code",
   "execution_count": 172,
   "metadata": {
    "collapsed": true
   },
   "outputs": [],
   "source": [
    "widegap.add_equation(\"dr(psi) - psir = 0\")\n",
    "widegap.add_equation(\"dr(psir) - psirr = 0\")\n",
    "widegap.add_equation(\"dr(psirr) - psirrr = 0\")\n",
    "widegap.add_equation(\"dr(u) - ur = 0\")\n",
    "widegap.add_equation(\"dr(A) - Ar = 0\")\n",
    "widegap.add_equation(\"dr(B) - Br = 0\")"
   ]
  },
  {
   "cell_type": "code",
   "execution_count": 173,
   "metadata": {
    "collapsed": true
   },
   "outputs": [],
   "source": [
    "widegap.add_bc('left(u) = 0')\n",
    "widegap.add_bc('right(u) = 0')\n",
    "widegap.add_bc('left(psi) = 0')\n",
    "widegap.add_bc('right(psi) = 0')\n",
    "widegap.add_bc('left(A) = 0')\n",
    "widegap.add_bc('right(A) = 0')\n",
    "widegap.add_bc('left(psi + r*psir) = 0')\n",
    "widegap.add_bc('right(psi + r*psir) = 0')\n",
    "widegap.add_bc('left(B + r*Br) = 0')\n",
    "widegap.add_bc('right(B + r*Br) = 0')"
   ]
  },
  {
   "cell_type": "code",
   "execution_count": 174,
   "metadata": {
    "collapsed": true
   },
   "outputs": [],
   "source": [
    "solver = widegap.build_solver()"
   ]
  },
  {
   "cell_type": "code",
   "execution_count": 175,
   "metadata": {
    "collapsed": false
   },
   "outputs": [
    {
     "name": "stdout",
     "output_type": "stream",
     "text": [
      "2016-04-21 18:26:50,739 problems 0/1 INFO :: Solving EVP with homogeneity tolerance of 1.000e-10\n"
     ]
    }
   ],
   "source": [
    "widegap2 = de.EVP(d2,['psi','u', 'A', 'B', 'psir', 'psirr', 'psirrr', 'ur', 'Ar', 'Br'],'sigma')\n",
    "widegap2.parameters['Q'] = Q\n",
    "widegap2.parameters['iR'] = iR\n",
    "widegap2.parameters['iRm'] = iRm\n",
    "widegap2.parameters['q'] = q\n",
    "widegap2.parameters['beta'] = beta\n",
    "widegap2.add_equation(\"sigma*(-1*Q**2*r**3*psi + r**3*psirr - r**2*psir) - 3*1j*Q*r**(4 - q)*u - iR*r**3*Q**4*psi + (2/beta)*1j*Q**3*r**3*A + iR*2*Q**2*r**3*psirr - iR*2*Q**2*r**2*psir - (2/beta)*1j*Q*r**3*dr(Ar) + (2/beta)*1j*Q*r**2*Ar - iR*r**3*dr(psirrr) + 2*iR*r**2*psirrr - iR*3*r*psirr + iR*3*psir = 0\")\n",
    "widegap2.add_equation(\"sigma*(r**4*u) - 1j*Q*q*r**(3 - q)*psi + 4*1j*Q*r**(3 - q)*psi + iR*r**4*Q**2*u - (2/beta)*1j*Q*r**4*B - iR*r**4*dr(ur) - iR*r**3*ur + iR*r**3*u = 0\")\n",
    "widegap2.add_equation(\"sigma*(r**4*A) + iRm*r**4*Q**2*A - 1j*Q*r**4*psi - iRm*r**4*dr(Ar) + iRm*r**3*Ar = 0\")\n",
    "widegap2.add_equation(\"sigma*(r**4*B) + 1j*Q*q*r**(3 - q)*A - 2*1j*Q*r**(3 - q)*A + iRm*r**4*Q**2*B - 1j*Q*r**4*u - iRm*r**4*dr(Br) - iRm*r**3*Br + iRm*r**2*B = 0\")\n",
    "widegap2.add_equation(\"dr(psi) - psir = 0\")\n",
    "widegap2.add_equation(\"dr(psir) - psirr = 0\")\n",
    "widegap2.add_equation(\"dr(psirr) - psirrr = 0\")\n",
    "widegap2.add_equation(\"dr(u) - ur = 0\")\n",
    "widegap2.add_equation(\"dr(A) - Ar = 0\")\n",
    "widegap2.add_equation(\"dr(B) - Br = 0\")\n",
    "widegap2.add_bc('left(u) = 0')\n",
    "widegap2.add_bc('right(u) = 0')\n",
    "widegap2.add_bc('left(psi) = 0')\n",
    "widegap2.add_bc('right(psi) = 0')\n",
    "widegap2.add_bc('left(A) = 0')\n",
    "widegap2.add_bc('right(A) = 0')\n",
    "widegap2.add_bc('left(psi + r*psir) = 0')\n",
    "widegap2.add_bc('right(psi + r*psir) = 0')\n",
    "widegap2.add_bc('left(B + r*Br) = 0')\n",
    "widegap2.add_bc('right(B + r*Br) = 0')\n",
    "\n",
    "solver2 = widegap2.build_solver()\n"
   ]
  },
  {
   "cell_type": "code",
   "execution_count": null,
   "metadata": {
    "collapsed": false
   },
   "outputs": [],
   "source": [
    "solver.solve(solver.pencils[0])\n",
    "solver2.solve(solver2.pencils[0])"
   ]
  },
  {
   "cell_type": "code",
   "execution_count": null,
   "metadata": {
    "collapsed": false
   },
   "outputs": [],
   "source": [
    "ev1 = solver.eigenvalues\n",
    "ev2 = solver2.eigenvalues\n",
    "goodeigs, goodeigs_indices = discard_spurious_eigenvalues(ev1, ev2)\n",
    "goodeigs2, goodeigs_indices2 = discard_spurious_eigenvalues(ev2, ev1)"
   ]
  },
  {
   "cell_type": "code",
   "execution_count": null,
   "metadata": {
    "collapsed": false
   },
   "outputs": [],
   "source": [
    "marginal_mode_index = np.where(goodeigs.real == np.nanmax(goodeigs.real))[0][0]"
   ]
  },
  {
   "cell_type": "code",
   "execution_count": null,
   "metadata": {
    "collapsed": false
   },
   "outputs": [],
   "source": [
    "print(marginal_mode_index)\n",
    "print(int(goodeigs_indices[marginal_mode_index]))\n",
    "use_indx = int(goodeigs_indices[marginal_mode_index])"
   ]
  },
  {
   "cell_type": "code",
   "execution_count": null,
   "metadata": {
    "collapsed": false
   },
   "outputs": [],
   "source": [
    "marginal_mode_index2 = np.where(goodeigs2.real == np.nanmax(goodeigs2.real))[0][0]\n",
    "use_indx2 = int(goodeigs_indices2[marginal_mode_index2])\n",
    "solver2.set_state(use_indx2)\n",
    "data2 = solver2.state"
   ]
  },
  {
   "cell_type": "code",
   "execution_count": null,
   "metadata": {
    "collapsed": false
   },
   "outputs": [],
   "source": [
    "rr  = r1.grid()\n",
    "evector = solver.eigenvectors[use_indx]"
   ]
  },
  {
   "cell_type": "code",
   "execution_count": null,
   "metadata": {
    "collapsed": false
   },
   "outputs": [],
   "source": [
    "solver.set_state(use_indx)\n",
    "data = solver.state\n",
    "psi = data['psi']\n",
    "\n",
    "print(ev1[use_indx])\n",
    "\n",
    "print(ev1[np.where(goodeigs.real > 0)])"
   ]
  },
  {
   "cell_type": "code",
   "execution_count": null,
   "metadata": {
    "collapsed": false
   },
   "outputs": [],
   "source": [
    "print(len(goodeigs), goodeigs)\n",
    "ploteigs(goodeigs)"
   ]
  },
  {
   "cell_type": "code",
   "execution_count": null,
   "metadata": {
    "collapsed": false
   },
   "outputs": [],
   "source": [
    "plt.figure()\n",
    "plt.plot(rr, (data['B']['g']).real, label='real')\n",
    "plt.plot(rr, (data['B']['g']).imag, label='imag')"
   ]
  },
  {
   "cell_type": "code",
   "execution_count": null,
   "metadata": {
    "collapsed": false
   },
   "outputs": [],
   "source": [
    "plt.figure()\n",
    "plt.plot(r2.grid(), (data2['B']['g']).real, label='real')\n",
    "plt.plot(r2.grid(), (data2['B']['g']).imag, ':', label='imag',)"
   ]
  },
  {
   "cell_type": "code",
   "execution_count": null,
   "metadata": {
    "collapsed": true
   },
   "outputs": [],
   "source": [
    "    def discard_spurious_eigenvalues(lambda1, lambda2):\n",
    "    \n",
    "        \"\"\"\n",
    "        lambda1 :: eigenvalues from low res run\n",
    "        lambda2 :: eigenvalues from high res run\n",
    "        \n",
    "        Solves the linear eigenvalue problem for two different resolutions.\n",
    "        Returns trustworthy eigenvalues using nearest delta, from Boyd chapter 7.\n",
    "        \"\"\"\n",
    "\n",
    "        # Reverse engineer correct indices to make unsorted list from sorted\n",
    "        reverse_lambda1_indx = np.arange(len(lambda1)) \n",
    "        reverse_lambda2_indx = np.arange(len(lambda2))\n",
    "    \n",
    "        lambda1_and_indx = np.asarray(list(zip(lambda1, reverse_lambda1_indx)))\n",
    "        lambda2_and_indx = np.asarray(list(zip(lambda2, reverse_lambda2_indx)))\n",
    "        \n",
    "        # remove nans\n",
    "        lambda1_and_indx = lambda1_and_indx[np.isfinite(lambda1)]\n",
    "        lambda2_and_indx = lambda2_and_indx[np.isfinite(lambda2)]\n",
    "    \n",
    "        # Sort lambda1 and lambda2 by real parts\n",
    "        lambda1_and_indx = lambda1_and_indx[np.argsort(lambda1_and_indx[:, 0].real)]\n",
    "        lambda2_and_indx = lambda2_and_indx[np.argsort(lambda2_and_indx[:, 0].real)]\n",
    "        \n",
    "        lambda1_sorted = lambda1_and_indx[:, 0]\n",
    "        lambda2_sorted = lambda2_and_indx[:, 0]\n",
    "    \n",
    "        # Compute sigmas from lower resolution run (gridnum = N1)\n",
    "        sigmas = np.zeros(len(lambda1_sorted))\n",
    "        sigmas[0] = np.abs(lambda1_sorted[0] - lambda1_sorted[1])\n",
    "        sigmas[1:-1] = [0.5*(np.abs(lambda1_sorted[j] - lambda1_sorted[j - 1]) + np.abs(lambda1_sorted[j + 1] - lambda1_sorted[j])) for j in range(1, len(lambda1_sorted) - 1)]\n",
    "        sigmas[-1] = np.abs(lambda1_sorted[-2] - lambda1_sorted[-1])\n",
    "\n",
    "        if not (np.isfinite(sigmas)).all():\n",
    "            print(\"WARNING: at least one eigenvalue spacings (sigmas) is non-finite (np.inf or np.nan)!\")\n",
    "    \n",
    "        # Nearest delta\n",
    "        delta_near = np.array([np.nanmin(np.abs(lambda1_sorted[j] - lambda2_sorted)/sigmas[j]) for j in range(len(lambda1_sorted))])\n",
    "    \n",
    "        # Discard eigenvalues with 1/delta_near < 10^6\n",
    "        lambda1_and_indx = lambda1_and_indx[np.where((1.0/delta_near) > 1E6)]\n",
    "        #print(lambda1_and_indx)\n",
    "        \n",
    "        lambda1 = lambda1_and_indx[:, 0]\n",
    "        indx = lambda1_and_indx[:, 1]\n",
    "        \n",
    "        return lambda1, indx"
   ]
  },
  {
   "cell_type": "code",
   "execution_count": 165,
   "metadata": {
    "collapsed": true
   },
   "outputs": [],
   "source": [
    "def ploteigs(goodevals):\n",
    "\n",
    "    \"\"\"\n",
    "    Plot real vs imaginary parts of eigenvalues.\n",
    "    \"\"\"\n",
    "\n",
    "    fig = plt.figure()\n",
    "    \n",
    "    # Color is sign of imaginary part\n",
    "    colors = [\"blue\" for i in range(len(goodevals))]\n",
    "    imagpos = np.where(goodevals.imag >= 0)\n",
    "    for p in imagpos[0]:\n",
    "        colors[p] = \"red\"\n",
    "  \n",
    "    # Symbol is sign of real part\n",
    "    symbols = [\".\" for i in range(len(goodevals))]\n",
    "    thickness = np.zeros(len(goodevals))\n",
    "    realpos = np.where(goodevals.real >= 0)\n",
    "    for p in realpos[0]:\n",
    "        symbols[p] = \"+\"\n",
    "        thickness[p] = 2\n",
    "    \n",
    "    print(\"Number of positive real parts\", len(realpos[0]))\n",
    "    \n",
    "    for x, y, c, s, t in zip(np.abs(goodevals.real), np.abs(goodevals.imag), colors, symbols, thickness):\n",
    "        plt.plot(x, y, s, c=c, alpha = 0.5, ms = 8, mew = t)\n",
    "        \n",
    "    # Dummy plot for legend\n",
    "    plt.plot(0, 0, '+', c = \"red\", alpha = 0.5, mew = 2, label = r\"$\\gamma \\geq 0$, $\\omega > 0$\")\n",
    "    plt.plot(0, 0, '+', c = \"blue\", alpha = 0.5, mew = 2, label = r\"$\\gamma \\geq 0$, $\\omega < 0$\")\n",
    "    plt.plot(0, 0, '.', c = \"red\", alpha = 0.5, label = r\"$\\gamma < 0$, $\\omega > 0$\")\n",
    "    plt.plot(0, 0, '.', c = \"blue\", alpha = 0.5, label = r\"$\\gamma < 0$, $\\omega < 0$\")\n",
    "        \n",
    "    plt.legend()\n",
    "        \n",
    "    plt.loglog()\n",
    "    plt.xlabel(r\"$\\left|\\gamma\\right|$\", size = 15)\n",
    "    plt.ylabel(r\"$\\left|\\omega\\right|$\", size = 15, rotation = 0)\n",
    "    plt.title(r\"$\\mathrm{MRI}$ $\\mathrm{eigenvalues}$ $\\lambda = \\gamma + i \\omega$\")"
   ]
  },
  {
   "cell_type": "code",
   "execution_count": null,
   "metadata": {
    "collapsed": true
   },
   "outputs": [],
   "source": []
  }
 ],
 "metadata": {
  "kernelspec": {
   "display_name": "Python 3",
   "language": "python",
   "name": "python3"
  },
  "language_info": {
   "codemirror_mode": {
    "name": "ipython",
    "version": 3
   },
   "file_extension": ".py",
   "mimetype": "text/x-python",
   "name": "python",
   "nbconvert_exporter": "python",
   "pygments_lexer": "ipython3",
   "version": "3.4.1"
  }
 },
 "nbformat": 4,
 "nbformat_minor": 0
}
