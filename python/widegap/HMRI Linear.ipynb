{
 "cells": [
  {
   "cell_type": "code",
   "execution_count": 122,
   "metadata": {
    "collapsed": false
   },
   "outputs": [
    {
     "name": "stdout",
     "output_type": "stream",
     "text": [
      "<module 'numpy' from '/Users/susanclark/dedalus_upgraded2/dedalus/lib/python3.5/site-packages/numpy/__init__.py'>\n"
     ]
    }
   ],
   "source": [
    "import numpy as np\n",
    "print(np)\n",
    "%matplotlib nbagg\n",
    "import matplotlib"
   ]
  },
  {
   "cell_type": "code",
   "execution_count": 123,
   "metadata": {
    "collapsed": true
   },
   "outputs": [],
   "source": [
    "import dedalus.public as de\n",
    "import numpy as np\n",
    "import matplotlib.pylab as plt"
   ]
  },
  {
   "cell_type": "code",
   "execution_count": 124,
   "metadata": {
    "collapsed": true
   },
   "outputs": [],
   "source": [
    "nr1 = 64\n",
    "r_shortgrid = de.Chebyshev('r', nr1, interval=(10, 20))\n",
    "d1 = de.Domain([r_shortgrid])\n",
    "\n",
    "nr2 = 92\n",
    "r_longgrid = de.Chebyshev('r', nr2, interval=(10, 20))\n",
    "d2 = de.Domain([r_longgrid])"
   ]
  },
  {
   "cell_type": "code",
   "execution_count": 125,
   "metadata": {
    "collapsed": false
   },
   "outputs": [],
   "source": [
    "# critical parameters\n",
    "r1 = 10.\n",
    "r2 = 20.\n",
    "\n",
    "mu_omega = 0.27\n",
    "eta_omega = r1/r2\n",
    "\n",
    "c1 = (mu_omega - eta_omega**2)/(1 - eta_omega**2)\n",
    "c2 = ((1 - mu_omega)/(1 - eta_omega**2))*r1\n",
    "\n",
    "# Hollerbach & Rudiger 2005\n",
    "Pm = 1.0E-6\n",
    "Re = 1521\n",
    "xi = 4\n",
    "Q = 2.33\n",
    "\n",
    "iR = 1.0/Re\n",
    "Rm = Pm*Re\n",
    "iRm = 1.0/Rm\n",
    "\n",
    "beta = (2*Re)/(16.3**2)"
   ]
  },
  {
   "cell_type": "code",
   "execution_count": 126,
   "metadata": {
    "collapsed": false
   },
   "outputs": [
    {
     "name": "stdout",
     "output_type": "stream",
     "text": [
      "2016-06-16 13:49:49,953 problems 0/1 INFO :: Solving EVP with homogeneity tolerance of 1.000e-10\n",
      "2016-06-16 13:49:49,954 problems 0/1 INFO :: Solving EVP with homogeneity tolerance of 1.000e-10\n"
     ]
    }
   ],
   "source": [
    "widegap1 = de.EVP(d1,['psi','u', 'A', 'B', 'psir', 'psirr', 'psirrr', 'ur', 'Ar', 'Br'],'sigma')\n",
    "widegap2 = de.EVP(d2,['psi','u', 'A', 'B', 'psir', 'psirr', 'psirrr', 'ur', 'Ar', 'Br'],'sigma')\n",
    "\n",
    "for widegap in [widegap1, widegap2]:\n",
    "    widegap.parameters['k'] = Q\n",
    "    widegap.parameters['iR'] = iR\n",
    "    widegap.parameters['iRm'] = iRm\n",
    "    widegap.parameters['beta'] = beta\n",
    "    widegap.parameters['c1'] = c1\n",
    "    widegap.parameters['c2'] = c2\n",
    "    widegap.parameters['B0'] = 1\n",
    "    widegap.parameters['xi'] = xi\n",
    "    \n",
    "    widegap.substitutions['ru0'] = '(r*r*c1 + c2)' # u0 = r Omega(r) = Ar + B/r\n",
    "    widegap.substitutions['rrdu0'] = '(c1*r*r-c2)' # du0/dr = A - B/r^2\n",
    "    widegap.substitutions['dz'] = '(1j*k)'\n",
    "    widegap.substitutions['twooverbeta'] = '(2.0/beta)'\n",
    "    widegap.substitutions['psivisc'] = '(r**4*dr(psirrr) + r**4*dz**4*psi + r**4*2*dz**2*psirr + 3*r*psir - 3*r**2*psirr + 2*r**3*psirrr + 2*r**3*dz**2*psir - 2*r**2*dz**2*psi - 3*psi)'\n",
    "    widegap.substitutions['uvisc'] = '(r**2*dr(ur) + r**2*dz**2*u + r*ur - u)'\n",
    "    widegap.substitutions['Avisc'] = '(r**2*dr(Ar) + r**2*dz**2*A + r*Ar - A)' \n",
    "    widegap.substitutions['Bvisc'] = '(r**2*dr(Br) + r**2*dz**2*B + r*Br - B)'\n",
    "    \n",
    "    # psi multiplied by r**4, others by r**2\n",
    "    widegap.add_equation(\"sigma*(r**4*psirr + r**4*dz**2*psi + r**3*psir - r**2*psi) - 2*r**2*ru0*dz*u - twooverbeta*B0*dz*(r**4*dr(Ar) + r**4*dz**2*A + r**3*Ar - r**2*A) + twooverbeta*r**2*2*xi*B0*dz*B - iR*psivisc = 0\")\n",
    "    widegap.add_equation(\"sigma*r**2*u + ru0*dz*psi + rrdu0*dz*psi - r**2*twooverbeta*B0*dz*B - iR*uvisc = 0\") \n",
    "    widegap.add_equation(\"sigma*r**2*A - r**2*B0*dz*psi -iRm*Avisc = 0\")\n",
    "    widegap.add_equation(\"sigma*r**2*B + ru0*dz*A - r**2*B0*dz*u - rrdu0*dz*A - 2*xi*B0*dz*psi - iRm*Bvisc = 0\") \n",
    "\n",
    "    widegap.add_equation(\"dr(psi) - psir = 0\")\n",
    "    widegap.add_equation(\"dr(psir) - psirr = 0\")\n",
    "    widegap.add_equation(\"dr(psirr) - psirrr = 0\")\n",
    "    widegap.add_equation(\"dr(u) - ur = 0\")\n",
    "    widegap.add_equation(\"dr(A) - Ar = 0\")\n",
    "    widegap.add_equation(\"dr(B) - Br = 0\")\n",
    "    \n",
    "    widegap.add_bc('left(u) = 0')\n",
    "    widegap.add_bc('right(u) = 0')\n",
    "    widegap.add_bc('left(psi) = 0')\n",
    "    widegap.add_bc('right(psi) = 0')\n",
    "    widegap.add_bc('left(A) = 0')\n",
    "    widegap.add_bc('right(A) = 0')\n",
    "    widegap.add_bc('left(psi + r*psir) = 0')\n",
    "    widegap.add_bc('right(psi + r*psir) = 0')\n",
    "    widegap.add_bc('left(B + r*Br) = 0')\n",
    "    widegap.add_bc('right(B + r*Br) = 0')\n"
   ]
  },
  {
   "cell_type": "code",
   "execution_count": null,
   "metadata": {
    "collapsed": true
   },
   "outputs": [],
   "source": [
    "widegap_solver1 = widegap1.build_solver()\n",
    "widegap_solver2 = widegap2.build_solver()"
   ]
  },
  {
   "cell_type": "code",
   "execution_count": null,
   "metadata": {
    "collapsed": false
   },
   "outputs": [
    {
     "name": "stderr",
     "output_type": "stream",
     "text": [
      "/Users/susanclark/dedalus_upgraded2/dedalus/lib/python3.5/site-packages/scipy/linalg/decomp.py:56: RuntimeWarning: divide by zero encountered in true_divide\n",
      "  w = alpha / beta\n"
     ]
    }
   ],
   "source": [
    "widegap_solver1.solve(widegap_solver1.pencils[0])\n",
    "widegap_solver2.solve(widegap_solver2.pencils[0])"
   ]
  },
  {
   "cell_type": "code",
   "execution_count": null,
   "metadata": {
    "collapsed": true
   },
   "outputs": [],
   "source": [
    "ev1 = widegap_solver1.eigenvalues\n",
    "ev2 = widegap_solver2.eigenvalues"
   ]
  },
  {
   "cell_type": "code",
   "execution_count": null,
   "metadata": {
    "collapsed": true
   },
   "outputs": [],
   "source": [
    "def discard_spurious_eigenvalues(lambda1, lambda2):\n",
    "    \n",
    "    \"\"\"\n",
    "    lambda1 :: eigenvalues from low res run\n",
    "    lambda2 :: eigenvalues from high res run\n",
    "\n",
    "    Solves the linear eigenvalue problem for two different resolutions.\n",
    "    Returns trustworthy eigenvalues using nearest delta, from Boyd chapter 7.\n",
    "    \"\"\"\n",
    "\n",
    "    # Reverse engineer correct indices to make unsorted list from sorted\n",
    "    reverse_lambda1_indx = np.arange(len(lambda1)) \n",
    "    reverse_lambda2_indx = np.arange(len(lambda2))\n",
    "\n",
    "    lambda1_and_indx = np.asarray(list(zip(lambda1, reverse_lambda1_indx)))\n",
    "    lambda2_and_indx = np.asarray(list(zip(lambda2, reverse_lambda2_indx)))\n",
    "\n",
    "    # remove nans\n",
    "    lambda1_and_indx = lambda1_and_indx[np.isfinite(lambda1)]\n",
    "    lambda2_and_indx = lambda2_and_indx[np.isfinite(lambda2)]\n",
    "\n",
    "    # Sort lambda1 and lambda2 by real parts\n",
    "    lambda1_and_indx = lambda1_and_indx[np.argsort(lambda1_and_indx[:, 0].real)]\n",
    "    lambda2_and_indx = lambda2_and_indx[np.argsort(lambda2_and_indx[:, 0].real)]\n",
    "\n",
    "    lambda1_sorted = lambda1_and_indx[:, 0]\n",
    "    lambda2_sorted = lambda2_and_indx[:, 0]\n",
    "\n",
    "    # Compute sigmas from lower resolution run (gridnum = N1)\n",
    "    sigmas = np.zeros(len(lambda1_sorted))\n",
    "    sigmas[0] = np.abs(lambda1_sorted[0] - lambda1_sorted[1])\n",
    "    sigmas[1:-1] = [0.5*(np.abs(lambda1_sorted[j] - lambda1_sorted[j - 1]) + np.abs(lambda1_sorted[j + 1] - lambda1_sorted[j])) for j in range(1, len(lambda1_sorted) - 1)]\n",
    "    sigmas[-1] = np.abs(lambda1_sorted[-2] - lambda1_sorted[-1])\n",
    "\n",
    "    if not (np.isfinite(sigmas)).all():\n",
    "        print(\"WARNING: at least one eigenvalue spacings (sigmas) is non-finite (np.inf or np.nan)!\")\n",
    "\n",
    "    # Nearest delta\n",
    "    delta_near = np.array([np.nanmin(np.abs(lambda1_sorted[j] - lambda2_sorted)/sigmas[j]) for j in range(len(lambda1_sorted))])\n",
    "\n",
    "    # Discard eigenvalues with 1/delta_near < 10^6\n",
    "    lambda1_and_indx = lambda1_and_indx[np.where((1.0/delta_near) > 1E6)]\n",
    "    #print(lambda1_and_indx)\n",
    "\n",
    "    lambda1 = lambda1_and_indx[:, 0]\n",
    "    indx = lambda1_and_indx[:, 1]\n",
    "\n",
    "    return lambda1, indx"
   ]
  },
  {
   "cell_type": "code",
   "execution_count": null,
   "metadata": {
    "collapsed": true
   },
   "outputs": [],
   "source": [
    "goodeigs, goodeigs_indices = discard_spurious_eigenvalues(ev1, ev2)"
   ]
  },
  {
   "cell_type": "code",
   "execution_count": null,
   "metadata": {
    "collapsed": true
   },
   "outputs": [],
   "source": [
    "def ploteigs(goodevals):\n",
    "\n",
    "    \"\"\"\n",
    "    Plot real vs imaginary parts of eigenvalues.\n",
    "    \"\"\"\n",
    "    \n",
    "    # Color is sign of imaginary part\n",
    "    colors = [\"blue\" for i in range(len(goodevals))]\n",
    "    imagpos = np.where(goodevals.imag >= 0)\n",
    "    for p in imagpos[0]:\n",
    "        colors[p] = \"red\"\n",
    "  \n",
    "    # Symbol is sign of real part\n",
    "    symbols = [\".\" for i in range(len(goodevals))]\n",
    "    thickness = np.zeros(len(goodevals))\n",
    "    realpos = np.where(goodevals.real >= 0)\n",
    "    for p in realpos[0]:\n",
    "        symbols[p] = \"+\"\n",
    "        thickness[p] = 2\n",
    "    \n",
    "    print(\"Number of positive real parts\", len(realpos[0]))\n",
    "    \n",
    "    for x, y, c, s, t in zip(np.abs(goodevals.real), np.abs(goodevals.imag), colors, symbols, thickness):\n",
    "        plt.plot(x, y, s, c=c, alpha = 0.5, ms = 8, mew = t)\n",
    "        \n",
    "    # Dummy plot for legend\n",
    "    plt.plot(0, 0, '+', c = \"red\", alpha = 0.5, mew = 2, label = r\"$\\gamma \\geq 0$, $\\omega > 0$\")\n",
    "    plt.plot(0, 0, '+', c = \"blue\", alpha = 0.5, mew = 2, label = r\"$\\gamma \\geq 0$, $\\omega < 0$\")\n",
    "    plt.plot(0, 0, '.', c = \"red\", alpha = 0.5, label = r\"$\\gamma < 0$, $\\omega > 0$\")\n",
    "    plt.plot(0, 0, '.', c = \"blue\", alpha = 0.5, label = r\"$\\gamma < 0$, $\\omega < 0$\")\n",
    "        \n",
    "    plt.legend()\n",
    "        \n",
    "    plt.loglog()\n",
    "    plt.xlabel(r\"$\\left|\\gamma\\right|$\", size = 15)\n",
    "    plt.ylabel(r\"$\\left|\\omega\\right|$\", size = 15, rotation = 0)\n",
    "    plt.title(r\"$\\mathrm{HMRI}$ $\\mathrm{eigenvalues}$ $\\lambda = \\gamma + i \\omega$\")"
   ]
  },
  {
   "cell_type": "code",
   "execution_count": null,
   "metadata": {
    "collapsed": false
   },
   "outputs": [],
   "source": [
    "print(\"There are {} goodeigs\".format(len(goodeigs)))\n",
    "print(goodeigs)\n",
    "plt.figure()\n",
    "ploteigs(goodeigs)"
   ]
  },
  {
   "cell_type": "code",
   "execution_count": null,
   "metadata": {
    "collapsed": false
   },
   "outputs": [],
   "source": [
    "marginal_mode_index = np.where(np.abs(goodeigs.real) == np.nanmin(np.abs(goodeigs.real)))[0][0]\n",
    "use_indx = int(goodeigs_indices[marginal_mode_index])\n",
    "\n",
    "print(goodeigs[marginal_mode_index])\n",
    "print(goodeigs[goodeigs.real > 0])"
   ]
  },
  {
   "cell_type": "code",
   "execution_count": null,
   "metadata": {
    "collapsed": true
   },
   "outputs": [],
   "source": [
    "rr  = r_shortgrid.grid()\n",
    "evector = widegap_solver1.eigenvectors[use_indx]\n",
    "widegap_solver1.set_state(use_indx)\n",
    "data = widegap_solver1.state"
   ]
  },
  {
   "cell_type": "code",
   "execution_count": null,
   "metadata": {
    "collapsed": false
   },
   "outputs": [],
   "source": [
    "plt.figure()\n",
    "plt.plot(rr, (data['psi']['g']).real, label='real')\n",
    "plt.plot(rr, (data['psi']['g']).imag, label='imag')"
   ]
  },
  {
   "cell_type": "code",
   "execution_count": null,
   "metadata": {
    "collapsed": false
   },
   "outputs": [],
   "source": [
    "plt.figure()\n",
    "plt.plot(rr, (data['u']['g']).real, label='real')\n",
    "plt.plot(rr, (data['u']['g']).imag, label='imag')"
   ]
  },
  {
   "cell_type": "code",
   "execution_count": null,
   "metadata": {
    "collapsed": false
   },
   "outputs": [],
   "source": [
    "plt.figure()\n",
    "plt.plot(rr, (data['A']['g']).real, label='real')\n",
    "plt.plot(rr, (data['A']['g']).imag, label='imag')"
   ]
  },
  {
   "cell_type": "code",
   "execution_count": null,
   "metadata": {
    "collapsed": false
   },
   "outputs": [],
   "source": [
    "plt.figure()\n",
    "plt.plot(rr, (data['B']['g']).real, label='real')\n",
    "plt.plot(rr, (data['B']['g']).imag, label='imag')"
   ]
  },
  {
   "cell_type": "code",
   "execution_count": null,
   "metadata": {
    "collapsed": true
   },
   "outputs": [],
   "source": []
  },
  {
   "cell_type": "code",
   "execution_count": null,
   "metadata": {
    "collapsed": true
   },
   "outputs": [],
   "source": []
  },
  {
   "cell_type": "code",
   "execution_count": null,
   "metadata": {
    "collapsed": true
   },
   "outputs": [],
   "source": []
  }
 ],
 "metadata": {
  "kernelspec": {
   "display_name": "Python 3",
   "language": "python",
   "name": "python3"
  },
  "language_info": {
   "codemirror_mode": {
    "name": "ipython",
    "version": 3
   },
   "file_extension": ".py",
   "mimetype": "text/x-python",
   "name": "python",
   "nbconvert_exporter": "python",
   "pygments_lexer": "ipython3",
   "version": "3.5.1"
  }
 },
 "nbformat": 4,
 "nbformat_minor": 0
}
