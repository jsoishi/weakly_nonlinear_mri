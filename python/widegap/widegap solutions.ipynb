{
 "cells": [
  {
   "cell_type": "markdown",
   "metadata": {},
   "source": [
    "First I defined parameters that would fit a wide-gap version of Umurhan+ 2007. To this end I used the $\\beta$, $Pm$, $Rm$, $Q$ from Umurhan+ 2007, the $R_1, R_2$, and $\\Omega_1$ from [Goodman & Ji 2002](http://arxiv.org/pdf/astro-ph/0104206v1.pdf Goodman & Ji 2002).\n",
    "\n",
    "And then I determined what value of $\\Omega_2$, the rotation rate of the outer cylinder, would yield an approximately Keplerian shear profile at $r_0 = 10$, the center of the channel. This is achieved by plugging in values to Equation 25 of Goodman & Ji 2002 and solving for $\\zeta = 2 - q = 0.5$. I get $\\Omega_2 = 67$."
   ]
  },
  {
   "cell_type": "code",
   "execution_count": 83,
   "metadata": {
    "collapsed": true
   },
   "outputs": [],
   "source": [
    "%matplotlib inline"
   ]
  },
  {
   "cell_type": "code",
   "execution_count": 84,
   "metadata": {
    "collapsed": true
   },
   "outputs": [],
   "source": [
    "# Parameters approximating Umurhan+ 2007\n",
    "Pm = 1.0E-3\n",
    "beta = 25.0\n",
    "R1 = 5\n",
    "R2 = 15\n",
    "Omega1 = 314\n",
    "Omega2 = 67.15933620640001\n",
    "Q = 0.748\n",
    "Rm = 4.879"
   ]
  },
  {
   "cell_type": "code",
   "execution_count": 85,
   "metadata": {
    "collapsed": false
   },
   "outputs": [
    {
     "name": "stdout",
     "output_type": "stream",
     "text": [
      "2016-04-27 19:07:57,078 domain 0/1 DEBUG :: Global coeff shape: [64]\n",
      "2016-04-27 19:07:57,079 distributor 0/1 DEBUG :: Mesh: []\n",
      "2016-04-27 19:07:57,082 domain 0/1 DEBUG :: Global coeff shape: [128]\n",
      "2016-04-27 19:07:57,084 distributor 0/1 DEBUG :: Mesh: []\n",
      "grid number 64, spurious eigenvalue check at 128\n"
     ]
    }
   ],
   "source": [
    "import numpy as np\n",
    "import matplotlib.pyplot as plt\n",
    "import dedalus.public as de\n",
    "from scipy.linalg import eig, norm\n",
    "import pylab\n",
    "import copy\n",
    "import pickle\n",
    "import random\n",
    "\n",
    "#import logging \n",
    "#root = logging.root \n",
    "#for h in root.handlers: \n",
    "#    h.setLevel(\"DEBUG\") \n",
    "\n",
    "logger = logging.getLogger(__name__)\n",
    "\n",
    "import matplotlib\n",
    "from matplotlib import rc\n",
    "rc('font',**{'family':'sans-serif','sans-serif':['Helvetica']})\n",
    "rc('text', usetex=True)\n",
    "\n",
    "nr1 = 64\n",
    "r1 = de.Chebyshev('r', nr1, interval=(5, 15))\n",
    "d1 = de.Domain([r1])\n",
    "\n",
    "nr2 = 128\n",
    "r2 = de.Chebyshev('r', nr2, interval=(5, 15))\n",
    "d2 = de.Domain([r2])\n",
    "\n",
    "print(\"grid number {}, spurious eigenvalue check at {}\".format(nr1, nr2))\n",
    "\n",
    "class MRI():\n",
    "\n",
    "    \"\"\"\n",
    "    Base class for MRI equations.\n",
    "    \n",
    "    Defaults: For Pm of 0.001 critical Rm is 4.879  critical Q is 0.748\n",
    "    \"\"\"\n",
    "\n",
    "    def __init__(self, Q = np.pi/10, Rm = 4.052, Pm = 1.6E-6, beta = 0.4378, R1 = 9.5, R2 = 10.5, Omega1 = 314, Omega2 = 37.9, norm = True):\n",
    "    \n",
    "        self.Q = Q\n",
    "        self.Rm = Rm\n",
    "        self.Pm = Pm\n",
    "        self.beta = beta\n",
    "        self.norm = norm\n",
    "        \n",
    "        # Inverse magnetic reynolds number\n",
    "        self.iRm = 1.0/self.Rm\n",
    "        \n",
    "        # Reynolds number\n",
    "        self.R = self.Rm/self.Pm\n",
    "        self.iR = 1.0/self.R\n",
    "        \n",
    "        self.gridnum1 = nr1\n",
    "        self.gridnum2 = nr2\n",
    "        self.r = r1.grid()\n",
    "        \n",
    "        self.R1 = R1\n",
    "        self.R2 = R2\n",
    "        self.Omega1 = Omega1\n",
    "        self.Omega2 = Omega2\n",
    "        \n",
    "        self.R0 = (self.R1 + self.R2)/2.0 # center of channel\n",
    "\n",
    "        self.c1 = (self.Omega2*self.R2**2 - self.Omega1*self.R1**2)/(self.R2**2 - self.R1**2)\n",
    "        self.c2 = (self.R1**2*self.R2**2*(self.Omega1 - self.Omega2))/(self.R2**2 - self.R1**2)\n",
    "        \n",
    "        self.zeta_mean = 2*(self.R2**2*self.Omega2 - self.R1**2*self.Omega1)/((self.R2**2 - self.R1**2)*np.sqrt(self.Omega1*self.Omega2))\n",
    "    \n",
    "        print(\"MRI parameters: \", self.Q, self.Rm, self.Pm, self.beta, \"R1 = \", self.R1, \"R2 = \", self.R2, 'norm = ', norm, \"Reynolds number\", self.R)\n",
    "        \n",
    "        \n",
    "    def set_boundary_conditions(self, problem):\n",
    "        \n",
    "        \"\"\"\n",
    "        Adds MRI problem boundary conditions to a ParsedProblem object.\n",
    "        \"\"\"\n",
    "        \n",
    "        problem.add_bc('left(u) = 0')\n",
    "        problem.add_bc('right(u) = 0')\n",
    "        problem.add_bc('left(psi) = 0')\n",
    "        problem.add_bc('right(psi) = 0')\n",
    "        problem.add_bc('left(A) = 0')\n",
    "        problem.add_bc('right(A) = 0')\n",
    "        #problem.add_bc('left(psi + r*psir) = 0')\n",
    "        #problem.add_bc('right(psi + r*psir) = 0')\n",
    "        problem.add_bc('left(psir) = 0')\n",
    "        problem.add_bc('right(psir) = 0')\n",
    "        problem.add_bc('left(B + r*Br) = 0')\n",
    "        problem.add_bc('right(B + r*Br) = 0') # axial component of current = 0\n",
    "        \n",
    "        return problem\n",
    "    \n",
    "    def solve_LEV(self, problem):\n",
    "    \n",
    "        \"\"\"\n",
    "        Solves the linear eigenvalue problem for a ParsedProblem object.\n",
    "        \"\"\"\n",
    "        \n",
    "        problem.expand(domain)\n",
    "        LEV = LinearEigenvalue(problem, domain)\n",
    "        print(LEV.pencils[0].L)\n",
    "        LEV.solve(LEV.pencils[0])\n",
    "        \n",
    "        return LEV\n",
    "        \n",
    "    def solve_LEV_secondgrid(self, problem):\n",
    "    \n",
    "        \"\"\"\n",
    "        Solves the linear eigenvalue problem for a ParsedProblem object.\n",
    "        Uses gridnum = 192 domain. For use in discarding spurious eigenvalues.\n",
    "        \"\"\"\n",
    "        \n",
    "        problem.expand(domain192)\n",
    "        LEV = LinearEigenvalue(problem, domain192)\n",
    "        LEV.solve(LEV.pencils[0])\n",
    "        \n",
    "        return LEV\n",
    "        \n",
    "    def solve_BVP(self, problem):\n",
    "    \n",
    "        \"\"\"\n",
    "        Solves the boundary value problem for a ParsedProblem object.\n",
    "        \"\"\"\n",
    "    \n",
    "        problem.expand(domain, order = gridnum)\n",
    "        BVP = LinearBVP(problem, domain)\n",
    "        BVP.solve()\n",
    "        \n",
    "        return BVP\n",
    "        \n",
    "        \n",
    "    def discard_spurious_eigenvalues(self, lambda1, lambda2):\n",
    "    \n",
    "        \"\"\"\n",
    "        lambda1 :: eigenvalues from low res run\n",
    "        lambda2 :: eigenvalues from high res run\n",
    "        \n",
    "        Solves the linear eigenvalue problem for two different resolutions.\n",
    "        Returns trustworthy eigenvalues using nearest delta, from Boyd chapter 7.\n",
    "        \"\"\"\n",
    "\n",
    "        # Reverse engineer correct indices to make unsorted list from sorted\n",
    "        reverse_lambda1_indx = np.arange(len(lambda1)) \n",
    "        reverse_lambda2_indx = np.arange(len(lambda2))\n",
    "    \n",
    "        lambda1_and_indx = np.asarray(list(zip(lambda1, reverse_lambda1_indx)))\n",
    "        lambda2_and_indx = np.asarray(list(zip(lambda2, reverse_lambda2_indx)))\n",
    "        \n",
    "        # remove nans\n",
    "        lambda1_and_indx = lambda1_and_indx[np.isfinite(lambda1)]\n",
    "        lambda2_and_indx = lambda2_and_indx[np.isfinite(lambda2)]\n",
    "    \n",
    "        # Sort lambda1 and lambda2 by real parts\n",
    "        lambda1_and_indx = lambda1_and_indx[np.argsort(lambda1_and_indx[:, 0].real)]\n",
    "        lambda2_and_indx = lambda2_and_indx[np.argsort(lambda2_and_indx[:, 0].real)]\n",
    "        \n",
    "        lambda1_sorted = lambda1_and_indx[:, 0]\n",
    "        lambda2_sorted = lambda2_and_indx[:, 0]\n",
    "    \n",
    "        # Compute sigmas from lower resolution run (gridnum = N1)\n",
    "        sigmas = np.zeros(len(lambda1_sorted))\n",
    "        sigmas[0] = np.abs(lambda1_sorted[0] - lambda1_sorted[1])\n",
    "        sigmas[1:-1] = [0.5*(np.abs(lambda1_sorted[j] - lambda1_sorted[j - 1]) + np.abs(lambda1_sorted[j + 1] - lambda1_sorted[j])) for j in range(1, len(lambda1_sorted) - 1)]\n",
    "        sigmas[-1] = np.abs(lambda1_sorted[-2] - lambda1_sorted[-1])\n",
    "\n",
    "        if not (np.isfinite(sigmas)).all():\n",
    "            print(\"WARNING: at least one eigenvalue spacings (sigmas) is non-finite (np.inf or np.nan)!\")\n",
    "    \n",
    "        # Nearest delta\n",
    "        delta_near = np.array([np.nanmin(np.abs(lambda1_sorted[j] - lambda2_sorted)/sigmas[j]) for j in range(len(lambda1_sorted))])\n",
    "    \n",
    "        # Discard eigenvalues with 1/delta_near < 10^6\n",
    "        lambda1_and_indx = lambda1_and_indx[np.where((1.0/delta_near) > 1E6)]\n",
    "        #print(lambda1_and_indx)\n",
    "        \n",
    "        lambda1 = lambda1_and_indx[:, 0]\n",
    "        indx = lambda1_and_indx[:, 1]\n",
    "        \n",
    "        return lambda1, indx\n",
    "\n",
    "    def get_largest_real_eigenvalue_index(self, LEV, goodevals = None, goodevals_indx = None):\n",
    "        \n",
    "        \"\"\"\n",
    "        Return index of largest eigenvalue. Can be positive or negative.\n",
    "        \"\"\"\n",
    "        \n",
    "        if goodevals == None:\n",
    "            evals = LEV.eigenvalues\n",
    "        else:\n",
    "            evals = goodevals\n",
    "        \n",
    "        largest_eval_pseudo_indx = np.nanargmax(goodevals.real)\n",
    "        largest_eval_indx = goodevals_indx[largest_eval_pseudo_indx]\n",
    "        \n",
    "        print(\"largest eigenvalue indx\", largest_eval_indx)\n",
    "        \n",
    "        return largest_eval_indx\n",
    "        \n",
    "class OrderE(MRI):\n",
    "\n",
    "    \"\"\"\n",
    "    Solves the order(epsilon) equation L V_1 = 0\n",
    "    This is simply the linearized wide-gap MRI.\n",
    "    Returns V_1\n",
    "    \"\"\"\n",
    "\n",
    "    def __init__(self, Q = np.pi/10, Rm = 4.052, Pm = 1.6E-6, beta = 0.4378, R1 = 9.5, R2 = 10.5, Omega1 = 314, Omega2 = 37.9, norm = True, inviscid = False):\n",
    "        \n",
    "        print(\"initializing wide gap Order epsilon\")\n",
    "        \n",
    "        MRI.__init__(self, Q = Q, Rm = Rm, Pm = Pm, R1 = R1, R2 = R2, beta = beta, norm = norm)\n",
    "    \n",
    "        # widegap order epsilon\n",
    "        widegap1 = de.EVP(d1,['psi','u', 'A', 'B', 'psir', 'psirr', 'psirrr', 'ur', 'Ar', 'Br'],'sigma')\n",
    "        widegap2 = de.EVP(d2,['psi','u', 'A', 'B', 'psir', 'psirr', 'psirrr', 'ur', 'Ar', 'Br'],'sigma')\n",
    "        \n",
    "        # Add equations\n",
    "        for widegap in [widegap1, widegap2]:\n",
    "            widegap.parameters['Q'] = self.Q\n",
    "            widegap.parameters['iRm'] = self.iRm\n",
    "            widegap.parameters['beta'] = self.beta\n",
    "            widegap.parameters['c1'] = self.c1\n",
    "            widegap.parameters['c2'] = self.c2\n",
    "            \n",
    "            if inviscid is True:\n",
    "                widegap.parameters['iR'] = 0\n",
    "            else:\n",
    "                widegap.parameters['iR'] = self.iR\n",
    "        \n",
    "            # wrong def of omega:\n",
    "            #widegap.add_equation(\"sigma*(-1*Q**2*r**3*psi + r**3*psirr - r**2*psir) - 3*1j*Q*r**(4 - q)*u - iR*r**3*Q**4*psi + (2/beta)*1j*Q**3*r**3*A + iR*2*Q**2*r**3*psirr - iR*2*Q**2*r**2*psir - (2/beta)*1j*Q*r**3*dr(Ar) + (2/beta)*1j*Q*r**2*Ar - iR*r**3*dr(psirrr) + 2*iR*r**2*psirrr - iR*3*r*psirr + iR*3*psir = 0\")\n",
    "            #widegap.add_equation(\"sigma*(r**4*u) - 1j*Q*q*r**(3 - q)*psi + 4*1j*Q*r**(3 - q)*psi + iR*r**4*Q**2*u - (2/beta)*1j*Q*r**4*B - iR*r**4*dr(ur) - iR*r**3*ur + iR*r**3*u = 0\")\n",
    "            #widegap.add_equation(\"sigma*(r**4*A) + iRm*r**4*Q**2*A - 1j*Q*r**4*psi - iRm*r**4*dr(Ar) + iRm*r**3*Ar = 0\")\n",
    "            #widegap.add_equation(\"sigma*(r**4*B) + 1j*Q*q*r**(3 - q)*A - 2*1j*Q*r**(3 - q)*A + iRm*r**4*Q**2*B - 1j*Q*r**4*u - iRm*r**4*dr(Br) - iRm*r**3*Br + iRm*r**2*B = 0\")\n",
    "\n",
    "            # Corrected definition of omega, and therefore of base velocity\n",
    "            widegap.add_equation(\"sigma*(-1*Q**2*r**3*psi + r**3*psirr - r**2*psir) - iR*r**3*Q**4*psi + (2/beta)*1j*Q**3*r**3*A + 2*iR*Q**2*r**3*psirr - 2*iR*Q**2*r**2*psir - 3*1j*Q*c1*r**4*u - 3*1j*Q*c2*r**2*u - (2/beta)*1j*Q*r**3*dr(Ar) + (2/beta)*1j*Q*r**2*Ar - iR*r**3*dr(psirrr) + 2*iR*r**2*psirrr - 3*iR*r*psirr + 3*iR*psir = 0\") # multiplied by r**4\n",
    "            widegap.add_equation(\"sigma*(r**3*u) + iR*r**3*Q**2*u + 4*1j*Q*c1*r**2*psi + 2*1j*Q*c2*psi - (2/beta)*1j*Q*r**3*B - iR*r**3*dr(ur) - iR*r**2*ur + iR*r**2*u = 0\") # multiplied by r**3\n",
    "            widegap.add_equation(\"sigma*(r*A) + iRm*r*Q**2*A - 1j*Q*r*psi - iRm*r*dr(Ar) + iRm*Ar = 0\") # multiplied by r\n",
    "            widegap.add_equation(\"sigma*(r**2*B) + iRm*r**2*Q**2*B - 2*1j*Q*c1*r*A - 1j*Q*r**2*u - iRm*r**2*dr(Br) - iRm*r*Br + iRm*B = 0\") # multiplied by r**2\n",
    "\n",
    "\n",
    "            widegap.add_equation(\"dr(psi) - psir = 0\")\n",
    "            widegap.add_equation(\"dr(psir) - psirr = 0\")\n",
    "            widegap.add_equation(\"dr(psirr) - psirrr = 0\")\n",
    "            widegap.add_equation(\"dr(u) - ur = 0\")\n",
    "            widegap.add_equation(\"dr(A) - Ar = 0\")\n",
    "            widegap.add_equation(\"dr(B) - Br = 0\")\n",
    "        \n",
    "            widegap = self.set_boundary_conditions(widegap)\n",
    "        \n",
    "        solver1 = widegap1.build_solver()\n",
    "        solver2 = widegap2.build_solver()\n",
    "        \n",
    "        solver1.solve(solver1.pencils[0])\n",
    "        solver2.solve(solver2.pencils[0])\n",
    "        \n",
    "        # Discard spurious eigenvalues\n",
    "        ev1 = solver1.eigenvalues\n",
    "        ev2 = solver2.eigenvalues\n",
    "        self.goodeigs, self.goodeigs_indices = self.discard_spurious_eigenvalues(ev1, ev2)\n",
    "\n",
    "        #goodeigs_index = np.where(self.goodeigs.real == np.nanmax(self.goodeigs.real))[0][0]\n",
    "        print(self.goodeigs)\n",
    "        try:\n",
    "            goodeigs_index = np.nanargmax(self.goodeigs.real)\n",
    "            self.marginal_mode_index = int(self.goodeigs_indices[goodeigs_index])\n",
    "        \n",
    "            solver1.set_state(self.marginal_mode_index)\n",
    "        \n",
    "            self.solver1 = solver1\n",
    "        \n",
    "            self.psi = self.solver1.state['psi']\n",
    "            self.u = self.solver1.state['u']\n",
    "            self.A = self.solver1.state['A']\n",
    "            self.B = self.solver1.state['B']\n",
    "        except ValueError:\n",
    "            print(\"No good eigenvalues found!!!\")\n",
    "            self.solver1 = solver1"
   ]
  },
  {
   "cell_type": "raw",
   "metadata": {},
   "source": []
  },
  {
   "cell_type": "code",
   "execution_count": 86,
   "metadata": {
    "collapsed": false
   },
   "outputs": [
    {
     "name": "stdout",
     "output_type": "stream",
     "text": [
      "initializing wide gap Order epsilon\n",
      "MRI parameters:  0.748 4.879 0.001 25.0 R1 =  5 R2 =  15 norm =  True Reynolds number 4878.999999999999\n",
      "2016-04-27 19:07:57,097 problems 0/1 INFO :: Solving EVP with homogeneity tolerance of 1.000e-10\n",
      "2016-04-27 19:07:57,098 problems 0/1 INFO :: Solving EVP with homogeneity tolerance of 1.000e-10\n",
      "2016-04-27 19:07:57,100 problems 0/1 DEBUG :: Parsing Eqn 0\n",
      "2016-04-27 19:07:57,101 problems 0/1 DEBUG ::   Condition: True\n",
      "2016-04-27 19:07:57,102 problems 0/1 DEBUG ::   LHS string form: sigma*(-1*Q**2*r**3*psi + r**3*psirr - r**2*psir) - iR*r**3*Q**4*psi + (2/beta)*1j*Q**3*r**3*A + 2*iR*Q**2*r**3*psirr - 2*iR*Q**2*r**2*psir - 3*1j*Q*c1*r**4*u - 3*1j*Q*c2*r**2*u - (2/beta)*1j*Q*r**3*dr(Ar) + (2/beta)*1j*Q*r**2*Ar - iR*r**3*dr(psirrr) + 2*iR*r**2*psirrr - 3*iR*r*psirr + 3*iR*psir\n",
      "2016-04-27 19:07:57,103 problems 0/1 DEBUG ::   RHS string form: 0\n",
      "2016-04-27 19:07:57,113 problems 0/1 DEBUG ::   LHS object form: ((((((((((((sigma*(((((-1*(Q**2))*(r**3))*psi) + ((r**3)*psirr)) + (-1*((r**2)*psir)))) + (-1*(((iR*(r**3))*(Q**4))*psi))) + (((((2*(beta**-1))*1j)*(Q**3))*(r**3))*A)) + ((((2*iR)*(Q**2))*(r**3))*psirr)) + (-1*((((2*iR)*(Q**2))*(r**2))*psir))) + (-1*((((3j*Q)*c1)*(r**4))*u))) + (-1*((((3j*Q)*c2)*(r**2))*u))) + (-1*(((((2*(beta**-1))*1j)*Q)*(r**3))*dr(Ar)))) + (((((2*(beta**-1))*1j)*Q)*(r**2))*Ar)) + (-1*((iR*(r**3))*dr(psirrr)))) + (((2*iR)*(r**2))*psirrr)) + (-1*(((3*iR)*r)*psirr))) + ((3*iR)*psir)\n",
      "2016-04-27 19:07:57,114 problems 0/1 DEBUG ::   RHS object form: 0\n",
      "2016-04-27 19:07:57,144 problems 0/1 DEBUG ::   M linear form: ((((-1*(Q**2))*(r**3))*psi) + ((r**3)*psirr)) + ((-1*(r**2))*psir)\n",
      "2016-04-27 19:07:57,156 problems 0/1 DEBUG ::   L linear form: ((((((((((((-1*((iR*(r**3))*(Q**4)))*psi) + (((((2*(beta**-1))*1j)*(Q**3))*(r**3))*A)) + ((((2*iR)*(Q**2))*(r**3))*psirr)) + ((-1*(((2*iR)*(Q**2))*(r**2)))*psir)) + ((-1*(((3j*Q)*c1)*(r**4)))*u)) + ((-1*(((3j*Q)*c2)*(r**2)))*u)) + ((-1*((((2*(beta**-1))*1j)*Q)*(r**3)))*dr(Ar))) + (((((2*(beta**-1))*1j)*Q)*(r**2))*Ar)) + ((-1*(iR*(r**3)))*dr(psirrr))) + (((2*iR)*(r**2))*psirrr)) + ((-1*((3*iR)*r))*psirr)) + ((3*iR)*psir)\n",
      "2016-04-27 19:07:57,157 problems 0/1 DEBUG :: Parsing Eqn 1\n",
      "2016-04-27 19:07:57,158 problems 0/1 DEBUG ::   Condition: True\n",
      "2016-04-27 19:07:57,159 problems 0/1 DEBUG ::   LHS string form: sigma*(r**3*u) + iR*r**3*Q**2*u + 4*1j*Q*c1*r**2*psi + 2*1j*Q*c2*psi - (2/beta)*1j*Q*r**3*B - iR*r**3*dr(ur) - iR*r**2*ur + iR*r**2*u\n",
      "2016-04-27 19:07:57,161 problems 0/1 DEBUG ::   RHS string form: 0\n",
      "2016-04-27 19:07:57,166 problems 0/1 DEBUG ::   LHS object form: (((((((sigma*((r**3)*u)) + (((iR*(r**3))*(Q**2))*u)) + ((((4j*Q)*c1)*(r**2))*psi)) + (((2j*Q)*c2)*psi)) + (-1*(((((2*(beta**-1))*1j)*Q)*(r**3))*B))) + (-1*((iR*(r**3))*dr(ur)))) + (-1*((iR*(r**2))*ur))) + ((iR*(r**2))*u)\n",
      "2016-04-27 19:07:57,167 problems 0/1 DEBUG ::   RHS object form: 0\n",
      "2016-04-27 19:07:57,186 problems 0/1 DEBUG ::   M linear form: (r**3)*u\n",
      "2016-04-27 19:07:57,193 problems 0/1 DEBUG ::   L linear form: ((((((((iR*(r**3))*(Q**2))*u) + ((((4j*Q)*c1)*(r**2))*psi)) + (((2j*Q)*c2)*psi)) + ((-1*((((2*(beta**-1))*1j)*Q)*(r**3)))*B)) + ((-1*(iR*(r**3)))*dr(ur))) + ((-1*(iR*(r**2)))*ur)) + ((iR*(r**2))*u)\n",
      "2016-04-27 19:07:57,194 problems 0/1 DEBUG :: Parsing Eqn 2\n",
      "2016-04-27 19:07:57,195 problems 0/1 DEBUG ::   Condition: True\n",
      "2016-04-27 19:07:57,196 problems 0/1 DEBUG ::   LHS string form: sigma*(r*A) + iRm*r*Q**2*A - 1j*Q*r*psi - iRm*r*dr(Ar) + iRm*Ar\n",
      "2016-04-27 19:07:57,197 problems 0/1 DEBUG ::   RHS string form: 0\n",
      "2016-04-27 19:07:57,201 problems 0/1 DEBUG ::   LHS object form: ((((sigma*(r*A)) + (((iRm*r)*(Q**2))*A)) + (-1*(((1j*Q)*r)*psi))) + (-1*((iRm*r)*dr(Ar)))) + (iRm*Ar)\n",
      "2016-04-27 19:07:57,202 problems 0/1 DEBUG ::   RHS object form: 0\n",
      "2016-04-27 19:07:57,209 problems 0/1 DEBUG ::   M linear form: r*A\n",
      "2016-04-27 19:07:57,212 problems 0/1 DEBUG ::   L linear form: (((((iRm*r)*(Q**2))*A) + ((-1*((1j*Q)*r))*psi)) + ((-1*(iRm*r))*dr(Ar))) + (iRm*Ar)\n",
      "2016-04-27 19:07:57,212 problems 0/1 DEBUG :: Parsing Eqn 3\n",
      "2016-04-27 19:07:57,213 problems 0/1 DEBUG ::   Condition: True\n",
      "2016-04-27 19:07:57,214 problems 0/1 DEBUG ::   LHS string form: sigma*(r**2*B) + iRm*r**2*Q**2*B - 2*1j*Q*c1*r*A - 1j*Q*r**2*u - iRm*r**2*dr(Br) - iRm*r*Br + iRm*B\n",
      "2016-04-27 19:07:57,214 problems 0/1 DEBUG ::   RHS string form: 0\n",
      "2016-04-27 19:07:57,220 problems 0/1 DEBUG ::   LHS object form: ((((((sigma*((r**2)*B)) + (((iRm*(r**2))*(Q**2))*B)) + (-1*((((2j*Q)*c1)*r)*A))) + (-1*(((1j*Q)*(r**2))*u))) + (-1*((iRm*(r**2))*dr(Br)))) + (-1*((iRm*r)*Br))) + (iRm*B)\n",
      "2016-04-27 19:07:57,221 problems 0/1 DEBUG ::   RHS object form: 0\n",
      "2016-04-27 19:07:57,232 problems 0/1 DEBUG ::   M linear form: (r**2)*B\n",
      "2016-04-27 19:07:57,236 problems 0/1 DEBUG ::   L linear form: (((((((iRm*(r**2))*(Q**2))*B) + ((-1*(((2j*Q)*c1)*r))*A)) + ((-1*((1j*Q)*(r**2)))*u)) + ((-1*(iRm*(r**2)))*dr(Br))) + ((-1*(iRm*r))*Br)) + (iRm*B)\n",
      "2016-04-27 19:07:57,237 problems 0/1 DEBUG :: Parsing Eqn 4\n",
      "2016-04-27 19:07:57,238 problems 0/1 DEBUG ::   Condition: True\n",
      "2016-04-27 19:07:57,239 problems 0/1 DEBUG ::   LHS string form: dr(psi) - psir\n",
      "2016-04-27 19:07:57,239 problems 0/1 DEBUG ::   RHS string form: 0\n",
      "2016-04-27 19:07:57,240 problems 0/1 DEBUG ::   LHS object form: dr(psi) + (-1*psir)\n",
      "2016-04-27 19:07:57,241 problems 0/1 DEBUG ::   RHS object form: 0\n",
      "2016-04-27 19:07:57,244 problems 0/1 DEBUG ::   M linear form: 0\n",
      "2016-04-27 19:07:57,246 problems 0/1 DEBUG ::   L linear form: dr(psi) + (-1*psir)\n",
      "2016-04-27 19:07:57,246 problems 0/1 DEBUG :: Parsing Eqn 5\n",
      "2016-04-27 19:07:57,247 problems 0/1 DEBUG ::   Condition: True\n",
      "2016-04-27 19:07:57,248 problems 0/1 DEBUG ::   LHS string form: dr(psir) - psirr\n",
      "2016-04-27 19:07:57,248 problems 0/1 DEBUG ::   RHS string form: 0\n",
      "2016-04-27 19:07:57,249 problems 0/1 DEBUG ::   LHS object form: dr(psir) + (-1*psirr)\n",
      "2016-04-27 19:07:57,250 problems 0/1 DEBUG ::   RHS object form: 0\n",
      "2016-04-27 19:07:57,252 problems 0/1 DEBUG ::   M linear form: 0\n",
      "2016-04-27 19:07:57,253 problems 0/1 DEBUG ::   L linear form: dr(psir) + (-1*psirr)\n",
      "2016-04-27 19:07:57,254 problems 0/1 DEBUG :: Parsing Eqn 6\n",
      "2016-04-27 19:07:57,254 problems 0/1 DEBUG ::   Condition: True\n",
      "2016-04-27 19:07:57,255 problems 0/1 DEBUG ::   LHS string form: dr(psirr) - psirrr\n",
      "2016-04-27 19:07:57,256 problems 0/1 DEBUG ::   RHS string form: 0\n",
      "2016-04-27 19:07:57,257 problems 0/1 DEBUG ::   LHS object form: dr(psirr) + (-1*psirrr)\n",
      "2016-04-27 19:07:57,257 problems 0/1 DEBUG ::   RHS object form: 0\n",
      "2016-04-27 19:07:57,260 problems 0/1 DEBUG ::   M linear form: 0\n",
      "2016-04-27 19:07:57,261 problems 0/1 DEBUG ::   L linear form: dr(psirr) + (-1*psirrr)\n",
      "2016-04-27 19:07:57,262 problems 0/1 DEBUG :: Parsing Eqn 7\n",
      "2016-04-27 19:07:57,263 problems 0/1 DEBUG ::   Condition: True\n",
      "2016-04-27 19:07:57,264 problems 0/1 DEBUG ::   LHS string form: dr(u) - ur\n",
      "2016-04-27 19:07:57,264 problems 0/1 DEBUG ::   RHS string form: 0\n",
      "2016-04-27 19:07:57,265 problems 0/1 DEBUG ::   LHS object form: dr(u) + (-1*ur)\n",
      "2016-04-27 19:07:57,266 problems 0/1 DEBUG ::   RHS object form: 0\n",
      "2016-04-27 19:07:57,269 problems 0/1 DEBUG ::   M linear form: 0\n",
      "2016-04-27 19:07:57,270 problems 0/1 DEBUG ::   L linear form: dr(u) + (-1*ur)\n",
      "2016-04-27 19:07:57,271 problems 0/1 DEBUG :: Parsing Eqn 8\n",
      "2016-04-27 19:07:57,272 problems 0/1 DEBUG ::   Condition: True\n",
      "2016-04-27 19:07:57,272 problems 0/1 DEBUG ::   LHS string form: dr(A) - Ar\n",
      "2016-04-27 19:07:57,273 problems 0/1 DEBUG ::   RHS string form: 0\n",
      "2016-04-27 19:07:57,274 problems 0/1 DEBUG ::   LHS object form: dr(A) + (-1*Ar)\n",
      "2016-04-27 19:07:57,274 problems 0/1 DEBUG ::   RHS object form: 0\n",
      "2016-04-27 19:07:57,277 problems 0/1 DEBUG ::   M linear form: 0\n",
      "2016-04-27 19:07:57,278 problems 0/1 DEBUG ::   L linear form: dr(A) + (-1*Ar)\n",
      "2016-04-27 19:07:57,278 problems 0/1 DEBUG :: Parsing Eqn 9\n",
      "2016-04-27 19:07:57,279 problems 0/1 DEBUG ::   Condition: True\n",
      "2016-04-27 19:07:57,279 problems 0/1 DEBUG ::   LHS string form: dr(B) - Br\n",
      "2016-04-27 19:07:57,280 problems 0/1 DEBUG ::   RHS string form: 0\n",
      "2016-04-27 19:07:57,281 problems 0/1 DEBUG ::   LHS object form: dr(B) + (-1*Br)\n",
      "2016-04-27 19:07:57,281 problems 0/1 DEBUG ::   RHS object form: 0\n",
      "2016-04-27 19:07:57,284 problems 0/1 DEBUG ::   M linear form: 0\n",
      "2016-04-27 19:07:57,285 problems 0/1 DEBUG ::   L linear form: dr(B) + (-1*Br)\n",
      "2016-04-27 19:07:57,286 problems 0/1 DEBUG :: Parsing BC 0\n",
      "2016-04-27 19:07:57,286 problems 0/1 DEBUG ::   Condition: True\n",
      "2016-04-27 19:07:57,287 problems 0/1 DEBUG ::   LHS string form: left(u)\n",
      "2016-04-27 19:07:57,288 problems 0/1 DEBUG ::   RHS string form: 0\n",
      "2016-04-27 19:07:57,289 problems 0/1 DEBUG ::   LHS object form: interp(u,'r',left)\n",
      "2016-04-27 19:07:57,289 problems 0/1 DEBUG ::   RHS object form: 0\n",
      "2016-04-27 19:07:57,291 problems 0/1 DEBUG ::   M linear form: 0\n",
      "2016-04-27 19:07:57,292 problems 0/1 DEBUG ::   L linear form: interp(u,'r',left)\n",
      "2016-04-27 19:07:57,293 problems 0/1 DEBUG :: Parsing BC 1\n",
      "2016-04-27 19:07:57,293 problems 0/1 DEBUG ::   Condition: True\n",
      "2016-04-27 19:07:57,294 problems 0/1 DEBUG ::   LHS string form: right(u)\n",
      "2016-04-27 19:07:57,295 problems 0/1 DEBUG ::   RHS string form: 0\n",
      "2016-04-27 19:07:57,295 problems 0/1 DEBUG ::   LHS object form: interp(u,'r',right)\n",
      "2016-04-27 19:07:57,296 problems 0/1 DEBUG ::   RHS object form: 0\n",
      "2016-04-27 19:07:57,298 problems 0/1 DEBUG ::   M linear form: 0\n",
      "2016-04-27 19:07:57,298 problems 0/1 DEBUG ::   L linear form: interp(u,'r',right)\n",
      "2016-04-27 19:07:57,299 problems 0/1 DEBUG :: Parsing BC 2\n",
      "2016-04-27 19:07:57,300 problems 0/1 DEBUG ::   Condition: True\n",
      "2016-04-27 19:07:57,301 problems 0/1 DEBUG ::   LHS string form: left(psi)\n",
      "2016-04-27 19:07:57,301 problems 0/1 DEBUG ::   RHS string form: 0\n",
      "2016-04-27 19:07:57,302 problems 0/1 DEBUG ::   LHS object form: interp(psi,'r',left)\n",
      "2016-04-27 19:07:57,303 problems 0/1 DEBUG ::   RHS object form: 0\n",
      "2016-04-27 19:07:57,305 problems 0/1 DEBUG ::   M linear form: 0\n",
      "2016-04-27 19:07:57,306 problems 0/1 DEBUG ::   L linear form: interp(psi,'r',left)\n",
      "2016-04-27 19:07:57,307 problems 0/1 DEBUG :: Parsing BC 3\n",
      "2016-04-27 19:07:57,307 problems 0/1 DEBUG ::   Condition: True\n",
      "2016-04-27 19:07:57,308 problems 0/1 DEBUG ::   LHS string form: right(psi)\n",
      "2016-04-27 19:07:57,309 problems 0/1 DEBUG ::   RHS string form: 0\n",
      "2016-04-27 19:07:57,309 problems 0/1 DEBUG ::   LHS object form: interp(psi,'r',right)\n",
      "2016-04-27 19:07:57,310 problems 0/1 DEBUG ::   RHS object form: 0\n",
      "2016-04-27 19:07:57,312 problems 0/1 DEBUG ::   M linear form: 0\n",
      "2016-04-27 19:07:57,313 problems 0/1 DEBUG ::   L linear form: interp(psi,'r',right)\n",
      "2016-04-27 19:07:57,314 problems 0/1 DEBUG :: Parsing BC 4\n",
      "2016-04-27 19:07:57,314 problems 0/1 DEBUG ::   Condition: True\n",
      "2016-04-27 19:07:57,315 problems 0/1 DEBUG ::   LHS string form: left(A)\n",
      "2016-04-27 19:07:57,315 problems 0/1 DEBUG ::   RHS string form: 0\n",
      "2016-04-27 19:07:57,316 problems 0/1 DEBUG ::   LHS object form: interp(A,'r',left)\n",
      "2016-04-27 19:07:57,317 problems 0/1 DEBUG ::   RHS object form: 0\n",
      "2016-04-27 19:07:57,319 problems 0/1 DEBUG ::   M linear form: 0\n",
      "2016-04-27 19:07:57,320 problems 0/1 DEBUG ::   L linear form: interp(A,'r',left)\n",
      "2016-04-27 19:07:57,320 problems 0/1 DEBUG :: Parsing BC 5\n",
      "2016-04-27 19:07:57,321 problems 0/1 DEBUG ::   Condition: True\n",
      "2016-04-27 19:07:57,322 problems 0/1 DEBUG ::   LHS string form: right(A)\n",
      "2016-04-27 19:07:57,322 problems 0/1 DEBUG ::   RHS string form: 0\n",
      "2016-04-27 19:07:57,323 problems 0/1 DEBUG ::   LHS object form: interp(A,'r',right)\n",
      "2016-04-27 19:07:57,324 problems 0/1 DEBUG ::   RHS object form: 0\n",
      "2016-04-27 19:07:57,326 problems 0/1 DEBUG ::   M linear form: 0\n",
      "2016-04-27 19:07:57,326 problems 0/1 DEBUG ::   L linear form: interp(A,'r',right)\n",
      "2016-04-27 19:07:57,327 problems 0/1 DEBUG :: Parsing BC 6\n",
      "2016-04-27 19:07:57,328 problems 0/1 DEBUG ::   Condition: True\n",
      "2016-04-27 19:07:57,328 problems 0/1 DEBUG ::   LHS string form: left(psir)\n",
      "2016-04-27 19:07:57,328 problems 0/1 DEBUG ::   RHS string form: 0\n",
      "2016-04-27 19:07:57,329 problems 0/1 DEBUG ::   LHS object form: interp(psir,'r',left)\n",
      "2016-04-27 19:07:57,330 problems 0/1 DEBUG ::   RHS object form: 0\n",
      "2016-04-27 19:07:57,332 problems 0/1 DEBUG ::   M linear form: 0\n",
      "2016-04-27 19:07:57,333 problems 0/1 DEBUG ::   L linear form: interp(psir,'r',left)\n",
      "2016-04-27 19:07:57,333 problems 0/1 DEBUG :: Parsing BC 7\n",
      "2016-04-27 19:07:57,334 problems 0/1 DEBUG ::   Condition: True\n",
      "2016-04-27 19:07:57,334 problems 0/1 DEBUG ::   LHS string form: right(psir)\n",
      "2016-04-27 19:07:57,335 problems 0/1 DEBUG ::   RHS string form: 0\n",
      "2016-04-27 19:07:57,335 problems 0/1 DEBUG ::   LHS object form: interp(psir,'r',right)\n",
      "2016-04-27 19:07:57,336 problems 0/1 DEBUG ::   RHS object form: 0\n",
      "2016-04-27 19:07:57,338 problems 0/1 DEBUG ::   M linear form: 0\n",
      "2016-04-27 19:07:57,339 problems 0/1 DEBUG ::   L linear form: interp(psir,'r',right)\n",
      "2016-04-27 19:07:57,339 problems 0/1 DEBUG :: Parsing BC 8\n",
      "2016-04-27 19:07:57,340 problems 0/1 DEBUG ::   Condition: True\n",
      "2016-04-27 19:07:57,341 problems 0/1 DEBUG ::   LHS string form: left(B + r*Br)\n",
      "2016-04-27 19:07:57,342 problems 0/1 DEBUG ::   RHS string form: 0\n",
      "2016-04-27 19:07:57,343 problems 0/1 DEBUG ::   LHS object form: interp(B + (r*Br),'r',left)\n",
      "2016-04-27 19:07:57,344 problems 0/1 DEBUG ::   RHS object form: 0\n",
      "2016-04-27 19:07:57,346 problems 0/1 DEBUG ::   M linear form: 0\n",
      "2016-04-27 19:07:57,347 problems 0/1 DEBUG ::   L linear form: interp(B,'r',left) + interp(r*Br,'r',left)\n",
      "2016-04-27 19:07:57,348 problems 0/1 DEBUG :: Parsing BC 9\n",
      "2016-04-27 19:07:57,348 problems 0/1 DEBUG ::   Condition: True\n",
      "2016-04-27 19:07:57,349 problems 0/1 DEBUG ::   LHS string form: right(B + r*Br)\n",
      "2016-04-27 19:07:57,350 problems 0/1 DEBUG ::   RHS string form: 0\n",
      "2016-04-27 19:07:57,351 problems 0/1 DEBUG ::   LHS object form: interp(B + (r*Br),'r',right)\n",
      "2016-04-27 19:07:57,351 problems 0/1 DEBUG ::   RHS object form: 0\n",
      "2016-04-27 19:07:57,355 problems 0/1 DEBUG ::   M linear form: 0\n",
      "2016-04-27 19:07:57,357 problems 0/1 DEBUG ::   L linear form: interp(B,'r',right) + interp(r*Br,'r',right)\n",
      "2016-04-27 19:07:57,358 problems 0/1 DEBUG :: Parsing Eqn 0\n",
      "2016-04-27 19:07:57,358 problems 0/1 DEBUG ::   Condition: True\n",
      "2016-04-27 19:07:57,359 problems 0/1 DEBUG ::   LHS string form: sigma*(-1*Q**2*r**3*psi + r**3*psirr - r**2*psir) - iR*r**3*Q**4*psi + (2/beta)*1j*Q**3*r**3*A + 2*iR*Q**2*r**3*psirr - 2*iR*Q**2*r**2*psir - 3*1j*Q*c1*r**4*u - 3*1j*Q*c2*r**2*u - (2/beta)*1j*Q*r**3*dr(Ar) + (2/beta)*1j*Q*r**2*Ar - iR*r**3*dr(psirrr) + 2*iR*r**2*psirrr - 3*iR*r*psirr + 3*iR*psir\n",
      "2016-04-27 19:07:57,360 problems 0/1 DEBUG ::   RHS string form: 0\n",
      "2016-04-27 19:07:57,370 problems 0/1 DEBUG ::   LHS object form: ((((((((((((sigma*(((((-1*(Q**2))*(r**3))*psi) + ((r**3)*psirr)) + (-1*((r**2)*psir)))) + (-1*(((iR*(r**3))*(Q**4))*psi))) + (((((2*(beta**-1))*1j)*(Q**3))*(r**3))*A)) + ((((2*iR)*(Q**2))*(r**3))*psirr)) + (-1*((((2*iR)*(Q**2))*(r**2))*psir))) + (-1*((((3j*Q)*c1)*(r**4))*u))) + (-1*((((3j*Q)*c2)*(r**2))*u))) + (-1*(((((2*(beta**-1))*1j)*Q)*(r**3))*dr(Ar)))) + (((((2*(beta**-1))*1j)*Q)*(r**2))*Ar)) + (-1*((iR*(r**3))*dr(psirrr)))) + (((2*iR)*(r**2))*psirrr)) + (-1*(((3*iR)*r)*psirr))) + ((3*iR)*psir)\n",
      "2016-04-27 19:07:57,371 problems 0/1 DEBUG ::   RHS object form: 0\n",
      "2016-04-27 19:07:57,396 problems 0/1 DEBUG ::   M linear form: ((((-1*(Q**2))*(r**3))*psi) + ((r**3)*psirr)) + ((-1*(r**2))*psir)\n",
      "2016-04-27 19:07:57,405 problems 0/1 DEBUG ::   L linear form: ((((((((((((-1*((iR*(r**3))*(Q**4)))*psi) + (((((2*(beta**-1))*1j)*(Q**3))*(r**3))*A)) + ((((2*iR)*(Q**2))*(r**3))*psirr)) + ((-1*(((2*iR)*(Q**2))*(r**2)))*psir)) + ((-1*(((3j*Q)*c1)*(r**4)))*u)) + ((-1*(((3j*Q)*c2)*(r**2)))*u)) + ((-1*((((2*(beta**-1))*1j)*Q)*(r**3)))*dr(Ar))) + (((((2*(beta**-1))*1j)*Q)*(r**2))*Ar)) + ((-1*(iR*(r**3)))*dr(psirrr))) + (((2*iR)*(r**2))*psirrr)) + ((-1*((3*iR)*r))*psirr)) + ((3*iR)*psir)\n",
      "2016-04-27 19:07:57,405 problems 0/1 DEBUG :: Parsing Eqn 1\n",
      "2016-04-27 19:07:57,406 problems 0/1 DEBUG ::   Condition: True\n",
      "2016-04-27 19:07:57,407 problems 0/1 DEBUG ::   LHS string form: sigma*(r**3*u) + iR*r**3*Q**2*u + 4*1j*Q*c1*r**2*psi + 2*1j*Q*c2*psi - (2/beta)*1j*Q*r**3*B - iR*r**3*dr(ur) - iR*r**2*ur + iR*r**2*u\n",
      "2016-04-27 19:07:57,408 problems 0/1 DEBUG ::   RHS string form: 0\n",
      "2016-04-27 19:07:57,413 problems 0/1 DEBUG ::   LHS object form: (((((((sigma*((r**3)*u)) + (((iR*(r**3))*(Q**2))*u)) + ((((4j*Q)*c1)*(r**2))*psi)) + (((2j*Q)*c2)*psi)) + (-1*(((((2*(beta**-1))*1j)*Q)*(r**3))*B))) + (-1*((iR*(r**3))*dr(ur)))) + (-1*((iR*(r**2))*ur))) + ((iR*(r**2))*u)\n",
      "2016-04-27 19:07:57,414 problems 0/1 DEBUG ::   RHS object form: 0\n",
      "2016-04-27 19:07:57,430 problems 0/1 DEBUG ::   M linear form: (r**3)*u\n",
      "2016-04-27 19:07:57,438 problems 0/1 DEBUG ::   L linear form: ((((((((iR*(r**3))*(Q**2))*u) + ((((4j*Q)*c1)*(r**2))*psi)) + (((2j*Q)*c2)*psi)) + ((-1*((((2*(beta**-1))*1j)*Q)*(r**3)))*B)) + ((-1*(iR*(r**3)))*dr(ur))) + ((-1*(iR*(r**2)))*ur)) + ((iR*(r**2))*u)\n",
      "2016-04-27 19:07:57,438 problems 0/1 DEBUG :: Parsing Eqn 2\n",
      "2016-04-27 19:07:57,439 problems 0/1 DEBUG ::   Condition: True\n",
      "2016-04-27 19:07:57,440 problems 0/1 DEBUG ::   LHS string form: sigma*(r*A) + iRm*r*Q**2*A - 1j*Q*r*psi - iRm*r*dr(Ar) + iRm*Ar\n",
      "2016-04-27 19:07:57,441 problems 0/1 DEBUG ::   RHS string form: 0\n",
      "2016-04-27 19:07:57,443 problems 0/1 DEBUG ::   LHS object form: ((((sigma*(r*A)) + (((iRm*r)*(Q**2))*A)) + (-1*(((1j*Q)*r)*psi))) + (-1*((iRm*r)*dr(Ar)))) + (iRm*Ar)\n",
      "2016-04-27 19:07:57,444 problems 0/1 DEBUG ::   RHS object form: 0\n",
      "2016-04-27 19:07:57,450 problems 0/1 DEBUG ::   M linear form: r*A\n",
      "2016-04-27 19:07:57,453 problems 0/1 DEBUG ::   L linear form: (((((iRm*r)*(Q**2))*A) + ((-1*((1j*Q)*r))*psi)) + ((-1*(iRm*r))*dr(Ar))) + (iRm*Ar)\n",
      "2016-04-27 19:07:57,454 problems 0/1 DEBUG :: Parsing Eqn 3\n",
      "2016-04-27 19:07:57,455 problems 0/1 DEBUG ::   Condition: True\n",
      "2016-04-27 19:07:57,455 problems 0/1 DEBUG ::   LHS string form: sigma*(r**2*B) + iRm*r**2*Q**2*B - 2*1j*Q*c1*r*A - 1j*Q*r**2*u - iRm*r**2*dr(Br) - iRm*r*Br + iRm*B\n",
      "2016-04-27 19:07:57,456 problems 0/1 DEBUG ::   RHS string form: 0\n",
      "2016-04-27 19:07:57,459 problems 0/1 DEBUG ::   LHS object form: ((((((sigma*((r**2)*B)) + (((iRm*(r**2))*(Q**2))*B)) + (-1*((((2j*Q)*c1)*r)*A))) + (-1*(((1j*Q)*(r**2))*u))) + (-1*((iRm*(r**2))*dr(Br)))) + (-1*((iRm*r)*Br))) + (iRm*B)\n",
      "2016-04-27 19:07:57,459 problems 0/1 DEBUG ::   RHS object form: 0\n",
      "2016-04-27 19:07:57,470 problems 0/1 DEBUG ::   M linear form: (r**2)*B\n",
      "2016-04-27 19:07:57,474 problems 0/1 DEBUG ::   L linear form: (((((((iRm*(r**2))*(Q**2))*B) + ((-1*(((2j*Q)*c1)*r))*A)) + ((-1*((1j*Q)*(r**2)))*u)) + ((-1*(iRm*(r**2)))*dr(Br))) + ((-1*(iRm*r))*Br)) + (iRm*B)\n",
      "2016-04-27 19:07:57,474 problems 0/1 DEBUG :: Parsing Eqn 4\n",
      "2016-04-27 19:07:57,475 problems 0/1 DEBUG ::   Condition: True\n",
      "2016-04-27 19:07:57,476 problems 0/1 DEBUG ::   LHS string form: dr(psi) - psir\n",
      "2016-04-27 19:07:57,476 problems 0/1 DEBUG ::   RHS string form: 0\n",
      "2016-04-27 19:07:57,477 problems 0/1 DEBUG ::   LHS object form: dr(psi) + (-1*psir)\n",
      "2016-04-27 19:07:57,478 problems 0/1 DEBUG ::   RHS object form: 0\n",
      "2016-04-27 19:07:57,480 problems 0/1 DEBUG ::   M linear form: 0\n",
      "2016-04-27 19:07:57,482 problems 0/1 DEBUG ::   L linear form: dr(psi) + (-1*psir)\n",
      "2016-04-27 19:07:57,482 problems 0/1 DEBUG :: Parsing Eqn 5\n",
      "2016-04-27 19:07:57,483 problems 0/1 DEBUG ::   Condition: True\n",
      "2016-04-27 19:07:57,484 problems 0/1 DEBUG ::   LHS string form: dr(psir) - psirr\n",
      "2016-04-27 19:07:57,484 problems 0/1 DEBUG ::   RHS string form: 0\n",
      "2016-04-27 19:07:57,485 problems 0/1 DEBUG ::   LHS object form: dr(psir) + (-1*psirr)\n",
      "2016-04-27 19:07:57,486 problems 0/1 DEBUG ::   RHS object form: 0\n",
      "2016-04-27 19:07:57,488 problems 0/1 DEBUG ::   M linear form: 0\n",
      "2016-04-27 19:07:57,489 problems 0/1 DEBUG ::   L linear form: dr(psir) + (-1*psirr)\n",
      "2016-04-27 19:07:57,490 problems 0/1 DEBUG :: Parsing Eqn 6\n",
      "2016-04-27 19:07:57,490 problems 0/1 DEBUG ::   Condition: True\n",
      "2016-04-27 19:07:57,491 problems 0/1 DEBUG ::   LHS string form: dr(psirr) - psirrr\n",
      "2016-04-27 19:07:57,491 problems 0/1 DEBUG ::   RHS string form: 0\n",
      "2016-04-27 19:07:57,492 problems 0/1 DEBUG ::   LHS object form: dr(psirr) + (-1*psirrr)\n",
      "2016-04-27 19:07:57,493 problems 0/1 DEBUG ::   RHS object form: 0\n",
      "2016-04-27 19:07:57,495 problems 0/1 DEBUG ::   M linear form: 0\n",
      "2016-04-27 19:07:57,496 problems 0/1 DEBUG ::   L linear form: dr(psirr) + (-1*psirrr)\n",
      "2016-04-27 19:07:57,497 problems 0/1 DEBUG :: Parsing Eqn 7\n",
      "2016-04-27 19:07:57,497 problems 0/1 DEBUG ::   Condition: True\n",
      "2016-04-27 19:07:57,498 problems 0/1 DEBUG ::   LHS string form: dr(u) - ur\n",
      "2016-04-27 19:07:57,499 problems 0/1 DEBUG ::   RHS string form: 0\n",
      "2016-04-27 19:07:57,500 problems 0/1 DEBUG ::   LHS object form: dr(u) + (-1*ur)\n",
      "2016-04-27 19:07:57,501 problems 0/1 DEBUG ::   RHS object form: 0\n",
      "2016-04-27 19:07:57,505 problems 0/1 DEBUG ::   M linear form: 0\n",
      "2016-04-27 19:07:57,507 problems 0/1 DEBUG ::   L linear form: dr(u) + (-1*ur)\n",
      "2016-04-27 19:07:57,508 problems 0/1 DEBUG :: Parsing Eqn 8\n",
      "2016-04-27 19:07:57,509 problems 0/1 DEBUG ::   Condition: True\n",
      "2016-04-27 19:07:57,509 problems 0/1 DEBUG ::   LHS string form: dr(A) - Ar\n",
      "2016-04-27 19:07:57,510 problems 0/1 DEBUG ::   RHS string form: 0\n",
      "2016-04-27 19:07:57,511 problems 0/1 DEBUG ::   LHS object form: dr(A) + (-1*Ar)\n",
      "2016-04-27 19:07:57,512 problems 0/1 DEBUG ::   RHS object form: 0\n",
      "2016-04-27 19:07:57,514 problems 0/1 DEBUG ::   M linear form: 0\n",
      "2016-04-27 19:07:57,516 problems 0/1 DEBUG ::   L linear form: dr(A) + (-1*Ar)\n",
      "2016-04-27 19:07:57,516 problems 0/1 DEBUG :: Parsing Eqn 9\n",
      "2016-04-27 19:07:57,517 problems 0/1 DEBUG ::   Condition: True\n",
      "2016-04-27 19:07:57,517 problems 0/1 DEBUG ::   LHS string form: dr(B) - Br\n",
      "2016-04-27 19:07:57,518 problems 0/1 DEBUG ::   RHS string form: 0\n",
      "2016-04-27 19:07:57,519 problems 0/1 DEBUG ::   LHS object form: dr(B) + (-1*Br)\n",
      "2016-04-27 19:07:57,519 problems 0/1 DEBUG ::   RHS object form: 0\n",
      "2016-04-27 19:07:57,522 problems 0/1 DEBUG ::   M linear form: 0\n",
      "2016-04-27 19:07:57,523 problems 0/1 DEBUG ::   L linear form: dr(B) + (-1*Br)\n",
      "2016-04-27 19:07:57,524 problems 0/1 DEBUG :: Parsing BC 0\n",
      "2016-04-27 19:07:57,524 problems 0/1 DEBUG ::   Condition: True\n",
      "2016-04-27 19:07:57,525 problems 0/1 DEBUG ::   LHS string form: left(u)\n",
      "2016-04-27 19:07:57,525 problems 0/1 DEBUG ::   RHS string form: 0\n",
      "2016-04-27 19:07:57,526 problems 0/1 DEBUG ::   LHS object form: interp(u,'r',left)\n",
      "2016-04-27 19:07:57,527 problems 0/1 DEBUG ::   RHS object form: 0\n",
      "2016-04-27 19:07:57,529 problems 0/1 DEBUG ::   M linear form: 0\n",
      "2016-04-27 19:07:57,530 problems 0/1 DEBUG ::   L linear form: interp(u,'r',left)\n",
      "2016-04-27 19:07:57,530 problems 0/1 DEBUG :: Parsing BC 1\n",
      "2016-04-27 19:07:57,531 problems 0/1 DEBUG ::   Condition: True\n",
      "2016-04-27 19:07:57,531 problems 0/1 DEBUG ::   LHS string form: right(u)\n",
      "2016-04-27 19:07:57,532 problems 0/1 DEBUG ::   RHS string form: 0\n",
      "2016-04-27 19:07:57,533 problems 0/1 DEBUG ::   LHS object form: interp(u,'r',right)\n",
      "2016-04-27 19:07:57,534 problems 0/1 DEBUG ::   RHS object form: 0\n",
      "2016-04-27 19:07:57,536 problems 0/1 DEBUG ::   M linear form: 0\n",
      "2016-04-27 19:07:57,536 problems 0/1 DEBUG ::   L linear form: interp(u,'r',right)\n",
      "2016-04-27 19:07:57,537 problems 0/1 DEBUG :: Parsing BC 2\n",
      "2016-04-27 19:07:57,538 problems 0/1 DEBUG ::   Condition: True\n",
      "2016-04-27 19:07:57,538 problems 0/1 DEBUG ::   LHS string form: left(psi)\n",
      "2016-04-27 19:07:57,539 problems 0/1 DEBUG ::   RHS string form: 0\n",
      "2016-04-27 19:07:57,540 problems 0/1 DEBUG ::   LHS object form: interp(psi,'r',left)\n",
      "2016-04-27 19:07:57,540 problems 0/1 DEBUG ::   RHS object form: 0\n",
      "2016-04-27 19:07:57,542 problems 0/1 DEBUG ::   M linear form: 0\n",
      "2016-04-27 19:07:57,543 problems 0/1 DEBUG ::   L linear form: interp(psi,'r',left)\n",
      "2016-04-27 19:07:57,544 problems 0/1 DEBUG :: Parsing BC 3\n",
      "2016-04-27 19:07:57,545 problems 0/1 DEBUG ::   Condition: True\n",
      "2016-04-27 19:07:57,545 problems 0/1 DEBUG ::   LHS string form: right(psi)\n",
      "2016-04-27 19:07:57,546 problems 0/1 DEBUG ::   RHS string form: 0\n",
      "2016-04-27 19:07:57,547 problems 0/1 DEBUG ::   LHS object form: interp(psi,'r',right)\n",
      "2016-04-27 19:07:57,547 problems 0/1 DEBUG ::   RHS object form: 0\n",
      "2016-04-27 19:07:57,549 problems 0/1 DEBUG ::   M linear form: 0\n",
      "2016-04-27 19:07:57,550 problems 0/1 DEBUG ::   L linear form: interp(psi,'r',right)\n",
      "2016-04-27 19:07:57,551 problems 0/1 DEBUG :: Parsing BC 4\n",
      "2016-04-27 19:07:57,552 problems 0/1 DEBUG ::   Condition: True\n",
      "2016-04-27 19:07:57,552 problems 0/1 DEBUG ::   LHS string form: left(A)\n",
      "2016-04-27 19:07:57,553 problems 0/1 DEBUG ::   RHS string form: 0\n",
      "2016-04-27 19:07:57,554 problems 0/1 DEBUG ::   LHS object form: interp(A,'r',left)\n",
      "2016-04-27 19:07:57,554 problems 0/1 DEBUG ::   RHS object form: 0\n",
      "2016-04-27 19:07:57,556 problems 0/1 DEBUG ::   M linear form: 0\n",
      "2016-04-27 19:07:57,557 problems 0/1 DEBUG ::   L linear form: interp(A,'r',left)\n",
      "2016-04-27 19:07:57,558 problems 0/1 DEBUG :: Parsing BC 5\n",
      "2016-04-27 19:07:57,558 problems 0/1 DEBUG ::   Condition: True\n",
      "2016-04-27 19:07:57,559 problems 0/1 DEBUG ::   LHS string form: right(A)\n",
      "2016-04-27 19:07:57,560 problems 0/1 DEBUG ::   RHS string form: 0\n",
      "2016-04-27 19:07:57,560 problems 0/1 DEBUG ::   LHS object form: interp(A,'r',right)\n",
      "2016-04-27 19:07:57,561 problems 0/1 DEBUG ::   RHS object form: 0\n",
      "2016-04-27 19:07:57,563 problems 0/1 DEBUG ::   M linear form: 0\n",
      "2016-04-27 19:07:57,564 problems 0/1 DEBUG ::   L linear form: interp(A,'r',right)\n",
      "2016-04-27 19:07:57,564 problems 0/1 DEBUG :: Parsing BC 6\n",
      "2016-04-27 19:07:57,565 problems 0/1 DEBUG ::   Condition: True\n",
      "2016-04-27 19:07:57,566 problems 0/1 DEBUG ::   LHS string form: left(psir)\n",
      "2016-04-27 19:07:57,566 problems 0/1 DEBUG ::   RHS string form: 0\n",
      "2016-04-27 19:07:57,567 problems 0/1 DEBUG ::   LHS object form: interp(psir,'r',left)\n",
      "2016-04-27 19:07:57,568 problems 0/1 DEBUG ::   RHS object form: 0\n",
      "2016-04-27 19:07:57,570 problems 0/1 DEBUG ::   M linear form: 0\n",
      "2016-04-27 19:07:57,571 problems 0/1 DEBUG ::   L linear form: interp(psir,'r',left)\n",
      "2016-04-27 19:07:57,571 problems 0/1 DEBUG :: Parsing BC 7\n",
      "2016-04-27 19:07:57,572 problems 0/1 DEBUG ::   Condition: True\n",
      "2016-04-27 19:07:57,572 problems 0/1 DEBUG ::   LHS string form: right(psir)\n",
      "2016-04-27 19:07:57,573 problems 0/1 DEBUG ::   RHS string form: 0\n",
      "2016-04-27 19:07:57,574 problems 0/1 DEBUG ::   LHS object form: interp(psir,'r',right)\n",
      "2016-04-27 19:07:57,574 problems 0/1 DEBUG ::   RHS object form: 0\n",
      "2016-04-27 19:07:57,576 problems 0/1 DEBUG ::   M linear form: 0\n",
      "2016-04-27 19:07:57,577 problems 0/1 DEBUG ::   L linear form: interp(psir,'r',right)\n",
      "2016-04-27 19:07:57,578 problems 0/1 DEBUG :: Parsing BC 8\n",
      "2016-04-27 19:07:57,578 problems 0/1 DEBUG ::   Condition: True\n",
      "2016-04-27 19:07:57,579 problems 0/1 DEBUG ::   LHS string form: left(B + r*Br)\n",
      "2016-04-27 19:07:57,580 problems 0/1 DEBUG ::   RHS string form: 0\n",
      "2016-04-27 19:07:57,582 problems 0/1 DEBUG ::   LHS object form: interp(B + (r*Br),'r',left)\n",
      "2016-04-27 19:07:57,583 problems 0/1 DEBUG ::   RHS object form: 0\n",
      "2016-04-27 19:07:57,586 problems 0/1 DEBUG ::   M linear form: 0\n",
      "2016-04-27 19:07:57,588 problems 0/1 DEBUG ::   L linear form: interp(B,'r',left) + interp(r*Br,'r',left)\n",
      "2016-04-27 19:07:57,588 problems 0/1 DEBUG :: Parsing BC 9\n",
      "2016-04-27 19:07:57,589 problems 0/1 DEBUG ::   Condition: True\n",
      "2016-04-27 19:07:57,589 problems 0/1 DEBUG ::   LHS string form: right(B + r*Br)\n",
      "2016-04-27 19:07:57,590 problems 0/1 DEBUG ::   RHS string form: 0\n",
      "2016-04-27 19:07:57,591 problems 0/1 DEBUG ::   LHS object form: interp(B + (r*Br),'r',right)\n",
      "2016-04-27 19:07:57,592 problems 0/1 DEBUG ::   RHS object form: 0\n",
      "2016-04-27 19:07:57,595 problems 0/1 DEBUG ::   M linear form: 0\n",
      "2016-04-27 19:07:57,597 problems 0/1 DEBUG ::   L linear form: interp(B,'r',right) + interp(r*Br,'r',right)\n",
      "2016-04-27 19:07:57,598 solvers 0/1 DEBUG :: Beginning EVP instantiation\n",
      "2016-04-27 19:07:57,600 solvers 0/1 DEBUG :: Finished EVP instantiation\n",
      "2016-04-27 19:07:57,601 solvers 0/1 DEBUG :: Beginning EVP instantiation\n",
      "2016-04-27 19:07:57,603 solvers 0/1 DEBUG :: Finished EVP instantiation\n",
      "2016-04-27 19:07:57,617 basis 0/1 DEBUG :: Building FFTW DCT plan for (dtype, gshape, axis) = (complex128, (64,), 0)\n",
      "2016-04-27 19:07:57,636 field 0/1 DEBUG :: Expanded NCC '(-1*(Q**2))*(r**3)' to mode 3 with 4 terms.\n",
      "2016-04-27 19:07:57,659 field 0/1 DEBUG :: Expanded NCC 'r**3' to mode 3 with 4 terms.\n",
      "2016-04-27 19:07:57,684 field 0/1 DEBUG :: Expanded NCC '-1*(r**2)' to mode 2 with 3 terms.\n",
      "2016-04-27 19:07:57,719 field 0/1 DEBUG :: Expanded NCC '-1*((iR*(r**3))*(Q**4))' to mode 3 with 4 terms.\n",
      "2016-04-27 19:07:57,740 field 0/1 DEBUG :: Expanded NCC '(((2*(beta**-1))*1j)*(Q**3))*(r**3)' to mode 3 with 4 terms.\n",
      "2016-04-27 19:07:57,766 field 0/1 DEBUG :: Expanded NCC '((2*iR)*(Q**2))*(r**3)' to mode 3 with 4 terms.\n",
      "2016-04-27 19:07:57,787 field 0/1 DEBUG :: Expanded NCC '-1*(((2*iR)*(Q**2))*(r**2))' to mode 2 with 3 terms.\n",
      "2016-04-27 19:07:57,817 field 0/1 DEBUG :: Expanded NCC '-1*(((3j*Q)*c1)*(r**4))' to mode 4 with 5 terms.\n",
      "2016-04-27 19:07:57,860 field 0/1 DEBUG :: Expanded NCC '-1*(((3j*Q)*c2)*(r**2))' to mode 49 with 12 terms.\n",
      "2016-04-27 19:07:57,878 field 0/1 DEBUG :: Expanded NCC '-1*((((2*(beta**-1))*1j)*Q)*(r**3))' to mode 3 with 4 terms.\n",
      "2016-04-27 19:07:57,905 field 0/1 DEBUG :: Expanded NCC '(((2*(beta**-1))*1j)*Q)*(r**2)' to mode 2 with 3 terms.\n",
      "2016-04-27 19:07:57,930 field 0/1 DEBUG :: Expanded NCC '-1*(iR*(r**3))' to mode 3 with 4 terms.\n",
      "2016-04-27 19:07:57,945 field 0/1 DEBUG :: Expanded NCC '(2*iR)*(r**2)' to mode 2 with 3 terms.\n",
      "2016-04-27 19:07:57,955 field 0/1 DEBUG :: Expanded NCC '-1*((3*iR)*r)' to mode 1 with 2 terms.\n",
      "2016-04-27 19:07:57,988 field 0/1 DEBUG :: Expanded NCC 'r**3' to mode 3 with 4 terms.\n",
      "2016-04-27 19:07:58,008 field 0/1 DEBUG :: Expanded NCC '(iR*(r**3))*(Q**2)' to mode 3 with 4 terms.\n",
      "2016-04-27 19:07:58,021 field 0/1 DEBUG :: Expanded NCC '((4j*Q)*c1)*(r**2)' to mode 2 with 3 terms.\n",
      "2016-04-27 19:07:58,040 field 0/1 DEBUG :: Expanded NCC '-1*((((2*(beta**-1))*1j)*Q)*(r**3))' to mode 3 with 4 terms.\n",
      "2016-04-27 19:07:58,056 field 0/1 DEBUG :: Expanded NCC '-1*(iR*(r**3))' to mode 3 with 4 terms.\n",
      "2016-04-27 19:07:58,075 field 0/1 DEBUG :: Expanded NCC '-1*(iR*(r**2))' to mode 2 with 3 terms.\n",
      "2016-04-27 19:07:58,091 field 0/1 DEBUG :: Expanded NCC 'iR*(r**2)' to mode 2 with 3 terms.\n",
      "2016-04-27 19:07:58,111 field 0/1 DEBUG :: Expanded NCC 'r' to mode 1 with 2 terms.\n",
      "2016-04-27 19:07:58,123 field 0/1 DEBUG :: Expanded NCC '(iRm*r)*(Q**2)' to mode 1 with 2 terms.\n",
      "2016-04-27 19:07:58,137 field 0/1 DEBUG :: Expanded NCC '-1*((1j*Q)*r)' to mode 1 with 2 terms.\n",
      "2016-04-27 19:07:58,150 field 0/1 DEBUG :: Expanded NCC '-1*(iRm*r)' to mode 1 with 2 terms.\n",
      "2016-04-27 19:07:58,181 field 0/1 DEBUG :: Expanded NCC 'r**2' to mode 2 with 3 terms.\n",
      "2016-04-27 19:07:58,209 field 0/1 DEBUG :: Expanded NCC '(iRm*(r**2))*(Q**2)' to mode 2 with 3 terms.\n",
      "2016-04-27 19:07:58,223 field 0/1 DEBUG :: Expanded NCC '-1*(((2j*Q)*c1)*r)' to mode 1 with 2 terms.\n",
      "2016-04-27 19:07:58,239 field 0/1 DEBUG :: Expanded NCC '-1*((1j*Q)*(r**2))' to mode 2 with 3 terms.\n",
      "2016-04-27 19:07:58,254 field 0/1 DEBUG :: Expanded NCC '-1*(iRm*(r**2))' to mode 2 with 3 terms.\n",
      "2016-04-27 19:07:58,264 field 0/1 DEBUG :: Expanded NCC '-1*(iRm*r)' to mode 1 with 2 terms.\n",
      "2016-04-27 19:08:09,949 basis 0/1 DEBUG :: Building FFTW DCT plan for (dtype, gshape, axis) = (complex128, (128,), 0)\n",
      "2016-04-27 19:08:09,981 field 0/1 DEBUG :: Expanded NCC '(-1*(Q**2))*(r**3)' to mode 3 with 4 terms.\n",
      "2016-04-27 19:08:10,011 field 0/1 DEBUG :: Expanded NCC 'r**3' to mode 3 with 4 terms.\n",
      "2016-04-27 19:08:10,033 field 0/1 DEBUG :: Expanded NCC '-1*(r**2)' to mode 2 with 3 terms.\n",
      "2016-04-27 19:08:10,065 field 0/1 DEBUG :: Expanded NCC '-1*((iR*(r**3))*(Q**4))' to mode 3 with 4 terms.\n",
      "2016-04-27 19:08:10,095 field 0/1 DEBUG :: Expanded NCC '(((2*(beta**-1))*1j)*(Q**3))*(r**3)' to mode 3 with 4 terms.\n",
      "2016-04-27 19:08:10,124 field 0/1 DEBUG :: Expanded NCC '((2*iR)*(Q**2))*(r**3)' to mode 3 with 4 terms.\n",
      "2016-04-27 19:08:10,146 field 0/1 DEBUG :: Expanded NCC '-1*(((2*iR)*(Q**2))*(r**2))' to mode 2 with 3 terms.\n",
      "2016-04-27 19:08:10,181 field 0/1 DEBUG :: Expanded NCC '-1*(((3j*Q)*c1)*(r**4))' to mode 4 with 5 terms.\n",
      "2016-04-27 19:08:10,238 field 0/1 DEBUG :: Expanded NCC '-1*(((3j*Q)*c2)*(r**2))' to mode 124 with 8 terms.\n",
      "2016-04-27 19:08:10,267 field 0/1 DEBUG :: Expanded NCC '-1*((((2*(beta**-1))*1j)*Q)*(r**3))' to mode 3 with 4 terms.\n",
      "2016-04-27 19:08:10,339 field 0/1 DEBUG :: Expanded NCC '(((2*(beta**-1))*1j)*Q)*(r**2)' to mode 2 with 3 terms.\n",
      "2016-04-27 19:08:10,381 field 0/1 DEBUG :: Expanded NCC '-1*(iR*(r**3))' to mode 3 with 4 terms.\n",
      "2016-04-27 19:08:10,409 field 0/1 DEBUG :: Expanded NCC '(2*iR)*(r**2)' to mode 2 with 3 terms.\n",
      "2016-04-27 19:08:10,426 field 0/1 DEBUG :: Expanded NCC '-1*((3*iR)*r)' to mode 1 with 2 terms.\n",
      "2016-04-27 19:08:10,475 field 0/1 DEBUG :: Expanded NCC 'r**3' to mode 3 with 4 terms.\n",
      "2016-04-27 19:08:10,505 field 0/1 DEBUG :: Expanded NCC '(iR*(r**3))*(Q**2)' to mode 3 with 4 terms.\n",
      "2016-04-27 19:08:10,534 field 0/1 DEBUG :: Expanded NCC '((4j*Q)*c1)*(r**2)' to mode 2 with 3 terms.\n",
      "2016-04-27 19:08:10,564 field 0/1 DEBUG :: Expanded NCC '-1*((((2*(beta**-1))*1j)*Q)*(r**3))' to mode 3 with 4 terms.\n",
      "2016-04-27 19:08:10,593 field 0/1 DEBUG :: Expanded NCC '-1*(iR*(r**3))' to mode 3 with 4 terms.\n",
      "2016-04-27 19:08:10,615 field 0/1 DEBUG :: Expanded NCC '-1*(iR*(r**2))' to mode 2 with 3 terms.\n",
      "2016-04-27 19:08:10,637 field 0/1 DEBUG :: Expanded NCC 'iR*(r**2)' to mode 2 with 3 terms.\n",
      "2016-04-27 19:08:10,661 field 0/1 DEBUG :: Expanded NCC 'r' to mode 1 with 2 terms.\n",
      "2016-04-27 19:08:10,680 field 0/1 DEBUG :: Expanded NCC '(iRm*r)*(Q**2)' to mode 1 with 2 terms.\n",
      "2016-04-27 19:08:10,703 field 0/1 DEBUG :: Expanded NCC '-1*((1j*Q)*r)' to mode 1 with 2 terms.\n",
      "2016-04-27 19:08:10,723 field 0/1 DEBUG :: Expanded NCC '-1*(iRm*r)' to mode 1 with 2 terms.\n",
      "2016-04-27 19:08:10,758 field 0/1 DEBUG :: Expanded NCC 'r**2' to mode 2 with 3 terms.\n",
      "2016-04-27 19:08:10,782 field 0/1 DEBUG :: Expanded NCC '(iRm*(r**2))*(Q**2)' to mode 2 with 3 terms.\n",
      "2016-04-27 19:08:10,802 field 0/1 DEBUG :: Expanded NCC '-1*(((2j*Q)*c1)*r)' to mode 1 with 2 terms.\n",
      "2016-04-27 19:08:10,828 field 0/1 DEBUG :: Expanded NCC '-1*((1j*Q)*(r**2))' to mode 2 with 3 terms.\n",
      "2016-04-27 19:08:10,853 field 0/1 DEBUG :: Expanded NCC '-1*(iRm*(r**2))' to mode 2 with 3 terms.\n",
      "2016-04-27 19:08:10,869 field 0/1 DEBUG :: Expanded NCC '-1*(iRm*r)' to mode 1 with 2 terms.\n",
      "[ -6.55281884e+03 -1.54820610e-13j  -6.20201187e-01 +3.24035416e-03j\n",
      "  -4.37668565e-01 +4.11463390e-03j  -4.37668565e-01 -4.11463389e-03j\n",
      "  -2.94944487e-01 -5.29196849e-03j  -2.94944487e-01 +5.29196849e-03j\n",
      "  -1.83688955e-01 +5.55728654e-12j  -1.30979011e-01 -3.77081352e-02j\n",
      "  -1.30979010e-01 +3.77081352e-02j]\n"
     ]
    },
    {
     "name": "stderr",
     "output_type": "stream",
     "text": [
      "/Users/susanclark/dedalus_upgraded/dedalus/lib/python3.4/site-packages/ipykernel/__main__.py:269: ComplexWarning: Casting complex values to real discards the imaginary part\n"
     ]
    }
   ],
   "source": [
    "oe = OrderE(Q = Q, Rm = Rm, Pm = Pm, beta = beta, R1 = R1, R2 = R2, Omega1 = Omega1, Omega2 = Omega2)"
   ]
  },
  {
   "cell_type": "markdown",
   "metadata": {},
   "source": [
    "This doesn't give me crazy eigenvectors.... $\\Psi$ looks a little underresolved but not to an extreme extent. $u$ looks underresolved, or wrong, but $A$ and $B$ look perfectly reasonable."
   ]
  },
  {
   "cell_type": "code",
   "execution_count": 100,
   "metadata": {
    "collapsed": false
   },
   "outputs": [
    {
     "data": {
      "text/plain": [
       "<matplotlib.legend.Legend at 0x112d690b8>"
      ]
     },
     "execution_count": 100,
     "metadata": {},
     "output_type": "execute_result"
    },
    {
     "data": {
      "image/png": "[encoded data removed]",
      "text/plain": [
       "<matplotlib.figure.Figure at 0x11020b668>"
      ]
     },
     "metadata": {},
     "output_type": "display_data"
    }
   ],
   "source": [
    "plt.plot(oe.r, oe.psi['g'])\n",
    "plt.plot(oe.r, oe.psi['g'].imag)\n",
    "plt.legend(['real', 'imag'], loc = 2)"
   ]
  },
  {
   "cell_type": "code",
   "execution_count": 101,
   "metadata": {
    "collapsed": false
   },
   "outputs": [
    {
     "data": {
      "text/plain": [
       "<matplotlib.legend.Legend at 0x11152eb00>"
      ]
     },
     "execution_count": 101,
     "metadata": {},
     "output_type": "execute_result"
    },
    {
     "data": {
      "image/png": "[encoded data removed]",
      "text/plain": [
       "<matplotlib.figure.Figure at 0x112d72208>"
      ]
     },
     "metadata": {},
     "output_type": "display_data"
    }
   ],
   "source": [
    "plt.plot(oe.r, oe.u['g'])\n",
    "plt.plot(oe.r, oe.u['g'].imag)\n",
    "plt.legend(['real', 'imag'])"
   ]
  },
  {
   "cell_type": "code",
   "execution_count": 102,
   "metadata": {
    "collapsed": false
   },
   "outputs": [
    {
     "data": {
      "text/plain": [
       "<matplotlib.legend.Legend at 0x1135b2828>"
      ]
     },
     "execution_count": 102,
     "metadata": {},
     "output_type": "execute_result"
    },
    {
     "data": {
      "image/png": "[encoded data removed]",
      "text/plain": [
       "<matplotlib.figure.Figure at 0x111557f28>"
      ]
     },
     "metadata": {},
     "output_type": "display_data"
    }
   ],
   "source": [
    "plt.plot(oe.r, oe.A['g'])\n",
    "plt.plot(oe.r, oe.A['g'].imag)\n",
    "plt.legend(['real', 'imag'], loc = 3)"
   ]
  },
  {
   "cell_type": "code",
   "execution_count": 103,
   "metadata": {
    "collapsed": false
   },
   "outputs": [
    {
     "data": {
      "text/plain": [
       "<matplotlib.legend.Legend at 0x1137babe0>"
      ]
     },
     "execution_count": 103,
     "metadata": {},
     "output_type": "execute_result"
    },
    {
     "data": {
      "image/png": "[encoded data removed]",
      "text/plain": [
       "<matplotlib.figure.Figure at 0x1135bd588>"
      ]
     },
     "metadata": {},
     "output_type": "display_data"
    }
   ],
   "source": [
    "plt.plot(oe.r, oe.B['g'])\n",
    "plt.plot(oe.r, oe.B['g'].imag)\n",
    "plt.legend(['real', 'imag'])"
   ]
  },
  {
   "cell_type": "markdown",
   "metadata": {},
   "source": [
    "But as we can see below, the good (non-spurious) eigenvalues don't include a growing mode, and only two of them are ~purely real. I've done a parameter-space sweep and the only eigenvalues I can find that are critical are the trivial solution, i.e. $k_z = 0$. WHY?!!"
   ]
  },
  {
   "cell_type": "code",
   "execution_count": 97,
   "metadata": {
    "collapsed": false
   },
   "outputs": [
    {
     "data": {
      "text/plain": [
       "array([ -6.55281884e+03 -1.54820610e-13j,\n",
       "        -6.20201187e-01 +3.24035416e-03j,\n",
       "        -4.37668565e-01 +4.11463390e-03j,\n",
       "        -4.37668565e-01 -4.11463389e-03j,\n",
       "        -2.94944487e-01 -5.29196849e-03j,\n",
       "        -2.94944487e-01 +5.29196849e-03j,\n",
       "        -1.83688955e-01 +5.55728654e-12j,\n",
       "        -1.30979011e-01 -3.77081352e-02j,  -1.30979010e-01 +3.77081352e-02j])"
      ]
     },
     "execution_count": 97,
     "metadata": {},
     "output_type": "execute_result"
    }
   ],
   "source": [
    "oe.goodeigs"
   ]
  },
  {
   "cell_type": "code",
   "execution_count": 104,
   "metadata": {
    "collapsed": false
   },
   "outputs": [],
   "source": [
    "#oe.solver1.set_state(oe.goodeigs_indices[np.where(np.abs(oe.goodeigs) == np.nanmin(np.abs(oe.goodeigs[oe.goodeigs > 0])))][0])"
   ]
  },
  {
   "cell_type": "code",
   "execution_count": null,
   "metadata": {
    "collapsed": false
   },
   "outputs": [],
   "source": [
    "plt.plot(oe.r, oe.B['g'])\n",
    "plt.plot(oe.r, oe.B['g'].imag)"
   ]
  },
  {
   "cell_type": "markdown",
   "metadata": {},
   "source": [
    "Although these eigenvalues are clearly not critical:"
   ]
  },
  {
   "cell_type": "code",
   "execution_count": null,
   "metadata": {
    "collapsed": false
   },
   "outputs": [],
   "source": [
    "oe.goodeigs_indices"
   ]
  },
  {
   "cell_type": "code",
   "execution_count": null,
   "metadata": {
    "collapsed": false
   },
   "outputs": [],
   "source": [
    "for good_indx in range(len(oe.solver1.eigenvalues)):#oe.goodeigs_indices:\n",
    "    oe.solver1.set_state(int(good_indx))\n",
    "    plt.plot(oe.r, oe.solver1.state['psi']['g'])"
   ]
  },
  {
   "cell_type": "markdown",
   "metadata": {},
   "source": [
    "oe.zeta_mean"
   ]
  },
  {
   "cell_type": "code",
   "execution_count": null,
   "metadata": {
    "collapsed": false
   },
   "outputs": [],
   "source": [
    "oe.zeta_mean"
   ]
  },
  {
   "cell_type": "code",
   "execution_count": null,
   "metadata": {
    "collapsed": false
   },
   "outputs": [],
   "source": [
    "oe.Pm, oe.R1, oe.R2"
   ]
  },
  {
   "cell_type": "code",
   "execution_count": null,
   "metadata": {
    "collapsed": false
   },
   "outputs": [],
   "source": [
    "mri = MRI(Q = Q, Rm = Rm, Pm = Pm, beta = beta, R1 = R1, R2 = R2, Omega1 = Omega1, Omega2 = Omega2)"
   ]
  },
  {
   "cell_type": "code",
   "execution_count": 107,
   "metadata": {
    "collapsed": false
   },
   "outputs": [
    {
     "ename": "AttributeError",
     "evalue": "'function' object has no attribute 'dtype'",
     "output_type": "error",
     "traceback": [
      "\u001b[0;31m---------------------------------------------------------------------------\u001b[0m",
      "\u001b[0;31mAttributeError\u001b[0m                            Traceback (most recent call last)",
      "\u001b[0;32m<ipython-input-107-636de276153c>\u001b[0m in \u001b[0;36m<module>\u001b[0;34m()\u001b[0m\n\u001b[0;32m----> 1\u001b[0;31m \u001b[0md2\u001b[0m\u001b[0;34m.\u001b[0m\u001b[0mgrids\u001b[0m\u001b[0;34m.\u001b[0m\u001b[0mdtype\u001b[0m\u001b[0;34m\u001b[0m\u001b[0m\n\u001b[0m",
      "\u001b[0;31mAttributeError\u001b[0m: 'function' object has no attribute 'dtype'"
     ]
    }
   ],
   "source": []
  },
  {
   "cell_type": "code",
   "execution_count": null,
   "metadata": {
    "collapsed": true
   },
   "outputs": [],
   "source": []
  }
 ],
 "metadata": {
  "kernelspec": {
   "display_name": "Python 3",
   "language": "python",
   "name": "python3"
  },
  "language_info": {
   "codemirror_mode": {
    "name": "ipython",
    "version": 3
   },
   "file_extension": ".py",
   "mimetype": "text/x-python",
   "name": "python",
   "nbconvert_exporter": "python",
   "pygments_lexer": "ipython3",
   "version": "3.4.1"
  }
 },
 "nbformat": 4,
 "nbformat_minor": 0
}
