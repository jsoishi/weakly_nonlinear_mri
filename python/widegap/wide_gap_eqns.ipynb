{
 "cells": [
  {
   "cell_type": "code",
   "execution_count": 1,
   "metadata": {
    "collapsed": false
   },
   "outputs": [],
   "source": [
    "from sympy import *\n",
    "from sympy.interactive import printing\n",
    "printing.init_printing(use_latex=True)\n",
    "%matplotlib inline\n",
    "\n",
    "Re, Rm, omega0, q, B0, pi, Q, beta, c1, c2 = symbols(\"R_e R_m Omega_0 q B_0 pi Q beta c_1 c_2\", real=True)\n",
    "dt, dr, dz = symbols(\"d_t d_r d_z\")\n",
    "r, z, t  = symbols(\"r, z, t\")\n",
    "sigma = symbols(\"sigma\")\n",
    "\n",
    "psi = Function('psi')(t,r,z)\n",
    "u = Function('u')(t,r,z)\n",
    "A = Function('A')(t,r,z)\n",
    "B = Function('B')(t,r,z)\n",
    "\n",
    "#State vector matrix\n",
    "V = Matrix([psi, u, A, B])\n"
   ]
  },
  {
   "cell_type": "markdown",
   "metadata": {},
   "source": [
    "Assume\n",
    "\n",
    "$\\Omega(r) = c_1 + c_2 r^{-2}$\n",
    "\n",
    "$\\partial_r \\Omega(r) = -2c_2 r^{-3}$\n",
    "\n",
    "where $c_2 = r^2_1 r^2_2 (\\Omega_1 - \\Omega_2)/(r^2_2 - r^2_1)$\n"
   ]
  },
  {
   "cell_type": "code",
   "execution_count": 2,
   "metadata": {
    "collapsed": false
   },
   "outputs": [],
   "source": [
    "L0 = Matrix([[(1/Re)*((-3/r**4)*dr + (3/r**3)*dr**2 - (2/r**2)*dr**3+(1/r)*dr**4), 0, 0, 0],\n",
    "            [0, (1/Re)*(dr**2 + (1/r)*dr - (1/r)), 0, 0],\n",
    "            [0, 0, (1/Rm)*(dr**2 - (1/r)*dr), 0],\n",
    "            [0, 0, 0, (1/Rm)*(dr**2 + (1/r)*dr - (1/r**2))]])"
   ]
  },
  {
   "cell_type": "code",
   "execution_count": 3,
   "metadata": {
    "collapsed": false
   },
   "outputs": [
    {
     "data": {
      "image/png": "[encoded data removed]",
      "text/latex": [
       "$$\\left[\\begin{matrix}\\frac{1}{R_{e}} \\left(\\frac{d_{r}^{4}}{r} - \\frac{2 d_{r}^{3}}{r^{2}} + \\frac{3 d_{r}^{2}}{r^{3}} - \\frac{3 d_{r}}{r^{4}}\\right) & 0 & 0 & 0\\\\0 & \\frac{1}{R_{e}} \\left(d_{r}^{2} + \\frac{d_{r}}{r} - \\frac{1}{r}\\right) & 0 & 0\\\\0 & 0 & \\frac{1}{R_{m}} \\left(d_{r}^{2} - \\frac{d_{r}}{r}\\right) & 0\\\\0 & 0 & 0 & \\frac{1}{R_{m}} \\left(d_{r}^{2} + \\frac{d_{r}}{r} - \\frac{1}{r^{2}}\\right)\\end{matrix}\\right]$$"
      ],
      "text/plain": [
       "⎡  4       3       2                                              ⎤\n",
       "⎢dᵣ    2⋅dᵣ    3⋅dᵣ    3⋅dᵣ                                       ⎥\n",
       "⎢─── - ───── + ───── - ────                                       ⎥\n",
       "⎢ r       2       3      4                                        ⎥\n",
       "⎢        r       r      r                                         ⎥\n",
       "⎢──────────────────────────       0           0            0      ⎥\n",
       "⎢            Rₑ                                                   ⎥\n",
       "⎢                                                                 ⎥\n",
       "⎢                              2   dᵣ   1                         ⎥\n",
       "⎢                            dᵣ  + ── - ─                         ⎥\n",
       "⎢                                  r    r                         ⎥\n",
       "⎢            0               ────────────     0            0      ⎥\n",
       "⎢                                 Rₑ                              ⎥\n",
       "⎢                                                                 ⎥\n",
       "⎢                                            2   dᵣ               ⎥\n",
       "⎢                                          dᵣ  - ──               ⎥\n",
       "⎢                                                r                ⎥\n",
       "⎢            0                    0        ────────        0      ⎥\n",
       "⎢                                            R_m                  ⎥\n",
       "⎢                                                                 ⎥\n",
       "⎢                                                      2   dᵣ   1 ⎥\n",
       "⎢                                                    dᵣ  + ── - ──⎥\n",
       "⎢                                                          r     2⎥\n",
       "⎢                                                               r ⎥\n",
       "⎢            0                    0           0      ─────────────⎥\n",
       "⎣                                                         R_m     ⎦"
      ]
     },
     "execution_count": 3,
     "metadata": {},
     "output_type": "execute_result"
    }
   ],
   "source": [
    "L0"
   ]
  },
  {
   "cell_type": "code",
   "execution_count": 4,
   "metadata": {
    "collapsed": false
   },
   "outputs": [],
   "source": [
    "#L1 = Matrix([[0, 3*omega0*r**(-q), (2/beta)*(1/r)*(dr**2 - (1/r)*dr), 0],\n",
    "#             [-(4/r)*(omega0*r**(-q)) - (-q*omega0*r**(-q-1)), 0, 0, (2/beta)],\n",
    "#             [1, 0, 0, 0],\n",
    "#             [0, 1, (2/r)*(omega0*r**(-q)) + (-q*omega0*r**(-q-1)), 0]])\n",
    "\n",
    "L1 = Matrix([[0, 3*(c1 + c2*r**(-2)), (2/beta)*(1/r)*(dr**2 - (1/r)*dr), 0],\n",
    "             [-(4/r)*(c1 + c2*r**(-2)) - (-2*c2*r**(-3)), 0, 0, (2/beta)],\n",
    "             [1, 0, 0, 0],\n",
    "             [0, 1, (2/r)*(c1 + c2*r**(-2)) + (-2*c2*r**(-3)), 0]])"
   ]
  },
  {
   "cell_type": "code",
   "execution_count": 5,
   "metadata": {
    "collapsed": false
   },
   "outputs": [
    {
     "data": {
      "image/png": "[encoded data removed]",
      "text/latex": [
       "$$\\left[\\begin{matrix}0 & 3 c_{1} + \\frac{3 c_{2}}{r^{2}} & \\frac{1}{\\beta r} \\left(2 d_{r}^{2} - \\frac{2 d_{r}}{r}\\right) & 0\\\\\\frac{2 c_{2}}{r^{3}} - \\frac{1}{r} \\left(4 c_{1} + \\frac{4 c_{2}}{r^{2}}\\right) & 0 & 0 & \\frac{2}{\\beta}\\\\1 & 0 & 0 & 0\\\\0 & 1 & - \\frac{2 c_{2}}{r^{3}} + \\frac{1}{r} \\left(2 c_{1} + \\frac{2 c_{2}}{r^{2}}\\right) & 0\\end{matrix}\\right]$$"
      ],
      "text/plain": [
       "⎡                                       ⎛  2   dᵣ⎞       ⎤\n",
       "⎢                                     2⋅⎜dᵣ  - ──⎟       ⎥\n",
       "⎢                           3⋅c₂        ⎝      r ⎠       ⎥\n",
       "⎢        0           3⋅c₁ + ────      ────────────      0⎥\n",
       "⎢                             2           β⋅r            ⎥\n",
       "⎢                            r                           ⎥\n",
       "⎢                                                        ⎥\n",
       "⎢         ⎛     c₂⎞                                      ⎥\n",
       "⎢       4⋅⎜c₁ + ──⎟                                      ⎥\n",
       "⎢         ⎜      2⎟                                      ⎥\n",
       "⎢2⋅c₂     ⎝     r ⎠                                     2⎥\n",
       "⎢──── - ───────────       0                0            ─⎥\n",
       "⎢  3         r                                          β⎥\n",
       "⎢ r                                                      ⎥\n",
       "⎢                                                        ⎥\n",
       "⎢        1                0                0            0⎥\n",
       "⎢                                                        ⎥\n",
       "⎢                                            ⎛     c₂⎞   ⎥\n",
       "⎢                                          2⋅⎜c₁ + ──⎟   ⎥\n",
       "⎢                                            ⎜      2⎟   ⎥\n",
       "⎢                                   2⋅c₂     ⎝     r ⎠   ⎥\n",
       "⎢        0                1       - ──── + ───────────  0⎥\n",
       "⎢                                     3         r        ⎥\n",
       "⎣                                    r                   ⎦"
      ]
     },
     "execution_count": 5,
     "metadata": {},
     "output_type": "execute_result"
    }
   ],
   "source": [
    "L1"
   ]
  },
  {
   "cell_type": "code",
   "execution_count": 6,
   "metadata": {
    "collapsed": true
   },
   "outputs": [],
   "source": [
    "L2 = Matrix([[(1/Re)*((-2/r**2)*dr + (2/r)*dr**2), 0, 0, 0],\n",
    "             [0, 1/Re, 0, 0],\n",
    "             [0, 0, 1/Rm, 0],\n",
    "             [0, 0, 0, 1/Rm]])"
   ]
  },
  {
   "cell_type": "code",
   "execution_count": 7,
   "metadata": {
    "collapsed": false
   },
   "outputs": [
    {
     "data": {
      "image/png": "[encoded data removed]",
      "text/latex": [
       "$$\\left[\\begin{matrix}\\frac{1}{R_{e}} \\left(\\frac{2 d_{r}^{2}}{r} - \\frac{2 d_{r}}{r^{2}}\\right) & 0 & 0 & 0\\\\0 & \\frac{1}{R_{e}} & 0 & 0\\\\0 & 0 & \\frac{1}{R_{m}} & 0\\\\0 & 0 & 0 & \\frac{1}{R_{m}}\\end{matrix}\\right]$$"
      ],
      "text/plain": [
       "⎡    2                     ⎤\n",
       "⎢2⋅dᵣ    2⋅dᵣ              ⎥\n",
       "⎢───── - ────              ⎥\n",
       "⎢  r       2               ⎥\n",
       "⎢         r                ⎥\n",
       "⎢────────────  0    0    0 ⎥\n",
       "⎢     Rₑ                   ⎥\n",
       "⎢                          ⎥\n",
       "⎢              1           ⎥\n",
       "⎢     0        ──   0    0 ⎥\n",
       "⎢              Rₑ          ⎥\n",
       "⎢                          ⎥\n",
       "⎢                   1      ⎥\n",
       "⎢     0        0   ───   0 ⎥\n",
       "⎢                  R_m     ⎥\n",
       "⎢                          ⎥\n",
       "⎢                        1 ⎥\n",
       "⎢     0        0    0   ───⎥\n",
       "⎣                       R_m⎦"
      ]
     },
     "execution_count": 7,
     "metadata": {},
     "output_type": "execute_result"
    }
   ],
   "source": [
    "L2"
   ]
  },
  {
   "cell_type": "code",
   "execution_count": 8,
   "metadata": {
    "collapsed": true
   },
   "outputs": [],
   "source": [
    "L3 = Matrix([[0, 0, (2/beta)*(1/r), 0],\n",
    "             [0, 0, 0, 0],\n",
    "             [0, 0, 0, 0],\n",
    "             [0, 0, 0, 0]])"
   ]
  },
  {
   "cell_type": "code",
   "execution_count": 9,
   "metadata": {
    "collapsed": false
   },
   "outputs": [
    {
     "data": {
      "image/png": "[encoded data removed]",
      "text/latex": [
       "$$\\left[\\begin{matrix}0 & 0 & \\frac{2}{\\beta r} & 0\\\\0 & 0 & 0 & 0\\\\0 & 0 & 0 & 0\\\\0 & 0 & 0 & 0\\end{matrix}\\right]$$"
      ],
      "text/plain": [
       "⎡       2    ⎤\n",
       "⎢0  0  ───  0⎥\n",
       "⎢      β⋅r   ⎥\n",
       "⎢            ⎥\n",
       "⎢0  0   0   0⎥\n",
       "⎢            ⎥\n",
       "⎢0  0   0   0⎥\n",
       "⎢            ⎥\n",
       "⎣0  0   0   0⎦"
      ]
     },
     "execution_count": 9,
     "metadata": {},
     "output_type": "execute_result"
    }
   ],
   "source": [
    "L3"
   ]
  },
  {
   "cell_type": "code",
   "execution_count": 10,
   "metadata": {
    "collapsed": true
   },
   "outputs": [],
   "source": [
    "L4 = Matrix([[(1/Re)*(1/r), 0, 0, 0],\n",
    "             [0, 0, 0, 0],\n",
    "             [0, 0, 0, 0],\n",
    "             [0, 0, 0, 0]])"
   ]
  },
  {
   "cell_type": "code",
   "execution_count": 11,
   "metadata": {
    "collapsed": false
   },
   "outputs": [
    {
     "data": {
      "image/png": "[encoded data removed]",
      "text/latex": [
       "$$\\left[\\begin{matrix}\\frac{1}{R_{e} r} & 0 & 0 & 0\\\\0 & 0 & 0 & 0\\\\0 & 0 & 0 & 0\\\\0 & 0 & 0 & 0\\end{matrix}\\right]$$"
      ],
      "text/plain": [
       "⎡ 1           ⎤\n",
       "⎢────  0  0  0⎥\n",
       "⎢Rₑ⋅r         ⎥\n",
       "⎢             ⎥\n",
       "⎢ 0    0  0  0⎥\n",
       "⎢             ⎥\n",
       "⎢ 0    0  0  0⎥\n",
       "⎢             ⎥\n",
       "⎣ 0    0  0  0⎦"
      ]
     },
     "execution_count": 11,
     "metadata": {},
     "output_type": "execute_result"
    }
   ],
   "source": [
    "L4"
   ]
  },
  {
   "cell_type": "code",
   "execution_count": 12,
   "metadata": {
    "collapsed": true
   },
   "outputs": [],
   "source": [
    "G = Matrix([[0, 0, (2/beta)*(1/r)*(dr**2 - (1/r)*dr), 0],\n",
    "             [0, 0, 0, (2/beta)],\n",
    "             [1, 0, 0, 0],\n",
    "             [0, 1, 0, 0]])"
   ]
  },
  {
   "cell_type": "code",
   "execution_count": 13,
   "metadata": {
    "collapsed": false
   },
   "outputs": [
    {
     "data": {
      "image/png": "[encoded data removed]",
      "text/latex": [
       "$$\\left[\\begin{matrix}0 & 0 & \\frac{1}{\\beta r} \\left(2 d_{r}^{2} - \\frac{2 d_{r}}{r}\\right) & 0\\\\0 & 0 & 0 & \\frac{2}{\\beta}\\\\1 & 0 & 0 & 0\\\\0 & 1 & 0 & 0\\end{matrix}\\right]$$"
      ],
      "text/plain": [
       "⎡        ⎛  2   dᵣ⎞   ⎤\n",
       "⎢      2⋅⎜dᵣ  - ──⎟   ⎥\n",
       "⎢        ⎝      r ⎠   ⎥\n",
       "⎢0  0  ────────────  0⎥\n",
       "⎢          β⋅r        ⎥\n",
       "⎢                     ⎥\n",
       "⎢                    2⎥\n",
       "⎢0  0       0        ─⎥\n",
       "⎢                    β⎥\n",
       "⎢                     ⎥\n",
       "⎢1  0       0        0⎥\n",
       "⎢                     ⎥\n",
       "⎣0  1       0        0⎦"
      ]
     },
     "execution_count": 13,
     "metadata": {},
     "output_type": "execute_result"
    }
   ],
   "source": [
    "G"
   ]
  },
  {
   "cell_type": "code",
   "execution_count": 14,
   "metadata": {
    "collapsed": false
   },
   "outputs": [],
   "source": [
    "L = L0 + L1*dz + L2*dz**2 + L3*dz**3 + L4*dz**4"
   ]
  },
  {
   "cell_type": "code",
   "execution_count": 15,
   "metadata": {
    "collapsed": false
   },
   "outputs": [
    {
     "data": {
      "image/png": "[encoded data removed]",
      "text/latex": [
       "$$\\left[\\begin{matrix}\\frac{d_{z}^{4}}{R_{e} r} + \\frac{d_{z}^{2}}{R_{e}} \\left(\\frac{2 d_{r}^{2}}{r} - \\frac{2 d_{r}}{r^{2}}\\right) + \\frac{1}{R_{e}} \\left(\\frac{d_{r}^{4}}{r} - \\frac{2 d_{r}^{3}}{r^{2}} + \\frac{3 d_{r}^{2}}{r^{3}} - \\frac{3 d_{r}}{r^{4}}\\right) & d_{z} \\left(3 c_{1} + \\frac{3 c_{2}}{r^{2}}\\right) & \\frac{2 d_{z}^{3}}{\\beta r} + \\frac{2 d_{z}}{\\beta r} \\left(d_{r}^{2} - \\frac{d_{r}}{r}\\right) & 0\\\\d_{z} \\left(\\frac{2 c_{2}}{r^{3}} - \\frac{1}{r} \\left(4 c_{1} + \\frac{4 c_{2}}{r^{2}}\\right)\\right) & \\frac{d_{z}^{2}}{R_{e}} + \\frac{1}{R_{e}} \\left(d_{r}^{2} + \\frac{d_{r}}{r} - \\frac{1}{r}\\right) & 0 & \\frac{2 d_{z}}{\\beta}\\\\d_{z} & 0 & \\frac{d_{z}^{2}}{R_{m}} + \\frac{1}{R_{m}} \\left(d_{r}^{2} - \\frac{d_{r}}{r}\\right) & 0\\\\0 & d_{z} & d_{z} \\left(- \\frac{2 c_{2}}{r^{3}} + \\frac{1}{r} \\left(2 c_{1} + \\frac{2 c_{2}}{r^{2}}\\right)\\right) & \\frac{d_{z}^{2}}{R_{m}} + \\frac{1}{R_{m}} \\left(d_{r}^{2} + \\frac{d_{r}}{r} - \\frac{1}{r^{2}}\\right)\\end{matrix}\\right]$$"
      ],
      "text/plain": [
       "⎡            ⎛    2       ⎞     4       3       2                             \n",
       "⎢          2 ⎜2⋅dᵣ    2⋅dᵣ⎟   dᵣ    2⋅dᵣ    3⋅dᵣ    3⋅dᵣ                      \n",
       "⎢       d_z ⋅⎜───── - ────⎟   ─── - ───── + ───── - ────                      \n",
       "⎢   4        ⎜  r       2 ⎟    r       2       3      4                       \n",
       "⎢d_z         ⎝         r  ⎠           r       r      r         ⎛       3⋅c₂⎞  \n",
       "⎢──── + ─────────────────── + ──────────────────────────   d_z⋅⎜3⋅c₁ + ────⎟  \n",
       "⎢Rₑ⋅r            Rₑ                       Rₑ                   ⎜         2 ⎟  \n",
       "⎢                                                              ⎝        r  ⎠  \n",
       "⎢                                                                             \n",
       "⎢                   ⎛         ⎛     c₂⎞⎞                                      \n",
       "⎢                   ⎜       4⋅⎜c₁ + ──⎟⎟                           2   dᵣ   1 \n",
       "⎢                   ⎜         ⎜      2⎟⎟                     2   dᵣ  + ── - ─ \n",
       "⎢                   ⎜2⋅c₂     ⎝     r ⎠⎟                  d_z          r    r \n",
       "⎢               d_z⋅⎜──── - ───────────⎟                  ──── + ──────────── \n",
       "⎢                   ⎜  3         r     ⎟                   Rₑ         Rₑ      \n",
       "⎢                   ⎝ r                ⎠                                      \n",
       "⎢                                                                             \n",
       "⎢                                                                             \n",
       "⎢                                                                             \n",
       "⎢                                                                             \n",
       "⎢                          d_z                                     0          \n",
       "⎢                                                                             \n",
       "⎢                                                                             \n",
       "⎢                                                                             \n",
       "⎢                                                                             \n",
       "⎢                                                                             \n",
       "⎢                                                                             \n",
       "⎢                           0                                     d_z         \n",
       "⎢                                                                             \n",
       "⎣                                                                             \n",
       "\n",
       "                                                 ⎤\n",
       "                                                 ⎥\n",
       "                ⎛  2   dᵣ⎞                       ⎥\n",
       "      3   2⋅d_z⋅⎜dᵣ  - ──⎟                       ⎥\n",
       " 2⋅d_z          ⎝      r ⎠                       ⎥\n",
       " ────── + ────────────────            0          ⎥\n",
       "  β⋅r           β⋅r                              ⎥\n",
       "                                                 ⎥\n",
       "                                                 ⎥\n",
       "                                                 ⎥\n",
       "                                                 ⎥\n",
       "                                                 ⎥\n",
       "                                    2⋅d_z        ⎥\n",
       "             0                      ─────        ⎥\n",
       "                                      β          ⎥\n",
       "                                                 ⎥\n",
       "                                                 ⎥\n",
       "               2   dᵣ                            ⎥\n",
       "         2   dᵣ  - ──                            ⎥\n",
       "      d_z          r                             ⎥\n",
       "      ──── + ────────                 0          ⎥\n",
       "      R_m      R_m                               ⎥\n",
       "                                                 ⎥\n",
       "     ⎛           ⎛     c₂⎞⎞           2   dᵣ   1 ⎥\n",
       "     ⎜         2⋅⎜c₁ + ──⎟⎟         dᵣ  + ── - ──⎥\n",
       "     ⎜           ⎜      2⎟⎟     2         r     2⎥\n",
       "     ⎜  2⋅c₂     ⎝     r ⎠⎟  d_z               r ⎥\n",
       " d_z⋅⎜- ──── + ───────────⎟  ──── + ─────────────⎥\n",
       "     ⎜    3         r     ⎟  R_m         R_m     ⎥\n",
       "     ⎝   r                ⎠                      ⎦"
      ]
     },
     "execution_count": 15,
     "metadata": {},
     "output_type": "execute_result"
    }
   ],
   "source": [
    "L"
   ]
  },
  {
   "cell_type": "code",
   "execution_count": 16,
   "metadata": {
    "collapsed": false
   },
   "outputs": [
    {
     "data": {
      "image/png": "[encoded data removed]",
      "text/latex": [
       "$$\\left[\\begin{matrix}d_{z} \\left(3 c_{1} + \\frac{3 c_{2}}{r^{2}}\\right) u{\\left (t,r,z \\right )} + \\left(\\frac{2 d_{z}^{3}}{\\beta r} + \\frac{2 d_{z}}{\\beta r} \\left(d_{r}^{2} - \\frac{d_{r}}{r}\\right)\\right) A{\\left (t,r,z \\right )} + \\left(\\frac{d_{z}^{4}}{R_{e} r} + \\frac{d_{z}^{2}}{R_{e}} \\left(\\frac{2 d_{r}^{2}}{r} - \\frac{2 d_{r}}{r^{2}}\\right) + \\frac{1}{R_{e}} \\left(\\frac{d_{r}^{4}}{r} - \\frac{2 d_{r}^{3}}{r^{2}} + \\frac{3 d_{r}^{2}}{r^{3}} - \\frac{3 d_{r}}{r^{4}}\\right)\\right) \\psi{\\left (t,r,z \\right )}\\\\d_{z} \\left(\\frac{2 c_{2}}{r^{3}} - \\frac{1}{r} \\left(4 c_{1} + \\frac{4 c_{2}}{r^{2}}\\right)\\right) \\psi{\\left (t,r,z \\right )} + \\left(\\frac{d_{z}^{2}}{R_{e}} + \\frac{1}{R_{e}} \\left(d_{r}^{2} + \\frac{d_{r}}{r} - \\frac{1}{r}\\right)\\right) u{\\left (t,r,z \\right )} + \\frac{2 d_{z}}{\\beta} B{\\left (t,r,z \\right )}\\\\d_{z} \\psi{\\left (t,r,z \\right )} + \\left(\\frac{d_{z}^{2}}{R_{m}} + \\frac{1}{R_{m}} \\left(d_{r}^{2} - \\frac{d_{r}}{r}\\right)\\right) A{\\left (t,r,z \\right )}\\\\d_{z} \\left(- \\frac{2 c_{2}}{r^{3}} + \\frac{1}{r} \\left(2 c_{1} + \\frac{2 c_{2}}{r^{2}}\\right)\\right) A{\\left (t,r,z \\right )} + d_{z} u{\\left (t,r,z \\right )} + \\left(\\frac{d_{z}^{2}}{R_{m}} + \\frac{1}{R_{m}} \\left(d_{r}^{2} + \\frac{d_{r}}{r} - \\frac{1}{r^{2}}\\right)\\right) B{\\left (t,r,z \\right )}\\end{matrix}\\right]$$"
      ],
      "text/plain": [
       "⎡                                                                        ⎛    \n",
       "⎢                                                                        ⎜    \n",
       "⎢                               ⎛               ⎛  2   dᵣ⎞⎞              ⎜    \n",
       "⎢                               ⎜     3   2⋅d_z⋅⎜dᵣ  - ──⎟⎟              ⎜   4\n",
       "⎢    ⎛       3⋅c₂⎞              ⎜2⋅d_z          ⎝      r ⎠⎟              ⎜d_z \n",
       "⎢d_z⋅⎜3⋅c₁ + ────⎟⋅u(t, r, z) + ⎜────── + ────────────────⎟⋅A(t, r, z) + ⎜────\n",
       "⎢    ⎜         2 ⎟              ⎝ β⋅r           β⋅r       ⎠              ⎝Rₑ⋅r\n",
       "⎢    ⎝        r  ⎠                                                            \n",
       "⎢                                                                             \n",
       "⎢                             ⎛         ⎛     c₂⎞⎞                            \n",
       "⎢                             ⎜       4⋅⎜c₁ + ──⎟⎟              ⎛         2   \n",
       "⎢                             ⎜         ⎜      2⎟⎟              ⎜   2   dᵣ  + \n",
       "⎢                             ⎜2⋅c₂     ⎝     r ⎠⎟              ⎜d_z          \n",
       "⎢                         d_z⋅⎜──── - ───────────⎟⋅ψ(t, r, z) + ⎜──── + ──────\n",
       "⎢                             ⎜  3         r     ⎟              ⎝ Rₑ         R\n",
       "⎢                             ⎝ r                ⎠                            \n",
       "⎢                                                                             \n",
       "⎢                                                                ⎛         2  \n",
       "⎢                                                                ⎜   2   dᵣ  -\n",
       "⎢                                                                ⎜d_z         \n",
       "⎢                                               d_z⋅ψ(t, r, z) + ⎜──── + ─────\n",
       "⎢                                                                ⎝R_m      R_m\n",
       "⎢                                                                             \n",
       "⎢                             ⎛           ⎛     c₂⎞⎞                          \n",
       "⎢                             ⎜         2⋅⎜c₁ + ──⎟⎟                          \n",
       "⎢                             ⎜           ⎜      2⎟⎟                          \n",
       "⎢                             ⎜  2⋅c₂     ⎝     r ⎠⎟                          \n",
       "⎢                         d_z⋅⎜- ──── + ───────────⎟⋅A(t, r, z) + d_z⋅u(t, r, \n",
       "⎢                             ⎜    3         r     ⎟                          \n",
       "⎣                             ⎝   r                ⎠                          \n",
       "\n",
       "        ⎛    2       ⎞     4       3       2       ⎞           ⎤\n",
       "      2 ⎜2⋅dᵣ    2⋅dᵣ⎟   dᵣ    2⋅dᵣ    3⋅dᵣ    3⋅dᵣ⎟           ⎥\n",
       "   d_z ⋅⎜───── - ────⎟   ─── - ───── + ───── - ────⎟           ⎥\n",
       "        ⎜  r       2 ⎟    r       2       3      4 ⎟           ⎥\n",
       "        ⎝         r  ⎠           r       r      r  ⎟           ⎥\n",
       " + ─────────────────── + ──────────────────────────⎟⋅ψ(t, r, z)⎥\n",
       "            Rₑ                       Rₑ            ⎠           ⎥\n",
       "                                                               ⎥\n",
       "                                                               ⎥\n",
       "                                                               ⎥\n",
       "dᵣ   1⎞                                                        ⎥\n",
       "── - ─⎟                                                        ⎥\n",
       "r    r⎟              2⋅d_z⋅B(t, r, z)                          ⎥\n",
       "──────⎟⋅u(t, r, z) + ────────────────                          ⎥\n",
       "ₑ     ⎠                     β                                  ⎥\n",
       "                                                               ⎥\n",
       "                                                               ⎥\n",
       " dᵣ⎞                                                           ⎥\n",
       " ──⎟                                                           ⎥\n",
       " r ⎟                                                           ⎥\n",
       "───⎟⋅A(t, r, z)                                                ⎥\n",
       "   ⎠                                                           ⎥\n",
       "                                                               ⎥\n",
       "     ⎛         2   dᵣ   1 ⎞                                    ⎥\n",
       "     ⎜       dᵣ  + ── - ──⎟                                    ⎥\n",
       "     ⎜   2         r     2⎟                                    ⎥\n",
       "     ⎜d_z               r ⎟                                    ⎥\n",
       "z) + ⎜──── + ─────────────⎟⋅B(t, r, z)                         ⎥\n",
       "     ⎝R_m         R_m     ⎠                                    ⎥\n",
       "                                                               ⎦"
      ]
     },
     "execution_count": 16,
     "metadata": {},
     "output_type": "execute_result"
    }
   ],
   "source": [
    "L*V"
   ]
  },
  {
   "cell_type": "code",
   "execution_count": 17,
   "metadata": {
    "collapsed": false
   },
   "outputs": [
    {
     "data": {
      "image/png": "[encoded data removed]",
      "text/latex": [
       "$$\\left[\\begin{matrix}- 1.0 i Q \\left(3 c_{1} + \\frac{3 c_{2}}{r^{2}}\\right) u{\\left (t,r,z \\right )} + \\left(\\frac{2.0 i Q^{3}}{\\beta r} - \\frac{2.0 i Q}{\\beta r} \\left(d_{r}^{2} - \\frac{d_{r}}{r}\\right)\\right) A{\\left (t,r,z \\right )} + \\left(- \\frac{1.0 Q^{4}}{R_{e} r} + \\frac{1.0 Q^{2}}{R_{e}} \\left(\\frac{2 d_{r}^{2}}{r} - \\frac{2 d_{r}}{r^{2}}\\right) - \\frac{1}{R_{e}} \\left(\\frac{d_{r}^{4}}{r} - \\frac{2 d_{r}^{3}}{r^{2}} + \\frac{3 d_{r}^{2}}{r^{3}} - \\frac{3 d_{r}}{r^{4}}\\right)\\right) \\psi{\\left (t,r,z \\right )}\\\\- 1.0 i Q \\left(\\frac{2 c_{2}}{r^{3}} - \\frac{1}{r} \\left(4 c_{1} + \\frac{4 c_{2}}{r^{2}}\\right)\\right) \\psi{\\left (t,r,z \\right )} - \\frac{2.0 i}{\\beta} Q B{\\left (t,r,z \\right )} + \\left(\\frac{1.0 Q^{2}}{R_{e}} - \\frac{1}{R_{e}} \\left(d_{r}^{2} + \\frac{d_{r}}{r} - \\frac{1}{r}\\right)\\right) u{\\left (t,r,z \\right )}\\\\- 1.0 i Q \\psi{\\left (t,r,z \\right )} + \\left(\\frac{1.0 Q^{2}}{R_{m}} - \\frac{1}{R_{m}} \\left(d_{r}^{2} - \\frac{d_{r}}{r}\\right)\\right) A{\\left (t,r,z \\right )}\\\\- 1.0 i Q \\left(- \\frac{2 c_{2}}{r^{3}} + \\frac{1}{r} \\left(2 c_{1} + \\frac{2 c_{2}}{r^{2}}\\right)\\right) A{\\left (t,r,z \\right )} - 1.0 i Q u{\\left (t,r,z \\right )} + \\left(\\frac{1.0 Q^{2}}{R_{m}} - \\frac{1}{R_{m}} \\left(d_{r}^{2} + \\frac{d_{r}}{r} - \\frac{1}{r^{2}}\\right)\\right) B{\\left (t,r,z \\right )}\\end{matrix}\\right]$$"
      ],
      "text/plain": [
       "⎡                                                                             \n",
       "⎢                                                                             \n",
       "⎢                                        ⎛                         ⎛  2   dᵣ⎞⎞\n",
       "⎢                                        ⎜       3   -2.0⋅(-1)⋅ⅈ⋅Q⋅⎜dᵣ  - ──⎟⎟\n",
       "⎢             ⎛       3⋅c₂⎞              ⎜2.0⋅ⅈ⋅Q                  ⎝      r ⎠⎟\n",
       "⎢- - -1.0⋅ⅈ⋅Q⋅⎜3⋅c₁ + ────⎟⋅u(t, r, z) + ⎜──────── - ────────────────────────⎟\n",
       "⎢             ⎜         2 ⎟              ⎝  β⋅r                β⋅r           ⎠\n",
       "⎢             ⎝        r  ⎠                                                   \n",
       "⎢                                                                             \n",
       "⎢                                           ⎛         ⎛     c₂⎞⎞              \n",
       "⎢                                           ⎜       4⋅⎜c₁ + ──⎟⎟              \n",
       "⎢                                           ⎜         ⎜      2⎟⎟              \n",
       "⎢                                           ⎜2⋅c₂     ⎝     r ⎠⎟              \n",
       "⎢                              - - -1.0⋅ⅈ⋅Q⋅⎜──── - ───────────⎟⋅ψ(t, r, z) - \n",
       "⎢                                           ⎜  3         r     ⎟              \n",
       "⎢                                           ⎝ r                ⎠              \n",
       "⎢                                                                             \n",
       "⎢                                                                             \n",
       "⎢                                                                             \n",
       "⎢                                                                             \n",
       "⎢                                                         -- -1.0⋅ⅈ⋅Q⋅ψ(t, r, \n",
       "⎢                                                                             \n",
       "⎢                                                                             \n",
       "⎢                                           ⎛           ⎛     c₂⎞⎞            \n",
       "⎢                                           ⎜         2⋅⎜c₁ + ──⎟⎟            \n",
       "⎢                                           ⎜           ⎜      2⎟⎟            \n",
       "⎢                                           ⎜  2⋅c₂     ⎝     r ⎠⎟            \n",
       "⎢                              - - -1.0⋅ⅈ⋅Q⋅⎜- ──── + ───────────⎟⋅A(t, r, z) \n",
       "⎢                                           ⎜    3         r     ⎟            \n",
       "⎣                                           ⎝   r                ⎠            \n",
       "\n",
       "              ⎛                      ⎛    2       ⎞     4       3       2     \n",
       "              ⎜                    2 ⎜2⋅dᵣ    2⋅dᵣ⎟   dᵣ    2⋅dᵣ    3⋅dᵣ    3⋅\n",
       "              ⎜               1.0⋅Q ⋅⎜───── - ────⎟   ─── - ───── + ───── - ──\n",
       "              ⎜          4           ⎜  r       2 ⎟    r       2       3      \n",
       "              ⎜  - -1.0⋅Q            ⎝         r  ⎠           r       r      r\n",
       "⋅A(t, r, z) + ⎜- ────────── + ───────────────────── - ────────────────────────\n",
       "              ⎝     Rₑ⋅r                Rₑ                        Rₑ          \n",
       "                                                                              \n",
       "                                                                              \n",
       "                                                                              \n",
       "                           ⎛           2   dᵣ   1⎞                            \n",
       "                           ⎜     2   dᵣ  + ── - ─⎟                            \n",
       "-2.0⋅(-1)⋅ⅈ⋅Q⋅B(t, r, z)   ⎜1.0⋅Q          r    r⎟                            \n",
       "──────────────────────── + ⎜────── - ────────────⎟⋅u(t, r, z)                 \n",
       "           β               ⎝  Rₑ          Rₑ     ⎠                            \n",
       "                                                                              \n",
       "                                                                              \n",
       "     ⎛           2   dᵣ⎞                                                      \n",
       "     ⎜     2   dᵣ  - ──⎟                                                      \n",
       "     ⎜1.0⋅Q          r ⎟                                                      \n",
       "z) + ⎜────── - ────────⎟⋅A(t, r, z)                                           \n",
       "     ⎝ R_m       R_m   ⎠                                                      \n",
       "                                                                              \n",
       "                          ⎛           2   dᵣ   1 ⎞                            \n",
       "                          ⎜         dᵣ  + ── - ──⎟                            \n",
       "                          ⎜     2         r     2⎟                            \n",
       "                          ⎜1.0⋅Q               r ⎟                            \n",
       "- - -1.0⋅ⅈ⋅Q⋅u(t, r, z) + ⎜────── - ─────────────⎟⋅B(t, r, z)                 \n",
       "                          ⎝ R_m          R_m     ⎠                            \n",
       "                                                                              \n",
       "\n",
       "  ⎞           ⎤\n",
       "dᵣ⎟           ⎥\n",
       "──⎟           ⎥\n",
       "4 ⎟           ⎥\n",
       "  ⎟           ⎥\n",
       "──⎟⋅ψ(t, r, z)⎥\n",
       "  ⎠           ⎥\n",
       "              ⎥\n",
       "              ⎥\n",
       "              ⎥\n",
       "              ⎥\n",
       "              ⎥\n",
       "              ⎥\n",
       "              ⎥\n",
       "              ⎥\n",
       "              ⎥\n",
       "              ⎥\n",
       "              ⎥\n",
       "              ⎥\n",
       "              ⎥\n",
       "              ⎥\n",
       "              ⎥\n",
       "              ⎥\n",
       "              ⎥\n",
       "              ⎥\n",
       "              ⎥\n",
       "              ⎥\n",
       "              ⎥\n",
       "              ⎥\n",
       "              ⎦"
      ]
     },
     "execution_count": 17,
     "metadata": {},
     "output_type": "execute_result"
    }
   ],
   "source": [
    "(-L*V).subs(dz, 1j*Q)"
   ]
  },
  {
   "cell_type": "code",
   "execution_count": 18,
   "metadata": {
    "collapsed": true
   },
   "outputs": [],
   "source": [
    "D = Matrix([[(1/r)*(dr**2 + dz**2 + (1/r)*dr) - (2/r**2)*dr, 0, 0, 0],\n",
    "             [0, 1, 0, 0],\n",
    "             [0, 0, 1, 0],\n",
    "             [0, 0, 0, 1]])"
   ]
  },
  {
   "cell_type": "code",
   "execution_count": 19,
   "metadata": {
    "collapsed": false
   },
   "outputs": [
    {
     "data": {
      "image/png": "[encoded data removed]",
      "text/latex": [
       "$$\\left[\\begin{matrix}- \\frac{2 d_{r}}{r^{2}} + \\frac{1}{r} \\left(d_{r}^{2} + \\frac{d_{r}}{r} + d_{z}^{2}\\right) & 0 & 0 & 0\\\\0 & 1 & 0 & 0\\\\0 & 0 & 1 & 0\\\\0 & 0 & 0 & 1\\end{matrix}\\right]$$"
      ],
      "text/plain": [
       "⎡           2   dᵣ      2         ⎤\n",
       "⎢         dᵣ  + ── + d_z          ⎥\n",
       "⎢  2⋅dᵣ         r                 ⎥\n",
       "⎢- ──── + ───────────────  0  0  0⎥\n",
       "⎢    2           r                ⎥\n",
       "⎢   r                             ⎥\n",
       "⎢                                 ⎥\n",
       "⎢           0              1  0  0⎥\n",
       "⎢                                 ⎥\n",
       "⎢           0              0  1  0⎥\n",
       "⎢                                 ⎥\n",
       "⎣           0              0  0  1⎦"
      ]
     },
     "execution_count": 19,
     "metadata": {},
     "output_type": "execute_result"
    }
   ],
   "source": [
    "D"
   ]
  },
  {
   "cell_type": "code",
   "execution_count": 20,
   "metadata": {
    "collapsed": false
   },
   "outputs": [
    {
     "data": {
      "image/png": "[encoded data removed]",
      "text/latex": [
       "$$\\left[\\begin{matrix}1.0 i \\left(- \\frac{1.0 d_{t}}{r} Q^{2} \\psi{\\left (t,r,z \\right )} + \\frac{d_{r}^{2} d_{t}}{r} \\psi{\\left (t,r,z \\right )} - \\frac{d_{r} d_{t}}{r^{2}} \\psi{\\left (t,r,z \\right )}\\right)\\\\1.0 i d_{t} u{\\left (t,r,z \\right )}\\\\1.0 i d_{t} A{\\left (t,r,z \\right )}\\\\1.0 i d_{t} B{\\left (t,r,z \\right )}\\end{matrix}\\right]$$"
      ],
      "text/plain": [
       "⎡      ⎛          2                     2                                   ⎞⎤\n",
       "⎢      ⎜  - -1.0⋅Q ⋅d_t⋅ψ(t, r, z)    dᵣ ⋅d_t⋅ψ(t, r, z)   dᵣ⋅d_t⋅ψ(t, r, z)⎟⎥\n",
       "⎢1.0⋅ⅈ⋅⎜- ───────────────────────── + ────────────────── - ─────────────────⎟⎥\n",
       "⎢      ⎜              r                       r                     2       ⎟⎥\n",
       "⎢      ⎝                                                           r        ⎠⎥\n",
       "⎢                                                                            ⎥\n",
       "⎢                            1.0⋅ⅈ⋅d_t⋅u(t, r, z)                            ⎥\n",
       "⎢                                                                            ⎥\n",
       "⎢                            1.0⋅ⅈ⋅d_t⋅A(t, r, z)                            ⎥\n",
       "⎢                                                                            ⎥\n",
       "⎣                            1.0⋅ⅈ⋅d_t⋅B(t, r, z)                            ⎦"
      ]
     },
     "execution_count": 20,
     "metadata": {},
     "output_type": "execute_result"
    }
   ],
   "source": [
    "1j*(((D*dt)*V).subs(dz, 1j*Q)).expand()"
   ]
  },
  {
   "cell_type": "code",
   "execution_count": 21,
   "metadata": {
    "collapsed": false
   },
   "outputs": [
    {
     "data": {
      "image/png": "[encoded data removed]",
      "text/latex": [
       "$$\\left[\\begin{matrix}- 1.0 Q^{2} r^{3} \\sigma \\psi{\\left (t,r,z \\right )} + d_{r}^{2} r^{3} \\sigma \\psi{\\left (t,r,z \\right )} - d_{r} r^{2} \\sigma \\psi{\\left (t,r,z \\right )}\\\\r^{4} \\sigma u{\\left (t,r,z \\right )}\\\\r^{4} \\sigma A{\\left (t,r,z \\right )}\\\\r^{4} \\sigma B{\\left (t,r,z \\right )}\\end{matrix}\\right]$$"
      ],
      "text/plain": [
       "⎡          2  3                  2  3                    2             ⎤\n",
       "⎢- - -1.0⋅Q ⋅r ⋅σ⋅ψ(t, r, z) + dᵣ ⋅r ⋅σ⋅ψ(t, r, z) - dᵣ⋅r ⋅σ⋅ψ(t, r, z)⎥\n",
       "⎢                                                                      ⎥\n",
       "⎢                            4                                         ⎥\n",
       "⎢                           r ⋅σ⋅u(t, r, z)                            ⎥\n",
       "⎢                                                                      ⎥\n",
       "⎢                            4                                         ⎥\n",
       "⎢                           r ⋅σ⋅A(t, r, z)                            ⎥\n",
       "⎢                                                                      ⎥\n",
       "⎢                            4                                         ⎥\n",
       "⎣                           r ⋅σ⋅B(t, r, z)                            ⎦"
      ]
     },
     "execution_count": 21,
     "metadata": {},
     "output_type": "execute_result"
    }
   ],
   "source": [
    "(sigma*(r**4*D*V).subs(dz, 1j*Q)).expand()"
   ]
  },
  {
   "cell_type": "code",
   "execution_count": 22,
   "metadata": {
    "collapsed": false
   },
   "outputs": [
    {
     "data": {
      "image/png": "[encoded data removed]",
      "text/latex": [
       "$$\\left[\\begin{matrix}- \\frac{1.0 r^{3}}{R_{e}} Q^{4} \\psi{\\left (t,r,z \\right )} + \\frac{2.0 i}{\\beta} Q^{3} r^{3} A{\\left (t,r,z \\right )} + \\frac{2.0 d_{r}^{2}}{R_{e}} Q^{2} r^{3} \\psi{\\left (t,r,z \\right )} - \\frac{2.0 d_{r}}{R_{e}} Q^{2} r^{2} \\psi{\\left (t,r,z \\right )} - 3.0 i Q c_{1} r^{4} u{\\left (t,r,z \\right )} - 3.0 i Q c_{2} r^{2} u{\\left (t,r,z \\right )} - \\frac{2.0 i}{\\beta} Q d_{r}^{2} r^{3} A{\\left (t,r,z \\right )} + \\frac{2.0 i}{\\beta} Q d_{r} r^{2} A{\\left (t,r,z \\right )} - \\frac{d_{r}^{4} r^{3}}{R_{e}} \\psi{\\left (t,r,z \\right )} + \\frac{2 d_{r}^{3}}{R_{e}} r^{2} \\psi{\\left (t,r,z \\right )} - \\frac{3 r}{R_{e}} d_{r}^{2} \\psi{\\left (t,r,z \\right )} + \\frac{3 d_{r}}{R_{e}} \\psi{\\left (t,r,z \\right )}\\\\\\frac{1.0 r^{4}}{R_{e}} Q^{2} u{\\left (t,r,z \\right )} + 4.0 i Q c_{1} r^{3} \\psi{\\left (t,r,z \\right )} + 2.0 i Q c_{2} r \\psi{\\left (t,r,z \\right )} - \\frac{2.0 i}{\\beta} Q r^{4} B{\\left (t,r,z \\right )} - \\frac{d_{r}^{2} r^{4}}{R_{e}} u{\\left (t,r,z \\right )} - \\frac{d_{r} r^{3}}{R_{e}} u{\\left (t,r,z \\right )} + \\frac{r^{3}}{R_{e}} u{\\left (t,r,z \\right )}\\\\\\frac{1.0 r^{4}}{R_{m}} Q^{2} A{\\left (t,r,z \\right )} - 1.0 i Q r^{4} \\psi{\\left (t,r,z \\right )} - \\frac{d_{r}^{2} r^{4}}{R_{m}} A{\\left (t,r,z \\right )} + \\frac{d_{r} r^{3}}{R_{m}} A{\\left (t,r,z \\right )}\\\\\\frac{1.0 r^{4}}{R_{m}} Q^{2} B{\\left (t,r,z \\right )} - 2.0 i Q c_{1} r^{3} A{\\left (t,r,z \\right )} - 1.0 i Q r^{4} u{\\left (t,r,z \\right )} - \\frac{d_{r}^{2} r^{4}}{R_{m}} B{\\left (t,r,z \\right )} - \\frac{d_{r} r^{3}}{R_{m}} B{\\left (t,r,z \\right )} + \\frac{r^{2}}{R_{m}} B{\\left (t,r,z \\right )}\\end{matrix}\\right]$$"
      ],
      "text/plain": [
       "⎡          4  3                      3  3                   2   2  3          \n",
       "⎢  - -1.0⋅Q ⋅r ⋅ψ(t, r, z)    2.0⋅ⅈ⋅Q ⋅r ⋅A(t, r, z)   2.0⋅Q ⋅dᵣ ⋅r ⋅ψ(t, r, z\n",
       "⎢- ──────────────────────── + ────────────────────── + ───────────────────────\n",
       "⎢             Rₑ                        β                         Rₑ          \n",
       "⎢                                                                             \n",
       "⎢                                                                             \n",
       "⎢                                                                             \n",
       "⎢                                                                             \n",
       "⎢                                                                             \n",
       "⎢                                                                             \n",
       "⎢                                                                             \n",
       "⎢                                                                             \n",
       "⎢                                                                             \n",
       "⎢                                                                             \n",
       "⎢                                                                             \n",
       "⎢                                                                             \n",
       "⎢                                                                             \n",
       "⎢                                                                             \n",
       "⎣                                                                             \n",
       "\n",
       "               2     2                                                        \n",
       ")   -2.0⋅(-1)⋅Q ⋅dᵣ⋅r ⋅ψ(t, r, z)                     4                       \n",
       "─ - ───────────────────────────── - -3.0⋅(-1)⋅ⅈ⋅Q⋅c₁⋅r ⋅u(t, r, z) - -3.0⋅(-1)\n",
       "                  Rₑ                                                          \n",
       "                                                                              \n",
       "        2  4                                                                  \n",
       "   1.0⋅Q ⋅r ⋅u(t, r, z)               3                                       \n",
       "   ──────────────────── + 4.0⋅ⅈ⋅Q⋅c₁⋅r ⋅ψ(t, r, z) + 2.0⋅ⅈ⋅Q⋅c₂⋅r⋅ψ(t, r, z) -\n",
       "            Rₑ                                                                \n",
       "                                                                              \n",
       "                                            2  4                              \n",
       "                                       1.0⋅Q ⋅r ⋅A(t, r, z)               4   \n",
       "                                       ──────────────────── - - -1.0⋅ⅈ⋅Q⋅r ⋅ψ(\n",
       "                                               R_m                            \n",
       "                                                                              \n",
       "                   2  4                                                       \n",
       "              1.0⋅Q ⋅r ⋅B(t, r, z)                     3                      \n",
       "              ──────────────────── - -2.0⋅(-1)⋅ⅈ⋅Q⋅c₁⋅r ⋅A(t, r, z) - - -1.0⋅ⅈ\n",
       "                      R_m                                                     \n",
       "\n",
       "                                        2  3                          2       \n",
       "         2              -2.0⋅(-1)⋅ⅈ⋅Q⋅dᵣ ⋅r ⋅A(t, r, z)   2.0⋅ⅈ⋅Q⋅dᵣ⋅r ⋅A(t, r\n",
       "⋅ⅈ⋅Q⋅c₂⋅r ⋅u(t, r, z) - ─────────────────────────────── + ────────────────────\n",
       "                                       β                             β        \n",
       "                                                                              \n",
       "                4                2  4                  3               3      \n",
       " -2.0⋅(-1)⋅ⅈ⋅Q⋅r ⋅B(t, r, z)   dᵣ ⋅r ⋅u(t, r, z)   dᵣ⋅r ⋅u(t, r, z)   r ⋅u(t, \n",
       " ─────────────────────────── - ───────────────── - ──────────────── + ────────\n",
       "              β                        Rₑ                 Rₑ                Rₑ\n",
       "                                                                              \n",
       "             2  4                  3                                          \n",
       "           dᵣ ⋅r ⋅A(t, r, z)   dᵣ⋅r ⋅A(t, r, z)                               \n",
       "t, r, z) - ───────────────── + ────────────────                               \n",
       "                  R_m                R_m                                      \n",
       "                                                                              \n",
       "                     2  4                  3               2                  \n",
       "    4              dᵣ ⋅r ⋅B(t, r, z)   dᵣ⋅r ⋅B(t, r, z)   r ⋅B(t, r, z)       \n",
       "⋅Q⋅r ⋅u(t, r, z) - ───────────────── - ──────────────── + ─────────────       \n",
       "                          R_m                R_m               R_m            \n",
       "\n",
       "         4  3                  3  2                  2                        \n",
       ", z)   dᵣ ⋅r ⋅ψ(t, r, z)   2⋅dᵣ ⋅r ⋅ψ(t, r, z)   3⋅dᵣ ⋅r⋅ψ(t, r, z)   3⋅dᵣ⋅ψ(t\n",
       "──── - ───────────────── + ─────────────────── - ────────────────── + ────────\n",
       "               Rₑ                   Rₑ                   Rₑ                  R\n",
       "                                                                              \n",
       "                                                                              \n",
       "r, z)                                                                         \n",
       "─────                                                                         \n",
       "                                                                              \n",
       "                                                                              \n",
       "                                                                              \n",
       "                                                                              \n",
       "                                                                              \n",
       "                                                                              \n",
       "                                                                              \n",
       "                                                                              \n",
       "                                                                              \n",
       "                                                                              \n",
       "                                                                              \n",
       "\n",
       "       ⎤\n",
       ", r, z)⎥\n",
       "───────⎥\n",
       "ₑ      ⎥\n",
       "       ⎥\n",
       "       ⎥\n",
       "       ⎥\n",
       "       ⎥\n",
       "       ⎥\n",
       "       ⎥\n",
       "       ⎥\n",
       "       ⎥\n",
       "       ⎥\n",
       "       ⎥\n",
       "       ⎥\n",
       "       ⎥\n",
       "       ⎥\n",
       "       ⎥\n",
       "       ⎦"
      ]
     },
     "execution_count": 22,
     "metadata": {},
     "output_type": "execute_result"
    }
   ],
   "source": [
    "(r**4*(-L*V).subs(dz, 1j*Q)).expand()"
   ]
  },
  {
   "cell_type": "code",
   "execution_count": 23,
   "metadata": {
    "collapsed": false
   },
   "outputs": [
    {
     "data": {
      "image/png": "[encoded data removed]",
      "text/latex": [
       "$$\\left[\\begin{matrix}- \\frac{1.0 r}{R_{e}} Q^{4} \\psi{\\left (t,r,z \\right )} + \\frac{2.0 i}{\\beta} Q^{3} r A{\\left (t,r,z \\right )} + \\frac{2.0 r}{R_{e}} Q^{2} d_{r}^{2} \\psi{\\left (t,r,z \\right )} - \\frac{2.0 d_{r}}{R_{e}} Q^{2} \\psi{\\left (t,r,z \\right )} - 3.0 i Q c_{1} r^{2} u{\\left (t,r,z \\right )} - 3.0 i Q c_{2} u{\\left (t,r,z \\right )} - \\frac{2.0 i}{\\beta} Q d_{r}^{2} r A{\\left (t,r,z \\right )} + \\frac{2.0 i}{\\beta} Q d_{r} A{\\left (t,r,z \\right )} - \\frac{d_{r}^{4} r}{R_{e}} \\psi{\\left (t,r,z \\right )} + \\frac{2 d_{r}^{3}}{R_{e}} \\psi{\\left (t,r,z \\right )} - \\frac{3 d_{r}^{2}}{R_{e} r} \\psi{\\left (t,r,z \\right )} + \\frac{3 d_{r}}{R_{e} r^{2}} \\psi{\\left (t,r,z \\right )}\\\\\\frac{1.0 r^{2}}{R_{e}} Q^{2} u{\\left (t,r,z \\right )} + 4.0 i Q c_{1} r \\psi{\\left (t,r,z \\right )} + \\frac{2.0 i}{r} Q c_{2} \\psi{\\left (t,r,z \\right )} - \\frac{2.0 i}{\\beta} Q r^{2} B{\\left (t,r,z \\right )} - \\frac{d_{r}^{2} r^{2}}{R_{e}} u{\\left (t,r,z \\right )} - \\frac{d_{r} r}{R_{e}} u{\\left (t,r,z \\right )} + \\frac{r}{R_{e}} u{\\left (t,r,z \\right )}\\\\\\frac{1.0 r^{2}}{R_{m}} Q^{2} A{\\left (t,r,z \\right )} - 1.0 i Q r^{2} \\psi{\\left (t,r,z \\right )} - \\frac{d_{r}^{2} r^{2}}{R_{m}} A{\\left (t,r,z \\right )} + \\frac{d_{r} r}{R_{m}} A{\\left (t,r,z \\right )}\\\\\\frac{1.0 r^{2}}{R_{m}} Q^{2} B{\\left (t,r,z \\right )} - 2.0 i Q c_{1} r A{\\left (t,r,z \\right )} - 1.0 i Q r^{2} u{\\left (t,r,z \\right )} - \\frac{d_{r}^{2} r^{2}}{R_{m}} B{\\left (t,r,z \\right )} - \\frac{d_{r} r}{R_{m}} B{\\left (t,r,z \\right )} + \\frac{1}{R_{m}} B{\\left (t,r,z \\right )}\\end{matrix}\\right]$$"
      ],
      "text/plain": [
       "⎡          4                        3                     2   2               \n",
       "⎢  - -1.0⋅Q ⋅r⋅ψ(t, r, z)    2.0⋅ⅈ⋅Q ⋅r⋅A(t, r, z)   2.0⋅Q ⋅dᵣ ⋅r⋅ψ(t, r, z)  \n",
       "⎢- ─────────────────────── + ───────────────────── + ─────────────────────── -\n",
       "⎢             Rₑ                       β                        Rₑ            \n",
       "⎢                                                                             \n",
       "⎢                                                                             \n",
       "⎢                                                                             \n",
       "⎢                                                                         1.0⋅\n",
       "⎢                                                                         ────\n",
       "⎢                                                                             \n",
       "⎢                                                                             \n",
       "⎢                                                                             \n",
       "⎢                                                                             \n",
       "⎢                                                                             \n",
       "⎢                                                                             \n",
       "⎢                                                                             \n",
       "⎢                                                                             \n",
       "⎢                                                                             \n",
       "⎢                                                                             \n",
       "⎣                                                                             \n",
       "\n",
       "            2                                                                 \n",
       " -2.0⋅(-1)⋅Q ⋅dᵣ⋅ψ(t, r, z)                     2                             \n",
       " ────────────────────────── - -3.0⋅(-1)⋅ⅈ⋅Q⋅c₁⋅r ⋅u(t, r, z) - -3.0⋅(-1)⋅ⅈ⋅Q⋅c\n",
       "             Rₑ                                                               \n",
       "                                                                              \n",
       "                                                                              \n",
       " 2  2                                                                         \n",
       "Q ⋅r ⋅u(t, r, z)                             2.0⋅ⅈ⋅Q⋅c₂⋅ψ(t, r, z)   -2.0⋅(-1)\n",
       "──────────────── + 4.0⋅ⅈ⋅Q⋅c₁⋅r⋅ψ(t, r, z) + ───────────────────── - ─────────\n",
       "     Rₑ                                                r                      \n",
       "                                                                              \n",
       "                                   2  2                                       \n",
       "                              1.0⋅Q ⋅r ⋅A(t, r, z)               2            \n",
       "                              ──────────────────── - - -1.0⋅ⅈ⋅Q⋅r ⋅ψ(t, r, z) \n",
       "                                      R_m                                     \n",
       "                                                                              \n",
       "            2  2                                                              \n",
       "       1.0⋅Q ⋅r ⋅B(t, r, z)                                               2   \n",
       "       ──────────────────── - -2.0⋅(-1)⋅ⅈ⋅Q⋅c₁⋅r⋅A(t, r, z) - - -1.0⋅ⅈ⋅Q⋅r ⋅u(\n",
       "               R_m                                                            \n",
       "\n",
       "                               2                                          4   \n",
       "               -2.0⋅(-1)⋅ⅈ⋅Q⋅dᵣ ⋅r⋅A(t, r, z)   2.0⋅ⅈ⋅Q⋅dᵣ⋅A(t, r, z)   dᵣ ⋅r⋅\n",
       "₂⋅u(t, r, z) - ────────────────────────────── + ───────────────────── - ──────\n",
       "                             β                            β                   \n",
       "                                                                              \n",
       "                                                                              \n",
       "      2                2  2                                                   \n",
       "⋅ⅈ⋅Q⋅r ⋅B(t, r, z)   dᵣ ⋅r ⋅u(t, r, z)   dᵣ⋅r⋅u(t, r, z)   r⋅u(t, r, z)       \n",
       "────────────────── - ───────────────── - ─────────────── + ────────────       \n",
       "    β                        Rₑ                 Rₑ              Rₑ            \n",
       "                                                                              \n",
       "    2  2                                                                      \n",
       "  dᵣ ⋅r ⋅A(t, r, z)   dᵣ⋅r⋅A(t, r, z)                                         \n",
       "- ───────────────── + ───────────────                                         \n",
       "         R_m                R_m                                               \n",
       "                                                                              \n",
       "             2  2                                                             \n",
       "           dᵣ ⋅r ⋅B(t, r, z)   dᵣ⋅r⋅B(t, r, z)   B(t, r, z)                   \n",
       "t, r, z) - ───────────────── - ─────────────── + ──────────                   \n",
       "                  R_m                R_m            R_m                       \n",
       "\n",
       "                 3                  2                             ⎤\n",
       "ψ(t, r, z)   2⋅dᵣ ⋅ψ(t, r, z)   3⋅dᵣ ⋅ψ(t, r, z)   3⋅dᵣ⋅ψ(t, r, z)⎥\n",
       "────────── + ──────────────── - ──────────────── + ───────────────⎥\n",
       " Rₑ                 Rₑ                Rₑ⋅r                  2     ⎥\n",
       "                                                        Rₑ⋅r      ⎥\n",
       "                                                                  ⎥\n",
       "                                                                  ⎥\n",
       "                                                                  ⎥\n",
       "                                                                  ⎥\n",
       "                                                                  ⎥\n",
       "                                                                  ⎥\n",
       "                                                                  ⎥\n",
       "                                                                  ⎥\n",
       "                                                                  ⎥\n",
       "                                                                  ⎥\n",
       "                                                                  ⎥\n",
       "                                                                  ⎥\n",
       "                                                                  ⎥\n",
       "                                                                  ⎥\n",
       "                                                                  ⎦"
      ]
     },
     "execution_count": 23,
     "metadata": {},
     "output_type": "execute_result"
    }
   ],
   "source": [
    "(r**2*(-L*V).subs(dz, 1j*Q)).expand()"
   ]
  },
  {
   "cell_type": "code",
   "execution_count": 40,
   "metadata": {
    "collapsed": true
   },
   "outputs": [],
   "source": [
    "Identity_matrix = Matrix([[1, 0, 0, 0],\n",
    "             [0, 1, 0, 0],\n",
    "             [0, 0, 1, 0],\n",
    "             [0, 0, 0, 1]])"
   ]
  },
  {
   "cell_type": "code",
   "execution_count": 42,
   "metadata": {
    "collapsed": false
   },
   "outputs": [],
   "source": [
    "M = (L - sigma*Identity_matrix).subs(dz, 1j*Q)"
   ]
  },
  {
   "cell_type": "code",
   "execution_count": 43,
   "metadata": {
    "collapsed": false
   },
   "outputs": [],
   "source": [
    "nokr = M.subs(dr, 0)"
   ]
  },
  {
   "cell_type": "code",
   "execution_count": 44,
   "metadata": {
    "collapsed": false
   },
   "outputs": [
    {
     "data": {
      "image/png": "[encoded data removed]",
      "text/latex": [
       "$$- \\frac{1.0 Q^{10}}{R_{e}^{2} R_{m}^{2} r} - \\frac{4.0 Q^{8}}{R_{e} R_{m} \\beta r} - \\frac{1.0 Q^{8} \\sigma}{R_{e} R_{m}^{2} r} - \\frac{2.0 Q^{8} \\sigma}{R_{e}^{2} R_{m} r} - \\frac{1.0 Q^{8}}{R_{e}^{2} R_{m}^{2} r^{2}} - \\frac{1.0 Q^{8}}{R_{e}^{2} R_{m}^{2} r^{3}} - \\frac{4.0 Q^{6}}{\\beta^{2} r} - \\frac{2.0 Q^{6} \\sigma}{R_{m} \\beta r} - \\frac{12.0 Q^{6} c_{1}^{2}}{R_{m}^{2} r} - \\frac{18.0 Q^{6} c_{1} c_{2}}{R_{m}^{2} r^{3}} - \\frac{6.0 Q^{6} c_{2}^{2}}{R_{m}^{2} r^{5}} - \\frac{4.0 Q^{6} \\sigma}{R_{e} \\beta r} - \\frac{2.0 Q^{6} \\sigma^{2}}{R_{e} R_{m} r} - \\frac{2.0 Q^{6}}{R_{e} R_{m} \\beta r^{2}} - \\frac{2.0 Q^{6}}{R_{e} R_{m} \\beta r^{3}} + \\frac{1.0 Q^{6} \\sigma}{R_{e} R_{m}^{2}} - \\frac{1.0 Q^{6} \\sigma}{R_{e} R_{m}^{2} r^{3}} - \\frac{1.0 Q^{6} \\sigma^{2}}{R_{e}^{2} r} - \\frac{2.0 Q^{6} \\sigma}{R_{e}^{2} R_{m} r^{2}} - \\frac{1.0 Q^{6} \\sigma}{R_{e}^{2} R_{m} r^{3}} - \\frac{1.0 Q^{6}}{R_{e}^{2} R_{m}^{2} r^{4}} - \\frac{12.0 Q^{4} c_{1}^{2}}{\\beta r} - \\frac{12.0 Q^{4} c_{1} c_{2}}{\\beta r^{3}} - \\frac{2.0 Q^{4} \\sigma^{2}}{\\beta r} - \\frac{24.0 Q^{4} c_{1}^{2} \\sigma}{R_{m} r} - \\frac{36.0 c_{1} c_{2} \\sigma}{R_{m} r^{3}} Q^{4} - \\frac{12.0 Q^{4} c_{2}^{2} \\sigma}{R_{m} r^{5}} + \\frac{2.0 Q^{4} \\sigma}{R_{m} \\beta} - \\frac{2.0 Q^{4} \\sigma}{R_{m} \\beta r^{3}} - \\frac{12.0 Q^{4} c_{1}^{2}}{R_{m}^{2} r^{3}} - \\frac{18.0 Q^{4} c_{1} c_{2}}{R_{m}^{2} r^{5}} - \\frac{6.0 Q^{4} c_{2}^{2}}{R_{m}^{2} r^{7}} + \\frac{1.0 \\sigma^{2}}{R_{m}^{2}} Q^{4} - \\frac{1.0 Q^{4} \\sigma^{3}}{R_{e} r} - \\frac{2.0 Q^{4} \\sigma}{R_{e} \\beta r^{2}} + \\frac{2.0 Q^{4} \\sigma^{2}}{R_{e} R_{m}} - \\frac{1.0 Q^{4} \\sigma^{2}}{R_{e} R_{m} r^{3}} - \\frac{2.0 Q^{4}}{R_{e} R_{m} \\beta r^{4}} + \\frac{1.0 Q^{4} \\sigma}{R_{e} R_{m}^{2} r} + \\frac{1.0 Q^{4} \\sigma}{R_{e} R_{m}^{2} r^{2}} - \\frac{1.0 Q^{4} \\sigma^{2}}{R_{e}^{2} r^{2}} - \\frac{1.0 Q^{4} \\sigma}{R_{e}^{2} R_{m} r^{4}} - \\frac{12.0 \\sigma^{2}}{r} Q^{2} c_{1}^{2} - \\frac{18.0 c_{1}}{r^{3}} Q^{2} c_{2} \\sigma^{2} - \\frac{6.0 \\sigma^{2}}{r^{5}} Q^{2} c_{2}^{2} + \\frac{2.0 \\sigma^{2}}{\\beta} Q^{2} - \\frac{12.0 Q^{2} c_{1}^{2} \\sigma}{R_{m} r^{3}} - \\frac{18.0 c_{1} c_{2} \\sigma}{R_{m} r^{5}} Q^{2} - \\frac{6.0 Q^{2} c_{2}^{2} \\sigma}{R_{m} r^{7}} + \\frac{2.0 \\sigma^{3}}{R_{m}} Q^{2} + \\frac{1.0 Q^{2} \\sigma^{2}}{R_{m}^{2} r^{2}} + \\frac{1.0 \\sigma^{3}}{R_{e}} Q^{2} + \\frac{2.0 Q^{2} \\sigma^{2}}{R_{e} R_{m} r} + \\frac{1.0 Q^{2} \\sigma^{2}}{R_{e} R_{m} r^{2}} + \\frac{1.0 Q^{2} \\sigma}{R_{e} R_{m}^{2} r^{3}} + 1.0 \\sigma^{4} + \\frac{1.0 \\sigma^{3}}{R_{m} r^{2}} + \\frac{1.0 \\sigma^{3}}{R_{e} r} + \\frac{1.0 \\sigma^{2}}{R_{e} R_{m} r^{3}}$$"
      ],
      "text/plain": [
       "          10               8           8                 8              8     \n",
       "  - -1.0⋅Q      -4.0⋅(-1)⋅Q    - -1.0⋅Q ⋅σ    -2.0⋅(-1)⋅Q ⋅σ    - -1.0⋅Q      \n",
       "- ─────────── - ──────────── - ──────────── - ────────────── - ─────────── - ─\n",
       "     2    2      Rₑ⋅R_m⋅β⋅r           2           2              2    2  2    \n",
       "   Rₑ ⋅R_m ⋅r                   Rₑ⋅R_m ⋅r       Rₑ ⋅R_m⋅r      Rₑ ⋅R_m ⋅r    R\n",
       "\n",
       "        8               6              6                 6   2               6\n",
       "- -1.0⋅Q     -4.0⋅(-1)⋅Q    -2.0⋅(-1)⋅Q ⋅σ   -12.0⋅(-1)⋅Q ⋅c₁    -18.0⋅(-1)⋅Q \n",
       "────────── - ──────────── - ────────────── - ───────────────── - ─────────────\n",
       " 2    2  3        2            R_m⋅β⋅r                2                   2  3\n",
       "ₑ ⋅R_m ⋅r        β ⋅r                              R_m ⋅r              R_m ⋅r \n",
       "\n",
       "                    6   2              6                6  2              6   \n",
       "⋅c₁⋅c₂   -6.0⋅(-1)⋅Q ⋅c₂    -4.0⋅(-1)⋅Q ⋅σ   -2.0⋅(-1)⋅Q ⋅σ    -2.0⋅(-1)⋅Q    \n",
       "────── - ──────────────── - ────────────── - ─────────────── - ──────────── - \n",
       "                2  5            Rₑ⋅β⋅r           Rₑ⋅R_m⋅r                2    \n",
       "             R_m ⋅r                                            Rₑ⋅R_m⋅β⋅r     \n",
       "\n",
       "           6        6             6              6  2               6         \n",
       "-2.0⋅(-1)⋅Q    1.0⋅Q ⋅σ   - -1.0⋅Q ⋅σ    - -1.0⋅Q ⋅σ     -2.0⋅(-1)⋅Q ⋅σ   - -1\n",
       "──────────── + ──────── - ──────────── - ───────────── - ────────────── - ────\n",
       "          3          2           2  3          2             2      2        2\n",
       "Rₑ⋅R_m⋅β⋅r     Rₑ⋅R_m      Rₑ⋅R_m ⋅r         Rₑ ⋅r         Rₑ ⋅R_m⋅r       Rₑ \n",
       "\n",
       "    6               6                4   2               4                    \n",
       ".0⋅Q ⋅σ     - -1.0⋅Q     -12.0⋅(-1)⋅Q ⋅c₁    -12.0⋅(-1)⋅Q ⋅c₁⋅c₂   -2.0⋅(-1)⋅Q\n",
       "──────── - ─────────── - ───────────────── - ─────────────────── - ───────────\n",
       "      3      2    2  4          β⋅r                     3                β⋅r  \n",
       "⋅R_m⋅r     Rₑ ⋅R_m ⋅r                                β⋅r                      \n",
       "\n",
       "4  2               4   2                 4                       4   2        \n",
       " ⋅σ    -24.0⋅(-1)⋅Q ⋅c₁ ⋅σ   -36.0⋅(-1)⋅Q ⋅c₁⋅c₂⋅σ   -12.0⋅(-1)⋅Q ⋅c₂ ⋅σ   2.0\n",
       "──── - ─────────────────── - ───────────────────── - ─────────────────── + ───\n",
       "              R_m⋅r                       3                      5          R_\n",
       "                                     R_m⋅r                  R_m⋅r             \n",
       "\n",
       "  4                4                 4   2               4                    \n",
       "⋅Q ⋅σ   -2.0⋅(-1)⋅Q ⋅σ   -12.0⋅(-1)⋅Q ⋅c₁    -18.0⋅(-1)⋅Q ⋅c₁⋅c₂   -6.0⋅(-1)⋅Q\n",
       "───── - ────────────── - ───────────────── - ─────────────────── - ───────────\n",
       "m⋅β               3              2  3                 2  5                2  7\n",
       "           R_m⋅β⋅r            R_m ⋅r               R_m ⋅r              R_m ⋅r \n",
       "\n",
       "4   2        4  2           4  3               4          4  2           4  2 \n",
       " ⋅c₂    1.0⋅Q ⋅σ    - -1.0⋅Q ⋅σ     -2.0⋅(-1)⋅Q ⋅σ   2.0⋅Q ⋅σ    - -1.0⋅Q ⋅σ  \n",
       "───── + ───────── - ───────────── - ────────────── + ───────── - ─────────────\n",
       "              2          Rₑ⋅r                2         Rₑ⋅R_m              3  \n",
       "           R_m                         Rₑ⋅β⋅r                      Rₑ⋅R_m⋅r   \n",
       "\n",
       "              4         4           4              4  2            4          \n",
       "   -2.0⋅(-1)⋅Q     1.0⋅Q ⋅σ    1.0⋅Q ⋅σ    - -1.0⋅Q ⋅σ     - -1.0⋅Q ⋅σ    -12.\n",
       " - ──────────── + ───────── + ────────── - ───────────── - ──────────── - ────\n",
       "             4          2           2  2         2  2         2      4        \n",
       "   Rₑ⋅R_m⋅β⋅r     Rₑ⋅R_m ⋅r   Rₑ⋅R_m ⋅r        Rₑ ⋅r        Rₑ ⋅R_m⋅r         \n",
       "\n",
       "        2   2  2               2        2              2   2  2        2  2   \n",
       "0⋅(-1)⋅Q ⋅c₁ ⋅σ    -18.0⋅(-1)⋅Q ⋅c₁⋅c₂⋅σ    -6.0⋅(-1)⋅Q ⋅c₂ ⋅σ    2.0⋅Q ⋅σ    \n",
       "──────────────── - ────────────────────── - ─────────────────── + ───────── - \n",
       "     r                        3                       5               β       \n",
       "                             r                       r                        \n",
       "\n",
       "            2   2                 2                      2   2          2  3  \n",
       "-12.0⋅(-1)⋅Q ⋅c₁ ⋅σ   -18.0⋅(-1)⋅Q ⋅c₁⋅c₂⋅σ   -6.0⋅(-1)⋅Q ⋅c₂ ⋅σ   2.0⋅Q ⋅σ   \n",
       "─────────────────── - ───────────────────── - ────────────────── + ───────── +\n",
       "            3                      5                     7            R_m     \n",
       "       R_m⋅r                  R_m⋅r                 R_m⋅r                     \n",
       "\n",
       "      2  2        2  3        2  2        2  2         2                    3 \n",
       " 1.0⋅Q ⋅σ    1.0⋅Q ⋅σ    2.0⋅Q ⋅σ    1.0⋅Q ⋅σ     1.0⋅Q ⋅σ         4   1.0⋅σ  \n",
       " ───────── + ───────── + ───────── + ───────── + ────────── + 1.0⋅σ  + ────── \n",
       "     2  2        Rₑ       Rₑ⋅R_m⋅r           2         2  3                 2 \n",
       "  R_m ⋅r                             Rₑ⋅R_m⋅r    Rₑ⋅R_m ⋅r             R_m⋅r  \n",
       "\n",
       "       3          2 \n",
       "  1.0⋅σ      1.0⋅σ  \n",
       "+ ────── + ─────────\n",
       "   Rₑ⋅r            3\n",
       "           Rₑ⋅R_m⋅r "
      ]
     },
     "execution_count": 44,
     "metadata": {},
     "output_type": "execute_result"
    }
   ],
   "source": [
    "nokr.det()"
   ]
  },
  {
   "cell_type": "code",
   "execution_count": 38,
   "metadata": {
    "collapsed": false
   },
   "outputs": [
    {
     "data": {
      "text/plain": [
       "<property at 0x1094d16d8>"
      ]
     },
     "execution_count": 38,
     "metadata": {},
     "output_type": "execute_result"
    }
   ],
   "source": []
  },
  {
   "cell_type": "code",
   "execution_count": null,
   "metadata": {
    "collapsed": true
   },
   "outputs": [],
   "source": []
  }
 ],
 "metadata": {
  "kernelspec": {
   "display_name": "Python 3",
   "language": "python",
   "name": "python3"
  },
  "language_info": {
   "codemirror_mode": {
    "name": "ipython",
    "version": 3
   },
   "file_extension": ".py",
   "mimetype": "text/x-python",
   "name": "python",
   "nbconvert_exporter": "python",
   "pygments_lexer": "ipython3",
   "version": "3.5.1"
  }
 },
 "nbformat": 4,
 "nbformat_minor": 0
}
