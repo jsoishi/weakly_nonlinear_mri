{
 "cells": [
  {
   "cell_type": "code",
   "execution_count": 1,
   "metadata": {
    "collapsed": false
   },
   "outputs": [],
   "source": [
    "from sympy import *\n",
    "from sympy.interactive import printing\n",
    "printing.init_printing(use_latex=True)\n",
    "%matplotlib inline\n",
    "\n",
    "Re, Rm, omega0, q, B0, pi, Q, beta = symbols(\"R_e R_m Omega_0 q B_0 pi Q beta\", real=True)\n",
    "dt, dr, dz = symbols(\"d_t d_r d_z\")\n",
    "r, z, t  = symbols(\"r, z, t\")\n",
    "sigma = symbols(\"sigma\")\n",
    "\n",
    "psi = Function('psi')(t,r,z)\n",
    "u = Function('u')(t,r,z)\n",
    "A = Function('A')(t,r,z)\n",
    "B = Function('B')(t,r,z)\n",
    "\n",
    "#State vector matrix\n",
    "V = Matrix([psi, u, A, B])\n"
   ]
  },
  {
   "cell_type": "markdown",
   "metadata": {},
   "source": [
    "Assume\n",
    "\n",
    "$\\Omega(r) = \\Omega_0 r^{-q}$\n",
    "\n",
    "$\\partial_r \\Omega(r) = -q \\Omega_0 r^{-q - 1}$\n"
   ]
  },
  {
   "cell_type": "code",
   "execution_count": 2,
   "metadata": {
    "collapsed": false
   },
   "outputs": [],
   "source": [
    "L0 = Matrix([[(1/Re)*((-3/r**4)*dr + (3/r**3)*dr**2 - (2/r**2)*dr**3+(1/r)*dr**4), 0, 0, 0],\n",
    "            [0, (1/Re)*(dr**2 + (1/r)*dr - (1/r)), 0, 0],\n",
    "            [0, 0, (1/Rm)*(dr**2 - (1/r)*dr), 0],\n",
    "            [0, 0, 0, (1/Rm)*(dr**2 + (1/r)*dr - (1/r**2))]])"
   ]
  },
  {
   "cell_type": "code",
   "execution_count": 3,
   "metadata": {
    "collapsed": false
   },
   "outputs": [
    {
     "data": {
      "image/png": "[encoded data removed]",
      "text/latex": [
       "$$\\left[\\begin{matrix}\\frac{1}{R_{e}} \\left(\\frac{d_{r}^{4}}{r} - \\frac{2 d_{r}^{3}}{r^{2}} + \\frac{3 d_{r}^{2}}{r^{3}} - \\frac{3 d_{r}}{r^{4}}\\right) & 0 & 0 & 0\\\\0 & \\frac{1}{R_{e}} \\left(d_{r}^{2} + \\frac{d_{r}}{r} - \\frac{1}{r}\\right) & 0 & 0\\\\0 & 0 & \\frac{1}{R_{m}} \\left(d_{r}^{2} - \\frac{d_{r}}{r}\\right) & 0\\\\0 & 0 & 0 & \\frac{1}{R_{m}} \\left(d_{r}^{2} + \\frac{d_{r}}{r} - \\frac{1}{r^{2}}\\right)\\end{matrix}\\right]$$"
      ],
      "text/plain": [
       "⎡  4       3       2                                              ⎤\n",
       "⎢dᵣ    2⋅dᵣ    3⋅dᵣ    3⋅dᵣ                                       ⎥\n",
       "⎢─── - ───── + ───── - ────                                       ⎥\n",
       "⎢ r       2       3      4                                        ⎥\n",
       "⎢        r       r      r                                         ⎥\n",
       "⎢──────────────────────────       0           0            0      ⎥\n",
       "⎢            Rₑ                                                   ⎥\n",
       "⎢                                                                 ⎥\n",
       "⎢                              2   dᵣ   1                         ⎥\n",
       "⎢                            dᵣ  + ── - ─                         ⎥\n",
       "⎢                                  r    r                         ⎥\n",
       "⎢            0               ────────────     0            0      ⎥\n",
       "⎢                                 Rₑ                              ⎥\n",
       "⎢                                                                 ⎥\n",
       "⎢                                            2   dᵣ               ⎥\n",
       "⎢                                          dᵣ  - ──               ⎥\n",
       "⎢                                                r                ⎥\n",
       "⎢            0                    0        ────────        0      ⎥\n",
       "⎢                                            R_m                  ⎥\n",
       "⎢                                                                 ⎥\n",
       "⎢                                                      2   dᵣ   1 ⎥\n",
       "⎢                                                    dᵣ  + ── - ──⎥\n",
       "⎢                                                          r     2⎥\n",
       "⎢                                                               r ⎥\n",
       "⎢            0                    0           0      ─────────────⎥\n",
       "⎣                                                         R_m     ⎦"
      ]
     },
     "execution_count": 3,
     "metadata": {},
     "output_type": "execute_result"
    }
   ],
   "source": [
    "L0"
   ]
  },
  {
   "cell_type": "code",
   "execution_count": 4,
   "metadata": {
    "collapsed": false
   },
   "outputs": [],
   "source": [
    "L1 = Matrix([[0, 3*omega0*r**(-q), (2/beta)*(1/r)*(dr**2 - (1/r)*dr), 0],\n",
    "             [-(4/r)*(omega0*r**(-q)) - (-q*omega0*r**(-q-1)), 0, 0, (2/beta)],\n",
    "             [1, 0, 0, 0],\n",
    "             [0, 1, (2/r)*(omega0*r**(-q)) + (-q*omega0*r**(-q-1)), 0]])"
   ]
  },
  {
   "cell_type": "code",
   "execution_count": 5,
   "metadata": {
    "collapsed": false
   },
   "outputs": [
    {
     "data": {
      "image/png": "[encoded data removed]",
      "text/latex": [
       "$$\\left[\\begin{matrix}0 & 3 \\Omega_{0} r^{- q} & \\frac{1}{\\beta r} \\left(2 d_{r}^{2} - \\frac{2 d_{r}}{r}\\right) & 0\\\\\\Omega_{0} q r^{- q - 1} - \\frac{4 \\Omega_{0}}{r} r^{- q} & 0 & 0 & \\frac{2}{\\beta}\\\\1 & 0 & 0 & 0\\\\0 & 1 & - \\Omega_{0} q r^{- q - 1} + \\frac{2 \\Omega_{0}}{r} r^{- q} & 0\\end{matrix}\\right]$$"
      ],
      "text/plain": [
       "⎡                                           ⎛  2   dᵣ⎞          ⎤\n",
       "⎢                                         2⋅⎜dᵣ  - ──⎟          ⎥\n",
       "⎢                               -q          ⎝      r ⎠          ⎥\n",
       "⎢           0             3⋅Ω₀⋅r          ────────────         0⎥\n",
       "⎢                                             β⋅r               ⎥\n",
       "⎢                                                               ⎥\n",
       "⎢                     -q                                        ⎥\n",
       "⎢      -q - 1   4⋅Ω₀⋅r                                         2⎥\n",
       "⎢Ω₀⋅q⋅r       - ────────     0                  0              ─⎥\n",
       "⎢                  r                                           β⎥\n",
       "⎢                                                               ⎥\n",
       "⎢           1                0                  0              0⎥\n",
       "⎢                                                               ⎥\n",
       "⎢                                                          -q   ⎥\n",
       "⎢                                           -q - 1   2⋅Ω₀⋅r     ⎥\n",
       "⎢           0                1      - Ω₀⋅q⋅r       + ────────  0⎥\n",
       "⎣                                                       r       ⎦"
      ]
     },
     "execution_count": 5,
     "metadata": {},
     "output_type": "execute_result"
    }
   ],
   "source": [
    "L1"
   ]
  },
  {
   "cell_type": "code",
   "execution_count": 6,
   "metadata": {
    "collapsed": true
   },
   "outputs": [],
   "source": [
    "L2 = Matrix([[(1/Re)*((-2/r**2)*dr + (2/r)*dr**2), 0, 0, 0],\n",
    "             [0, 1/Re, 0, 0],\n",
    "             [0, 0, 1/Rm, 0],\n",
    "             [0, 0, 0, 1/Rm]])"
   ]
  },
  {
   "cell_type": "code",
   "execution_count": 7,
   "metadata": {
    "collapsed": false
   },
   "outputs": [
    {
     "data": {
      "image/png": "[encoded data removed]",
      "text/latex": [
       "$$\\left[\\begin{matrix}\\frac{1}{R_{e}} \\left(\\frac{2 d_{r}^{2}}{r} - \\frac{2 d_{r}}{r^{2}}\\right) & 0 & 0 & 0\\\\0 & \\frac{1}{R_{e}} & 0 & 0\\\\0 & 0 & \\frac{1}{R_{m}} & 0\\\\0 & 0 & 0 & \\frac{1}{R_{m}}\\end{matrix}\\right]$$"
      ],
      "text/plain": [
       "⎡    2                     ⎤\n",
       "⎢2⋅dᵣ    2⋅dᵣ              ⎥\n",
       "⎢───── - ────              ⎥\n",
       "⎢  r       2               ⎥\n",
       "⎢         r                ⎥\n",
       "⎢────────────  0    0    0 ⎥\n",
       "⎢     Rₑ                   ⎥\n",
       "⎢                          ⎥\n",
       "⎢              1           ⎥\n",
       "⎢     0        ──   0    0 ⎥\n",
       "⎢              Rₑ          ⎥\n",
       "⎢                          ⎥\n",
       "⎢                   1      ⎥\n",
       "⎢     0        0   ───   0 ⎥\n",
       "⎢                  R_m     ⎥\n",
       "⎢                          ⎥\n",
       "⎢                        1 ⎥\n",
       "⎢     0        0    0   ───⎥\n",
       "⎣                       R_m⎦"
      ]
     },
     "execution_count": 7,
     "metadata": {},
     "output_type": "execute_result"
    }
   ],
   "source": [
    "L2"
   ]
  },
  {
   "cell_type": "code",
   "execution_count": 8,
   "metadata": {
    "collapsed": true
   },
   "outputs": [],
   "source": [
    "L3 = Matrix([[0, 0, (2/beta)*(1/r), 0],\n",
    "             [0, 0, 0, 0],\n",
    "             [0, 0, 0, 0],\n",
    "             [0, 0, 0, 0]])"
   ]
  },
  {
   "cell_type": "code",
   "execution_count": 9,
   "metadata": {
    "collapsed": false
   },
   "outputs": [
    {
     "data": {
      "image/png": "[encoded data removed]",
      "text/latex": [
       "$$\\left[\\begin{matrix}0 & 0 & \\frac{2}{\\beta r} & 0\\\\0 & 0 & 0 & 0\\\\0 & 0 & 0 & 0\\\\0 & 0 & 0 & 0\\end{matrix}\\right]$$"
      ],
      "text/plain": [
       "⎡       2    ⎤\n",
       "⎢0  0  ───  0⎥\n",
       "⎢      β⋅r   ⎥\n",
       "⎢            ⎥\n",
       "⎢0  0   0   0⎥\n",
       "⎢            ⎥\n",
       "⎢0  0   0   0⎥\n",
       "⎢            ⎥\n",
       "⎣0  0   0   0⎦"
      ]
     },
     "execution_count": 9,
     "metadata": {},
     "output_type": "execute_result"
    }
   ],
   "source": [
    "L3"
   ]
  },
  {
   "cell_type": "code",
   "execution_count": 10,
   "metadata": {
    "collapsed": true
   },
   "outputs": [],
   "source": [
    "L4 = Matrix([[(1/Re)*(1/r), 0, 0, 0],\n",
    "             [0, 0, 0, 0],\n",
    "             [0, 0, 0, 0],\n",
    "             [0, 0, 0, 0]])"
   ]
  },
  {
   "cell_type": "code",
   "execution_count": 11,
   "metadata": {
    "collapsed": false
   },
   "outputs": [
    {
     "data": {
      "image/png": "[encoded data removed]",
      "text/latex": [
       "$$\\left[\\begin{matrix}\\frac{1}{R_{e} r} & 0 & 0 & 0\\\\0 & 0 & 0 & 0\\\\0 & 0 & 0 & 0\\\\0 & 0 & 0 & 0\\end{matrix}\\right]$$"
      ],
      "text/plain": [
       "⎡ 1           ⎤\n",
       "⎢────  0  0  0⎥\n",
       "⎢Rₑ⋅r         ⎥\n",
       "⎢             ⎥\n",
       "⎢ 0    0  0  0⎥\n",
       "⎢             ⎥\n",
       "⎢ 0    0  0  0⎥\n",
       "⎢             ⎥\n",
       "⎣ 0    0  0  0⎦"
      ]
     },
     "execution_count": 11,
     "metadata": {},
     "output_type": "execute_result"
    }
   ],
   "source": [
    "L4"
   ]
  },
  {
   "cell_type": "code",
   "execution_count": 12,
   "metadata": {
    "collapsed": true
   },
   "outputs": [],
   "source": [
    "G = Matrix([[0, 0, (2/beta)*(1/r)*(dr**2 - (1/r)*dr), 0],\n",
    "             [0, 0, 0, (2/beta)],\n",
    "             [1, 0, 0, 0],\n",
    "             [0, 1, 0, 0]])"
   ]
  },
  {
   "cell_type": "code",
   "execution_count": 13,
   "metadata": {
    "collapsed": false
   },
   "outputs": [
    {
     "data": {
      "image/png": "[encoded data removed]",
      "text/latex": [
       "$$\\left[\\begin{matrix}0 & 0 & \\frac{1}{\\beta r} \\left(2 d_{r}^{2} - \\frac{2 d_{r}}{r}\\right) & 0\\\\0 & 0 & 0 & \\frac{2}{\\beta}\\\\1 & 0 & 0 & 0\\\\0 & 1 & 0 & 0\\end{matrix}\\right]$$"
      ],
      "text/plain": [
       "⎡        ⎛  2   dᵣ⎞   ⎤\n",
       "⎢      2⋅⎜dᵣ  - ──⎟   ⎥\n",
       "⎢        ⎝      r ⎠   ⎥\n",
       "⎢0  0  ────────────  0⎥\n",
       "⎢          β⋅r        ⎥\n",
       "⎢                     ⎥\n",
       "⎢                    2⎥\n",
       "⎢0  0       0        ─⎥\n",
       "⎢                    β⎥\n",
       "⎢                     ⎥\n",
       "⎢1  0       0        0⎥\n",
       "⎢                     ⎥\n",
       "⎣0  1       0        0⎦"
      ]
     },
     "execution_count": 13,
     "metadata": {},
     "output_type": "execute_result"
    }
   ],
   "source": [
    "G"
   ]
  },
  {
   "cell_type": "code",
   "execution_count": 14,
   "metadata": {
    "collapsed": true
   },
   "outputs": [],
   "source": [
    "L = L0 + L1*dz + L2*dz**2 + L3*dz**3 + L4*dz**4"
   ]
  },
  {
   "cell_type": "code",
   "execution_count": 15,
   "metadata": {
    "collapsed": false
   },
   "outputs": [
    {
     "data": {
      "image/png": "[encoded data removed]",
      "text/latex": [
       "$$\\left[\\begin{matrix}\\frac{d_{z}^{4}}{R_{e} r} + \\frac{d_{z}^{2}}{R_{e}} \\left(\\frac{2 d_{r}^{2}}{r} - \\frac{2 d_{r}}{r^{2}}\\right) + \\frac{1}{R_{e}} \\left(\\frac{d_{r}^{4}}{r} - \\frac{2 d_{r}^{3}}{r^{2}} + \\frac{3 d_{r}^{2}}{r^{3}} - \\frac{3 d_{r}}{r^{4}}\\right) & 3 \\Omega_{0} d_{z} r^{- q} & \\frac{2 d_{z}^{3}}{\\beta r} + \\frac{2 d_{z}}{\\beta r} \\left(d_{r}^{2} - \\frac{d_{r}}{r}\\right) & 0\\\\d_{z} \\left(\\Omega_{0} q r^{- q - 1} - \\frac{4 \\Omega_{0}}{r} r^{- q}\\right) & \\frac{d_{z}^{2}}{R_{e}} + \\frac{1}{R_{e}} \\left(d_{r}^{2} + \\frac{d_{r}}{r} - \\frac{1}{r}\\right) & 0 & \\frac{2 d_{z}}{\\beta}\\\\d_{z} & 0 & \\frac{d_{z}^{2}}{R_{m}} + \\frac{1}{R_{m}} \\left(d_{r}^{2} - \\frac{d_{r}}{r}\\right) & 0\\\\0 & d_{z} & d_{z} \\left(- \\Omega_{0} q r^{- q - 1} + \\frac{2 \\Omega_{0}}{r} r^{- q}\\right) & \\frac{d_{z}^{2}}{R_{m}} + \\frac{1}{R_{m}} \\left(d_{r}^{2} + \\frac{d_{r}}{r} - \\frac{1}{r^{2}}\\right)\\end{matrix}\\right]$$"
      ],
      "text/plain": [
       "⎡            ⎛    2       ⎞     4       3       2                             \n",
       "⎢          2 ⎜2⋅dᵣ    2⋅dᵣ⎟   dᵣ    2⋅dᵣ    3⋅dᵣ    3⋅dᵣ                      \n",
       "⎢       d_z ⋅⎜───── - ────⎟   ─── - ───── + ───── - ────                      \n",
       "⎢   4        ⎜  r       2 ⎟    r       2       3      4                       \n",
       "⎢d_z         ⎝         r  ⎠           r       r      r                 -q     \n",
       "⎢──── + ─────────────────── + ──────────────────────────     3⋅Ω₀⋅d_z⋅r       \n",
       "⎢Rₑ⋅r            Rₑ                       Rₑ                                  \n",
       "⎢                                                                             \n",
       "⎢                                                                  2   dᵣ   1 \n",
       "⎢                 ⎛                     -q⎞                  2   dᵣ  + ── - ─ \n",
       "⎢                 ⎜      -q - 1   4⋅Ω₀⋅r  ⎟               d_z          r    r \n",
       "⎢             d_z⋅⎜Ω₀⋅q⋅r       - ────────⎟               ──── + ──────────── \n",
       "⎢                 ⎝                  r    ⎠                Rₑ         Rₑ      \n",
       "⎢                                                                             \n",
       "⎢                                                                             \n",
       "⎢                                                                             \n",
       "⎢                                                                             \n",
       "⎢                          d_z                                     0          \n",
       "⎢                                                                             \n",
       "⎢                                                                             \n",
       "⎢                                                                             \n",
       "⎢                                                                             \n",
       "⎢                                                                             \n",
       "⎢                                                                             \n",
       "⎢                           0                                     d_z         \n",
       "⎣                                                                             \n",
       "\n",
       "                                                      ⎤\n",
       "                                                      ⎥\n",
       "                   ⎛  2   dᵣ⎞                         ⎥\n",
       "         3   2⋅d_z⋅⎜dᵣ  - ──⎟                         ⎥\n",
       "    2⋅d_z          ⎝      r ⎠                         ⎥\n",
       "    ────── + ────────────────              0          ⎥\n",
       "     β⋅r           β⋅r                                ⎥\n",
       "                                                      ⎥\n",
       "                                                      ⎥\n",
       "                                                      ⎥\n",
       "                                         2⋅d_z        ⎥\n",
       "                0                        ─────        ⎥\n",
       "                                           β          ⎥\n",
       "                                                      ⎥\n",
       "                  2   dᵣ                              ⎥\n",
       "            2   dᵣ  - ──                              ⎥\n",
       "         d_z          r                               ⎥\n",
       "         ──── + ────────                   0          ⎥\n",
       "         R_m      R_m                                 ⎥\n",
       "                                                      ⎥\n",
       "                                           2   dᵣ   1 ⎥\n",
       "                                         dᵣ  + ── - ──⎥\n",
       "     ⎛                       -q⎞     2         r     2⎥\n",
       "     ⎜        -q - 1   2⋅Ω₀⋅r  ⎟  d_z               r ⎥\n",
       " d_z⋅⎜- Ω₀⋅q⋅r       + ────────⎟  ──── + ─────────────⎥\n",
       "     ⎝                    r    ⎠  R_m         R_m     ⎦"
      ]
     },
     "execution_count": 15,
     "metadata": {},
     "output_type": "execute_result"
    }
   ],
   "source": [
    "L"
   ]
  },
  {
   "cell_type": "code",
   "execution_count": 16,
   "metadata": {
    "collapsed": false
   },
   "outputs": [
    {
     "data": {
      "image/png": "[encoded data removed]",
      "text/latex": [
       "$$\\left[\\begin{matrix}3 \\Omega_{0} d_{z} r^{- q} u{\\left (t,r,z \\right )} + \\left(\\frac{2 d_{z}^{3}}{\\beta r} + \\frac{2 d_{z}}{\\beta r} \\left(d_{r}^{2} - \\frac{d_{r}}{r}\\right)\\right) A{\\left (t,r,z \\right )} + \\left(\\frac{d_{z}^{4}}{R_{e} r} + \\frac{d_{z}^{2}}{R_{e}} \\left(\\frac{2 d_{r}^{2}}{r} - \\frac{2 d_{r}}{r^{2}}\\right) + \\frac{1}{R_{e}} \\left(\\frac{d_{r}^{4}}{r} - \\frac{2 d_{r}^{3}}{r^{2}} + \\frac{3 d_{r}^{2}}{r^{3}} - \\frac{3 d_{r}}{r^{4}}\\right)\\right) \\psi{\\left (t,r,z \\right )}\\\\d_{z} \\left(\\Omega_{0} q r^{- q - 1} - \\frac{4 \\Omega_{0}}{r} r^{- q}\\right) \\psi{\\left (t,r,z \\right )} + \\left(\\frac{d_{z}^{2}}{R_{e}} + \\frac{1}{R_{e}} \\left(d_{r}^{2} + \\frac{d_{r}}{r} - \\frac{1}{r}\\right)\\right) u{\\left (t,r,z \\right )} + \\frac{2 d_{z}}{\\beta} B{\\left (t,r,z \\right )}\\\\d_{z} \\psi{\\left (t,r,z \\right )} + \\left(\\frac{d_{z}^{2}}{R_{m}} + \\frac{1}{R_{m}} \\left(d_{r}^{2} - \\frac{d_{r}}{r}\\right)\\right) A{\\left (t,r,z \\right )}\\\\d_{z} \\left(- \\Omega_{0} q r^{- q - 1} + \\frac{2 \\Omega_{0}}{r} r^{- q}\\right) A{\\left (t,r,z \\right )} + d_{z} u{\\left (t,r,z \\right )} + \\left(\\frac{d_{z}^{2}}{R_{m}} + \\frac{1}{R_{m}} \\left(d_{r}^{2} + \\frac{d_{r}}{r} - \\frac{1}{r^{2}}\\right)\\right) B{\\left (t,r,z \\right )}\\end{matrix}\\right]$$"
      ],
      "text/plain": [
       "⎡                                                                   ⎛         \n",
       "⎢                                                                   ⎜         \n",
       "⎢                          ⎛               ⎛  2   dᵣ⎞⎞              ⎜       d_\n",
       "⎢                          ⎜     3   2⋅d_z⋅⎜dᵣ  - ──⎟⎟              ⎜   4     \n",
       "⎢          -q              ⎜2⋅d_z          ⎝      r ⎠⎟              ⎜d_z      \n",
       "⎢3⋅Ω₀⋅d_z⋅r  ⋅u(t, r, z) + ⎜────── + ────────────────⎟⋅A(t, r, z) + ⎜──── + ──\n",
       "⎢                          ⎝ β⋅r           β⋅r       ⎠              ⎝Rₑ⋅r     \n",
       "⎢                                                                             \n",
       "⎢                                                               ⎛         2   \n",
       "⎢                        ⎛                     -q⎞              ⎜   2   dᵣ  + \n",
       "⎢                        ⎜      -q - 1   4⋅Ω₀⋅r  ⎟              ⎜d_z          \n",
       "⎢                    d_z⋅⎜Ω₀⋅q⋅r       - ────────⎟⋅ψ(t, r, z) + ⎜──── + ──────\n",
       "⎢                        ⎝                  r    ⎠              ⎝ Rₑ         R\n",
       "⎢                                                                             \n",
       "⎢                                                              ⎛         2   d\n",
       "⎢                                                              ⎜   2   dᵣ  - ─\n",
       "⎢                                                              ⎜d_z          r\n",
       "⎢                                             d_z⋅ψ(t, r, z) + ⎜──── + ───────\n",
       "⎢                                                              ⎝R_m      R_m  \n",
       "⎢                                                                             \n",
       "⎢                                                                             \n",
       "⎢                                                                             \n",
       "⎢                        ⎛                       -q⎞                          \n",
       "⎢                        ⎜        -q - 1   2⋅Ω₀⋅r  ⎟                          \n",
       "⎢                    d_z⋅⎜- Ω₀⋅q⋅r       + ────────⎟⋅A(t, r, z) + d_z⋅u(t, r, \n",
       "⎣                        ⎝                    r    ⎠                          \n",
       "\n",
       "   ⎛    2       ⎞     4       3       2       ⎞           ⎤\n",
       " 2 ⎜2⋅dᵣ    2⋅dᵣ⎟   dᵣ    2⋅dᵣ    3⋅dᵣ    3⋅dᵣ⎟           ⎥\n",
       "z ⋅⎜───── - ────⎟   ─── - ───── + ───── - ────⎟           ⎥\n",
       "   ⎜  r       2 ⎟    r       2       3      4 ⎟           ⎥\n",
       "   ⎝         r  ⎠           r       r      r  ⎟           ⎥\n",
       "───────────────── + ──────────────────────────⎟⋅ψ(t, r, z)⎥\n",
       "       Rₑ                       Rₑ            ⎠           ⎥\n",
       "                                                          ⎥\n",
       "dᵣ   1⎞                                                   ⎥\n",
       "── - ─⎟                                                   ⎥\n",
       "r    r⎟              2⋅d_z⋅B(t, r, z)                     ⎥\n",
       "──────⎟⋅u(t, r, z) + ────────────────                     ⎥\n",
       "ₑ     ⎠                     β                             ⎥\n",
       "                                                          ⎥\n",
       "ᵣ⎞                                                        ⎥\n",
       "─⎟                                                        ⎥\n",
       " ⎟                                                        ⎥\n",
       "─⎟⋅A(t, r, z)                                             ⎥\n",
       " ⎠                                                        ⎥\n",
       "                                                          ⎥\n",
       "     ⎛         2   dᵣ   1 ⎞                               ⎥\n",
       "     ⎜       dᵣ  + ── - ──⎟                               ⎥\n",
       "     ⎜   2         r     2⎟                               ⎥\n",
       "     ⎜d_z               r ⎟                               ⎥\n",
       "z) + ⎜──── + ─────────────⎟⋅B(t, r, z)                    ⎥\n",
       "     ⎝R_m         R_m     ⎠                               ⎦"
      ]
     },
     "execution_count": 16,
     "metadata": {},
     "output_type": "execute_result"
    }
   ],
   "source": [
    "L*V"
   ]
  },
  {
   "cell_type": "code",
   "execution_count": 17,
   "metadata": {
    "collapsed": false
   },
   "outputs": [
    {
     "data": {
      "image/png": "[encoded data removed]",
      "text/latex": [
       "$$\\left[\\begin{matrix}- 3.0 i \\Omega_{0} Q r^{- q} u{\\left (t,r,z \\right )} + \\left(\\frac{2.0 i Q^{3}}{\\beta r} - \\frac{2.0 i Q}{\\beta r} \\left(d_{r}^{2} - \\frac{d_{r}}{r}\\right)\\right) A{\\left (t,r,z \\right )} + \\left(- \\frac{1.0 Q^{4}}{R_{e} r} + \\frac{1.0 Q^{2}}{R_{e}} \\left(\\frac{2 d_{r}^{2}}{r} - \\frac{2 d_{r}}{r^{2}}\\right) - \\frac{1}{R_{e}} \\left(\\frac{d_{r}^{4}}{r} - \\frac{2 d_{r}^{3}}{r^{2}} + \\frac{3 d_{r}^{2}}{r^{3}} - \\frac{3 d_{r}}{r^{4}}\\right)\\right) \\psi{\\left (t,r,z \\right )}\\\\- 1.0 i Q \\left(\\Omega_{0} q r^{- q - 1} - \\frac{4 \\Omega_{0}}{r} r^{- q}\\right) \\psi{\\left (t,r,z \\right )} - \\frac{2.0 i}{\\beta} Q B{\\left (t,r,z \\right )} + \\left(\\frac{1.0 Q^{2}}{R_{e}} - \\frac{1}{R_{e}} \\left(d_{r}^{2} + \\frac{d_{r}}{r} - \\frac{1}{r}\\right)\\right) u{\\left (t,r,z \\right )}\\\\- 1.0 i Q \\psi{\\left (t,r,z \\right )} + \\left(\\frac{1.0 Q^{2}}{R_{m}} - \\frac{1}{R_{m}} \\left(d_{r}^{2} - \\frac{d_{r}}{r}\\right)\\right) A{\\left (t,r,z \\right )}\\\\- 1.0 i Q \\left(- \\Omega_{0} q r^{- q - 1} + \\frac{2 \\Omega_{0}}{r} r^{- q}\\right) A{\\left (t,r,z \\right )} - 1.0 i Q u{\\left (t,r,z \\right )} + \\left(\\frac{1.0 Q^{2}}{R_{m}} - \\frac{1}{R_{m}} \\left(d_{r}^{2} + \\frac{d_{r}}{r} - \\frac{1}{r^{2}}\\right)\\right) B{\\left (t,r,z \\right )}\\end{matrix}\\right]$$"
      ],
      "text/plain": [
       "⎡                                                                             \n",
       "⎢                                                                             \n",
       "⎢                                    ⎛                         ⎛  2   dᵣ⎞⎞    \n",
       "⎢                                    ⎜       3   -2.0⋅(-1)⋅ⅈ⋅Q⋅⎜dᵣ  - ──⎟⎟    \n",
       "⎢                    -q              ⎜2.0⋅ⅈ⋅Q                  ⎝      r ⎠⎟    \n",
       "⎢- -3.0⋅(-1)⋅ⅈ⋅Ω₀⋅Q⋅r  ⋅u(t, r, z) + ⎜──────── - ────────────────────────⎟⋅A(t\n",
       "⎢                                    ⎝  β⋅r                β⋅r           ⎠    \n",
       "⎢                                                                             \n",
       "⎢                                                                             \n",
       "⎢                                       ⎛                     -q⎞             \n",
       "⎢                                       ⎜      -q - 1   4⋅Ω₀⋅r  ⎟             \n",
       "⎢                          - - -1.0⋅ⅈ⋅Q⋅⎜Ω₀⋅q⋅r       - ────────⎟⋅ψ(t, r, z) -\n",
       "⎢                                       ⎝                  r    ⎠             \n",
       "⎢                                                                             \n",
       "⎢                                                                             \n",
       "⎢                                                                             \n",
       "⎢                                                                             \n",
       "⎢                                                       -- -1.0⋅ⅈ⋅Q⋅ψ(t, r, z)\n",
       "⎢                                                                             \n",
       "⎢                                                                             \n",
       "⎢                                                                             \n",
       "⎢                                                                             \n",
       "⎢                                       ⎛                       -q⎞           \n",
       "⎢                                       ⎜        -q - 1   2⋅Ω₀⋅r  ⎟           \n",
       "⎢                          - - -1.0⋅ⅈ⋅Q⋅⎜- Ω₀⋅q⋅r       + ────────⎟⋅A(t, r, z)\n",
       "⎣                                       ⎝                    r    ⎠           \n",
       "\n",
       "          ⎛                      ⎛    2       ⎞     4       3       2       ⎞ \n",
       "          ⎜                    2 ⎜2⋅dᵣ    2⋅dᵣ⎟   dᵣ    2⋅dᵣ    3⋅dᵣ    3⋅dᵣ⎟ \n",
       "          ⎜               1.0⋅Q ⋅⎜───── - ────⎟   ─── - ───── + ───── - ────⎟ \n",
       "          ⎜          4           ⎜  r       2 ⎟    r       2       3      4 ⎟ \n",
       "          ⎜  - -1.0⋅Q            ⎝         r  ⎠           r       r      r  ⎟ \n",
       ", r, z) + ⎜- ────────── + ───────────────────── - ──────────────────────────⎟⋅\n",
       "          ⎝     Rₑ⋅r                Rₑ                        Rₑ            ⎠ \n",
       "                                                                              \n",
       "                            ⎛           2   dᵣ   1⎞                           \n",
       "                            ⎜     2   dᵣ  + ── - ─⎟                           \n",
       " -2.0⋅(-1)⋅ⅈ⋅Q⋅B(t, r, z)   ⎜1.0⋅Q          r    r⎟                           \n",
       " ──────────────────────── + ⎜────── - ────────────⎟⋅u(t, r, z)                \n",
       "            β               ⎝  Rₑ          Rₑ     ⎠                           \n",
       "                                                                              \n",
       "   ⎛           2   dᵣ⎞                                                        \n",
       "   ⎜     2   dᵣ  - ──⎟                                                        \n",
       "   ⎜1.0⋅Q          r ⎟                                                        \n",
       " + ⎜────── - ────────⎟⋅A(t, r, z)                                             \n",
       "   ⎝ R_m       R_m   ⎠                                                        \n",
       "                                                                              \n",
       "                           ⎛           2   dᵣ   1 ⎞                           \n",
       "                           ⎜         dᵣ  + ── - ──⎟                           \n",
       "                           ⎜     2         r     2⎟                           \n",
       "                           ⎜1.0⋅Q               r ⎟                           \n",
       " - - -1.0⋅ⅈ⋅Q⋅u(t, r, z) + ⎜────── - ─────────────⎟⋅B(t, r, z)                \n",
       "                           ⎝ R_m          R_m     ⎠                           \n",
       "\n",
       "          ⎤\n",
       "          ⎥\n",
       "          ⎥\n",
       "          ⎥\n",
       "          ⎥\n",
       "ψ(t, r, z)⎥\n",
       "          ⎥\n",
       "          ⎥\n",
       "          ⎥\n",
       "          ⎥\n",
       "          ⎥\n",
       "          ⎥\n",
       "          ⎥\n",
       "          ⎥\n",
       "          ⎥\n",
       "          ⎥\n",
       "          ⎥\n",
       "          ⎥\n",
       "          ⎥\n",
       "          ⎥\n",
       "          ⎥\n",
       "          ⎥\n",
       "          ⎥\n",
       "          ⎥\n",
       "          ⎥\n",
       "          ⎦"
      ]
     },
     "execution_count": 17,
     "metadata": {},
     "output_type": "execute_result"
    }
   ],
   "source": [
    "(-L*V).subs(dz, 1j*Q)"
   ]
  },
  {
   "cell_type": "code",
   "execution_count": 18,
   "metadata": {
    "collapsed": true
   },
   "outputs": [],
   "source": [
    "D = Matrix([[(1/r)*(dr**2 + dz**2 + (1/r)*dr) - (2/r**2)*dr, 0, 0, 0],\n",
    "             [0, 1, 0, 0],\n",
    "             [0, 0, 1, 0],\n",
    "             [0, 0, 0, 1]])"
   ]
  },
  {
   "cell_type": "code",
   "execution_count": 19,
   "metadata": {
    "collapsed": false
   },
   "outputs": [
    {
     "data": {
      "image/png": "[encoded data removed]",
      "text/latex": [
       "$$\\left[\\begin{matrix}- \\frac{2 d_{r}}{r^{2}} + \\frac{1}{r} \\left(d_{r}^{2} + \\frac{d_{r}}{r} + d_{z}^{2}\\right) & 0 & 0 & 0\\\\0 & 1 & 0 & 0\\\\0 & 0 & 1 & 0\\\\0 & 0 & 0 & 1\\end{matrix}\\right]$$"
      ],
      "text/plain": [
       "⎡           2   dᵣ      2         ⎤\n",
       "⎢         dᵣ  + ── + d_z          ⎥\n",
       "⎢  2⋅dᵣ         r                 ⎥\n",
       "⎢- ──── + ───────────────  0  0  0⎥\n",
       "⎢    2           r                ⎥\n",
       "⎢   r                             ⎥\n",
       "⎢                                 ⎥\n",
       "⎢           0              1  0  0⎥\n",
       "⎢                                 ⎥\n",
       "⎢           0              0  1  0⎥\n",
       "⎢                                 ⎥\n",
       "⎣           0              0  0  1⎦"
      ]
     },
     "execution_count": 19,
     "metadata": {},
     "output_type": "execute_result"
    }
   ],
   "source": [
    "D"
   ]
  },
  {
   "cell_type": "code",
   "execution_count": 20,
   "metadata": {
    "collapsed": false
   },
   "outputs": [
    {
     "data": {
      "image/png": "[encoded data removed]",
      "text/latex": [
       "$$\\left[\\begin{matrix}1.0 i \\left(- \\frac{1.0 d_{t}}{r} Q^{2} \\psi{\\left (t,r,z \\right )} + \\frac{d_{r}^{2} d_{t}}{r} \\psi{\\left (t,r,z \\right )} - \\frac{d_{r} d_{t}}{r^{2}} \\psi{\\left (t,r,z \\right )}\\right)\\\\1.0 i d_{t} u{\\left (t,r,z \\right )}\\\\1.0 i d_{t} A{\\left (t,r,z \\right )}\\\\1.0 i d_{t} B{\\left (t,r,z \\right )}\\end{matrix}\\right]$$"
      ],
      "text/plain": [
       "⎡      ⎛          2                     2                                   ⎞⎤\n",
       "⎢      ⎜  - -1.0⋅Q ⋅d_t⋅ψ(t, r, z)    dᵣ ⋅d_t⋅ψ(t, r, z)   dᵣ⋅d_t⋅ψ(t, r, z)⎟⎥\n",
       "⎢1.0⋅ⅈ⋅⎜- ───────────────────────── + ────────────────── - ─────────────────⎟⎥\n",
       "⎢      ⎜              r                       r                     2       ⎟⎥\n",
       "⎢      ⎝                                                           r        ⎠⎥\n",
       "⎢                                                                            ⎥\n",
       "⎢                            1.0⋅ⅈ⋅d_t⋅u(t, r, z)                            ⎥\n",
       "⎢                                                                            ⎥\n",
       "⎢                            1.0⋅ⅈ⋅d_t⋅A(t, r, z)                            ⎥\n",
       "⎢                                                                            ⎥\n",
       "⎣                            1.0⋅ⅈ⋅d_t⋅B(t, r, z)                            ⎦"
      ]
     },
     "execution_count": 20,
     "metadata": {},
     "output_type": "execute_result"
    }
   ],
   "source": [
    "1j*(((D*dt)*V).subs(dz, 1j*Q)).expand()"
   ]
  },
  {
   "cell_type": "code",
   "execution_count": 28,
   "metadata": {
    "collapsed": false
   },
   "outputs": [
    {
     "data": {
      "image/png": "[encoded data removed]",
      "text/latex": [
       "$$\\left[\\begin{matrix}- 1.0 Q^{2} r^{3} \\sigma \\psi{\\left (t,r,z \\right )} + d_{r}^{2} r^{3} \\sigma \\psi{\\left (t,r,z \\right )} - d_{r} r^{2} \\sigma \\psi{\\left (t,r,z \\right )}\\\\r^{4} \\sigma u{\\left (t,r,z \\right )}\\\\r^{4} \\sigma A{\\left (t,r,z \\right )}\\\\r^{4} \\sigma B{\\left (t,r,z \\right )}\\end{matrix}\\right]$$"
      ],
      "text/plain": [
       "⎡          2  3                  2  3                    2             ⎤\n",
       "⎢- - -1.0⋅Q ⋅r ⋅σ⋅ψ(t, r, z) + dᵣ ⋅r ⋅σ⋅ψ(t, r, z) - dᵣ⋅r ⋅σ⋅ψ(t, r, z)⎥\n",
       "⎢                                                                      ⎥\n",
       "⎢                            4                                         ⎥\n",
       "⎢                           r ⋅σ⋅u(t, r, z)                            ⎥\n",
       "⎢                                                                      ⎥\n",
       "⎢                            4                                         ⎥\n",
       "⎢                           r ⋅σ⋅A(t, r, z)                            ⎥\n",
       "⎢                                                                      ⎥\n",
       "⎢                            4                                         ⎥\n",
       "⎣                           r ⋅σ⋅B(t, r, z)                            ⎦"
      ]
     },
     "execution_count": 28,
     "metadata": {},
     "output_type": "execute_result"
    }
   ],
   "source": [
    "(sigma*(r**4*D*V).subs(dz, 1j*Q)).expand()"
   ]
  },
  {
   "cell_type": "code",
   "execution_count": 27,
   "metadata": {
    "collapsed": false
   },
   "outputs": [
    {
     "data": {
      "image/png": "[encoded data removed]",
      "text/latex": [
       "$$\\left[\\begin{matrix}- 3.0 i \\Omega_{0} Q r^{4} r^{- q} u{\\left (t,r,z \\right )} - \\frac{1.0 r^{3}}{R_{e}} Q^{4} \\psi{\\left (t,r,z \\right )} + \\frac{2.0 i}{\\beta} Q^{3} r^{3} A{\\left (t,r,z \\right )} + \\frac{2.0 d_{r}^{2}}{R_{e}} Q^{2} r^{3} \\psi{\\left (t,r,z \\right )} - \\frac{2.0 d_{r}}{R_{e}} Q^{2} r^{2} \\psi{\\left (t,r,z \\right )} - \\frac{2.0 i}{\\beta} Q d_{r}^{2} r^{3} A{\\left (t,r,z \\right )} + \\frac{2.0 i}{\\beta} Q d_{r} r^{2} A{\\left (t,r,z \\right )} - \\frac{d_{r}^{4} r^{3}}{R_{e}} \\psi{\\left (t,r,z \\right )} + \\frac{2 d_{r}^{3}}{R_{e}} r^{2} \\psi{\\left (t,r,z \\right )} - \\frac{3 r}{R_{e}} d_{r}^{2} \\psi{\\left (t,r,z \\right )} + \\frac{3 d_{r}}{R_{e}} \\psi{\\left (t,r,z \\right )}\\\\- 1.0 i \\Omega_{0} Q q r^{3} r^{- q} \\psi{\\left (t,r,z \\right )} + 4.0 i \\Omega_{0} Q r^{3} r^{- q} \\psi{\\left (t,r,z \\right )} + \\frac{1.0 r^{4}}{R_{e}} Q^{2} u{\\left (t,r,z \\right )} - \\frac{2.0 i}{\\beta} Q r^{4} B{\\left (t,r,z \\right )} - \\frac{d_{r}^{2} r^{4}}{R_{e}} u{\\left (t,r,z \\right )} - \\frac{d_{r} r^{3}}{R_{e}} u{\\left (t,r,z \\right )} + \\frac{r^{3}}{R_{e}} u{\\left (t,r,z \\right )}\\\\\\frac{1.0 r^{4}}{R_{m}} Q^{2} A{\\left (t,r,z \\right )} - 1.0 i Q r^{4} \\psi{\\left (t,r,z \\right )} - \\frac{d_{r}^{2} r^{4}}{R_{m}} A{\\left (t,r,z \\right )} + \\frac{d_{r} r^{3}}{R_{m}} A{\\left (t,r,z \\right )}\\\\1.0 i \\Omega_{0} Q q r^{3} r^{- q} A{\\left (t,r,z \\right )} - 2.0 i \\Omega_{0} Q r^{3} r^{- q} A{\\left (t,r,z \\right )} + \\frac{1.0 r^{4}}{R_{m}} Q^{2} B{\\left (t,r,z \\right )} - 1.0 i Q r^{4} u{\\left (t,r,z \\right )} - \\frac{d_{r}^{2} r^{4}}{R_{m}} B{\\left (t,r,z \\right )} - \\frac{d_{r} r^{3}}{R_{m}} B{\\left (t,r,z \\right )} + \\frac{r^{2}}{R_{m}} B{\\left (t,r,z \\right )}\\end{matrix}\\right]$$"
      ],
      "text/plain": [
       "⎡                                               4  3                      3  3\n",
       "⎢                    4  -q              - -1.0⋅Q ⋅r ⋅ψ(t, r, z)    2.0⋅ⅈ⋅Q ⋅r \n",
       "⎢- -3.0⋅(-1)⋅ⅈ⋅Ω₀⋅Q⋅r ⋅r  ⋅u(t, r, z) - ──────────────────────── + ───────────\n",
       "⎢                                                  Rₑ                        β\n",
       "⎢                                                                             \n",
       "⎢                                                                             \n",
       "⎢                                                                            3\n",
       "⎢                                                         - - -1.0⋅ⅈ⋅Ω₀⋅Q⋅q⋅r \n",
       "⎢                                                                             \n",
       "⎢                                                                             \n",
       "⎢                                                                             \n",
       "⎢                                                                             \n",
       "⎢                                                                             \n",
       "⎢                                                                             \n",
       "⎢                                                                             \n",
       "⎢                                                                             \n",
       "⎢                                                                        3  -q\n",
       "⎢                                                          1.0⋅ⅈ⋅Ω₀⋅Q⋅q⋅r ⋅r  \n",
       "⎣                                                                             \n",
       "\n",
       "                   2   2  3                         2     2                   \n",
       "⋅A(t, r, z)   2.0⋅Q ⋅dᵣ ⋅r ⋅ψ(t, r, z)   -2.0⋅(-1)⋅Q ⋅dᵣ⋅r ⋅ψ(t, r, z)   -2.0⋅\n",
       "─────────── + ──────────────────────── - ───────────────────────────── - ─────\n",
       "                         Rₑ                            Rₑ                     \n",
       "                                                                              \n",
       "                                                      2  4                    \n",
       "  -q                          3  -q              1.0⋅Q ⋅r ⋅u(t, r, z)   -2.0⋅(\n",
       "⋅r  ⋅ψ(t, r, z) + 4.0⋅ⅈ⋅Ω₀⋅Q⋅r ⋅r  ⋅ψ(t, r, z) + ──────────────────── - ──────\n",
       "                                                          Rₑ                  \n",
       "                                                                              \n",
       "                             2  4                                           2 \n",
       "                        1.0⋅Q ⋅r ⋅A(t, r, z)               4              dᵣ ⋅\n",
       "                        ──────────────────── - - -1.0⋅ⅈ⋅Q⋅r ⋅ψ(t, r, z) - ────\n",
       "                                R_m                                           \n",
       "                                                                              \n",
       "                                                        2  4                  \n",
       "                                3  -q              1.0⋅Q ⋅r ⋅B(t, r, z)       \n",
       "⋅A(t, r, z) - -2.0⋅(-1)⋅ⅈ⋅Ω₀⋅Q⋅r ⋅r  ⋅A(t, r, z) + ──────────────────── - - -1\n",
       "                                                           R_m                \n",
       "\n",
       "           2  3                          2                4  3                \n",
       "(-1)⋅ⅈ⋅Q⋅dᵣ ⋅r ⋅A(t, r, z)   2.0⋅ⅈ⋅Q⋅dᵣ⋅r ⋅A(t, r, z)   dᵣ ⋅r ⋅ψ(t, r, z)   2⋅\n",
       "────────────────────────── + ──────────────────────── - ───────────────── + ──\n",
       "          β                             β                       Rₑ            \n",
       "                                                                              \n",
       "         4                2  4                  3               3             \n",
       "-1)⋅ⅈ⋅Q⋅r ⋅B(t, r, z)   dᵣ ⋅r ⋅u(t, r, z)   dᵣ⋅r ⋅u(t, r, z)   r ⋅u(t, r, z)  \n",
       "───────────────────── - ───────────────── - ──────────────── + ─────────────  \n",
       "       β                        Rₑ                 Rₑ                Rₑ       \n",
       "                                                                              \n",
       " 4                  3                                                         \n",
       "r ⋅A(t, r, z)   dᵣ⋅r ⋅A(t, r, z)                                              \n",
       "───────────── + ────────────────                                              \n",
       "   R_m                R_m                                                     \n",
       "                                                                              \n",
       "                         2  4                  3               2              \n",
       "        4              dᵣ ⋅r ⋅B(t, r, z)   dᵣ⋅r ⋅B(t, r, z)   r ⋅B(t, r, z)   \n",
       ".0⋅ⅈ⋅Q⋅r ⋅u(t, r, z) - ───────────────── - ──────────────── + ─────────────   \n",
       "                              R_m                R_m               R_m        \n",
       "\n",
       "  3  2                  2                               ⎤\n",
       "dᵣ ⋅r ⋅ψ(t, r, z)   3⋅dᵣ ⋅r⋅ψ(t, r, z)   3⋅dᵣ⋅ψ(t, r, z)⎥\n",
       "───────────────── - ────────────────── + ───────────────⎥\n",
       "       Rₑ                   Rₑ                  Rₑ      ⎥\n",
       "                                                        ⎥\n",
       "                                                        ⎥\n",
       "                                                        ⎥\n",
       "                                                        ⎥\n",
       "                                                        ⎥\n",
       "                                                        ⎥\n",
       "                                                        ⎥\n",
       "                                                        ⎥\n",
       "                                                        ⎥\n",
       "                                                        ⎥\n",
       "                                                        ⎥\n",
       "                                                        ⎥\n",
       "                                                        ⎥\n",
       "                                                        ⎥\n",
       "                                                        ⎦"
      ]
     },
     "execution_count": 27,
     "metadata": {},
     "output_type": "execute_result"
    }
   ],
   "source": [
    "(r**4*(-L*V).subs(dz, 1j*Q)).expand()"
   ]
  },
  {
   "cell_type": "code",
   "execution_count": null,
   "metadata": {
    "collapsed": true
   },
   "outputs": [],
   "source": []
  }
 ],
 "metadata": {
  "kernelspec": {
   "display_name": "Python 3",
   "language": "python",
   "name": "python3"
  },
  "language_info": {
   "codemirror_mode": {
    "name": "ipython",
    "version": 3
   },
   "file_extension": ".py",
   "mimetype": "text/x-python",
   "name": "python",
   "nbconvert_exporter": "python",
   "pygments_lexer": "ipython3",
   "version": "3.4.1"
  }
 },
 "nbformat": 4,
 "nbformat_minor": 0
}
