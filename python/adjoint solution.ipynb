{
 "metadata": {
  "name": "",
  "signature": "sha256:6f9c592224276941f52f7c97e48cdafffab7295a41e1572433394a204cf16caf"
 },
 "nbformat": 3,
 "nbformat_minor": 0,
 "worksheets": [
  {
   "cells": [
    {
     "cell_type": "markdown",
     "metadata": {},
     "source": [
      "We are solving the equation:\n",
      "\n",
      "$L^\\dagger V^\\dagger = 0$\n",
      "\n",
      "Where:\n",
      "\n",
      "$L^\\dagger = L_0^T - L_1^T\\partial_z + L_2^T\\partial_z^2 - L_3^T \\partial_z^3 + L_4^T\\partial_z^4$\n",
      "\n",
      "Hence we have four coupled differential equations, as written up in my notes.\n",
      "\n",
      "$L_0, L_1,$ and $L_2$ contain $\\partial_x$ terms. The solution $V^\\dagger$ has some z-dependence that must be periodic, and therefore can be solved with a spectral method using a Fourier basis. $V^\\dagger$ also has x, dependence, s.t. $V^\\dagger = u(z)\\mathbb{V}^\\dagger$, where $\\mathbb{V}^\\dagger  = [\\Psi(x)^\\dagger, u(x)^\\dagger, A(x)^\\dagger, B(x)^\\dagger]^T$\n",
      "\n",
      "Our concern for the moment is not $\\mathbb{V}^\\dagger$, which is bounded at $x = \\pm 1$ and non-periodic, and so must be solved using Chebyshev basis functions. Instead, we are solving $u(z)$.\n",
      "\n",
      "That is, we are saying $u(z) = u_N(z) = \\sum \\limits_{n=0}^N a_n \\phi_n(z)$ where $\\phi_n(z) = e^{i k_n z}$.\n",
      "\n",
      "So really, we are solving: \n",
      "\n",
      "$L^\\dagger \\mathbb{V}^\\dagger u(z) = 0$\n",
      "\n",
      "The general approach for a spectral solver is to take $L u_N = R$, where R is the residual function, and then solve for the coefficients $a_n$ by minimizing R (i.e. by forcing R to be zero at a set number of points -- collocation).\n",
      "\n",
      "Here is my confusion: \n",
      "(a) I know we are assuming separable solutions in x and z, but it still seems odd that we can just ignore x. And if we can, are we saying that $L^\\dagger u(z) = 0$? That seems like a much different problem. It also means we are assuming a priori that all the fluid quantities behave the same way in the vertical extent -- that doesn't seem unreasonable, but what is the justification for that?\n",
      "\n",
      "(b) L is a linear combination of 4x4 matrices (with differential operators) because there are 4 fluid quantities. But shouldn't the size of L be set by the number of modes in u? That is, if you choose N=3, u becomes a column vector $[u_0, u_1, u_2, u_3]^T$ where each u represents term n in the Fourier expansion?"
     ]
    },
    {
     "cell_type": "code",
     "collapsed": false,
     "input": [
      "from sympy import *\n",
      "from sympy.interactive import printing\n",
      "printing.init_printing(use_latex=True)\n",
      "%matplotlib inline\n",
      "\n",
      "R, Rm, kx, ky, kz, omega, q, B0, dx, dy, dz, pi, psi, u, A, B, Q, Co = symbols(\"R R_m k_x k_y k_z Omega_0 q B_0 d_x d_y d_z pi psi u A B Q Co\", real=True)\n",
      "s = symbols(\"s\",)\n",
      "\n",
      "#Adjoint state vector matrix\n",
      "VT = Matrix([psi, u, A, B])\n",
      "\n",
      "L1 = Matrix([[0, 2, Co*dx**2, 0],\n",
      "            [2-q, 0, 0, Co],\n",
      "            [1, 0, 0, 0],\n",
      "            [0, 1, -q, 0]])\n"
     ],
     "language": "python",
     "metadata": {},
     "outputs": [],
     "prompt_number": 21
    },
    {
     "cell_type": "code",
     "collapsed": false,
     "input": [
      "L1T = L1.adjoint()\n",
      "L1T"
     ],
     "language": "python",
     "metadata": {},
     "outputs": [
      {
       "latex": [
        "$$\\left[\\begin{matrix}0 & - q + 2 & 1 & 0\\\\2 & 0 & 0 & 1\\\\Co d_{x}^{2} & 0 & 0 & - q\\\\0 & Co & 0 & 0\\end{matrix}\\right]$$"
       ],
       "metadata": {},
       "output_type": "pyout",
       "png": "[encoded data removed]",
       "prompt_number": 22,
       "text": [
        "\u23a1  0     -q + 2  1  0 \u23a4\n",
        "\u23a2                     \u23a5\n",
        "\u23a2  2       0     0  1 \u23a5\n",
        "\u23a2                     \u23a5\n",
        "\u23a2     2               \u23a5\n",
        "\u23a2Co\u22c5d\u2093     0     0  -q\u23a5\n",
        "\u23a2                     \u23a5\n",
        "\u23a3  0       Co    0  0 \u23a6"
       ]
      }
     ],
     "prompt_number": 22
    },
    {
     "cell_type": "code",
     "collapsed": false,
     "input": [
      "#L3T = Matrix([[0, 0, 0, 0],\n",
      "#            [0, 0, 0, 0],\n",
      "#            [1/(4*pi), 0, 0, 0],\n",
      "#            [0, 0, 0, 0]])\n",
      "L3T = Matrix([[0, 0, 0, 0],\n",
      "            [0, 0, 0, 0],\n",
      "            [Co, 0, 0, 0],\n",
      "            [0, 0, 0, 0]])\n",
      "L3 = Matrix([[0, 0, Co, 0],\n",
      "             [0, 0, 0, 0],\n",
      "             [0, 0, 0, 0],\n",
      "             [0, 0, 0, 0]])"
     ],
     "language": "python",
     "metadata": {},
     "outputs": [],
     "prompt_number": 25
    },
    {
     "cell_type": "code",
     "collapsed": false,
     "input": [
      "L3T"
     ],
     "language": "python",
     "metadata": {},
     "outputs": [
      {
       "latex": [
        "$$\\left[\\begin{matrix}0 & 0 & 0 & 0\\\\0 & 0 & 0 & 0\\\\Co & 0 & 0 & 0\\\\0 & 0 & 0 & 0\\end{matrix}\\right]$$"
       ],
       "metadata": {},
       "output_type": "pyout",
       "png": "[encoded data removed]",
       "prompt_number": 26,
       "text": [
        "\u23a10   0  0  0\u23a4\n",
        "\u23a2           \u23a5\n",
        "\u23a20   0  0  0\u23a5\n",
        "\u23a2           \u23a5\n",
        "\u23a2Co  0  0  0\u23a5\n",
        "\u23a2           \u23a5\n",
        "\u23a30   0  0  0\u23a6"
       ]
      }
     ],
     "prompt_number": 26
    },
    {
     "cell_type": "code",
     "collapsed": false,
     "input": [
      "L2 = Matrix([[(2/R)*dx**2, 0, 0, 0],\n",
      "             [0, 1/R, 0, 0],\n",
      "             [0, 0, 1/Rm, 0],\n",
      "             [0, 0, 0, 1/Rm]])"
     ],
     "language": "python",
     "metadata": {},
     "outputs": [],
     "prompt_number": 27
    },
    {
     "cell_type": "code",
     "collapsed": false,
     "input": [
      "L2T = L2.adjoint()\n",
      "L2T"
     ],
     "language": "python",
     "metadata": {},
     "outputs": [
      {
       "latex": [
        "$$\\left[\\begin{matrix}\\frac{2 d_{x}^{2}}{R} & 0 & 0 & 0\\\\0 & \\frac{1}{R} & 0 & 0\\\\0 & 0 & \\frac{1}{R_{m}} & 0\\\\0 & 0 & 0 & \\frac{1}{R_{m}}\\end{matrix}\\right]$$"
       ],
       "metadata": {},
       "output_type": "pyout",
       "png": "[encoded data removed]",
       "prompt_number": 28,
       "text": [
        "\u23a1    2             \u23a4\n",
        "\u23a22\u22c5d\u2093              \u23a5\n",
        "\u23a2\u2500\u2500\u2500\u2500\u2500  0   0    0 \u23a5\n",
        "\u23a2  R               \u23a5\n",
        "\u23a2                  \u23a5\n",
        "\u23a2       1          \u23a5\n",
        "\u23a2  0    \u2500   0    0 \u23a5\n",
        "\u23a2       R          \u23a5\n",
        "\u23a2                  \u23a5\n",
        "\u23a2           1      \u23a5\n",
        "\u23a2  0    0  \u2500\u2500\u2500   0 \u23a5\n",
        "\u23a2          R_m     \u23a5\n",
        "\u23a2                  \u23a5\n",
        "\u23a2                1 \u23a5\n",
        "\u23a2  0    0   0   \u2500\u2500\u2500\u23a5\n",
        "\u23a3               R_m\u23a6"
       ]
      }
     ],
     "prompt_number": 28
    },
    {
     "cell_type": "code",
     "collapsed": false,
     "input": [
      "L4 = Matrix([[1/R, 0, 0, 0],\n",
      "             [0, 0, 0, 0],\n",
      "             [0, 0, 0, 0],\n",
      "             [0, 0, 0, 0]])\n",
      "L4T = L4.adjoint()\n",
      "L4T"
     ],
     "language": "python",
     "metadata": {},
     "outputs": [
      {
       "latex": [
        "$$\\left[\\begin{matrix}\\frac{1}{R} & 0 & 0 & 0\\\\0 & 0 & 0 & 0\\\\0 & 0 & 0 & 0\\\\0 & 0 & 0 & 0\\end{matrix}\\right]$$"
       ],
       "metadata": {},
       "output_type": "pyout",
       "png": "[encoded data removed]",
       "prompt_number": 29,
       "text": [
        "\u23a11         \u23a4\n",
        "\u23a2\u2500  0  0  0\u23a5\n",
        "\u23a2R         \u23a5\n",
        "\u23a2          \u23a5\n",
        "\u23a20  0  0  0\u23a5\n",
        "\u23a2          \u23a5\n",
        "\u23a20  0  0  0\u23a5\n",
        "\u23a2          \u23a5\n",
        "\u23a30  0  0  0\u23a6"
       ]
      }
     ],
     "prompt_number": 29
    },
    {
     "cell_type": "code",
     "collapsed": false,
     "input": [
      "L0 = Matrix([[(1/R)*dx**4, 0, 0, 0],\n",
      "             [0, (1/R)*dx**2, 0, 0],\n",
      "             [0, 0, (1/Rm)*dx**2, 0],\n",
      "             [0, 0, 0, (1/Rm)*dx**2]])\n",
      "L0T = L0.adjoint()\n",
      "L0T"
     ],
     "language": "python",
     "metadata": {},
     "outputs": [
      {
       "latex": [
        "$$\\left[\\begin{matrix}\\frac{d_{x}^{4}}{R} & 0 & 0 & 0\\\\0 & \\frac{d_{x}^{2}}{R} & 0 & 0\\\\0 & 0 & \\frac{d_{x}^{2}}{R_{m}} & 0\\\\0 & 0 & 0 & \\frac{d_{x}^{2}}{R_{m}}\\end{matrix}\\right]$$"
       ],
       "metadata": {},
       "output_type": "pyout",
       "png": "[encoded data removed]",
       "prompt_number": 30,
       "text": [
        "\u23a1  4               \u23a4\n",
        "\u23a2d\u2093                \u23a5\n",
        "\u23a2\u2500\u2500\u2500   0    0    0 \u23a5\n",
        "\u23a2 R                \u23a5\n",
        "\u23a2                  \u23a5\n",
        "\u23a2       2          \u23a5\n",
        "\u23a2     d\u2093           \u23a5\n",
        "\u23a2 0   \u2500\u2500\u2500   0    0 \u23a5\n",
        "\u23a2      R           \u23a5\n",
        "\u23a2                  \u23a5\n",
        "\u23a2            2     \u23a5\n",
        "\u23a2          d\u2093      \u23a5\n",
        "\u23a2 0    0   \u2500\u2500\u2500   0 \u23a5\n",
        "\u23a2          R_m     \u23a5\n",
        "\u23a2                  \u23a5\n",
        "\u23a2                 2\u23a5\n",
        "\u23a2               d\u2093 \u23a5\n",
        "\u23a2 0    0    0   \u2500\u2500\u2500\u23a5\n",
        "\u23a3               R_m\u23a6"
       ]
      }
     ],
     "prompt_number": 30
    },
    {
     "cell_type": "code",
     "collapsed": false,
     "input": [
      "#dz -> 1j*Q\n",
      "#LT = L0T - L1T*(1j*Q) + L2T*(1j*Q)**2 - L3T*(1j*Q)**3 + L4T*(1j*Q)**4\n",
      "L = L0 + L1*dz + L2*dz**2 + L3*dz**3 + L4*dz**4\n",
      "L"
     ],
     "language": "python",
     "metadata": {},
     "outputs": [
      {
       "latex": [
        "$$\\left[\\begin{matrix}\\frac{d_{x}^{4}}{R} + \\frac{2 d_{x}^{2}}{R} d_{z}^{2} + \\frac{d_{z}^{4}}{R} & 2 d_{z} & Co d_{x}^{2} d_{z} + Co d_{z}^{3} & 0\\\\d_{z} \\left(- q + 2\\right) & \\frac{d_{x}^{2}}{R} + \\frac{d_{z}^{2}}{R} & 0 & Co d_{z}\\\\d_{z} & 0 & \\frac{d_{x}^{2}}{R_{m}} + \\frac{d_{z}^{2}}{R_{m}} & 0\\\\0 & d_{z} & - d_{z} q & \\frac{d_{x}^{2}}{R_{m}} + \\frac{d_{z}^{2}}{R_{m}}\\end{matrix}\\right]$$"
       ],
       "metadata": {},
       "output_type": "pyout",
       "png": "[encoded data removed]",
       "prompt_number": 33,
       "text": [
        "\u23a1  4       2    2      4                                              \u23a4\n",
        "\u23a2d\u2093    2\u22c5d\u2093 \u22c5d_z    d_z                    2             3            \u23a5\n",
        "\u23a2\u2500\u2500\u2500 + \u2500\u2500\u2500\u2500\u2500\u2500\u2500\u2500\u2500\u2500 + \u2500\u2500\u2500\u2500    2\u22c5d_z     Co\u22c5d\u2093 \u22c5d_z + Co\u22c5d_z       0     \u23a5\n",
        "\u23a2 R        R         R                                                \u23a5\n",
        "\u23a2                                                                     \u23a5\n",
        "\u23a2                           2      2                                  \u23a5\n",
        "\u23a2                         d\u2093    d_z                                   \u23a5\n",
        "\u23a2     d_z\u22c5(-q + 2)        \u2500\u2500\u2500 + \u2500\u2500\u2500\u2500           0              Co\u22c5d_z  \u23a5\n",
        "\u23a2                          R     R                                    \u23a5\n",
        "\u23a2                                                                     \u23a5\n",
        "\u23a2                                            2      2                 \u23a5\n",
        "\u23a2                                          d\u2093    d_z                  \u23a5\n",
        "\u23a2          d_z                0            \u2500\u2500\u2500 + \u2500\u2500\u2500\u2500           0     \u23a5\n",
        "\u23a2                                          R_m   R_m                  \u23a5\n",
        "\u23a2                                                                     \u23a5\n",
        "\u23a2                                                             2      2\u23a5\n",
        "\u23a2                                                           d\u2093    d_z \u23a5\n",
        "\u23a2           0                d_z             -d_z\u22c5q         \u2500\u2500\u2500 + \u2500\u2500\u2500\u2500\u23a5\n",
        "\u23a3                                                           R_m   R_m \u23a6"
       ]
      }
     ],
     "prompt_number": 33
    },
    {
     "cell_type": "code",
     "collapsed": false,
     "input": [
      "LT = L.adjoint()\n",
      "U = Matrix([0, 0, 0, B])\n",
      "(L*VT).subs(dz, 1j*Q)"
     ],
     "language": "python",
     "metadata": {},
     "outputs": [
      {
       "latex": [
        "$$\\left[\\begin{matrix}A \\left(- 1.0 i Co Q^{3} + 1.0 i Co Q d_{x}^{2}\\right) + 2.0 i Q u + \\psi \\left(\\frac{1.0 Q^{4}}{R} - \\frac{2.0 Q^{2}}{R} d_{x}^{2} + \\frac{d_{x}^{4}}{R}\\right)\\\\1.0 i B Co Q + 1.0 i Q \\psi \\left(- q + 2\\right) + u \\left(- \\frac{1.0 Q^{2}}{R} + \\frac{d_{x}^{2}}{R}\\right)\\\\A \\left(- \\frac{1.0 Q^{2}}{R_{m}} + \\frac{d_{x}^{2}}{R_{m}}\\right) + 1.0 i Q \\psi\\\\- 1.0 i A Q q + B \\left(- \\frac{1.0 Q^{2}}{R_{m}} + \\frac{d_{x}^{2}}{R_{m}}\\right) + 1.0 i Q u\\end{matrix}\\right]$$"
       ],
       "metadata": {},
       "output_type": "pyout",
       "png": "[encoded data removed]",
       "prompt_number": 46,
       "text": [
        "\u23a1                                                   \u239b     4        2   2     4\n",
        "\u23a2  \u239b            3                2\u239e                 \u239c1.0\u22c5Q    2.0\u22c5Q \u22c5d\u2093    d\u2093 \n",
        "\u23a2A\u22c5\u239d- 1.0\u22c5\u2148\u22c5Co\u22c5Q  + 1.0\u22c5\u2148\u22c5Co\u22c5Q\u22c5d\u2093 \u23a0 + 2.0\u22c5\u2148\u22c5Q\u22c5u + \u03c8\u22c5\u239c\u2500\u2500\u2500\u2500\u2500\u2500 - \u2500\u2500\u2500\u2500\u2500\u2500\u2500\u2500\u2500\u2500 + \u2500\u2500\u2500\n",
        "\u23a2                                                   \u239d  R          R         R \n",
        "\u23a2                                                                             \n",
        "\u23a2                                                  \u239b       2     2\u239e           \n",
        "\u23a2                                                  \u239c  1.0\u22c5Q    d\u2093 \u239f           \n",
        "\u23a2            1.0\u22c5\u2148\u22c5B\u22c5Co\u22c5Q + 1.0\u22c5\u2148\u22c5Q\u22c5\u03c8\u22c5(-q + 2) + u\u22c5\u239c- \u2500\u2500\u2500\u2500\u2500\u2500 + \u2500\u2500\u2500\u239f           \n",
        "\u23a2                                                  \u239d    R       R \u23a0           \n",
        "\u23a2                                                                             \n",
        "\u23a2                          \u239b       2     2\u239e                                   \n",
        "\u23a2                          \u239c  1.0\u22c5Q    d\u2093 \u239f                                   \n",
        "\u23a2                        A\u22c5\u239c- \u2500\u2500\u2500\u2500\u2500\u2500 + \u2500\u2500\u2500\u239f + 1.0\u22c5\u2148\u22c5Q\u22c5\u03c8                       \n",
        "\u23a2                          \u239d   R_m     R_m\u23a0                                   \n",
        "\u23a2                                                                             \n",
        "\u23a2                                 \u239b       2     2\u239e                            \n",
        "\u23a2                                 \u239c  1.0\u22c5Q    d\u2093 \u239f                            \n",
        "\u23a2                -1.0\u22c5\u2148\u22c5A\u22c5Q\u22c5q + B\u22c5\u239c- \u2500\u2500\u2500\u2500\u2500\u2500 + \u2500\u2500\u2500\u239f + 1.0\u22c5\u2148\u22c5Q\u22c5u                \n",
        "\u23a3                                 \u239d   R_m     R_m\u23a0                            \n",
        "\n",
        "\u239e\u23a4\n",
        "\u239f\u23a5\n",
        "\u239f\u23a5\n",
        "\u23a0\u23a5\n",
        " \u23a5\n",
        " \u23a5\n",
        " \u23a5\n",
        " \u23a5\n",
        " \u23a5\n",
        " \u23a5\n",
        " \u23a5\n",
        " \u23a5\n",
        " \u23a5\n",
        " \u23a5\n",
        " \u23a5\n",
        " \u23a5\n",
        " \u23a5\n",
        " \u23a5\n",
        " \u23a6"
       ]
      }
     ],
     "prompt_number": 46
    },
    {
     "cell_type": "code",
     "collapsed": false,
     "input": [
      "(LT*VT).subs(dz, 1j*Q)+(LT*U).subs(dz,1)"
     ],
     "language": "python",
     "metadata": {},
     "outputs": [
      {
       "latex": [
        "$$\\left[\\begin{matrix}1.0 i A Q + 1.0 i Q u \\left(- q + 2\\right) + \\psi \\left(\\frac{1.0 Q^{4}}{R} - \\frac{2.0 Q^{2}}{R} d_{x}^{2} + \\frac{d_{x}^{4}}{R}\\right)\\\\1.0 i B Q + B + 2.0 i Q \\psi + u \\left(- \\frac{1.0 Q^{2}}{R} + \\frac{d_{x}^{2}}{R}\\right)\\\\A \\left(- \\frac{1.0 Q^{2}}{R_{m}} + \\frac{d_{x}^{2}}{R_{m}}\\right) - 1.0 i B Q q - B q + \\psi \\left(- 1.0 i Co Q^{3} + 1.0 i Co Q d_{x}^{2}\\right)\\\\B \\left(- \\frac{1.0 Q^{2}}{R_{m}} + \\frac{d_{x}^{2}}{R_{m}}\\right) + B \\left(\\frac{d_{x}^{2}}{R_{m}} + \\frac{1}{R_{m}}\\right) + 1.0 i Co Q u\\end{matrix}\\right]$$"
       ],
       "metadata": {},
       "output_type": "pyout",
       "png": "[encoded data removed]",
       "prompt_number": 45,
       "text": [
        "\u23a1                                         \u239b     4        2   2     4\u239e       \u23a4\n",
        "\u23a2                                         \u239c1.0\u22c5Q    2.0\u22c5Q \u22c5d\u2093    d\u2093 \u239f       \u23a5\n",
        "\u23a2      1.0\u22c5\u2148\u22c5A\u22c5Q + 1.0\u22c5\u2148\u22c5Q\u22c5u\u22c5(-q + 2) + \u03c8\u22c5\u239c\u2500\u2500\u2500\u2500\u2500\u2500 - \u2500\u2500\u2500\u2500\u2500\u2500\u2500\u2500\u2500\u2500 + \u2500\u2500\u2500\u239f       \u23a5\n",
        "\u23a2                                         \u239d  R          R         R \u23a0       \u23a5\n",
        "\u23a2                                                                           \u23a5\n",
        "\u23a2                                            \u239b       2     2\u239e               \u23a5\n",
        "\u23a2                                            \u239c  1.0\u22c5Q    d\u2093 \u239f               \u23a5\n",
        "\u23a2              1.0\u22c5\u2148\u22c5B\u22c5Q + B + 2.0\u22c5\u2148\u22c5Q\u22c5\u03c8 + u\u22c5\u239c- \u2500\u2500\u2500\u2500\u2500\u2500 + \u2500\u2500\u2500\u239f               \u23a5\n",
        "\u23a2                                            \u239d    R       R \u23a0               \u23a5\n",
        "\u23a2                                                                           \u23a5\n",
        "\u23a2  \u239b       2     2\u239e                                                         \u23a5\n",
        "\u23a2  \u239c  1.0\u22c5Q    d\u2093 \u239f                         \u239b            3                2\u239e\u23a5\n",
        "\u23a2A\u22c5\u239c- \u2500\u2500\u2500\u2500\u2500\u2500 + \u2500\u2500\u2500\u239f - 1.0\u22c5\u2148\u22c5B\u22c5Q\u22c5q - B\u22c5q + \u03c8\u22c5\u239d- 1.0\u22c5\u2148\u22c5Co\u22c5Q  + 1.0\u22c5\u2148\u22c5Co\u22c5Q\u22c5d\u2093 \u23a0\u23a5\n",
        "\u23a2  \u239d   R_m     R_m\u23a0                                                         \u23a5\n",
        "\u23a2                                                                           \u23a5\n",
        "\u23a2               \u239b       2     2\u239e     \u239b  2      \u239e                            \u23a5\n",
        "\u23a2               \u239c  1.0\u22c5Q    d\u2093 \u239f     \u239cd\u2093     1 \u239f                            \u23a5\n",
        "\u23a2             B\u22c5\u239c- \u2500\u2500\u2500\u2500\u2500\u2500 + \u2500\u2500\u2500\u239f + B\u22c5\u239c\u2500\u2500\u2500 + \u2500\u2500\u2500\u239f + 1.0\u22c5\u2148\u22c5Co\u22c5Q\u22c5u             \u23a5\n",
        "\u23a3               \u239d   R_m     R_m\u23a0     \u239dR_m   R_m\u23a0                            \u23a6"
       ]
      }
     ],
     "prompt_number": 45
    },
    {
     "cell_type": "code",
     "collapsed": false,
     "input": [
      "#TESTING\n",
      "LT2 = L0T - L1T*(1j*Q) + L2T*(1j*Q)**2 - L3T*(1j*Q)**3 + L4T*(1j*Q)**4"
     ],
     "language": "python",
     "metadata": {},
     "outputs": [],
     "prompt_number": 13
    },
    {
     "cell_type": "code",
     "collapsed": false,
     "input": [
      "simplify(LT2*VT - LT*VT)"
     ],
     "language": "python",
     "metadata": {},
     "outputs": [
      {
       "latex": [
        "$$\\left[\\begin{matrix}- 2.0 i A Q - \\frac{4.0 \\psi}{R} Q^{2} d_{x}^{2} + 2.0 i Q q u - 4.0 i Q u\\\\- 2.0 i B Q - \\frac{2.0 u}{R} Q^{2} - 4.0 i Q \\psi\\\\- \\frac{2.0 A}{R_{m}} Q^{2} + 2.0 i B Q q - 2.0 i Co Q d_{x}^{2} \\psi\\\\- \\frac{2.0 Q}{R_{m}} \\left(B Q + i Co R_{m} u\\right)\\end{matrix}\\right]$$"
       ],
       "metadata": {},
       "output_type": "pyout",
       "png": "[encoded data removed]",
       "prompt_number": 14,
       "text": [
        "\u23a1                  2   2                            \u23a4\n",
        "\u23a2             4.0\u22c5Q \u22c5d\u2093 \u22c5\u03c8                          \u23a5\n",
        "\u23a2-2.0\u22c5\u2148\u22c5A\u22c5Q - \u2500\u2500\u2500\u2500\u2500\u2500\u2500\u2500\u2500\u2500\u2500\u2500 + 2.0\u22c5\u2148\u22c5Q\u22c5q\u22c5u - 4.0\u22c5\u2148\u22c5Q\u22c5u\u23a5\n",
        "\u23a2                  R                                \u23a5\n",
        "\u23a2                                                   \u23a5\n",
        "\u23a2                           2                       \u23a5\n",
        "\u23a2                      2.0\u22c5Q \u22c5u                     \u23a5\n",
        "\u23a2         -2.0\u22c5\u2148\u22c5B\u22c5Q - \u2500\u2500\u2500\u2500\u2500\u2500\u2500\u2500 - 4.0\u22c5\u2148\u22c5Q\u22c5\u03c8         \u23a5\n",
        "\u23a2                         R                         \u23a5\n",
        "\u23a2                                                   \u23a5\n",
        "\u23a2             2                                     \u23a5\n",
        "\u23a2      2.0\u22c5A\u22c5Q                               2      \u23a5\n",
        "\u23a2    - \u2500\u2500\u2500\u2500\u2500\u2500\u2500\u2500 + 2.0\u22c5\u2148\u22c5B\u22c5Q\u22c5q - 2.0\u22c5\u2148\u22c5Co\u22c5Q\u22c5d\u2093 \u22c5\u03c8    \u23a5\n",
        "\u23a2        R_m                                        \u23a5\n",
        "\u23a2                                                   \u23a5\n",
        "\u23a2            -2.0\u22c5Q\u22c5(B\u22c5Q + \u2148\u22c5Co\u22c5R_m\u22c5u)              \u23a5\n",
        "\u23a2            \u2500\u2500\u2500\u2500\u2500\u2500\u2500\u2500\u2500\u2500\u2500\u2500\u2500\u2500\u2500\u2500\u2500\u2500\u2500\u2500\u2500\u2500\u2500\u2500\u2500\u2500             \u23a5\n",
        "\u23a3                       R_m                         \u23a6"
       ]
      }
     ],
     "prompt_number": 14
    },
    {
     "cell_type": "code",
     "collapsed": false,
     "input": [
      "LT2*VT"
     ],
     "language": "python",
     "metadata": {},
     "outputs": [
      {
       "latex": [
        "$$\\left[\\begin{matrix}- 1.0 i A Q - 1.0 i Q u \\left(- q + 2\\right) + \\psi \\left(\\frac{1.0 Q^{4}}{R} - \\frac{2.0 Q^{2}}{R} d_{x}^{2} + \\frac{d_{x}^{4}}{R}\\right)\\\\- 1.0 i B Q - 2.0 i Q \\psi + u \\left(- \\frac{1.0 Q^{2}}{R} + \\frac{d_{x}^{2}}{R}\\right)\\\\A \\left(- \\frac{1.0 Q^{2}}{R_{m}} + \\frac{d_{x}^{2}}{R_{m}}\\right) + 1.0 i B Q q + \\psi \\left(1.0 i Co Q^{3} - 1.0 i Co Q d_{x}^{2}\\right)\\\\B \\left(- \\frac{1.0 Q^{2}}{R_{m}} + \\frac{d_{x}^{2}}{R_{m}}\\right) - 1.0 i Co Q u\\end{matrix}\\right]$$"
       ],
       "metadata": {},
       "output_type": "pyout",
       "png": "[encoded data removed]",
       "prompt_number": 15,
       "text": [
        "\u23a1                                      \u239b     4        2   2     4\u239e  \u23a4\n",
        "\u23a2                                      \u239c1.0\u22c5Q    2.0\u22c5Q \u22c5d\u2093    d\u2093 \u239f  \u23a5\n",
        "\u23a2  -1.0\u22c5\u2148\u22c5A\u22c5Q - 1.0\u22c5\u2148\u22c5Q\u22c5u\u22c5(-q + 2) + \u03c8\u22c5\u239c\u2500\u2500\u2500\u2500\u2500\u2500 - \u2500\u2500\u2500\u2500\u2500\u2500\u2500\u2500\u2500\u2500 + \u2500\u2500\u2500\u239f  \u23a5\n",
        "\u23a2                                      \u239d  R          R         R \u23a0  \u23a5\n",
        "\u23a2                                                                   \u23a5\n",
        "\u23a2                                       \u239b       2     2\u239e            \u23a5\n",
        "\u23a2                                       \u239c  1.0\u22c5Q    d\u2093 \u239f            \u23a5\n",
        "\u23a2            -1.0\u22c5\u2148\u22c5B\u22c5Q - 2.0\u22c5\u2148\u22c5Q\u22c5\u03c8 + u\u22c5\u239c- \u2500\u2500\u2500\u2500\u2500\u2500 + \u2500\u2500\u2500\u239f            \u23a5\n",
        "\u23a2                                       \u239d    R       R \u23a0            \u23a5\n",
        "\u23a2                                                                   \u23a5\n",
        "\u23a2  \u239b       2     2\u239e                                                 \u23a5\n",
        "\u23a2  \u239c  1.0\u22c5Q    d\u2093 \u239f                   \u239b          3                2\u239e\u23a5\n",
        "\u23a2A\u22c5\u239c- \u2500\u2500\u2500\u2500\u2500\u2500 + \u2500\u2500\u2500\u239f + 1.0\u22c5\u2148\u22c5B\u22c5Q\u22c5q + \u03c8\u22c5\u239d1.0\u22c5\u2148\u22c5Co\u22c5Q  - 1.0\u22c5\u2148\u22c5Co\u22c5Q\u22c5d\u2093 \u23a0\u23a5\n",
        "\u23a2  \u239d   R_m     R_m\u23a0                                                 \u23a5\n",
        "\u23a2                                                                   \u23a5\n",
        "\u23a2                   \u239b       2     2\u239e                                \u23a5\n",
        "\u23a2                   \u239c  1.0\u22c5Q    d\u2093 \u239f                                \u23a5\n",
        "\u23a2                 B\u22c5\u239c- \u2500\u2500\u2500\u2500\u2500\u2500 + \u2500\u2500\u2500\u239f - 1.0\u22c5\u2148\u22c5Co\u22c5Q\u22c5u                 \u23a5\n",
        "\u23a3                   \u239d   R_m     R_m\u23a0                                \u23a6"
       ]
      }
     ],
     "prompt_number": 15
    },
    {
     "cell_type": "code",
     "collapsed": false,
     "input": [],
     "language": "python",
     "metadata": {},
     "outputs": []
    }
   ],
   "metadata": {}
  }
 ]
}