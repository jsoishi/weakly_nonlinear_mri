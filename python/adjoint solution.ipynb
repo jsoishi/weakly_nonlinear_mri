{
 "metadata": {
  "name": "",
  "signature": "sha256:b4e44a95e8a3bf8132f1e3a4a75ad56e335ec4f19e9660480d56398357c6a531"
 },
 "nbformat": 3,
 "nbformat_minor": 0,
 "worksheets": [
  {
   "cells": [
    {
     "cell_type": "markdown",
     "metadata": {},
     "source": [
      "We are solving the equation:\n",
      "\n",
      "$L^\\dagger V^\\dagger = 0$\n",
      "\n",
      "Where:\n",
      "\n",
      "$L^\\dagger = L_0^T - L_1^T\\partial_z + L_2^T\\partial_z^2 - L_3^T \\partial_z^3 + L_4^T\\partial_z^4$\n",
      "\n",
      "Hence we have four coupled differential equations, as written up in my notes.\n",
      "\n",
      "$L_0, L_1,$ and $L_2$ contain $\\partial_x$ terms. The solution $V^\\dagger$ has some z-dependence that must be periodic, and therefore can be solved with a spectral method using a Fourier basis. $V^\\dagger$ also has x, dependence, s.t. $V^\\dagger = u(z)\\mathbb{V}^\\dagger$, where $\\mathbb{V}^\\dagger  = [\\Psi(x)^\\dagger, u(x)^\\dagger, A(x)^\\dagger, B(x)^\\dagger]^T$\n",
      "\n",
      "Our concern for the moment is not $\\mathbb{V}^\\dagger$, which is bounded at $x = \\pm 1$ and non-periodic, and so must be solved using Chebyshev basis functions. Instead, we are solving $u(z)$.\n",
      "\n",
      "That is, we are saying $u(z) = u_N(z) = \\sum \\limits_{n=0}^N a_n \\phi_n(z)$ where $\\phi_n(z) = e^{i k_n z}$.\n",
      "\n",
      "So really, we are solving: \n",
      "\n",
      "$L^\\dagger \\mathbb{V}^\\dagger u(z) = 0$\n",
      "\n",
      "The general approach for a spectral solver is to take $L u_N = R$, where R is the residual function, and then solve for the coefficients $a_n$ by minimizing R (i.e. by forcing R to be zero at a set number of points -- collocation).\n",
      "\n",
      "Here is my confusion: \n",
      "(a) I know we are assuming separable solutions in x and z, but it still seems odd that we can just ignore x. And if we can, are we saying that $L^\\dagger u(z) = 0$? That seems like a much different problem. It also means we are assuming a priori that all the fluid quantities behave the same way in the vertical extent -- that doesn't seem unreasonable, but what is the justification for that?\n",
      "\n",
      "(b) L is a linear combination of 4x4 matrices (with differential operators) because there are 4 fluid quantities. But shouldn't the size of L be set by the number of modes in u? That is, if you choose N=3, u becomes a column vector $[u_0, u_1, u_2, u_3]^T$ where each u represents term n in the Fourier expansion?"
     ]
    },
    {
     "cell_type": "code",
     "collapsed": false,
     "input": [
      "from sympy import *\n",
      "from sympy.interactive import printing\n",
      "printing.init_printing(use_latex=True)\n",
      "%matplotlib inline\n",
      "\n",
      "R, Rm, kx, ky, kz, omega, q, B0, dx, dy, dz, dt, pi, psi, u, A, B, Q, Co, psi22, psi21, psi20, u22, u21, u20, A22, A21, A20, B22, B21, B20, psi30, u30, A30, B30 = symbols(\"R R_m k_x k_y k_z Omega_0 q B_0 d_x d_y d_z d_t pi psi u A B Q Co psi22 psi21 psi20 u22 u21 u20 A22 A21 A20 B22 B21 B20 psi30 u30 A30 B30\", real=True)\n",
      "s = symbols(\"s\",)\n",
      "\n",
      "#Adjoint state vector matrix\n",
      "VT = Matrix([psi, u, A, B])\n",
      "\n",
      "L1 = Matrix([[0, 2, Co*dx**2, 0],\n",
      "            [q - 2, 0, 0, Co],\n",
      "            [1, 0, 0, 0],\n",
      "            [0, 1, -q, 0]])\n"
     ],
     "language": "python",
     "metadata": {},
     "outputs": [],
     "prompt_number": 186
    },
    {
     "cell_type": "code",
     "collapsed": false,
     "input": [
      "L1T = L1.adjoint()\n",
      "L1T"
     ],
     "language": "python",
     "metadata": {},
     "outputs": [
      {
       "latex": [
        "$$\\left[\\begin{smallmatrix}{}0 & q - 2 & 1 & 0\\\\2 & 0 & 0 & 1\\\\Co d_{x}^{2} & 0 & 0 & - q\\\\0 & Co & 0 & 0\\end{smallmatrix}\\right]$$"
       ],
       "metadata": {},
       "output_type": "pyout",
       "png": "[encoded data removed]",
       "prompt_number": 187,
       "text": [
        "\u23a1  0     q - 2  1  0 \u23a4\n",
        "\u23a2                    \u23a5\n",
        "\u23a2  2       0    0  1 \u23a5\n",
        "\u23a2                    \u23a5\n",
        "\u23a2     2              \u23a5\n",
        "\u23a2Co\u22c5d\u2093     0    0  -q\u23a5\n",
        "\u23a2                    \u23a5\n",
        "\u23a3  0      Co    0  0 \u23a6"
       ]
      }
     ],
     "prompt_number": 187
    },
    {
     "cell_type": "code",
     "collapsed": false,
     "input": [
      "#L3T = Matrix([[0, 0, 0, 0],\n",
      "#            [0, 0, 0, 0],\n",
      "#            [1/(4*pi), 0, 0, 0],\n",
      "#            [0, 0, 0, 0]])\n",
      "L3T = Matrix([[0, 0, 0, 0],\n",
      "            [0, 0, 0, 0],\n",
      "            [Co, 0, 0, 0],\n",
      "            [0, 0, 0, 0]])\n",
      "L3 = Matrix([[0, 0, Co, 0],\n",
      "             [0, 0, 0, 0],\n",
      "             [0, 0, 0, 0],\n",
      "             [0, 0, 0, 0]])"
     ],
     "language": "python",
     "metadata": {},
     "outputs": [],
     "prompt_number": 188
    },
    {
     "cell_type": "code",
     "collapsed": false,
     "input": [
      "L3T"
     ],
     "language": "python",
     "metadata": {},
     "outputs": [
      {
       "latex": [
        "$$\\left[\\begin{smallmatrix}{}0 & 0 & 0 & 0\\\\0 & 0 & 0 & 0\\\\Co & 0 & 0 & 0\\\\0 & 0 & 0 & 0\\end{smallmatrix}\\right]$$"
       ],
       "metadata": {},
       "output_type": "pyout",
       "png": "[encoded data removed]",
       "prompt_number": 189,
       "text": [
        "\u23a10   0  0  0\u23a4\n",
        "\u23a2           \u23a5\n",
        "\u23a20   0  0  0\u23a5\n",
        "\u23a2           \u23a5\n",
        "\u23a2Co  0  0  0\u23a5\n",
        "\u23a2           \u23a5\n",
        "\u23a30   0  0  0\u23a6"
       ]
      }
     ],
     "prompt_number": 189
    },
    {
     "cell_type": "code",
     "collapsed": false,
     "input": [
      "L2 = Matrix([[(2/R)*dx**2, 0, 0, 0],\n",
      "             [0, 1/R, 0, 0],\n",
      "             [0, 0, 1/Rm, 0],\n",
      "             [0, 0, 0, 1/Rm]])"
     ],
     "language": "python",
     "metadata": {},
     "outputs": [],
     "prompt_number": 190
    },
    {
     "cell_type": "code",
     "collapsed": false,
     "input": [
      "L2T = L2.adjoint()\n",
      "L2T"
     ],
     "language": "python",
     "metadata": {},
     "outputs": [
      {
       "latex": [
        "$$\\left[\\begin{smallmatrix}{}\\frac{2 d_{x}^{2}}{R} & 0 & 0 & 0\\\\0 & \\frac{1}{R} & 0 & 0\\\\0 & 0 & \\frac{1}{R_{m}} & 0\\\\0 & 0 & 0 & \\frac{1}{R_{m}}\\end{smallmatrix}\\right]$$"
       ],
       "metadata": {},
       "output_type": "pyout",
       "png": "[encoded data removed]",
       "prompt_number": 191,
       "text": [
        "\u23a1    2             \u23a4\n",
        "\u23a22\u22c5d\u2093              \u23a5\n",
        "\u23a2\u2500\u2500\u2500\u2500\u2500  0   0    0 \u23a5\n",
        "\u23a2  R               \u23a5\n",
        "\u23a2                  \u23a5\n",
        "\u23a2       1          \u23a5\n",
        "\u23a2  0    \u2500   0    0 \u23a5\n",
        "\u23a2       R          \u23a5\n",
        "\u23a2                  \u23a5\n",
        "\u23a2           1      \u23a5\n",
        "\u23a2  0    0  \u2500\u2500\u2500   0 \u23a5\n",
        "\u23a2          R_m     \u23a5\n",
        "\u23a2                  \u23a5\n",
        "\u23a2                1 \u23a5\n",
        "\u23a2  0    0   0   \u2500\u2500\u2500\u23a5\n",
        "\u23a3               R_m\u23a6"
       ]
      }
     ],
     "prompt_number": 191
    },
    {
     "cell_type": "code",
     "collapsed": false,
     "input": [
      "L4 = Matrix([[1/R, 0, 0, 0],\n",
      "             [0, 0, 0, 0],\n",
      "             [0, 0, 0, 0],\n",
      "             [0, 0, 0, 0]])\n",
      "L4T = L4.adjoint()\n",
      "L4T"
     ],
     "language": "python",
     "metadata": {},
     "outputs": [
      {
       "latex": [
        "$$\\left[\\begin{smallmatrix}{}\\frac{1}{R} & 0 & 0 & 0\\\\0 & 0 & 0 & 0\\\\0 & 0 & 0 & 0\\\\0 & 0 & 0 & 0\\end{smallmatrix}\\right]$$"
       ],
       "metadata": {},
       "output_type": "pyout",
       "png": "[encoded data removed]",
       "prompt_number": 192,
       "text": [
        "\u23a11         \u23a4\n",
        "\u23a2\u2500  0  0  0\u23a5\n",
        "\u23a2R         \u23a5\n",
        "\u23a2          \u23a5\n",
        "\u23a20  0  0  0\u23a5\n",
        "\u23a2          \u23a5\n",
        "\u23a20  0  0  0\u23a5\n",
        "\u23a2          \u23a5\n",
        "\u23a30  0  0  0\u23a6"
       ]
      }
     ],
     "prompt_number": 192
    },
    {
     "cell_type": "code",
     "collapsed": false,
     "input": [
      "L0 = Matrix([[(1/R)*dx**4, 0, 0, 0],\n",
      "             [0, (1/R)*dx**2, 0, 0],\n",
      "             [0, 0, (1/Rm)*dx**2, 0],\n",
      "             [0, 0, 0, (1/Rm)*dx**2]])\n",
      "L0T = L0.adjoint()\n",
      "L0T"
     ],
     "language": "python",
     "metadata": {},
     "outputs": [
      {
       "latex": [
        "$$\\left[\\begin{smallmatrix}{}\\frac{d_{x}^{4}}{R} & 0 & 0 & 0\\\\0 & \\frac{d_{x}^{2}}{R} & 0 & 0\\\\0 & 0 & \\frac{d_{x}^{2}}{R_{m}} & 0\\\\0 & 0 & 0 & \\frac{d_{x}^{2}}{R_{m}}\\end{smallmatrix}\\right]$$"
       ],
       "metadata": {},
       "output_type": "pyout",
       "png": "[encoded data removed]",
       "prompt_number": 193,
       "text": [
        "\u23a1  4               \u23a4\n",
        "\u23a2d\u2093                \u23a5\n",
        "\u23a2\u2500\u2500\u2500   0    0    0 \u23a5\n",
        "\u23a2 R                \u23a5\n",
        "\u23a2                  \u23a5\n",
        "\u23a2       2          \u23a5\n",
        "\u23a2     d\u2093           \u23a5\n",
        "\u23a2 0   \u2500\u2500\u2500   0    0 \u23a5\n",
        "\u23a2      R           \u23a5\n",
        "\u23a2                  \u23a5\n",
        "\u23a2            2     \u23a5\n",
        "\u23a2          d\u2093      \u23a5\n",
        "\u23a2 0    0   \u2500\u2500\u2500   0 \u23a5\n",
        "\u23a2          R_m     \u23a5\n",
        "\u23a2                  \u23a5\n",
        "\u23a2                 2\u23a5\n",
        "\u23a2               d\u2093 \u23a5\n",
        "\u23a2 0    0    0   \u2500\u2500\u2500\u23a5\n",
        "\u23a3               R_m\u23a6"
       ]
      }
     ],
     "prompt_number": 193
    },
    {
     "cell_type": "code",
     "collapsed": false,
     "input": [
      "#dz -> 1j*Q\n",
      "#LT = L0T - L1T*(1j*Q) + L2T*(1j*Q)**2 - L3T*(1j*Q)**3 + L4T*(1j*Q)**4\n",
      "L = L0 + L1*dz + L2*dz**2 + L3*dz**3 + L4*dz**4\n",
      "L"
     ],
     "language": "python",
     "metadata": {},
     "outputs": [
      {
       "latex": [
        "$$\\left[\\begin{smallmatrix}{}\\frac{d_{x}^{4}}{R} + \\frac{2 d_{x}^{2}}{R} d_{z}^{2} + \\frac{d_{z}^{4}}{R} & 2 d_{z} & Co d_{x}^{2} d_{z} + Co d_{z}^{3} & 0\\\\d_{z} \\left(q - 2\\right) & \\frac{d_{x}^{2}}{R} + \\frac{d_{z}^{2}}{R} & 0 & Co d_{z}\\\\d_{z} & 0 & \\frac{d_{x}^{2}}{R_{m}} + \\frac{d_{z}^{2}}{R_{m}} & 0\\\\0 & d_{z} & - d_{z} q & \\frac{d_{x}^{2}}{R_{m}} + \\frac{d_{z}^{2}}{R_{m}}\\end{smallmatrix}\\right]$$"
       ],
       "metadata": {},
       "output_type": "pyout",
       "png": "[encoded data removed]",
       "prompt_number": 194,
       "text": [
        "\u23a1  4       2    2      4                                              \u23a4\n",
        "\u23a2d\u2093    2\u22c5d\u2093 \u22c5d_z    d_z                    2             3            \u23a5\n",
        "\u23a2\u2500\u2500\u2500 + \u2500\u2500\u2500\u2500\u2500\u2500\u2500\u2500\u2500\u2500 + \u2500\u2500\u2500\u2500    2\u22c5d_z     Co\u22c5d\u2093 \u22c5d_z + Co\u22c5d_z       0     \u23a5\n",
        "\u23a2 R        R         R                                                \u23a5\n",
        "\u23a2                                                                     \u23a5\n",
        "\u23a2                           2      2                                  \u23a5\n",
        "\u23a2                         d\u2093    d_z                                   \u23a5\n",
        "\u23a2      d_z\u22c5(q - 2)        \u2500\u2500\u2500 + \u2500\u2500\u2500\u2500           0              Co\u22c5d_z  \u23a5\n",
        "\u23a2                          R     R                                    \u23a5\n",
        "\u23a2                                                                     \u23a5\n",
        "\u23a2                                            2      2                 \u23a5\n",
        "\u23a2                                          d\u2093    d_z                  \u23a5\n",
        "\u23a2          d_z                0            \u2500\u2500\u2500 + \u2500\u2500\u2500\u2500           0     \u23a5\n",
        "\u23a2                                          R_m   R_m                  \u23a5\n",
        "\u23a2                                                                     \u23a5\n",
        "\u23a2                                                             2      2\u23a5\n",
        "\u23a2                                                           d\u2093    d_z \u23a5\n",
        "\u23a2           0                d_z             -d_z\u22c5q         \u2500\u2500\u2500 + \u2500\u2500\u2500\u2500\u23a5\n",
        "\u23a3                                                           R_m   R_m \u23a6"
       ]
      }
     ],
     "prompt_number": 194
    },
    {
     "cell_type": "code",
     "collapsed": false,
     "input": [
      "LT = L.adjoint()\n",
      "U = Matrix([0, 0, 0, B])\n",
      "(L*VT).subs(dz, 1j*Q)"
     ],
     "language": "python",
     "metadata": {},
     "outputs": [
      {
       "latex": [
        "$$\\left[\\begin{smallmatrix}{}A \\left(- 1.0 i Co Q^{3} + 1.0 i Co Q d_{x}^{2}\\right) + 2.0 i Q u + \\psi \\left(\\frac{1.0 Q^{4}}{R} - \\frac{2.0 Q^{2}}{R} d_{x}^{2} + \\frac{d_{x}^{4}}{R}\\right)\\\\1.0 i B Co Q + 1.0 i Q \\psi \\left(q - 2\\right) + u \\left(- \\frac{1.0 Q^{2}}{R} + \\frac{d_{x}^{2}}{R}\\right)\\\\A \\left(- \\frac{1.0 Q^{2}}{R_{m}} + \\frac{d_{x}^{2}}{R_{m}}\\right) + 1.0 i Q \\psi\\\\- 1.0 i A Q q + B \\left(- \\frac{1.0 Q^{2}}{R_{m}} + \\frac{d_{x}^{2}}{R_{m}}\\right) + 1.0 i Q u\\end{smallmatrix}\\right]$$"
       ],
       "metadata": {},
       "output_type": "pyout",
       "png": "[encoded data removed]",
       "prompt_number": 195,
       "text": [
        "\u23a1                                                   \u239b     4        2   2     4\n",
        "\u23a2  \u239b            3                2\u239e                 \u239c1.0\u22c5Q    2.0\u22c5Q \u22c5d\u2093    d\u2093 \n",
        "\u23a2A\u22c5\u239d- 1.0\u22c5\u2148\u22c5Co\u22c5Q  + 1.0\u22c5\u2148\u22c5Co\u22c5Q\u22c5d\u2093 \u23a0 + 2.0\u22c5\u2148\u22c5Q\u22c5u + \u03c8\u22c5\u239c\u2500\u2500\u2500\u2500\u2500\u2500 - \u2500\u2500\u2500\u2500\u2500\u2500\u2500\u2500\u2500\u2500 + \u2500\u2500\u2500\n",
        "\u23a2                                                   \u239d  R          R         R \n",
        "\u23a2                                                                             \n",
        "\u23a2                                                 \u239b       2     2\u239e            \n",
        "\u23a2                                                 \u239c  1.0\u22c5Q    d\u2093 \u239f            \n",
        "\u23a2            1.0\u22c5\u2148\u22c5B\u22c5Co\u22c5Q + 1.0\u22c5\u2148\u22c5Q\u22c5\u03c8\u22c5(q - 2) + u\u22c5\u239c- \u2500\u2500\u2500\u2500\u2500\u2500 + \u2500\u2500\u2500\u239f            \n",
        "\u23a2                                                 \u239d    R       R \u23a0            \n",
        "\u23a2                                                                             \n",
        "\u23a2                          \u239b       2     2\u239e                                   \n",
        "\u23a2                          \u239c  1.0\u22c5Q    d\u2093 \u239f                                   \n",
        "\u23a2                        A\u22c5\u239c- \u2500\u2500\u2500\u2500\u2500\u2500 + \u2500\u2500\u2500\u239f + 1.0\u22c5\u2148\u22c5Q\u22c5\u03c8                       \n",
        "\u23a2                          \u239d   R_m     R_m\u23a0                                   \n",
        "\u23a2                                                                             \n",
        "\u23a2                                 \u239b       2     2\u239e                            \n",
        "\u23a2                                 \u239c  1.0\u22c5Q    d\u2093 \u239f                            \n",
        "\u23a2                -1.0\u22c5\u2148\u22c5A\u22c5Q\u22c5q + B\u22c5\u239c- \u2500\u2500\u2500\u2500\u2500\u2500 + \u2500\u2500\u2500\u239f + 1.0\u22c5\u2148\u22c5Q\u22c5u                \n",
        "\u23a3                                 \u239d   R_m     R_m\u23a0                            \n",
        "\n",
        "\u239e\u23a4\n",
        "\u239f\u23a5\n",
        "\u239f\u23a5\n",
        "\u23a0\u23a5\n",
        " \u23a5\n",
        " \u23a5\n",
        " \u23a5\n",
        " \u23a5\n",
        " \u23a5\n",
        " \u23a5\n",
        " \u23a5\n",
        " \u23a5\n",
        " \u23a5\n",
        " \u23a5\n",
        " \u23a5\n",
        " \u23a5\n",
        " \u23a5\n",
        " \u23a5\n",
        " \u23a6"
       ]
      }
     ],
     "prompt_number": 195
    },
    {
     "cell_type": "code",
     "collapsed": false,
     "input": [
      "(LT*VT).subs(dz, 1j*Q)"
     ],
     "language": "python",
     "metadata": {},
     "outputs": [
      {
       "latex": [
        "$$\\left[\\begin{smallmatrix}{}1.0 i A Q + 1.0 i Q u \\left(q - 2\\right) + \\psi \\left(\\frac{1.0 Q^{4}}{R} - \\frac{2.0 Q^{2}}{R} d_{x}^{2} + \\frac{d_{x}^{4}}{R}\\right)\\\\1.0 i B Q + 2.0 i Q \\psi + u \\left(- \\frac{1.0 Q^{2}}{R} + \\frac{d_{x}^{2}}{R}\\right)\\\\A \\left(- \\frac{1.0 Q^{2}}{R_{m}} + \\frac{d_{x}^{2}}{R_{m}}\\right) - 1.0 i B Q q + \\psi \\left(- 1.0 i Co Q^{3} + 1.0 i Co Q d_{x}^{2}\\right)\\\\B \\left(- \\frac{1.0 Q^{2}}{R_{m}} + \\frac{d_{x}^{2}}{R_{m}}\\right) + 1.0 i Co Q u\\end{smallmatrix}\\right]$$"
       ],
       "metadata": {},
       "output_type": "pyout",
       "png": "[encoded data removed]",
       "prompt_number": 196,
       "text": [
        "\u23a1                                      \u239b     4        2   2     4\u239e    \u23a4\n",
        "\u23a2                                      \u239c1.0\u22c5Q    2.0\u22c5Q \u22c5d\u2093    d\u2093 \u239f    \u23a5\n",
        "\u23a2    1.0\u22c5\u2148\u22c5A\u22c5Q + 1.0\u22c5\u2148\u22c5Q\u22c5u\u22c5(q - 2) + \u03c8\u22c5\u239c\u2500\u2500\u2500\u2500\u2500\u2500 - \u2500\u2500\u2500\u2500\u2500\u2500\u2500\u2500\u2500\u2500 + \u2500\u2500\u2500\u239f    \u23a5\n",
        "\u23a2                                      \u239d  R          R         R \u23a0    \u23a5\n",
        "\u23a2                                                                     \u23a5\n",
        "\u23a2                                       \u239b       2     2\u239e              \u23a5\n",
        "\u23a2                                       \u239c  1.0\u22c5Q    d\u2093 \u239f              \u23a5\n",
        "\u23a2             1.0\u22c5\u2148\u22c5B\u22c5Q + 2.0\u22c5\u2148\u22c5Q\u22c5\u03c8 + u\u22c5\u239c- \u2500\u2500\u2500\u2500\u2500\u2500 + \u2500\u2500\u2500\u239f              \u23a5\n",
        "\u23a2                                       \u239d    R       R \u23a0              \u23a5\n",
        "\u23a2                                                                     \u23a5\n",
        "\u23a2  \u239b       2     2\u239e                                                   \u23a5\n",
        "\u23a2  \u239c  1.0\u22c5Q    d\u2093 \u239f                   \u239b            3                2\u239e\u23a5\n",
        "\u23a2A\u22c5\u239c- \u2500\u2500\u2500\u2500\u2500\u2500 + \u2500\u2500\u2500\u239f - 1.0\u22c5\u2148\u22c5B\u22c5Q\u22c5q + \u03c8\u22c5\u239d- 1.0\u22c5\u2148\u22c5Co\u22c5Q  + 1.0\u22c5\u2148\u22c5Co\u22c5Q\u22c5d\u2093 \u23a0\u23a5\n",
        "\u23a2  \u239d   R_m     R_m\u23a0                                                   \u23a5\n",
        "\u23a2                                                                     \u23a5\n",
        "\u23a2                    \u239b       2     2\u239e                                 \u23a5\n",
        "\u23a2                    \u239c  1.0\u22c5Q    d\u2093 \u239f                                 \u23a5\n",
        "\u23a2                  B\u22c5\u239c- \u2500\u2500\u2500\u2500\u2500\u2500 + \u2500\u2500\u2500\u239f + 1.0\u22c5\u2148\u22c5Co\u22c5Q\u22c5u                  \u23a5\n",
        "\u23a3                    \u239d   R_m     R_m\u23a0                                 \u23a6"
       ]
      }
     ],
     "prompt_number": 196
    },
    {
     "cell_type": "code",
     "collapsed": false,
     "input": [
      "#TESTING\n",
      "LT2 = L0T - L1T*(1j*Q) + L2T*(1j*Q)**2 - L3T*(1j*Q)**3 + L4T*(1j*Q)**4"
     ],
     "language": "python",
     "metadata": {},
     "outputs": [],
     "prompt_number": 197
    },
    {
     "cell_type": "code",
     "collapsed": false,
     "input": [
      "simplify(LT2*VT - LT*VT)"
     ],
     "language": "python",
     "metadata": {},
     "outputs": [
      {
       "latex": [
        "$$\\left[\\begin{smallmatrix}{}\\frac{1}{R} \\left(- R \\left(1.0 i A Q + A d_{z} + 1.0 i Q u \\left(q - 2\\right) + d_{z} u \\left(q - 2\\right)\\right) + \\psi \\left(1.0 Q^{4} - 2.0 Q^{2} d_{x}^{2} + d_{x}^{4}\\right) - \\psi \\left(d_{x}^{4} + 2 d_{x}^{2} d_{z}^{2} + d_{z}^{4}\\right)\\right)\\\\- 1.0 i B Q - B d_{z} - \\frac{1.0 u}{R} Q^{2} - 2.0 i Q \\psi - 2 d_{z} \\psi - \\frac{d_{z}^{2} u}{R}\\\\\\frac{1}{R_{m}} \\left(- A \\left(1.0 Q^{2} - d_{x}^{2}\\right) - A \\left(d_{x}^{2} + d_{z}^{2}\\right) + R_{m} \\left(1.0 i B Q q + B d_{z} q + 1.0 i Co Q \\psi \\left(Q^{2} - d_{x}^{2}\\right) - Co d_{z} \\psi \\left(d_{x}^{2} + d_{z}^{2}\\right)\\right)\\right)\\\\- \\frac{1.0 B}{R_{m}} Q^{2} - \\frac{B d_{z}^{2}}{R_{m}} - 1.0 i Co Q u - Co d_{z} u\\end{smallmatrix}\\right]$$"
       ],
       "metadata": {},
       "output_type": "pyout",
       "png": "[encoded data removed]",
       "prompt_number": 198,
       "text": [
        "\u23a1                                                               \u239b     4       \n",
        "\u23a2-R\u22c5(1.0\u22c5\u2148\u22c5A\u22c5Q + A\u22c5d_z + 1.0\u22c5\u2148\u22c5Q\u22c5u\u22c5(q - 2) + d_z\u22c5u\u22c5(q - 2)) + \u03c8\u22c5\u239d1.0\u22c5Q  - 2.0\u22c5\n",
        "\u23a2\u2500\u2500\u2500\u2500\u2500\u2500\u2500\u2500\u2500\u2500\u2500\u2500\u2500\u2500\u2500\u2500\u2500\u2500\u2500\u2500\u2500\u2500\u2500\u2500\u2500\u2500\u2500\u2500\u2500\u2500\u2500\u2500\u2500\u2500\u2500\u2500\u2500\u2500\u2500\u2500\u2500\u2500\u2500\u2500\u2500\u2500\u2500\u2500\u2500\u2500\u2500\u2500\u2500\u2500\u2500\u2500\u2500\u2500\u2500\u2500\u2500\u2500\u2500\u2500\u2500\u2500\u2500\u2500\u2500\u2500\u2500\u2500\u2500\u2500\u2500\u2500\u2500\n",
        "\u23a2                                                           R                 \n",
        "\u23a2                                                                             \n",
        "\u23a2                                                        2                    \n",
        "\u23a2                                                   1.0\u22c5Q \u22c5u                  \n",
        "\u23a2                              -1.0\u22c5\u2148\u22c5B\u22c5Q - B\u22c5d_z - \u2500\u2500\u2500\u2500\u2500\u2500\u2500\u2500 - 2.0\u22c5\u2148\u22c5Q\u22c5\u03c8 - 2\u22c5d\n",
        "\u23a2                                                      R                      \n",
        "\u23a2                                                                             \n",
        "\u23a2      \u239b     2     2\u239e     \u239b  2      2\u239e       \u239b                                \n",
        "\u23a2  - A\u22c5\u239d1.0\u22c5Q  - d\u2093 \u23a0 - A\u22c5\u239dd\u2093  + d_z \u23a0 + R_m\u22c5\u239d1.0\u22c5\u2148\u22c5B\u22c5Q\u22c5q + B\u22c5d_z\u22c5q + 1.0\u22c5\u2148\u22c5Co\n",
        "\u23a2  \u2500\u2500\u2500\u2500\u2500\u2500\u2500\u2500\u2500\u2500\u2500\u2500\u2500\u2500\u2500\u2500\u2500\u2500\u2500\u2500\u2500\u2500\u2500\u2500\u2500\u2500\u2500\u2500\u2500\u2500\u2500\u2500\u2500\u2500\u2500\u2500\u2500\u2500\u2500\u2500\u2500\u2500\u2500\u2500\u2500\u2500\u2500\u2500\u2500\u2500\u2500\u2500\u2500\u2500\u2500\u2500\u2500\u2500\u2500\u2500\u2500\u2500\u2500\u2500\u2500\u2500\u2500\u2500\u2500\u2500\u2500\u2500\u2500\u2500\u2500\n",
        "\u23a2                                                          R_m                \n",
        "\u23a2                                                                             \n",
        "\u23a2                                              2        2                     \n",
        "\u23a2                                       1.0\u22c5B\u22c5Q    B\u22c5d_z                      \n",
        "\u23a2                                     - \u2500\u2500\u2500\u2500\u2500\u2500\u2500\u2500 - \u2500\u2500\u2500\u2500\u2500\u2500 - 1.0\u22c5\u2148\u22c5Co\u22c5Q\u22c5u - Co\u22c5\n",
        "\u23a3                                         R_m       R_m                       \n",
        "\n",
        " 2   2     4\u239e     \u239b  4       2    2      4\u239e\u23a4\n",
        "Q \u22c5d\u2093  + d\u2093 \u23a0 - \u03c8\u22c5\u239dd\u2093  + 2\u22c5d\u2093 \u22c5d_z  + d_z \u23a0\u23a5\n",
        "\u2500\u2500\u2500\u2500\u2500\u2500\u2500\u2500\u2500\u2500\u2500\u2500\u2500\u2500\u2500\u2500\u2500\u2500\u2500\u2500\u2500\u2500\u2500\u2500\u2500\u2500\u2500\u2500\u2500\u2500\u2500\u2500\u2500\u2500\u2500\u2500\u2500\u2500\u2500\u2500\u2500\u2500\u2500\u23a5\n",
        "                                           \u23a5\n",
        "                                           \u23a5\n",
        "          2                                \u23a5\n",
        "       d_z \u22c5u                              \u23a5\n",
        "_z\u22c5\u03c8 - \u2500\u2500\u2500\u2500\u2500\u2500                              \u23a5\n",
        "         R                                 \u23a5\n",
        "                                           \u23a5\n",
        "     \u239b 2     2\u239e            \u239b  2      2\u239e\u239e   \u23a5\n",
        "\u22c5Q\u22c5\u03c8\u22c5\u239dQ  - d\u2093 \u23a0 - Co\u22c5d_z\u22c5\u03c8\u22c5\u239dd\u2093  + d_z \u23a0\u23a0   \u23a5\n",
        "\u2500\u2500\u2500\u2500\u2500\u2500\u2500\u2500\u2500\u2500\u2500\u2500\u2500\u2500\u2500\u2500\u2500\u2500\u2500\u2500\u2500\u2500\u2500\u2500\u2500\u2500\u2500\u2500\u2500\u2500\u2500\u2500\u2500\u2500\u2500\u2500\u2500\u2500\u2500\u2500   \u23a5\n",
        "                                           \u23a5\n",
        "                                           \u23a5\n",
        "                                           \u23a5\n",
        "                                           \u23a5\n",
        "d_z\u22c5u                                      \u23a5\n",
        "                                           \u23a6"
       ]
      }
     ],
     "prompt_number": 198
    },
    {
     "cell_type": "code",
     "collapsed": false,
     "input": [
      "LT2*VT"
     ],
     "language": "python",
     "metadata": {},
     "outputs": [
      {
       "latex": [
        "$$\\left[\\begin{smallmatrix}{}- 1.0 i A Q - 1.0 i Q u \\left(q - 2\\right) + \\psi \\left(\\frac{1.0 Q^{4}}{R} - \\frac{2.0 Q^{2}}{R} d_{x}^{2} + \\frac{d_{x}^{4}}{R}\\right)\\\\- 1.0 i B Q - 2.0 i Q \\psi + u \\left(- \\frac{1.0 Q^{2}}{R} + \\frac{d_{x}^{2}}{R}\\right)\\\\A \\left(- \\frac{1.0 Q^{2}}{R_{m}} + \\frac{d_{x}^{2}}{R_{m}}\\right) + 1.0 i B Q q + \\psi \\left(1.0 i Co Q^{3} - 1.0 i Co Q d_{x}^{2}\\right)\\\\B \\left(- \\frac{1.0 Q^{2}}{R_{m}} + \\frac{d_{x}^{2}}{R_{m}}\\right) - 1.0 i Co Q u\\end{smallmatrix}\\right]$$"
       ],
       "metadata": {},
       "output_type": "pyout",
       "png": "[encoded data removed]",
       "prompt_number": 199,
       "text": [
        "\u23a1                                     \u239b     4        2   2     4\u239e   \u23a4\n",
        "\u23a2                                     \u239c1.0\u22c5Q    2.0\u22c5Q \u22c5d\u2093    d\u2093 \u239f   \u23a5\n",
        "\u23a2  -1.0\u22c5\u2148\u22c5A\u22c5Q - 1.0\u22c5\u2148\u22c5Q\u22c5u\u22c5(q - 2) + \u03c8\u22c5\u239c\u2500\u2500\u2500\u2500\u2500\u2500 - \u2500\u2500\u2500\u2500\u2500\u2500\u2500\u2500\u2500\u2500 + \u2500\u2500\u2500\u239f   \u23a5\n",
        "\u23a2                                     \u239d  R          R         R \u23a0   \u23a5\n",
        "\u23a2                                                                   \u23a5\n",
        "\u23a2                                       \u239b       2     2\u239e            \u23a5\n",
        "\u23a2                                       \u239c  1.0\u22c5Q    d\u2093 \u239f            \u23a5\n",
        "\u23a2            -1.0\u22c5\u2148\u22c5B\u22c5Q - 2.0\u22c5\u2148\u22c5Q\u22c5\u03c8 + u\u22c5\u239c- \u2500\u2500\u2500\u2500\u2500\u2500 + \u2500\u2500\u2500\u239f            \u23a5\n",
        "\u23a2                                       \u239d    R       R \u23a0            \u23a5\n",
        "\u23a2                                                                   \u23a5\n",
        "\u23a2  \u239b       2     2\u239e                                                 \u23a5\n",
        "\u23a2  \u239c  1.0\u22c5Q    d\u2093 \u239f                   \u239b          3                2\u239e\u23a5\n",
        "\u23a2A\u22c5\u239c- \u2500\u2500\u2500\u2500\u2500\u2500 + \u2500\u2500\u2500\u239f + 1.0\u22c5\u2148\u22c5B\u22c5Q\u22c5q + \u03c8\u22c5\u239d1.0\u22c5\u2148\u22c5Co\u22c5Q  - 1.0\u22c5\u2148\u22c5Co\u22c5Q\u22c5d\u2093 \u23a0\u23a5\n",
        "\u23a2  \u239d   R_m     R_m\u23a0                                                 \u23a5\n",
        "\u23a2                                                                   \u23a5\n",
        "\u23a2                   \u239b       2     2\u239e                                \u23a5\n",
        "\u23a2                   \u239c  1.0\u22c5Q    d\u2093 \u239f                                \u23a5\n",
        "\u23a2                 B\u22c5\u239c- \u2500\u2500\u2500\u2500\u2500\u2500 + \u2500\u2500\u2500\u239f - 1.0\u22c5\u2148\u22c5Co\u22c5Q\u22c5u                 \u23a5\n",
        "\u23a3                   \u239d   R_m     R_m\u23a0                                \u23a6"
       ]
      }
     ],
     "prompt_number": 199
    },
    {
     "cell_type": "code",
     "collapsed": false,
     "input": [
      "#This is their equation B30:\n",
      "Lw = L0 - L1T*dz + L2*dz**2 - L3T*dz**3 + L4*dz**4\n",
      "(Lw*VT).subs(dz, 1j*Q)"
     ],
     "language": "python",
     "metadata": {},
     "outputs": [
      {
       "latex": [
        "$$\\left[\\begin{smallmatrix}{}- 1.0 i A Q - 1.0 i Q u \\left(q - 2\\right) + \\psi \\left(\\frac{1.0 Q^{4}}{R} - \\frac{2.0 Q^{2}}{R} d_{x}^{2} + \\frac{d_{x}^{4}}{R}\\right)\\\\- 1.0 i B Q - 2.0 i Q \\psi + u \\left(- \\frac{1.0 Q^{2}}{R} + \\frac{d_{x}^{2}}{R}\\right)\\\\A \\left(- \\frac{1.0 Q^{2}}{R_{m}} + \\frac{d_{x}^{2}}{R_{m}}\\right) + 1.0 i B Q q + \\psi \\left(1.0 i Co Q^{3} - 1.0 i Co Q d_{x}^{2}\\right)\\\\B \\left(- \\frac{1.0 Q^{2}}{R_{m}} + \\frac{d_{x}^{2}}{R_{m}}\\right) - 1.0 i Co Q u\\end{smallmatrix}\\right]$$"
       ],
       "metadata": {},
       "output_type": "pyout",
       "png": "[encoded data removed]",
       "prompt_number": 200,
       "text": [
        "\u23a1                                     \u239b     4        2   2     4\u239e   \u23a4\n",
        "\u23a2                                     \u239c1.0\u22c5Q    2.0\u22c5Q \u22c5d\u2093    d\u2093 \u239f   \u23a5\n",
        "\u23a2  -1.0\u22c5\u2148\u22c5A\u22c5Q - 1.0\u22c5\u2148\u22c5Q\u22c5u\u22c5(q - 2) + \u03c8\u22c5\u239c\u2500\u2500\u2500\u2500\u2500\u2500 - \u2500\u2500\u2500\u2500\u2500\u2500\u2500\u2500\u2500\u2500 + \u2500\u2500\u2500\u239f   \u23a5\n",
        "\u23a2                                     \u239d  R          R         R \u23a0   \u23a5\n",
        "\u23a2                                                                   \u23a5\n",
        "\u23a2                                       \u239b       2     2\u239e            \u23a5\n",
        "\u23a2                                       \u239c  1.0\u22c5Q    d\u2093 \u239f            \u23a5\n",
        "\u23a2            -1.0\u22c5\u2148\u22c5B\u22c5Q - 2.0\u22c5\u2148\u22c5Q\u22c5\u03c8 + u\u22c5\u239c- \u2500\u2500\u2500\u2500\u2500\u2500 + \u2500\u2500\u2500\u239f            \u23a5\n",
        "\u23a2                                       \u239d    R       R \u23a0            \u23a5\n",
        "\u23a2                                                                   \u23a5\n",
        "\u23a2  \u239b       2     2\u239e                                                 \u23a5\n",
        "\u23a2  \u239c  1.0\u22c5Q    d\u2093 \u239f                   \u239b          3                2\u239e\u23a5\n",
        "\u23a2A\u22c5\u239c- \u2500\u2500\u2500\u2500\u2500\u2500 + \u2500\u2500\u2500\u239f + 1.0\u22c5\u2148\u22c5B\u22c5Q\u22c5q + \u03c8\u22c5\u239d1.0\u22c5\u2148\u22c5Co\u22c5Q  - 1.0\u22c5\u2148\u22c5Co\u22c5Q\u22c5d\u2093 \u23a0\u23a5\n",
        "\u23a2  \u239d   R_m     R_m\u23a0                                                 \u23a5\n",
        "\u23a2                                                                   \u23a5\n",
        "\u23a2                   \u239b       2     2\u239e                                \u23a5\n",
        "\u23a2                   \u239c  1.0\u22c5Q    d\u2093 \u239f                                \u23a5\n",
        "\u23a2                 B\u22c5\u239c- \u2500\u2500\u2500\u2500\u2500\u2500 + \u2500\u2500\u2500\u239f - 1.0\u22c5\u2148\u22c5Co\u22c5Q\u22c5u                 \u23a5\n",
        "\u23a3                   \u239d   R_m     R_m\u23a0                                \u23a6"
       ]
      }
     ],
     "prompt_number": 200
    },
    {
     "cell_type": "code",
     "collapsed": false,
     "input": [
      "D = Matrix([[dx**2 + dz**2, 0, 0, 0],\n",
      "            [0, 1, 0, 0],\n",
      "            [0, 0, 1, 0],\n",
      "            [0, 0, 0, 1]])\n",
      "\n",
      "\n",
      "(LT*VT).subs(dz, 1j*Q)"
     ],
     "language": "python",
     "metadata": {},
     "outputs": [
      {
       "latex": [
        "$$\\left[\\begin{smallmatrix}{}1.0 i A Q + 1.0 i Q u \\left(q - 2\\right) + \\psi \\left(\\frac{1.0 Q^{4}}{R} - \\frac{2.0 Q^{2}}{R} d_{x}^{2} + \\frac{d_{x}^{4}}{R}\\right)\\\\1.0 i B Q + 2.0 i Q \\psi + u \\left(- \\frac{1.0 Q^{2}}{R} + \\frac{d_{x}^{2}}{R}\\right)\\\\A \\left(- \\frac{1.0 Q^{2}}{R_{m}} + \\frac{d_{x}^{2}}{R_{m}}\\right) - 1.0 i B Q q + \\psi \\left(- 1.0 i Co Q^{3} + 1.0 i Co Q d_{x}^{2}\\right)\\\\B \\left(- \\frac{1.0 Q^{2}}{R_{m}} + \\frac{d_{x}^{2}}{R_{m}}\\right) + 1.0 i Co Q u\\end{smallmatrix}\\right]$$"
       ],
       "metadata": {},
       "output_type": "pyout",
       "png": "[encoded data removed]",
       "prompt_number": 201,
       "text": [
        "\u23a1                                      \u239b     4        2   2     4\u239e    \u23a4\n",
        "\u23a2                                      \u239c1.0\u22c5Q    2.0\u22c5Q \u22c5d\u2093    d\u2093 \u239f    \u23a5\n",
        "\u23a2    1.0\u22c5\u2148\u22c5A\u22c5Q + 1.0\u22c5\u2148\u22c5Q\u22c5u\u22c5(q - 2) + \u03c8\u22c5\u239c\u2500\u2500\u2500\u2500\u2500\u2500 - \u2500\u2500\u2500\u2500\u2500\u2500\u2500\u2500\u2500\u2500 + \u2500\u2500\u2500\u239f    \u23a5\n",
        "\u23a2                                      \u239d  R          R         R \u23a0    \u23a5\n",
        "\u23a2                                                                     \u23a5\n",
        "\u23a2                                       \u239b       2     2\u239e              \u23a5\n",
        "\u23a2                                       \u239c  1.0\u22c5Q    d\u2093 \u239f              \u23a5\n",
        "\u23a2             1.0\u22c5\u2148\u22c5B\u22c5Q + 2.0\u22c5\u2148\u22c5Q\u22c5\u03c8 + u\u22c5\u239c- \u2500\u2500\u2500\u2500\u2500\u2500 + \u2500\u2500\u2500\u239f              \u23a5\n",
        "\u23a2                                       \u239d    R       R \u23a0              \u23a5\n",
        "\u23a2                                                                     \u23a5\n",
        "\u23a2  \u239b       2     2\u239e                                                   \u23a5\n",
        "\u23a2  \u239c  1.0\u22c5Q    d\u2093 \u239f                   \u239b            3                2\u239e\u23a5\n",
        "\u23a2A\u22c5\u239c- \u2500\u2500\u2500\u2500\u2500\u2500 + \u2500\u2500\u2500\u239f - 1.0\u22c5\u2148\u22c5B\u22c5Q\u22c5q + \u03c8\u22c5\u239d- 1.0\u22c5\u2148\u22c5Co\u22c5Q  + 1.0\u22c5\u2148\u22c5Co\u22c5Q\u22c5d\u2093 \u23a0\u23a5\n",
        "\u23a2  \u239d   R_m     R_m\u23a0                                                   \u23a5\n",
        "\u23a2                                                                     \u23a5\n",
        "\u23a2                    \u239b       2     2\u239e                                 \u23a5\n",
        "\u23a2                    \u239c  1.0\u22c5Q    d\u2093 \u239f                                 \u23a5\n",
        "\u23a2                  B\u22c5\u239c- \u2500\u2500\u2500\u2500\u2500\u2500 + \u2500\u2500\u2500\u239f + 1.0\u22c5\u2148\u22c5Co\u22c5Q\u22c5u                  \u23a5\n",
        "\u23a3                    \u239d   R_m     R_m\u23a0                                 \u23a6"
       ]
      }
     ],
     "prompt_number": 201
    },
    {
     "cell_type": "code",
     "collapsed": false,
     "input": [
      "DT = D.adjoint()"
     ],
     "language": "python",
     "metadata": {},
     "outputs": [],
     "prompt_number": 202
    },
    {
     "cell_type": "code",
     "collapsed": false,
     "input": [
      "(DT*dt*VT).subs(dz, 1j*Q)"
     ],
     "language": "python",
     "metadata": {},
     "outputs": [
      {
       "latex": [
        "$$\\left[\\begin{smallmatrix}{}d_{t} \\psi \\left(- 1.0 Q^{2} + d_{x}^{2}\\right)\\\\d_{t} u\\\\A d_{t}\\\\B d_{t}\\end{smallmatrix}\\right]$$"
       ],
       "metadata": {},
       "output_type": "pyout",
       "png": "[encoded data removed]",
       "prompt_number": 203,
       "text": [
        "\u23a1      \u239b       2     2\u239e\u23a4\n",
        "\u23a2d_t\u22c5\u03c8\u22c5\u239d- 1.0\u22c5Q  + d\u2093 \u23a0\u23a5\n",
        "\u23a2                      \u23a5\n",
        "\u23a2        d_t\u22c5u         \u23a5\n",
        "\u23a2                      \u23a5\n",
        "\u23a2        A\u22c5d_t         \u23a5\n",
        "\u23a2                      \u23a5\n",
        "\u23a3        B\u22c5d_t         \u23a6"
       ]
      }
     ],
     "prompt_number": 203
    },
    {
     "cell_type": "code",
     "collapsed": false,
     "input": [
      "L = L0 + L1*dz + L2*dz**2 + L3*dz**3 + L4*dz**4\n",
      "LT = L.adjoint()"
     ],
     "language": "python",
     "metadata": {},
     "outputs": [],
     "prompt_number": 204
    },
    {
     "cell_type": "code",
     "collapsed": false,
     "input": [
      "(LT*VT).subs(dz, 1j*Q)"
     ],
     "language": "python",
     "metadata": {},
     "outputs": [
      {
       "latex": [
        "$$\\left[\\begin{smallmatrix}{}1.0 i A Q + 1.0 i Q u \\left(q - 2\\right) + \\psi \\left(\\frac{1.0 Q^{4}}{R} - \\frac{2.0 Q^{2}}{R} d_{x}^{2} + \\frac{d_{x}^{4}}{R}\\right)\\\\1.0 i B Q + 2.0 i Q \\psi + u \\left(- \\frac{1.0 Q^{2}}{R} + \\frac{d_{x}^{2}}{R}\\right)\\\\A \\left(- \\frac{1.0 Q^{2}}{R_{m}} + \\frac{d_{x}^{2}}{R_{m}}\\right) - 1.0 i B Q q + \\psi \\left(- 1.0 i Co Q^{3} + 1.0 i Co Q d_{x}^{2}\\right)\\\\B \\left(- \\frac{1.0 Q^{2}}{R_{m}} + \\frac{d_{x}^{2}}{R_{m}}\\right) + 1.0 i Co Q u\\end{smallmatrix}\\right]$$"
       ],
       "metadata": {},
       "output_type": "pyout",
       "png": "[encoded data removed]",
       "prompt_number": 205,
       "text": [
        "\u23a1                                      \u239b     4        2   2     4\u239e    \u23a4\n",
        "\u23a2                                      \u239c1.0\u22c5Q    2.0\u22c5Q \u22c5d\u2093    d\u2093 \u239f    \u23a5\n",
        "\u23a2    1.0\u22c5\u2148\u22c5A\u22c5Q + 1.0\u22c5\u2148\u22c5Q\u22c5u\u22c5(q - 2) + \u03c8\u22c5\u239c\u2500\u2500\u2500\u2500\u2500\u2500 - \u2500\u2500\u2500\u2500\u2500\u2500\u2500\u2500\u2500\u2500 + \u2500\u2500\u2500\u239f    \u23a5\n",
        "\u23a2                                      \u239d  R          R         R \u23a0    \u23a5\n",
        "\u23a2                                                                     \u23a5\n",
        "\u23a2                                       \u239b       2     2\u239e              \u23a5\n",
        "\u23a2                                       \u239c  1.0\u22c5Q    d\u2093 \u239f              \u23a5\n",
        "\u23a2             1.0\u22c5\u2148\u22c5B\u22c5Q + 2.0\u22c5\u2148\u22c5Q\u22c5\u03c8 + u\u22c5\u239c- \u2500\u2500\u2500\u2500\u2500\u2500 + \u2500\u2500\u2500\u239f              \u23a5\n",
        "\u23a2                                       \u239d    R       R \u23a0              \u23a5\n",
        "\u23a2                                                                     \u23a5\n",
        "\u23a2  \u239b       2     2\u239e                                                   \u23a5\n",
        "\u23a2  \u239c  1.0\u22c5Q    d\u2093 \u239f                   \u239b            3                2\u239e\u23a5\n",
        "\u23a2A\u22c5\u239c- \u2500\u2500\u2500\u2500\u2500\u2500 + \u2500\u2500\u2500\u239f - 1.0\u22c5\u2148\u22c5B\u22c5Q\u22c5q + \u03c8\u22c5\u239d- 1.0\u22c5\u2148\u22c5Co\u22c5Q  + 1.0\u22c5\u2148\u22c5Co\u22c5Q\u22c5d\u2093 \u23a0\u23a5\n",
        "\u23a2  \u239d   R_m     R_m\u23a0                                                   \u23a5\n",
        "\u23a2                                                                     \u23a5\n",
        "\u23a2                    \u239b       2     2\u239e                                 \u23a5\n",
        "\u23a2                    \u239c  1.0\u22c5Q    d\u2093 \u239f                                 \u23a5\n",
        "\u23a2                  B\u22c5\u239c- \u2500\u2500\u2500\u2500\u2500\u2500 + \u2500\u2500\u2500\u239f + 1.0\u22c5\u2148\u22c5Co\u22c5Q\u22c5u                  \u23a5\n",
        "\u23a3                    \u239d   R_m     R_m\u23a0                                 \u23a6"
       ]
      }
     ],
     "prompt_number": 205
    },
    {
     "cell_type": "code",
     "collapsed": false,
     "input": [
      "# non-adjoint\n",
      "(L*VT).subs(dz, 1j*Q)"
     ],
     "language": "python",
     "metadata": {},
     "outputs": [
      {
       "latex": [
        "$$\\left[\\begin{smallmatrix}{}A \\left(- 1.0 i Co Q^{3} + 1.0 i Co Q d_{x}^{2}\\right) + 2.0 i Q u + \\psi \\left(\\frac{1.0 Q^{4}}{R} - \\frac{2.0 Q^{2}}{R} d_{x}^{2} + \\frac{d_{x}^{4}}{R}\\right)\\\\1.0 i B Co Q + 1.0 i Q \\psi \\left(q - 2\\right) + u \\left(- \\frac{1.0 Q^{2}}{R} + \\frac{d_{x}^{2}}{R}\\right)\\\\A \\left(- \\frac{1.0 Q^{2}}{R_{m}} + \\frac{d_{x}^{2}}{R_{m}}\\right) + 1.0 i Q \\psi\\\\- 1.0 i A Q q + B \\left(- \\frac{1.0 Q^{2}}{R_{m}} + \\frac{d_{x}^{2}}{R_{m}}\\right) + 1.0 i Q u\\end{smallmatrix}\\right]$$"
       ],
       "metadata": {},
       "output_type": "pyout",
       "png": "[encoded data removed]",
       "prompt_number": 206,
       "text": [
        "\u23a1                                                   \u239b     4        2   2     4\n",
        "\u23a2  \u239b            3                2\u239e                 \u239c1.0\u22c5Q    2.0\u22c5Q \u22c5d\u2093    d\u2093 \n",
        "\u23a2A\u22c5\u239d- 1.0\u22c5\u2148\u22c5Co\u22c5Q  + 1.0\u22c5\u2148\u22c5Co\u22c5Q\u22c5d\u2093 \u23a0 + 2.0\u22c5\u2148\u22c5Q\u22c5u + \u03c8\u22c5\u239c\u2500\u2500\u2500\u2500\u2500\u2500 - \u2500\u2500\u2500\u2500\u2500\u2500\u2500\u2500\u2500\u2500 + \u2500\u2500\u2500\n",
        "\u23a2                                                   \u239d  R          R         R \n",
        "\u23a2                                                                             \n",
        "\u23a2                                                 \u239b       2     2\u239e            \n",
        "\u23a2                                                 \u239c  1.0\u22c5Q    d\u2093 \u239f            \n",
        "\u23a2            1.0\u22c5\u2148\u22c5B\u22c5Co\u22c5Q + 1.0\u22c5\u2148\u22c5Q\u22c5\u03c8\u22c5(q - 2) + u\u22c5\u239c- \u2500\u2500\u2500\u2500\u2500\u2500 + \u2500\u2500\u2500\u239f            \n",
        "\u23a2                                                 \u239d    R       R \u23a0            \n",
        "\u23a2                                                                             \n",
        "\u23a2                          \u239b       2     2\u239e                                   \n",
        "\u23a2                          \u239c  1.0\u22c5Q    d\u2093 \u239f                                   \n",
        "\u23a2                        A\u22c5\u239c- \u2500\u2500\u2500\u2500\u2500\u2500 + \u2500\u2500\u2500\u239f + 1.0\u22c5\u2148\u22c5Q\u22c5\u03c8                       \n",
        "\u23a2                          \u239d   R_m     R_m\u23a0                                   \n",
        "\u23a2                                                                             \n",
        "\u23a2                                 \u239b       2     2\u239e                            \n",
        "\u23a2                                 \u239c  1.0\u22c5Q    d\u2093 \u239f                            \n",
        "\u23a2                -1.0\u22c5\u2148\u22c5A\u22c5Q\u22c5q + B\u22c5\u239c- \u2500\u2500\u2500\u2500\u2500\u2500 + \u2500\u2500\u2500\u239f + 1.0\u22c5\u2148\u22c5Q\u22c5u                \n",
        "\u23a3                                 \u239d   R_m     R_m\u23a0                            \n",
        "\n",
        "\u239e\u23a4\n",
        "\u239f\u23a5\n",
        "\u239f\u23a5\n",
        "\u23a0\u23a5\n",
        " \u23a5\n",
        " \u23a5\n",
        " \u23a5\n",
        " \u23a5\n",
        " \u23a5\n",
        " \u23a5\n",
        " \u23a5\n",
        " \u23a5\n",
        " \u23a5\n",
        " \u23a5\n",
        " \u23a5\n",
        " \u23a5\n",
        " \u23a5\n",
        " \u23a5\n",
        " \u23a6"
       ]
      }
     ],
     "prompt_number": 206
    },
    {
     "cell_type": "code",
     "collapsed": false,
     "input": [
      "# L-twiddle 1:\n",
      "Ltwiddle = L1 + 2*L2*dz + 3*L3*dz**2 + 4*L4*dz**3\n",
      "(Ltwiddle*VT).subs(dz, 1j*Q)"
     ],
     "language": "python",
     "metadata": {},
     "outputs": [
      {
       "latex": [
        "$$\\left[\\begin{smallmatrix}{}A \\left(- 3.0 Co Q^{2} + Co d_{x}^{2}\\right) + \\psi \\left(- \\frac{4.0 i}{R} Q^{3} + \\frac{4.0 i}{R} Q d_{x}^{2}\\right) + 2 u\\\\B Co + \\frac{2.0 i}{R} Q u + \\psi \\left(q - 2\\right)\\\\\\frac{2.0 i}{R_{m}} A Q + \\psi\\\\- A q + \\frac{2.0 i}{R_{m}} B Q + u\\end{smallmatrix}\\right]$$"
       ],
       "metadata": {},
       "output_type": "pyout",
       "png": "[encoded data removed]",
       "prompt_number": 207,
       "text": [
        "\u23a1                             \u239b         3             2\u239e      \u23a4\n",
        "\u23a2  \u239b          2        2\u239e     \u239c  4.0\u22c5\u2148\u22c5Q    4.0\u22c5\u2148\u22c5Q\u22c5d\u2093 \u239f      \u23a5\n",
        "\u23a2A\u22c5\u239d- 3.0\u22c5Co\u22c5Q  + Co\u22c5d\u2093 \u23a0 + \u03c8\u22c5\u239c- \u2500\u2500\u2500\u2500\u2500\u2500\u2500\u2500 + \u2500\u2500\u2500\u2500\u2500\u2500\u2500\u2500\u2500\u2500\u2500\u239f + 2\u22c5u\u23a5\n",
        "\u23a2                             \u239d     R            R     \u23a0      \u23a5\n",
        "\u23a2                                                             \u23a5\n",
        "\u23a2                       2.0\u22c5\u2148\u22c5Q\u22c5u                             \u23a5\n",
        "\u23a2                B\u22c5Co + \u2500\u2500\u2500\u2500\u2500\u2500\u2500\u2500\u2500 + \u03c8\u22c5(q - 2)                 \u23a5\n",
        "\u23a2                           R                                 \u23a5\n",
        "\u23a2                                                             \u23a5\n",
        "\u23a2                        2.0\u22c5\u2148\u22c5A\u22c5Q                            \u23a5\n",
        "\u23a2                        \u2500\u2500\u2500\u2500\u2500\u2500\u2500\u2500\u2500 + \u03c8                        \u23a5\n",
        "\u23a2                           R_m                               \u23a5\n",
        "\u23a2                                                             \u23a5\n",
        "\u23a2                           2.0\u22c5\u2148\u22c5B\u22c5Q                         \u23a5\n",
        "\u23a2                    -A\u22c5q + \u2500\u2500\u2500\u2500\u2500\u2500\u2500\u2500\u2500 + u                     \u23a5\n",
        "\u23a3                              R_m                            \u23a6"
       ]
      }
     ],
     "prompt_number": 207
    },
    {
     "cell_type": "code",
     "collapsed": false,
     "input": [
      "V22 = Matrix([psi22, u22, A22, B22])\n",
      "V21 = Matrix([psi21, u21, A21, B21])\n",
      "V20 = Matrix([psi20, u20, A20, B20])\n",
      "\n",
      "MM = (L*V22).subs(dz, 1j*2*Q) - (L*V21).subs(dz, 1j*Q) + (L*V20).subs(dz, 1)"
     ],
     "language": "python",
     "metadata": {},
     "outputs": [],
     "prompt_number": 208
    },
    {
     "cell_type": "code",
     "collapsed": false,
     "input": [
      "MM[3]"
     ],
     "language": "python",
     "metadata": {},
     "outputs": [
      {
       "latex": [
        "$$- A_{20} q + 1.0 i A_{21} Q q - 2.0 i A_{22} Q q + B_{20} \\left(\\frac{d_{x}^{2}}{R_{m}} + \\frac{1}{R_{m}}\\right) - B_{21} \\left(- \\frac{1.0 Q^{2}}{R_{m}} + \\frac{d_{x}^{2}}{R_{m}}\\right) + B_{22} \\left(- \\frac{4.0 Q^{2}}{R_{m}} + \\frac{d_{x}^{2}}{R_{m}}\\right) - 1.0 i Q u_{21} + 2.0 i Q u_{22} + u_{20}$$"
       ],
       "metadata": {},
       "output_type": "pyout",
       "png": "[encoded data removed]",
       "prompt_number": 209,
       "text": [
        "                                             \u239b  2      \u239e       \u239b       2     2\n",
        "                                             \u239cd\u2093     1 \u239f       \u239c  1.0\u22c5Q    d\u2093 \n",
        "-A\u2082\u2080\u22c5q + 1.0\u22c5\u2148\u22c5A\u2082\u2081\u22c5Q\u22c5q - 2.0\u22c5\u2148\u22c5A\u2082\u2082\u22c5Q\u22c5q + B\u2082\u2080\u22c5\u239c\u2500\u2500\u2500 + \u2500\u2500\u2500\u239f - B\u2082\u2081\u22c5\u239c- \u2500\u2500\u2500\u2500\u2500\u2500 + \u2500\u2500\u2500\n",
        "                                             \u239dR_m   R_m\u23a0       \u239d   R_m     R_m\n",
        "\n",
        "\u239e       \u239b       2     2\u239e                                  \n",
        "\u239f       \u239c  4.0\u22c5Q    d\u2093 \u239f                                  \n",
        "\u239f + B\u2082\u2082\u22c5\u239c- \u2500\u2500\u2500\u2500\u2500\u2500 + \u2500\u2500\u2500\u239f - 1.0\u22c5\u2148\u22c5Q\u22c5u\u2082\u2081 + 2.0\u22c5\u2148\u22c5Q\u22c5u\u2082\u2082 + u\u2082\u2080\n",
        "\u23a0       \u239d   R_m     R_m\u23a0                                  "
       ]
      }
     ],
     "prompt_number": 209
    },
    {
     "cell_type": "code",
     "collapsed": false,
     "input": [
      "MM"
     ],
     "language": "python",
     "metadata": {},
     "outputs": [
      {
       "latex": [
        "$$\\left[\\begin{smallmatrix}{}A_{20} \\left(Co d_{x}^{2} + Co\\right) - A_{21} \\left(- 1.0 i Co Q^{3} + 1.0 i Co Q d_{x}^{2}\\right) + A_{22} \\left(- 8.0 i Co Q^{3} + 2.0 i Co Q d_{x}^{2}\\right) - 2.0 i Q u_{21} + 4.0 i Q u_{22} + \\psi_{20} \\left(\\frac{d_{x}^{4}}{R} + \\frac{2 d_{x}^{2}}{R} + \\frac{1}{R}\\right) - \\psi_{21} \\left(\\frac{1.0 Q^{4}}{R} - \\frac{2.0 Q^{2}}{R} d_{x}^{2} + \\frac{d_{x}^{4}}{R}\\right) + \\psi_{22} \\left(\\frac{16.0 Q^{4}}{R} - \\frac{8.0 Q^{2}}{R} d_{x}^{2} + \\frac{d_{x}^{4}}{R}\\right) + 2 u_{20}\\\\B_{20} Co - 1.0 i B_{21} Co Q + 2.0 i B_{22} Co Q - 1.0 i Q \\psi_{21} \\left(q - 2\\right) + 2.0 i Q \\psi_{22} \\left(q - 2\\right) + \\psi_{20} \\left(q - 2\\right) + u_{20} \\left(\\frac{d_{x}^{2}}{R} + \\frac{1}{R}\\right) - u_{21} \\left(- \\frac{1.0 Q^{2}}{R} + \\frac{d_{x}^{2}}{R}\\right) + u_{22} \\left(- \\frac{4.0 Q^{2}}{R} + \\frac{d_{x}^{2}}{R}\\right)\\\\A_{20} \\left(\\frac{d_{x}^{2}}{R_{m}} + \\frac{1}{R_{m}}\\right) - A_{21} \\left(- \\frac{1.0 Q^{2}}{R_{m}} + \\frac{d_{x}^{2}}{R_{m}}\\right) + A_{22} \\left(- \\frac{4.0 Q^{2}}{R_{m}} + \\frac{d_{x}^{2}}{R_{m}}\\right) - 1.0 i Q \\psi_{21} + 2.0 i Q \\psi_{22} + \\psi_{20}\\\\- A_{20} q + 1.0 i A_{21} Q q - 2.0 i A_{22} Q q + B_{20} \\left(\\frac{d_{x}^{2}}{R_{m}} + \\frac{1}{R_{m}}\\right) - B_{21} \\left(- \\frac{1.0 Q^{2}}{R_{m}} + \\frac{d_{x}^{2}}{R_{m}}\\right) + B_{22} \\left(- \\frac{4.0 Q^{2}}{R_{m}} + \\frac{d_{x}^{2}}{R_{m}}\\right) - 1.0 i Q u_{21} + 2.0 i Q u_{22} + u_{20}\\end{smallmatrix}\\right]$$"
       ],
       "metadata": {},
       "output_type": "pyout",
       "png": "[encoded data removed]",
       "prompt_number": 210,
       "text": [
        "\u23a1                                                                             \n",
        "\u23a2    \u239b     2     \u239e       \u239b            3                2\u239e       \u239b            3\n",
        "\u23a2A\u2082\u2080\u22c5\u239dCo\u22c5d\u2093  + Co\u23a0 - A\u2082\u2081\u22c5\u239d- 1.0\u22c5\u2148\u22c5Co\u22c5Q  + 1.0\u22c5\u2148\u22c5Co\u22c5Q\u22c5d\u2093 \u23a0 + A\u2082\u2082\u22c5\u239d- 8.0\u22c5\u2148\u22c5Co\u22c5Q \n",
        "\u23a2                                                                             \n",
        "\u23a2                                                                             \n",
        "\u23a2                                                                             \n",
        "\u23a2                                                                             \n",
        "\u23a2                                B\u2082\u2080\u22c5Co - 1.0\u22c5\u2148\u22c5B\u2082\u2081\u22c5Co\u22c5Q + 2.0\u22c5\u2148\u22c5B\u2082\u2082\u22c5Co\u22c5Q - 1.\n",
        "\u23a2                                                                             \n",
        "\u23a2                                                                             \n",
        "\u23a2                                                                    \u239b  2     \n",
        "\u23a2                                                                    \u239cd\u2093     1\n",
        "\u23a2                                                                A\u2082\u2080\u22c5\u239c\u2500\u2500\u2500 + \u2500\u2500\n",
        "\u23a2                                                                    \u239dR_m   R_\n",
        "\u23a2                                                                             \n",
        "\u23a2                                                                             \n",
        "\u23a2                                                                             \n",
        "\u23a2                                            -A\u2082\u2080\u22c5q + 1.0\u22c5\u2148\u22c5A\u2082\u2081\u22c5Q\u22c5q - 2.0\u22c5\u2148\u22c5A\u2082\n",
        "\u23a3                                                                             \n",
        "\n",
        "                                                     \u239b  4       2    \u239e       \u239b\n",
        "                2\u239e                                   \u239cd\u2093    2\u22c5d\u2093    1\u239f       \u239c\n",
        " + 2.0\u22c5\u2148\u22c5Co\u22c5Q\u22c5d\u2093 \u23a0 - 2.0\u22c5\u2148\u22c5Q\u22c5u\u2082\u2081 + 4.0\u22c5\u2148\u22c5Q\u22c5u\u2082\u2082 + \u03c8\u2082\u2080\u22c5\u239c\u2500\u2500\u2500 + \u2500\u2500\u2500\u2500\u2500 + \u2500\u239f - \u03c8\u2082\u2081\u22c5\u239c\n",
        "                                                     \u239d R      R     R\u23a0       \u239d\n",
        "                                                                              \n",
        "                                                            \u239b  2    \u239e       \u239b \n",
        "                                                            \u239cd\u2093    1\u239f       \u239c \n",
        "0\u22c5\u2148\u22c5Q\u22c5\u03c8\u2082\u2081\u22c5(q - 2) + 2.0\u22c5\u2148\u22c5Q\u22c5\u03c8\u2082\u2082\u22c5(q - 2) + \u03c8\u2082\u2080\u22c5(q - 2) + u\u2082\u2080\u22c5\u239c\u2500\u2500\u2500 + \u2500\u239f - u\u2082\u2081\u22c5\u239c-\n",
        "                                                            \u239d R    R\u23a0       \u239d \n",
        "                                                                              \n",
        " \u239e       \u239b       2     2\u239e       \u239b       2     2\u239e                              \n",
        " \u239f       \u239c  1.0\u22c5Q    d\u2093 \u239f       \u239c  4.0\u22c5Q    d\u2093 \u239f                              \n",
        "\u2500\u239f - A\u2082\u2081\u22c5\u239c- \u2500\u2500\u2500\u2500\u2500\u2500 + \u2500\u2500\u2500\u239f + A\u2082\u2082\u22c5\u239c- \u2500\u2500\u2500\u2500\u2500\u2500 + \u2500\u2500\u2500\u239f - 1.0\u22c5\u2148\u22c5Q\u22c5\u03c8\u2082\u2081 + 2.0\u22c5\u2148\u22c5Q\u22c5\u03c8\u2082\u2082 +\n",
        "m\u23a0       \u239d   R_m     R_m\u23a0       \u239d   R_m     R_m\u23a0                              \n",
        "                                                                              \n",
        "            \u239b  2      \u239e       \u239b       2     2\u239e       \u239b       2     2\u239e         \n",
        "            \u239cd\u2093     1 \u239f       \u239c  1.0\u22c5Q    d\u2093 \u239f       \u239c  4.0\u22c5Q    d\u2093 \u239f         \n",
        "\u2082\u22c5Q\u22c5q + B\u2082\u2080\u22c5\u239c\u2500\u2500\u2500 + \u2500\u2500\u2500\u239f - B\u2082\u2081\u22c5\u239c- \u2500\u2500\u2500\u2500\u2500\u2500 + \u2500\u2500\u2500\u239f + B\u2082\u2082\u22c5\u239c- \u2500\u2500\u2500\u2500\u2500\u2500 + \u2500\u2500\u2500\u239f - 1.0\u22c5\u2148\u22c5\n",
        "            \u239dR_m   R_m\u23a0       \u239d   R_m     R_m\u23a0       \u239d   R_m     R_m\u23a0         \n",
        "\n",
        "     4        2   2     4\u239e       \u239b      4        2   2     4\u239e        \u23a4\n",
        "1.0\u22c5Q    2.0\u22c5Q \u22c5d\u2093    d\u2093 \u239f       \u239c16.0\u22c5Q    8.0\u22c5Q \u22c5d\u2093    d\u2093 \u239f        \u23a5\n",
        "\u2500\u2500\u2500\u2500\u2500\u2500 - \u2500\u2500\u2500\u2500\u2500\u2500\u2500\u2500\u2500\u2500 + \u2500\u2500\u2500\u239f + \u03c8\u2082\u2082\u22c5\u239c\u2500\u2500\u2500\u2500\u2500\u2500\u2500 - \u2500\u2500\u2500\u2500\u2500\u2500\u2500\u2500\u2500\u2500 + \u2500\u2500\u2500\u239f + 2\u22c5u\u2082\u2080\u23a5\n",
        "  R          R         R \u23a0       \u239d   R          R         R \u23a0        \u23a5\n",
        "                                                                     \u23a5\n",
        "      2     2\u239e       \u239b       2     2\u239e                                \u23a5\n",
        " 1.0\u22c5Q    d\u2093 \u239f       \u239c  4.0\u22c5Q    d\u2093 \u239f                                \u23a5\n",
        " \u2500\u2500\u2500\u2500\u2500\u2500 + \u2500\u2500\u2500\u239f + u\u2082\u2082\u22c5\u239c- \u2500\u2500\u2500\u2500\u2500\u2500 + \u2500\u2500\u2500\u239f                                \u23a5\n",
        "   R       R \u23a0       \u239d    R       R \u23a0                                \u23a5\n",
        "                                                                     \u23a5\n",
        "                                                                     \u23a5\n",
        "                                                                     \u23a5\n",
        " \u03c8\u2082\u2080                                                                 \u23a5\n",
        "                                                                     \u23a5\n",
        "                                                                     \u23a5\n",
        "                                                                     \u23a5\n",
        "                                                                     \u23a5\n",
        "Q\u22c5u\u2082\u2081 + 2.0\u22c5\u2148\u22c5Q\u22c5u\u2082\u2082 + u\u2082\u2080                                            \u23a5\n",
        "                                                                     \u23a6"
       ]
      }
     ],
     "prompt_number": 210
    },
    {
     "cell_type": "code",
     "collapsed": false,
     "input": [
      "((dx**2 + dz**2)*psi22).subs(dz, 1j*2*Q) - ((dx**2 + dz**2)*psi21).subs(dz, 1j*Q) + ((dx**2 + dz**2)*psi20).subs(dz, 1)\n"
     ],
     "language": "python",
     "metadata": {},
     "outputs": [
      {
       "latex": [
        "$$\\psi_{20} \\left(d_{x}^{2} + 1\\right) - \\psi_{21} \\left(- 1.0 Q^{2} + d_{x}^{2}\\right) + \\psi_{22} \\left(- 4.0 Q^{2} + d_{x}^{2}\\right)$$"
       ],
       "metadata": {},
       "output_type": "pyout",
       "png": "[encoded data removed]",
       "prompt_number": 211,
       "text": [
        "    \u239b  2    \u239e       \u239b       2     2\u239e       \u239b       2     2\u239e\n",
        "\u03c8\u2082\u2080\u22c5\u239dd\u2093  + 1\u23a0 - \u03c8\u2082\u2081\u22c5\u239d- 1.0\u22c5Q  + d\u2093 \u23a0 + \u03c8\u2082\u2082\u22c5\u239d- 4.0\u22c5Q  + d\u2093 \u23a0"
       ]
      }
     ],
     "prompt_number": 211
    },
    {
     "cell_type": "code",
     "collapsed": false,
     "input": [
      "V20big = Matrix([psi20, u20, A20, B20, 0, 0, 0, 0, 0, 0, 0, 0])\n",
      "V21big = Matrix([0, 0, 0, 0, psi21, u21, A21, B21, 0, 0, 0, 0])\n",
      "V22big = Matrix([0, 0, 0, 0, 0, 0, 0, 0, psi22, u22, A22, B22])\n",
      "\n",
      "L0big = Matrix([[(1/R)*dx**4, 0, 0, 0, 0, 0, 0, 0, 0, 0, 0, 0],\n",
      "             [0, (1/R)*dx**2, 0, 0, 0, 0, 0, 0, 0, 0, 0, 0],\n",
      "             [0, 0, (1/Rm)*dx**2, 0, 0, 0, 0, 0, 0, 0, 0, 0],\n",
      "             [0, 0, 0, (1/Rm)*dx**2, 0, 0, 0, 0, 0, 0, 0, 0],\n",
      "             [0, 0, 0, 0, (1/R)*dx**4, 0, 0, 0, 0, 0, 0, 0],\n",
      "             [0, 0, 0, 0, 0, (1/R)*dx**2, 0, 0, 0, 0, 0, 0],\n",
      "             [0, 0, 0, 0, 0, 0, (1/Rm)*dx**2, 0, 0, 0, 0, 0],\n",
      "             [0, 0, 0, 0, 0, 0, 0, (1/Rm)*dx**2, 0, 0, 0, 0],\n",
      "             [0, 0, 0, 0, 0, 0, 0, 0, (1/R)*dx**4, 0, 0, 0],\n",
      "             [0, 0, 0, 0, 0, 0, 0, 0, 0, (1/R)*dx**2, 0, 0],\n",
      "             [0, 0, 0, 0, 0, 0, 0, 0, 0, 0, (1/Rm)*dx**2, 0],\n",
      "             [0, 0, 0, 0, 0, 0, 0, 0, 0, 0, 0, (1/Rm)*dx**2]])\n",
      "\n",
      "\n",
      "L1big = Matrix([[0, 2, Co*dx**2, 0, 0, 0, 0, 0, 0, 0, 0, 0],\n",
      "            [q - 2, 0, 0, Co, 0, 0, 0, 0, 0, 0, 0, 0],\n",
      "            [1, 0, 0, 0, 0, 0, 0, 0, 0, 0, 0, 0],\n",
      "            [0, 1, -q, 0, 0, 0, 0, 0, 0, 0, 0, 0],\n",
      "            [0, 0, 0, 0, 0, 2, Co*dx**2, 0, 0, 0, 0, 0],\n",
      "            [0, 0, 0, 0, q - 2, 0, 0, Co, 0, 0, 0, 0],\n",
      "            [0, 0, 0, 0, 1, 0, 0, 0, 0, 0, 0, 0],\n",
      "            [0, 0, 0, 0, 0, 1, -q, 0, 0, 0, 0, 0],\n",
      "            [0, 0, 0, 0, 0, 0, 0, 0, 0, 2, Co*dx**2, 0],\n",
      "            [0, 0, 0, 0, 0, 0, 0, 0, q - 2, 0, 0, Co],\n",
      "            [0, 0, 0, 0, 0, 0, 0, 0, 1, 0, 0, 0],\n",
      "            [0, 0, 0, 0, 0, 0, 0, 0, 0, 1, -q, 0]])\n",
      "\n",
      "L2big = Matrix([[(2/R)*dx**2, 0, 0, 0, 0, 0, 0, 0, 0, 0, 0, 0],\n",
      "             [0, 1/R, 0, 0, 0, 0, 0, 0, 0, 0, 0, 0],\n",
      "             [0, 0, 1/Rm, 0, 0, 0, 0, 0, 0, 0, 0, 0],\n",
      "             [0, 0, 0, 1/Rm, 0, 0, 0, 0, 0, 0, 0, 0],\n",
      "             [0, 0, 0, 0, (2/R)*dx**2, 0, 0, 0, 0, 0, 0, 0],\n",
      "             [0, 0, 0, 0, 0, 1/R, 0, 0, 0, 0, 0, 0],\n",
      "             [0, 0, 0, 0, 0, 0, 1/Rm, 0, 0, 0, 0, 0],\n",
      "             [0, 0, 0, 0, 0, 0, 0, 1/Rm, 0, 0, 0, 0],\n",
      "             [0, 0, 0, 0, 0, 0, 0, 0, (2/R)*dx**2, 0, 0, 0],\n",
      "             [0, 0, 0, 0, 0, 0, 0, 0, 0, 1/R, 0, 0],\n",
      "             [0, 0, 0, 0, 0, 0, 0, 0, 0, 0, 1/Rm, 0],\n",
      "             [0, 0, 0, 0, 0, 0, 0, 0, 0, 0, 0, 1/Rm]])\n",
      "\n",
      "L3big = Matrix([[0, 0, Co, 0, 0, 0, 0, 0, 0, 0, 0, 0],\n",
      "             [0, 0, 0, 0, 0, 0, 0, 0, 0, 0, 0, 0],\n",
      "             [0, 0, 0, 0, 0, 0, 0, 0, 0, 0, 0, 0],\n",
      "             [0, 0, 0, 0, 0, 0, 0, 0, 0, 0, 0, 0],\n",
      "             [0, 0, 0, 0, 0, 0, Co, 0, 0, 0, 0, 0],\n",
      "             [0, 0, 0, 0, 0, 0, 0, 0, 0, 0, 0, 0],\n",
      "             [0, 0, 0, 0, 0, 0, 0, 0, 0, 0, 0, 0],\n",
      "             [0, 0, 0, 0, 0, 0, 0, 0, 0, 0, 0, 0],\n",
      "             [0, 0, 0, 0, 0, 0, 0, 0, 0, 0, Co, 0],\n",
      "             [0, 0, 0, 0, 0, 0, 0, 0, 0, 0, 0, 0],\n",
      "             [0, 0, 0, 0, 0, 0, 0, 0, 0, 0, 0, 0],\n",
      "             [0, 0, 0, 0, 0, 0, 0, 0, 0, 0, 0, 0]])\n",
      "\n",
      "L4big = Matrix([[1/R, 0, 0, 0, 0, 0, 0, 0, 0, 0, 0, 0],\n",
      "             [0, 0, 0, 0, 0, 0, 0, 0, 0, 0, 0, 0],\n",
      "             [0, 0, 0, 0, 0, 0, 0, 0, 0, 0, 0, 0],\n",
      "             [0, 0, 0, 0, 0, 0, 0, 0, 0, 0, 0, 0],\n",
      "             [0, 0, 0, 0, 1/R, 0, 0, 0, 0, 0, 0, 0],\n",
      "             [0, 0, 0, 0, 0, 0, 0, 0, 0, 0, 0, 0],\n",
      "             [0, 0, 0, 0, 0, 0, 0, 0, 0, 0, 0, 0],\n",
      "             [0, 0, 0, 0, 0, 0, 0, 0, 0, 0, 0, 0],\n",
      "             [0, 0, 0, 0, 0, 0, 0, 0, 1/R, 0, 0, 0],\n",
      "             [0, 0, 0, 0, 0, 0, 0, 0, 0, 0, 0, 0],\n",
      "             [0, 0, 0, 0, 0, 0, 0, 0, 0, 0, 0, 0],\n",
      "             [0, 0, 0, 0, 0, 0, 0, 0, 0, 0, 0, 0]])\n",
      "\n",
      "Lbig = L0big + L1big*dz + L2big*dz**2 + L3big*dz**3 + L4big*dz**4\n",
      "\n",
      "MM = (Lbig*V22big).subs(dz, 1j*2*Q) - (Lbig*V21big).subs(dz, 1j*Q) + (Lbig*V20big).subs(dz, 0)"
     ],
     "language": "python",
     "metadata": {},
     "outputs": [],
     "prompt_number": 212
    },
    {
     "cell_type": "code",
     "collapsed": false,
     "input": [
      "MM"
     ],
     "language": "python",
     "metadata": {},
     "outputs": [
      {
       "latex": [
        "$$\\left[\\begin{smallmatrix}{}\\frac{d_{x}^{4} \\psi_{20}}{R}\\\\\\frac{d_{x}^{2} u_{20}}{R}\\\\\\frac{A_{20} d_{x}^{2}}{R_{m}}\\\\\\frac{B_{20} d_{x}^{2}}{R_{m}}\\\\- A_{21} \\left(- 1.0 i Co Q^{3} + 1.0 i Co Q d_{x}^{2}\\right) - 2.0 i Q u_{21} - \\psi_{21} \\left(\\frac{1.0 Q^{4}}{R} - \\frac{2.0 Q^{2}}{R} d_{x}^{2} + \\frac{d_{x}^{4}}{R}\\right)\\\\- 1.0 i B_{21} Co Q - 1.0 i Q \\psi_{21} \\left(q - 2\\right) - u_{21} \\left(- \\frac{1.0 Q^{2}}{R} + \\frac{d_{x}^{2}}{R}\\right)\\\\- A_{21} \\left(- \\frac{1.0 Q^{2}}{R_{m}} + \\frac{d_{x}^{2}}{R_{m}}\\right) - 1.0 i Q \\psi_{21}\\\\1.0 i A_{21} Q q - B_{21} \\left(- \\frac{1.0 Q^{2}}{R_{m}} + \\frac{d_{x}^{2}}{R_{m}}\\right) - 1.0 i Q u_{21}\\\\A_{22} \\left(- 8.0 i Co Q^{3} + 2.0 i Co Q d_{x}^{2}\\right) + 4.0 i Q u_{22} + \\psi_{22} \\left(\\frac{16.0 Q^{4}}{R} - \\frac{8.0 Q^{2}}{R} d_{x}^{2} + \\frac{d_{x}^{4}}{R}\\right)\\\\2.0 i B_{22} Co Q + 2.0 i Q \\psi_{22} \\left(q - 2\\right) + u_{22} \\left(- \\frac{4.0 Q^{2}}{R} + \\frac{d_{x}^{2}}{R}\\right)\\\\A_{22} \\left(- \\frac{4.0 Q^{2}}{R_{m}} + \\frac{d_{x}^{2}}{R_{m}}\\right) + 2.0 i Q \\psi_{22}\\\\- 2.0 i A_{22} Q q + B_{22} \\left(- \\frac{4.0 Q^{2}}{R_{m}} + \\frac{d_{x}^{2}}{R_{m}}\\right) + 2.0 i Q u_{22}\\end{smallmatrix}\\right]$$"
       ],
       "metadata": {},
       "output_type": "pyout",
       "png": "[encoded data removed]",
       "prompt_number": 213,
       "text": [
        "\u23a1                                         4                                   \n",
        "\u23a2                                       d\u2093 \u22c5\u03c8\u2082\u2080                               \n",
        "\u23a2                                       \u2500\u2500\u2500\u2500\u2500\u2500\u2500                               \n",
        "\u23a2                                          R                                  \n",
        "\u23a2                                                                             \n",
        "\u23a2                                         2                                   \n",
        "\u23a2                                       d\u2093 \u22c5u\u2082\u2080                               \n",
        "\u23a2                                       \u2500\u2500\u2500\u2500\u2500\u2500\u2500                               \n",
        "\u23a2                                          R                                  \n",
        "\u23a2                                                                             \n",
        "\u23a2                                             2                               \n",
        "\u23a2                                       A\u2082\u2080\u22c5d\u2093                                \n",
        "\u23a2                                       \u2500\u2500\u2500\u2500\u2500\u2500\u2500                               \n",
        "\u23a2                                         R_m                                 \n",
        "\u23a2                                                                             \n",
        "\u23a2                                             2                               \n",
        "\u23a2                                       B\u2082\u2080\u22c5d\u2093                                \n",
        "\u23a2                                       \u2500\u2500\u2500\u2500\u2500\u2500\u2500                               \n",
        "\u23a2                                         R_m                                 \n",
        "\u23a2                                                                             \n",
        "\u23a2                                                           \u239b     4        2  \n",
        "\u23a2      \u239b            3                2\u239e                     \u239c1.0\u22c5Q    2.0\u22c5Q \u22c5d\n",
        "\u23a2- A\u2082\u2081\u22c5\u239d- 1.0\u22c5\u2148\u22c5Co\u22c5Q  + 1.0\u22c5\u2148\u22c5Co\u22c5Q\u22c5d\u2093 \u23a0 - 2.0\u22c5\u2148\u22c5Q\u22c5u\u2082\u2081 - \u03c8\u2082\u2081\u22c5\u239c\u2500\u2500\u2500\u2500\u2500\u2500 - \u2500\u2500\u2500\u2500\u2500\u2500\u2500\u2500\n",
        "\u23a2                                                           \u239d  R          R   \n",
        "\u23a2                                                                             \n",
        "\u23a2                                                         \u239b       2     2\u239e    \n",
        "\u23a2                                                         \u239c  1.0\u22c5Q    d\u2093 \u239f    \n",
        "\u23a2             -1.0\u22c5\u2148\u22c5B\u2082\u2081\u22c5Co\u22c5Q - 1.0\u22c5\u2148\u22c5Q\u22c5\u03c8\u2082\u2081\u22c5(q - 2) - u\u2082\u2081\u22c5\u239c- \u2500\u2500\u2500\u2500\u2500\u2500 + \u2500\u2500\u2500\u239f    \n",
        "\u23a2                                                         \u239d    R       R \u23a0    \n",
        "\u23a2                                                                             \n",
        "\u23a2                               \u239b       2     2\u239e                              \n",
        "\u23a2                               \u239c  1.0\u22c5Q    d\u2093 \u239f                              \n",
        "\u23a2                         - A\u2082\u2081\u22c5\u239c- \u2500\u2500\u2500\u2500\u2500\u2500 + \u2500\u2500\u2500\u239f - 1.0\u22c5\u2148\u22c5Q\u22c5\u03c8\u2082\u2081                \n",
        "\u23a2                               \u239d   R_m     R_m\u23a0                              \n",
        "\u23a2                                                                             \n",
        "\u23a2                                      \u239b       2     2\u239e                       \n",
        "\u23a2                                      \u239c  1.0\u22c5Q    d\u2093 \u239f                       \n",
        "\u23a2                  1.0\u22c5\u2148\u22c5A\u2082\u2081\u22c5Q\u22c5q - B\u2082\u2081\u22c5\u239c- \u2500\u2500\u2500\u2500\u2500\u2500 + \u2500\u2500\u2500\u239f - 1.0\u22c5\u2148\u22c5Q\u22c5u\u2082\u2081         \n",
        "\u23a2                                      \u239d   R_m     R_m\u23a0                       \n",
        "\u23a2                                                                             \n",
        "\u23a2                                                         \u239b      4        2   \n",
        "\u23a2    \u239b            3                2\u239e                     \u239c16.0\u22c5Q    8.0\u22c5Q \u22c5d\u2093\n",
        "\u23a2A\u2082\u2082\u22c5\u239d- 8.0\u22c5\u2148\u22c5Co\u22c5Q  + 2.0\u22c5\u2148\u22c5Co\u22c5Q\u22c5d\u2093 \u23a0 + 4.0\u22c5\u2148\u22c5Q\u22c5u\u2082\u2082 + \u03c8\u2082\u2082\u22c5\u239c\u2500\u2500\u2500\u2500\u2500\u2500\u2500 - \u2500\u2500\u2500\u2500\u2500\u2500\u2500\u2500\u2500\n",
        "\u23a2                                                         \u239d   R          R    \n",
        "\u23a2                                                                             \n",
        "\u23a2                                                        \u239b       2     2\u239e     \n",
        "\u23a2                                                        \u239c  4.0\u22c5Q    d\u2093 \u239f     \n",
        "\u23a2             2.0\u22c5\u2148\u22c5B\u2082\u2082\u22c5Co\u22c5Q + 2.0\u22c5\u2148\u22c5Q\u22c5\u03c8\u2082\u2082\u22c5(q - 2) + u\u2082\u2082\u22c5\u239c- \u2500\u2500\u2500\u2500\u2500\u2500 + \u2500\u2500\u2500\u239f     \n",
        "\u23a2                                                        \u239d    R       R \u23a0     \n",
        "\u23a2                                                                             \n",
        "\u23a2                              \u239b       2     2\u239e                               \n",
        "\u23a2                              \u239c  4.0\u22c5Q    d\u2093 \u239f                               \n",
        "\u23a2                          A\u2082\u2082\u22c5\u239c- \u2500\u2500\u2500\u2500\u2500\u2500 + \u2500\u2500\u2500\u239f + 2.0\u22c5\u2148\u22c5Q\u22c5\u03c8\u2082\u2082                 \n",
        "\u23a2                              \u239d   R_m     R_m\u23a0                               \n",
        "\u23a2                                                                             \n",
        "\u23a2                                      \u239b       2     2\u239e                       \n",
        "\u23a2                                      \u239c  4.0\u22c5Q    d\u2093 \u239f                       \n",
        "\u23a2                 -2.0\u22c5\u2148\u22c5A\u2082\u2082\u22c5Q\u22c5q + B\u2082\u2082\u22c5\u239c- \u2500\u2500\u2500\u2500\u2500\u2500 + \u2500\u2500\u2500\u239f + 2.0\u22c5\u2148\u22c5Q\u22c5u\u2082\u2082         \n",
        "\u23a3                                      \u239d   R_m     R_m\u23a0                       \n",
        "\n",
        "         \u23a4\n",
        "         \u23a5\n",
        "         \u23a5\n",
        "         \u23a5\n",
        "         \u23a5\n",
        "         \u23a5\n",
        "         \u23a5\n",
        "         \u23a5\n",
        "         \u23a5\n",
        "         \u23a5\n",
        "         \u23a5\n",
        "         \u23a5\n",
        "         \u23a5\n",
        "         \u23a5\n",
        "         \u23a5\n",
        "         \u23a5\n",
        "         \u23a5\n",
        "         \u23a5\n",
        "         \u23a5\n",
        "         \u23a5\n",
        " 2     4\u239e\u23a5\n",
        "\u2093    d\u2093 \u239f\u23a5\n",
        "\u2500\u2500 + \u2500\u2500\u2500\u239f\u23a5\n",
        "      R \u23a0\u23a5\n",
        "         \u23a5\n",
        "         \u23a5\n",
        "         \u23a5\n",
        "         \u23a5\n",
        "         \u23a5\n",
        "         \u23a5\n",
        "         \u23a5\n",
        "         \u23a5\n",
        "         \u23a5\n",
        "         \u23a5\n",
        "         \u23a5\n",
        "         \u23a5\n",
        "         \u23a5\n",
        "         \u23a5\n",
        "         \u23a5\n",
        "         \u23a5\n",
        "2     4\u239e \u23a5\n",
        "    d\u2093 \u239f \u23a5\n",
        "\u2500 + \u2500\u2500\u2500\u239f \u23a5\n",
        "     R \u23a0 \u23a5\n",
        "         \u23a5\n",
        "         \u23a5\n",
        "         \u23a5\n",
        "         \u23a5\n",
        "         \u23a5\n",
        "         \u23a5\n",
        "         \u23a5\n",
        "         \u23a5\n",
        "         \u23a5\n",
        "         \u23a5\n",
        "         \u23a5\n",
        "         \u23a5\n",
        "         \u23a5\n",
        "         \u23a5\n",
        "         \u23a6"
       ]
      }
     ],
     "prompt_number": 213
    },
    {
     "cell_type": "code",
     "collapsed": false,
     "input": [
      "Dbig = Matrix([[(dx**2 + dz**2), 0, 0, 0, 0, 0, 0, 0, 0, 0, 0, 0],\n",
      "             [0, 1, 0, 0, 0, 0, 0, 0, 0, 0, 0, 0],\n",
      "             [0, 0, 1, 0, 0, 0, 0, 0, 0, 0, 0, 0],\n",
      "             [0, 0, 0, 1, 0, 0, 0, 0, 0, 0, 0, 0],\n",
      "             [0, 0, 0, 0, (dx**2 + dz**2), 0, 0, 0, 0, 0, 0, 0],\n",
      "             [0, 0, 0, 0, 0, 1, 0, 0, 0, 0, 0, 0],\n",
      "             [0, 0, 0, 0, 0, 0, 1, 0, 0, 0, 0, 0],\n",
      "             [0, 0, 0, 0, 0, 0, 0, 1, 0, 0, 0, 0],\n",
      "             [0, 0, 0, 0, 0, 0, 0, 0, (dx**2 + dz**2), 0, 0, 0],\n",
      "             [0, 0, 0, 0, 0, 0, 0, 0, 0, 1, 0, 0],\n",
      "             [0, 0, 0, 0, 0, 0, 0, 0, 0, 0, 1, 0],\n",
      "             [0, 0, 0, 0, 0, 0, 0, 0, 0, 0, 0, 1]])\n",
      "\n",
      "#((dx**2 + dz**2)*psi22).subs(dz, 1j*2*Q) - ((dx**2 + dz**2)*psi21).subs(dz, 1j*Q) + ((dx**2 + dz**2)*psi20).subs(dz, 1)\n",
      "(Dbig*V22big).subs(dz, 1j*2*Q) - (Dbig*V21big).subs(dz, 1j*Q) + (Dbig*V20big).subs(dz, 0)"
     ],
     "language": "python",
     "metadata": {},
     "outputs": [
      {
       "latex": [
        "$$\\left[\\begin{smallmatrix}{}d_{x}^{2} \\psi_{20}\\\\u_{20}\\\\A_{20}\\\\B_{20}\\\\- \\psi_{21} \\left(- 1.0 Q^{2} + d_{x}^{2}\\right)\\\\- u_{21}\\\\- A_{21}\\\\- B_{21}\\\\\\psi_{22} \\left(- 4.0 Q^{2} + d_{x}^{2}\\right)\\\\u_{22}\\\\A_{22}\\\\B_{22}\\end{smallmatrix}\\right]$$"
       ],
       "metadata": {},
       "output_type": "pyout",
       "png": "[encoded data removed]",
       "prompt_number": 214,
       "text": [
        "\u23a1         2           \u23a4\n",
        "\u23a2       d\u2093 \u22c5\u03c8\u2082\u2080       \u23a5\n",
        "\u23a2                     \u23a5\n",
        "\u23a2         u\u2082\u2080         \u23a5\n",
        "\u23a2                     \u23a5\n",
        "\u23a2         A\u2082\u2080         \u23a5\n",
        "\u23a2                     \u23a5\n",
        "\u23a2         B\u2082\u2080         \u23a5\n",
        "\u23a2                     \u23a5\n",
        "\u23a2     \u239b       2     2\u239e\u23a5\n",
        "\u23a2-\u03c8\u2082\u2081\u22c5\u239d- 1.0\u22c5Q  + d\u2093 \u23a0\u23a5\n",
        "\u23a2                     \u23a5\n",
        "\u23a2        -u\u2082\u2081         \u23a5\n",
        "\u23a2                     \u23a5\n",
        "\u23a2        -A\u2082\u2081         \u23a5\n",
        "\u23a2                     \u23a5\n",
        "\u23a2        -B\u2082\u2081         \u23a5\n",
        "\u23a2                     \u23a5\n",
        "\u23a2    \u239b       2     2\u239e \u23a5\n",
        "\u23a2\u03c8\u2082\u2082\u22c5\u239d- 4.0\u22c5Q  + d\u2093 \u23a0 \u23a5\n",
        "\u23a2                     \u23a5\n",
        "\u23a2         u\u2082\u2082         \u23a5\n",
        "\u23a2                     \u23a5\n",
        "\u23a2         A\u2082\u2082         \u23a5\n",
        "\u23a2                     \u23a5\n",
        "\u23a3         B\u2082\u2082         \u23a6"
       ]
      }
     ],
     "prompt_number": 214
    },
    {
     "cell_type": "code",
     "collapsed": false,
     "input": [
      "(L*V22).subs(dz, 1j*Q)"
     ],
     "language": "python",
     "metadata": {},
     "outputs": [
      {
       "latex": [
        "$$\\left[\\begin{smallmatrix}{}A_{22} \\left(- 1.0 i Co Q^{3} + 1.0 i Co Q d_{x}^{2}\\right) + 2.0 i Q u_{22} + \\psi_{22} \\left(\\frac{1.0 Q^{4}}{R} - \\frac{2.0 Q^{2}}{R} d_{x}^{2} + \\frac{d_{x}^{4}}{R}\\right)\\\\1.0 i B_{22} Co Q + 1.0 i Q \\psi_{22} \\left(q - 2\\right) + u_{22} \\left(- \\frac{1.0 Q^{2}}{R} + \\frac{d_{x}^{2}}{R}\\right)\\\\A_{22} \\left(- \\frac{1.0 Q^{2}}{R_{m}} + \\frac{d_{x}^{2}}{R_{m}}\\right) + 1.0 i Q \\psi_{22}\\\\- 1.0 i A_{22} Q q + B_{22} \\left(- \\frac{1.0 Q^{2}}{R_{m}} + \\frac{d_{x}^{2}}{R_{m}}\\right) + 1.0 i Q u_{22}\\end{smallmatrix}\\right]$$"
       ],
       "metadata": {},
       "output_type": "pyout",
       "png": "[encoded data removed]",
       "prompt_number": 215,
       "text": [
        "\u23a1                                                         \u239b     4        2   2\n",
        "\u23a2    \u239b            3                2\u239e                     \u239c1.0\u22c5Q    2.0\u22c5Q \u22c5d\u2093 \n",
        "\u23a2A\u2082\u2082\u22c5\u239d- 1.0\u22c5\u2148\u22c5Co\u22c5Q  + 1.0\u22c5\u2148\u22c5Co\u22c5Q\u22c5d\u2093 \u23a0 + 2.0\u22c5\u2148\u22c5Q\u22c5u\u2082\u2082 + \u03c8\u2082\u2082\u22c5\u239c\u2500\u2500\u2500\u2500\u2500\u2500 - \u2500\u2500\u2500\u2500\u2500\u2500\u2500\u2500\u2500\u2500\n",
        "\u23a2                                                         \u239d  R          R     \n",
        "\u23a2                                                                             \n",
        "\u23a2                                                       \u239b       2     2\u239e      \n",
        "\u23a2                                                       \u239c  1.0\u22c5Q    d\u2093 \u239f      \n",
        "\u23a2            1.0\u22c5\u2148\u22c5B\u2082\u2082\u22c5Co\u22c5Q + 1.0\u22c5\u2148\u22c5Q\u22c5\u03c8\u2082\u2082\u22c5(q - 2) + u\u2082\u2082\u22c5\u239c- \u2500\u2500\u2500\u2500\u2500\u2500 + \u2500\u2500\u2500\u239f      \n",
        "\u23a2                                                       \u239d    R       R \u23a0      \n",
        "\u23a2                                                                             \n",
        "\u23a2                             \u239b       2     2\u239e                                \n",
        "\u23a2                             \u239c  1.0\u22c5Q    d\u2093 \u239f                                \n",
        "\u23a2                         A\u2082\u2082\u22c5\u239c- \u2500\u2500\u2500\u2500\u2500\u2500 + \u2500\u2500\u2500\u239f + 1.0\u22c5\u2148\u22c5Q\u22c5\u03c8\u2082\u2082                  \n",
        "\u23a2                             \u239d   R_m     R_m\u23a0                                \n",
        "\u23a2                                                                             \n",
        "\u23a2                                     \u239b       2     2\u239e                        \n",
        "\u23a2                                     \u239c  1.0\u22c5Q    d\u2093 \u239f                        \n",
        "\u23a2                -1.0\u22c5\u2148\u22c5A\u2082\u2082\u22c5Q\u22c5q + B\u2082\u2082\u22c5\u239c- \u2500\u2500\u2500\u2500\u2500\u2500 + \u2500\u2500\u2500\u239f + 1.0\u22c5\u2148\u22c5Q\u22c5u\u2082\u2082          \n",
        "\u23a3                                     \u239d   R_m     R_m\u23a0                        \n",
        "\n",
        "     4\u239e\u23a4\n",
        "   d\u2093 \u239f\u23a5\n",
        " + \u2500\u2500\u2500\u239f\u23a5\n",
        "    R \u23a0\u23a5\n",
        "       \u23a5\n",
        "       \u23a5\n",
        "       \u23a5\n",
        "       \u23a5\n",
        "       \u23a5\n",
        "       \u23a5\n",
        "       \u23a5\n",
        "       \u23a5\n",
        "       \u23a5\n",
        "       \u23a5\n",
        "       \u23a5\n",
        "       \u23a5\n",
        "       \u23a5\n",
        "       \u23a5\n",
        "       \u23a6"
       ]
      }
     ],
     "prompt_number": 215
    },
    {
     "cell_type": "code",
     "collapsed": false,
     "input": [
      "# wrong, but let's try it?\n",
      "(Dbig*V22big).subs(dz, 1j*Q) - (Dbig*V21big).subs(dz, 1j*Q) + (Dbig*V20big).subs(dz, 1j*Q)"
     ],
     "language": "python",
     "metadata": {},
     "outputs": [
      {
       "latex": [
        "$$\\left[\\begin{smallmatrix}{}\\psi_{20} \\left(- 1.0 Q^{2} + d_{x}^{2}\\right)\\\\u_{20}\\\\A_{20}\\\\B_{20}\\\\- \\psi_{21} \\left(- 1.0 Q^{2} + d_{x}^{2}\\right)\\\\- u_{21}\\\\- A_{21}\\\\- B_{21}\\\\\\psi_{22} \\left(- 1.0 Q^{2} + d_{x}^{2}\\right)\\\\u_{22}\\\\A_{22}\\\\B_{22}\\end{smallmatrix}\\right]$$"
       ],
       "metadata": {},
       "output_type": "pyout",
       "png": "[encoded data removed]",
       "prompt_number": 216,
       "text": [
        "\u23a1    \u239b       2     2\u239e \u23a4\n",
        "\u23a2\u03c8\u2082\u2080\u22c5\u239d- 1.0\u22c5Q  + d\u2093 \u23a0 \u23a5\n",
        "\u23a2                     \u23a5\n",
        "\u23a2         u\u2082\u2080         \u23a5\n",
        "\u23a2                     \u23a5\n",
        "\u23a2         A\u2082\u2080         \u23a5\n",
        "\u23a2                     \u23a5\n",
        "\u23a2         B\u2082\u2080         \u23a5\n",
        "\u23a2                     \u23a5\n",
        "\u23a2     \u239b       2     2\u239e\u23a5\n",
        "\u23a2-\u03c8\u2082\u2081\u22c5\u239d- 1.0\u22c5Q  + d\u2093 \u23a0\u23a5\n",
        "\u23a2                     \u23a5\n",
        "\u23a2        -u\u2082\u2081         \u23a5\n",
        "\u23a2                     \u23a5\n",
        "\u23a2        -A\u2082\u2081         \u23a5\n",
        "\u23a2                     \u23a5\n",
        "\u23a2        -B\u2082\u2081         \u23a5\n",
        "\u23a2                     \u23a5\n",
        "\u23a2    \u239b       2     2\u239e \u23a5\n",
        "\u23a2\u03c8\u2082\u2082\u22c5\u239d- 1.0\u22c5Q  + d\u2093 \u23a0 \u23a5\n",
        "\u23a2                     \u23a5\n",
        "\u23a2         u\u2082\u2082         \u23a5\n",
        "\u23a2                     \u23a5\n",
        "\u23a2         A\u2082\u2082         \u23a5\n",
        "\u23a2                     \u23a5\n",
        "\u23a3         B\u2082\u2082         \u23a6"
       ]
      }
     ],
     "prompt_number": 216
    },
    {
     "cell_type": "code",
     "collapsed": false,
     "input": [
      "(Lbig*V20big).subs(dz, 0)"
     ],
     "language": "python",
     "metadata": {},
     "outputs": [
      {
       "latex": [
        "$$\\left[\\begin{smallmatrix}{}\\frac{d_{x}^{4} \\psi_{20}}{R}\\\\\\frac{d_{x}^{2} u_{20}}{R}\\\\\\frac{A_{20} d_{x}^{2}}{R_{m}}\\\\\\frac{B_{20} d_{x}^{2}}{R_{m}}\\\\0\\\\0\\\\0\\\\0\\\\0\\\\0\\\\0\\\\0\\end{smallmatrix}\\right]$$"
       ],
       "metadata": {},
       "output_type": "pyout",
       "png": "[encoded data removed]",
       "prompt_number": 217,
       "text": [
        "\u23a1  4    \u23a4\n",
        "\u23a2d\u2093 \u22c5\u03c8\u2082\u2080\u23a5\n",
        "\u23a2\u2500\u2500\u2500\u2500\u2500\u2500\u2500\u23a5\n",
        "\u23a2   R   \u23a5\n",
        "\u23a2       \u23a5\n",
        "\u23a2  2    \u23a5\n",
        "\u23a2d\u2093 \u22c5u\u2082\u2080\u23a5\n",
        "\u23a2\u2500\u2500\u2500\u2500\u2500\u2500\u2500\u23a5\n",
        "\u23a2   R   \u23a5\n",
        "\u23a2       \u23a5\n",
        "\u23a2      2\u23a5\n",
        "\u23a2A\u2082\u2080\u22c5d\u2093 \u23a5\n",
        "\u23a2\u2500\u2500\u2500\u2500\u2500\u2500\u2500\u23a5\n",
        "\u23a2  R_m  \u23a5\n",
        "\u23a2       \u23a5\n",
        "\u23a2      2\u23a5\n",
        "\u23a2B\u2082\u2080\u22c5d\u2093 \u23a5\n",
        "\u23a2\u2500\u2500\u2500\u2500\u2500\u2500\u2500\u23a5\n",
        "\u23a2  R_m  \u23a5\n",
        "\u23a2       \u23a5\n",
        "\u23a2   0   \u23a5\n",
        "\u23a2       \u23a5\n",
        "\u23a2   0   \u23a5\n",
        "\u23a2       \u23a5\n",
        "\u23a2   0   \u23a5\n",
        "\u23a2       \u23a5\n",
        "\u23a2   0   \u23a5\n",
        "\u23a2       \u23a5\n",
        "\u23a2   0   \u23a5\n",
        "\u23a2       \u23a5\n",
        "\u23a2   0   \u23a5\n",
        "\u23a2       \u23a5\n",
        "\u23a2   0   \u23a5\n",
        "\u23a2       \u23a5\n",
        "\u23a3   0   \u23a6"
       ]
      }
     ],
     "prompt_number": 217
    },
    {
     "cell_type": "code",
     "collapsed": false,
     "input": [
      "V11 = Matrix([psi, u, A, B])\n",
      "V21 = Matrix([psi21, u21, A21, B21])\n",
      "# L2twiddle\n",
      "((L2 + 3*L3*dz + 6*L4*dz**2)*VT).subs(dz, 1j*Q)"
     ],
     "language": "python",
     "metadata": {},
     "outputs": [
      {
       "latex": [
        "$$\\left[\\begin{smallmatrix}{}3.0 i A Co Q + \\psi \\left(- \\frac{6.0 Q^{2}}{R} + \\frac{2 d_{x}^{2}}{R}\\right)\\\\\\frac{u}{R}\\\\\\frac{A}{R_{m}}\\\\\\frac{B}{R_{m}}\\end{smallmatrix}\\right]$$"
       ],
       "metadata": {},
       "output_type": "pyout",
       "png": "[encoded data removed]",
       "prompt_number": 218,
       "text": [
        "\u23a1                 \u239b       2       2\u239e\u23a4\n",
        "\u23a2                 \u239c  6.0\u22c5Q    2\u22c5d\u2093 \u239f\u23a5\n",
        "\u23a23.0\u22c5\u2148\u22c5A\u22c5Co\u22c5Q + \u03c8\u22c5\u239c- \u2500\u2500\u2500\u2500\u2500\u2500 + \u2500\u2500\u2500\u2500\u2500\u239f\u23a5\n",
        "\u23a2                 \u239d    R        R  \u23a0\u23a5\n",
        "\u23a2                                   \u23a5\n",
        "\u23a2                 u                 \u23a5\n",
        "\u23a2                 \u2500                 \u23a5\n",
        "\u23a2                 R                 \u23a5\n",
        "\u23a2                                   \u23a5\n",
        "\u23a2                 A                 \u23a5\n",
        "\u23a2                \u2500\u2500\u2500                \u23a5\n",
        "\u23a2                R_m                \u23a5\n",
        "\u23a2                                   \u23a5\n",
        "\u23a2                 B                 \u23a5\n",
        "\u23a2                \u2500\u2500\u2500                \u23a5\n",
        "\u23a3                R_m                \u23a6"
       ]
      }
     ],
     "prompt_number": 218
    },
    {
     "cell_type": "code",
     "collapsed": false,
     "input": [
      "# L1twiddle\n",
      "((L1 + 2*L2*dz + 3*L3*dz**2 + 4*L4*dz**3)*VT).subs(dz, 1j*Q)"
     ],
     "language": "python",
     "metadata": {},
     "outputs": [
      {
       "latex": [
        "$$\\left[\\begin{smallmatrix}{}A \\left(- 3.0 Co Q^{2} + Co d_{x}^{2}\\right) + \\psi \\left(- \\frac{4.0 i}{R} Q^{3} + \\frac{4.0 i}{R} Q d_{x}^{2}\\right) + 2 u\\\\B Co + \\frac{2.0 i}{R} Q u + \\psi \\left(q - 2\\right)\\\\\\frac{2.0 i}{R_{m}} A Q + \\psi\\\\- A q + \\frac{2.0 i}{R_{m}} B Q + u\\end{smallmatrix}\\right]$$"
       ],
       "metadata": {},
       "output_type": "pyout",
       "png": "[encoded data removed]",
       "prompt_number": 219,
       "text": [
        "\u23a1                             \u239b         3             2\u239e      \u23a4\n",
        "\u23a2  \u239b          2        2\u239e     \u239c  4.0\u22c5\u2148\u22c5Q    4.0\u22c5\u2148\u22c5Q\u22c5d\u2093 \u239f      \u23a5\n",
        "\u23a2A\u22c5\u239d- 3.0\u22c5Co\u22c5Q  + Co\u22c5d\u2093 \u23a0 + \u03c8\u22c5\u239c- \u2500\u2500\u2500\u2500\u2500\u2500\u2500\u2500 + \u2500\u2500\u2500\u2500\u2500\u2500\u2500\u2500\u2500\u2500\u2500\u239f + 2\u22c5u\u23a5\n",
        "\u23a2                             \u239d     R            R     \u23a0      \u23a5\n",
        "\u23a2                                                             \u23a5\n",
        "\u23a2                       2.0\u22c5\u2148\u22c5Q\u22c5u                             \u23a5\n",
        "\u23a2                B\u22c5Co + \u2500\u2500\u2500\u2500\u2500\u2500\u2500\u2500\u2500 + \u03c8\u22c5(q - 2)                 \u23a5\n",
        "\u23a2                           R                                 \u23a5\n",
        "\u23a2                                                             \u23a5\n",
        "\u23a2                        2.0\u22c5\u2148\u22c5A\u22c5Q                            \u23a5\n",
        "\u23a2                        \u2500\u2500\u2500\u2500\u2500\u2500\u2500\u2500\u2500 + \u03c8                        \u23a5\n",
        "\u23a2                           R_m                               \u23a5\n",
        "\u23a2                                                             \u23a5\n",
        "\u23a2                           2.0\u22c5\u2148\u22c5B\u22c5Q                         \u23a5\n",
        "\u23a2                    -A\u22c5q + \u2500\u2500\u2500\u2500\u2500\u2500\u2500\u2500\u2500 + u                     \u23a5\n",
        "\u23a3                              R_m                            \u23a6"
       ]
      }
     ],
     "prompt_number": 219
    },
    {
     "cell_type": "code",
     "collapsed": false,
     "input": [
      "(((L2 + 3*L3*dz + 6*L4*dz**2)*V11).subs(dz, 1j*Q) - ((L1 + 2*L2*dz + 3*L3*dz**2 + 4*L4*dz**3)*V21).subs(dz, 1j*Q))"
     ],
     "language": "python",
     "metadata": {},
     "outputs": [
      {
       "latex": [
        "$$\\left[\\begin{smallmatrix}{}3.0 i A Co Q - A_{21} \\left(- 3.0 Co Q^{2} + Co d_{x}^{2}\\right) + \\psi \\left(- \\frac{6.0 Q^{2}}{R} + \\frac{2 d_{x}^{2}}{R}\\right) - \\psi_{21} \\left(- \\frac{4.0 i}{R} Q^{3} + \\frac{4.0 i}{R} Q d_{x}^{2}\\right) - 2 u_{21}\\\\- B_{21} Co - \\frac{2.0 i}{R} Q u_{21} - \\psi_{21} \\left(q - 2\\right) + \\frac{u}{R}\\\\\\frac{A}{R_{m}} - \\frac{2.0 i}{R_{m}} A_{21} Q - \\psi_{21}\\\\A_{21} q + \\frac{B}{R_{m}} - \\frac{2.0 i}{R_{m}} B_{21} Q - u_{21}\\end{smallmatrix}\\right]$$"
       ],
       "metadata": {},
       "output_type": "pyout",
       "png": "[encoded data removed]",
       "prompt_number": 220,
       "text": [
        "\u23a1                                              \u239b       2       2\u239e       \u239b     \n",
        "\u23a2                   \u239b          2        2\u239e     \u239c  6.0\u22c5Q    2\u22c5d\u2093 \u239f       \u239c  4.0\n",
        "\u23a23.0\u22c5\u2148\u22c5A\u22c5Co\u22c5Q - A\u2082\u2081\u22c5\u239d- 3.0\u22c5Co\u22c5Q  + Co\u22c5d\u2093 \u23a0 + \u03c8\u22c5\u239c- \u2500\u2500\u2500\u2500\u2500\u2500 + \u2500\u2500\u2500\u2500\u2500\u239f - \u03c8\u2082\u2081\u22c5\u239c- \u2500\u2500\u2500\n",
        "\u23a2                                              \u239d    R        R  \u23a0       \u239d     \n",
        "\u23a2                                                                             \n",
        "\u23a2                                           2.0\u22c5\u2148\u22c5Q\u22c5u\u2082\u2081                 u     \n",
        "\u23a2                                 -B\u2082\u2081\u22c5Co - \u2500\u2500\u2500\u2500\u2500\u2500\u2500\u2500\u2500\u2500\u2500 - \u03c8\u2082\u2081\u22c5(q - 2) + \u2500     \n",
        "\u23a2                                                R                      R     \n",
        "\u23a2                                                                             \n",
        "\u23a2                                          A    2.0\u22c5\u2148\u22c5A\u2082\u2081\u22c5Q                   \n",
        "\u23a2                                         \u2500\u2500\u2500 - \u2500\u2500\u2500\u2500\u2500\u2500\u2500\u2500\u2500\u2500\u2500 - \u03c8\u2082\u2081             \n",
        "\u23a2                                         R_m       R_m                       \n",
        "\u23a2                                                                             \n",
        "\u23a2                                              B    2.0\u22c5\u2148\u22c5B\u2082\u2081\u22c5Q               \n",
        "\u23a2                                     A\u2082\u2081\u22c5q + \u2500\u2500\u2500 - \u2500\u2500\u2500\u2500\u2500\u2500\u2500\u2500\u2500\u2500\u2500 - u\u2082\u2081         \n",
        "\u23a3                                             R_m       R_m                   \n",
        "\n",
        "    3             2\u239e        \u23a4\n",
        "\u22c5\u2148\u22c5Q    4.0\u22c5\u2148\u22c5Q\u22c5d\u2093 \u239f        \u23a5\n",
        "\u2500\u2500\u2500\u2500\u2500 + \u2500\u2500\u2500\u2500\u2500\u2500\u2500\u2500\u2500\u2500\u2500\u239f - 2\u22c5u\u2082\u2081\u23a5\n",
        "R            R     \u23a0        \u23a5\n",
        "                            \u23a5\n",
        "                            \u23a5\n",
        "                            \u23a5\n",
        "                            \u23a5\n",
        "                            \u23a5\n",
        "                            \u23a5\n",
        "                            \u23a5\n",
        "                            \u23a5\n",
        "                            \u23a5\n",
        "                            \u23a5\n",
        "                            \u23a5\n",
        "                            \u23a6"
       ]
      }
     ],
     "prompt_number": 220
    },
    {
     "cell_type": "code",
     "collapsed": false,
     "input": [
      "U11 = Matrix([0, 0, 0, 1])"
     ],
     "language": "python",
     "metadata": {},
     "outputs": [],
     "prompt_number": 221
    },
    {
     "cell_type": "code",
     "collapsed": false,
     "input": [
      "U11.adjoint()*D*U11"
     ],
     "language": "python",
     "metadata": {},
     "outputs": [
      {
       "latex": [
        "$$\\left[\\begin{smallmatrix}{}1\\end{smallmatrix}\\right]$$"
       ],
       "metadata": {},
       "output_type": "pyout",
       "png": "[encoded data removed]",
       "prompt_number": 222,
       "text": [
        "[1]"
       ]
      }
     ],
     "prompt_number": 222
    },
    {
     "cell_type": "code",
     "collapsed": false,
     "input": [
      "L1twiddle = (L1 + 2*L2*dz + 3*L3*dz**2 + 4*L4*dz**3)\n",
      "(L1twiddle*V20).subs(dz, 0)"
     ],
     "language": "python",
     "metadata": {},
     "outputs": [
      {
       "latex": [
        "$$\\left[\\begin{smallmatrix}{}A_{20} Co d_{x}^{2} + 2 u_{20}\\\\B_{20} Co + \\psi_{20} \\left(q - 2\\right)\\\\\\psi_{20}\\\\- A_{20} q + u_{20}\\end{smallmatrix}\\right]$$"
       ],
       "metadata": {},
       "output_type": "pyout",
       "png": "[encoded data removed]",
       "prompt_number": 223,
       "text": [
        "\u23a1          2         \u23a4\n",
        "\u23a2 A\u2082\u2080\u22c5Co\u22c5d\u2093  + 2\u22c5u\u2082\u2080 \u23a5\n",
        "\u23a2                    \u23a5\n",
        "\u23a2B\u2082\u2080\u22c5Co + \u03c8\u2082\u2080\u22c5(q - 2)\u23a5\n",
        "\u23a2                    \u23a5\n",
        "\u23a2        \u03c8\u2082\u2080         \u23a5\n",
        "\u23a2                    \u23a5\n",
        "\u23a3    -A\u2082\u2080\u22c5q + u\u2082\u2080    \u23a6"
       ]
      }
     ],
     "prompt_number": 223
    },
    {
     "cell_type": "code",
     "collapsed": false,
     "input": [
      "U20 = Matrix([0, u20, 0, 0])"
     ],
     "language": "python",
     "metadata": {},
     "outputs": [],
     "prompt_number": 224
    },
    {
     "cell_type": "code",
     "collapsed": false,
     "input": [
      "(L1twiddle*U20).subs(dz, 0)"
     ],
     "language": "python",
     "metadata": {},
     "outputs": [
      {
       "latex": [
        "$$\\left[\\begin{smallmatrix}{}2 u_{20}\\\\0\\\\0\\\\u_{20}\\end{smallmatrix}\\right]$$"
       ],
       "metadata": {},
       "output_type": "pyout",
       "png": "[encoded data removed]",
       "prompt_number": 225,
       "text": [
        "\u23a12\u22c5u\u2082\u2080\u23a4\n",
        "\u23a2     \u23a5\n",
        "\u23a2  0  \u23a5\n",
        "\u23a2     \u23a5\n",
        "\u23a2  0  \u23a5\n",
        "\u23a2     \u23a5\n",
        "\u23a3 u\u2082\u2080 \u23a6"
       ]
      }
     ],
     "prompt_number": 225
    },
    {
     "cell_type": "code",
     "collapsed": false,
     "input": [
      "L2twiddle = (L2 + 3*L3*dz + 6*L4*dz**2)"
     ],
     "language": "python",
     "metadata": {},
     "outputs": [],
     "prompt_number": 226
    },
    {
     "cell_type": "code",
     "collapsed": false,
     "input": [
      "L2twiddle*U11"
     ],
     "language": "python",
     "metadata": {},
     "outputs": [
      {
       "latex": [
        "$$\\left[\\begin{smallmatrix}{}0\\\\0\\\\0\\\\\\frac{1}{R_{m}}\\end{smallmatrix}\\right]$$"
       ],
       "metadata": {},
       "output_type": "pyout",
       "png": "[encoded data removed]",
       "prompt_number": 227,
       "text": [
        "\u23a1 0 \u23a4\n",
        "\u23a2   \u23a5\n",
        "\u23a2 0 \u23a5\n",
        "\u23a2   \u23a5\n",
        "\u23a2 0 \u23a5\n",
        "\u23a2   \u23a5\n",
        "\u23a2 1 \u23a5\n",
        "\u23a2\u2500\u2500\u2500\u23a5\n",
        "\u23a3R_m\u23a6"
       ]
      }
     ],
     "prompt_number": 227
    },
    {
     "cell_type": "code",
     "collapsed": false,
     "input": [
      "X = Matrix([[0, 0, Co*dx**2, 0],\n",
      "            [0, 0, 0, Co],\n",
      "            [1, 0, 0, 0],\n",
      "            [0, 1, 0, 0]])"
     ],
     "language": "python",
     "metadata": {},
     "outputs": [],
     "prompt_number": 228
    },
    {
     "cell_type": "code",
     "collapsed": false,
     "input": [
      "X*U11"
     ],
     "language": "python",
     "metadata": {},
     "outputs": [
      {
       "latex": [
        "$$\\left[\\begin{smallmatrix}{}0\\\\Co\\\\0\\\\0\\end{smallmatrix}\\right]$$"
       ],
       "metadata": {},
       "output_type": "pyout",
       "png": "[encoded data removed]",
       "prompt_number": 229,
       "text": [
        "\u23a10 \u23a4\n",
        "\u23a2  \u23a5\n",
        "\u23a2Co\u23a5\n",
        "\u23a2  \u23a5\n",
        "\u23a20 \u23a5\n",
        "\u23a2  \u23a5\n",
        "\u23a30 \u23a6"
       ]
      }
     ],
     "prompt_number": 229
    },
    {
     "cell_type": "code",
     "collapsed": false,
     "input": [
      "V30 = Matrix([psi30, u30, A30, B30])\n",
      "V30"
     ],
     "language": "python",
     "metadata": {},
     "outputs": [
      {
       "latex": [
        "$$\\left[\\begin{smallmatrix}{}\\psi_{30}\\\\u_{30}\\\\A_{30}\\\\B_{30}\\end{smallmatrix}\\right]$$"
       ],
       "metadata": {},
       "output_type": "pyout",
       "png": "[encoded data removed]",
       "prompt_number": 230,
       "text": [
        "\u23a1\u03c8\u2083\u2080\u23a4\n",
        "\u23a2   \u23a5\n",
        "\u23a2u\u2083\u2080\u23a5\n",
        "\u23a2   \u23a5\n",
        "\u23a2A\u2083\u2080\u23a5\n",
        "\u23a2   \u23a5\n",
        "\u23a3B\u2083\u2080\u23a6"
       ]
      }
     ],
     "prompt_number": 230
    },
    {
     "cell_type": "code",
     "collapsed": false,
     "input": [
      "(L*V30).subs(dz, 0)\n"
     ],
     "language": "python",
     "metadata": {},
     "outputs": [
      {
       "latex": [
        "$$\\left[\\begin{smallmatrix}{}\\frac{d_{x}^{4} \\psi_{30}}{R}\\\\\\frac{d_{x}^{2} u_{30}}{R}\\\\\\frac{A_{30} d_{x}^{2}}{R_{m}}\\\\\\frac{B_{30} d_{x}^{2}}{R_{m}}\\end{smallmatrix}\\right]$$"
       ],
       "metadata": {},
       "output_type": "pyout",
       "png": "[encoded data removed]",
       "prompt_number": 231,
       "text": [
        "\u23a1  4    \u23a4\n",
        "\u23a2d\u2093 \u22c5\u03c8\u2083\u2080\u23a5\n",
        "\u23a2\u2500\u2500\u2500\u2500\u2500\u2500\u2500\u23a5\n",
        "\u23a2   R   \u23a5\n",
        "\u23a2       \u23a5\n",
        "\u23a2  2    \u23a5\n",
        "\u23a2d\u2093 \u22c5u\u2083\u2080\u23a5\n",
        "\u23a2\u2500\u2500\u2500\u2500\u2500\u2500\u2500\u23a5\n",
        "\u23a2   R   \u23a5\n",
        "\u23a2       \u23a5\n",
        "\u23a2      2\u23a5\n",
        "\u23a2A\u2083\u2080\u22c5d\u2093 \u23a5\n",
        "\u23a2\u2500\u2500\u2500\u2500\u2500\u2500\u2500\u23a5\n",
        "\u23a2  R_m  \u23a5\n",
        "\u23a2       \u23a5\n",
        "\u23a2      2\u23a5\n",
        "\u23a2B\u2083\u2080\u22c5d\u2093 \u23a5\n",
        "\u23a2\u2500\u2500\u2500\u2500\u2500\u2500\u2500\u23a5\n",
        "\u23a3  R_m  \u23a6"
       ]
      }
     ],
     "prompt_number": 231
    },
    {
     "cell_type": "code",
     "collapsed": false,
     "input": [
      "D*U11"
     ],
     "language": "python",
     "metadata": {},
     "outputs": [
      {
       "latex": [
        "$$\\left[\\begin{smallmatrix}{}0\\\\0\\\\0\\\\1\\end{smallmatrix}\\right]$$"
       ],
       "metadata": {},
       "output_type": "pyout",
       "png": "[encoded data removed]",
       "prompt_number": 232,
       "text": [
        "\u23a10\u23a4\n",
        "\u23a2 \u23a5\n",
        "\u23a20\u23a5\n",
        "\u23a2 \u23a5\n",
        "\u23a20\u23a5\n",
        "\u23a2 \u23a5\n",
        "\u23a31\u23a6"
       ]
      }
     ],
     "prompt_number": 232
    },
    {
     "cell_type": "code",
     "collapsed": false,
     "input": [
      "(L1twiddle*V20).subs(dz, 0)"
     ],
     "language": "python",
     "metadata": {},
     "outputs": [
      {
       "latex": [
        "$$\\left[\\begin{smallmatrix}{}A_{20} Co d_{x}^{2} + 2 u_{20}\\\\B_{20} Co + \\psi_{20} \\left(q - 2\\right)\\\\\\psi_{20}\\\\- A_{20} q + u_{20}\\end{smallmatrix}\\right]$$"
       ],
       "metadata": {},
       "output_type": "pyout",
       "png": "[encoded data removed]",
       "prompt_number": 233,
       "text": [
        "\u23a1          2         \u23a4\n",
        "\u23a2 A\u2082\u2080\u22c5Co\u22c5d\u2093  + 2\u22c5u\u2082\u2080 \u23a5\n",
        "\u23a2                    \u23a5\n",
        "\u23a2B\u2082\u2080\u22c5Co + \u03c8\u2082\u2080\u22c5(q - 2)\u23a5\n",
        "\u23a2                    \u23a5\n",
        "\u23a2        \u03c8\u2082\u2080         \u23a5\n",
        "\u23a2                    \u23a5\n",
        "\u23a3    -A\u2082\u2080\u22c5q + u\u2082\u2080    \u23a6"
       ]
      }
     ],
     "prompt_number": 233
    },
    {
     "cell_type": "code",
     "collapsed": false,
     "input": [
      "(L1twiddle*U20).subs(dz, 0)"
     ],
     "language": "python",
     "metadata": {},
     "outputs": [
      {
       "latex": [
        "$$\\left[\\begin{smallmatrix}{}2 u_{20}\\\\0\\\\0\\\\u_{20}\\end{smallmatrix}\\right]$$"
       ],
       "metadata": {},
       "output_type": "pyout",
       "png": "[encoded data removed]",
       "prompt_number": 234,
       "text": [
        "\u23a12\u22c5u\u2082\u2080\u23a4\n",
        "\u23a2     \u23a5\n",
        "\u23a2  0  \u23a5\n",
        "\u23a2     \u23a5\n",
        "\u23a2  0  \u23a5\n",
        "\u23a2     \u23a5\n",
        "\u23a3 u\u2082\u2080 \u23a6"
       ]
      }
     ],
     "prompt_number": 234
    },
    {
     "cell_type": "code",
     "collapsed": false,
     "input": [
      "(L2*U11).subs(dz, 0)"
     ],
     "language": "python",
     "metadata": {},
     "outputs": [
      {
       "latex": [
        "$$\\left[\\begin{smallmatrix}{}0\\\\0\\\\0\\\\\\frac{1}{R_{m}}\\end{smallmatrix}\\right]$$"
       ],
       "metadata": {},
       "output_type": "pyout",
       "png": "[encoded data removed]",
       "prompt_number": 235,
       "text": [
        "\u23a1 0 \u23a4\n",
        "\u23a2   \u23a5\n",
        "\u23a2 0 \u23a5\n",
        "\u23a2   \u23a5\n",
        "\u23a2 0 \u23a5\n",
        "\u23a2   \u23a5\n",
        "\u23a2 1 \u23a5\n",
        "\u23a2\u2500\u2500\u2500\u23a5\n",
        "\u23a3R_m\u23a6"
       ]
      }
     ],
     "prompt_number": 235
    },
    {
     "cell_type": "code",
     "collapsed": false,
     "input": [
      "X*U11"
     ],
     "language": "python",
     "metadata": {},
     "outputs": [
      {
       "latex": [
        "$$\\left[\\begin{smallmatrix}{}0\\\\Co\\\\0\\\\0\\end{smallmatrix}\\right]$$"
       ],
       "metadata": {},
       "output_type": "pyout",
       "png": "[encoded data removed]",
       "prompt_number": 236,
       "text": [
        "\u23a10 \u23a4\n",
        "\u23a2  \u23a5\n",
        "\u23a2Co\u23a5\n",
        "\u23a2  \u23a5\n",
        "\u23a20 \u23a5\n",
        "\u23a2  \u23a5\n",
        "\u23a30 \u23a6"
       ]
      }
     ],
     "prompt_number": 236
    },
    {
     "cell_type": "code",
     "collapsed": false,
     "input": [
      "L1*V20"
     ],
     "language": "python",
     "metadata": {},
     "outputs": [
      {
       "latex": [
        "$$\\left[\\begin{smallmatrix}{}A_{20} Co d_{x}^{2} + 2 u_{20}\\\\B_{20} Co + \\psi_{20} \\left(q - 2\\right)\\\\\\psi_{20}\\\\- A_{20} q + u_{20}\\end{smallmatrix}\\right]$$"
       ],
       "metadata": {},
       "output_type": "pyout",
       "png": "[encoded data removed]",
       "prompt_number": 237,
       "text": [
        "\u23a1          2         \u23a4\n",
        "\u23a2 A\u2082\u2080\u22c5Co\u22c5d\u2093  + 2\u22c5u\u2082\u2080 \u23a5\n",
        "\u23a2                    \u23a5\n",
        "\u23a2B\u2082\u2080\u22c5Co + \u03c8\u2082\u2080\u22c5(q - 2)\u23a5\n",
        "\u23a2                    \u23a5\n",
        "\u23a2        \u03c8\u2082\u2080         \u23a5\n",
        "\u23a2                    \u23a5\n",
        "\u23a3    -A\u2082\u2080\u22c5q + u\u2082\u2080    \u23a6"
       ]
      }
     ],
     "prompt_number": 237
    },
    {
     "cell_type": "code",
     "collapsed": false,
     "input": [
      "L1"
     ],
     "language": "python",
     "metadata": {},
     "outputs": [
      {
       "latex": [
        "$$\\left[\\begin{smallmatrix}{}0 & 2 & Co d_{x}^{2} & 0\\\\q - 2 & 0 & 0 & Co\\\\1 & 0 & 0 & 0\\\\0 & 1 & - q & 0\\end{smallmatrix}\\right]$$"
       ],
       "metadata": {},
       "output_type": "pyout",
       "png": "[encoded data removed]",
       "prompt_number": 238,
       "text": [
        "\u23a1               2    \u23a4\n",
        "\u23a2  0    2  Co\u22c5d\u2093   0 \u23a5\n",
        "\u23a2                    \u23a5\n",
        "\u23a2q - 2  0    0     Co\u23a5\n",
        "\u23a2                    \u23a5\n",
        "\u23a2  1    0    0     0 \u23a5\n",
        "\u23a2                    \u23a5\n",
        "\u23a3  0    1    -q    0 \u23a6"
       ]
      }
     ],
     "prompt_number": 238
    },
    {
     "cell_type": "code",
     "collapsed": false,
     "input": [
      "(L2twiddle*V11).subs(dz, 1j*Q) - (L1twiddle*V21).subs(dz, 1j*Q)"
     ],
     "language": "python",
     "metadata": {},
     "outputs": [
      {
       "latex": [
        "$$\\left[\\begin{smallmatrix}{}3.0 i A Co Q - A_{21} \\left(- 3.0 Co Q^{2} + Co d_{x}^{2}\\right) + \\psi \\left(- \\frac{6.0 Q^{2}}{R} + \\frac{2 d_{x}^{2}}{R}\\right) - \\psi_{21} \\left(- \\frac{4.0 i}{R} Q^{3} + \\frac{4.0 i}{R} Q d_{x}^{2}\\right) - 2 u_{21}\\\\- B_{21} Co - \\frac{2.0 i}{R} Q u_{21} - \\psi_{21} \\left(q - 2\\right) + \\frac{u}{R}\\\\\\frac{A}{R_{m}} - \\frac{2.0 i}{R_{m}} A_{21} Q - \\psi_{21}\\\\A_{21} q + \\frac{B}{R_{m}} - \\frac{2.0 i}{R_{m}} B_{21} Q - u_{21}\\end{smallmatrix}\\right]$$"
       ],
       "metadata": {},
       "output_type": "pyout",
       "png": "[encoded data removed]",
       "prompt_number": 239,
       "text": [
        "\u23a1                                              \u239b       2       2\u239e       \u239b     \n",
        "\u23a2                   \u239b          2        2\u239e     \u239c  6.0\u22c5Q    2\u22c5d\u2093 \u239f       \u239c  4.0\n",
        "\u23a23.0\u22c5\u2148\u22c5A\u22c5Co\u22c5Q - A\u2082\u2081\u22c5\u239d- 3.0\u22c5Co\u22c5Q  + Co\u22c5d\u2093 \u23a0 + \u03c8\u22c5\u239c- \u2500\u2500\u2500\u2500\u2500\u2500 + \u2500\u2500\u2500\u2500\u2500\u239f - \u03c8\u2082\u2081\u22c5\u239c- \u2500\u2500\u2500\n",
        "\u23a2                                              \u239d    R        R  \u23a0       \u239d     \n",
        "\u23a2                                                                             \n",
        "\u23a2                                           2.0\u22c5\u2148\u22c5Q\u22c5u\u2082\u2081                 u     \n",
        "\u23a2                                 -B\u2082\u2081\u22c5Co - \u2500\u2500\u2500\u2500\u2500\u2500\u2500\u2500\u2500\u2500\u2500 - \u03c8\u2082\u2081\u22c5(q - 2) + \u2500     \n",
        "\u23a2                                                R                      R     \n",
        "\u23a2                                                                             \n",
        "\u23a2                                          A    2.0\u22c5\u2148\u22c5A\u2082\u2081\u22c5Q                   \n",
        "\u23a2                                         \u2500\u2500\u2500 - \u2500\u2500\u2500\u2500\u2500\u2500\u2500\u2500\u2500\u2500\u2500 - \u03c8\u2082\u2081             \n",
        "\u23a2                                         R_m       R_m                       \n",
        "\u23a2                                                                             \n",
        "\u23a2                                              B    2.0\u22c5\u2148\u22c5B\u2082\u2081\u22c5Q               \n",
        "\u23a2                                     A\u2082\u2081\u22c5q + \u2500\u2500\u2500 - \u2500\u2500\u2500\u2500\u2500\u2500\u2500\u2500\u2500\u2500\u2500 - u\u2082\u2081         \n",
        "\u23a3                                             R_m       R_m                   \n",
        "\n",
        "    3             2\u239e        \u23a4\n",
        "\u22c5\u2148\u22c5Q    4.0\u22c5\u2148\u22c5Q\u22c5d\u2093 \u239f        \u23a5\n",
        "\u2500\u2500\u2500\u2500\u2500 + \u2500\u2500\u2500\u2500\u2500\u2500\u2500\u2500\u2500\u2500\u2500\u239f - 2\u22c5u\u2082\u2081\u23a5\n",
        "R            R     \u23a0        \u23a5\n",
        "                            \u23a5\n",
        "                            \u23a5\n",
        "                            \u23a5\n",
        "                            \u23a5\n",
        "                            \u23a5\n",
        "                            \u23a5\n",
        "                            \u23a5\n",
        "                            \u23a5\n",
        "                            \u23a5\n",
        "                            \u23a5\n",
        "                            \u23a5\n",
        "                            \u23a6"
       ]
      }
     ],
     "prompt_number": 239
    },
    {
     "cell_type": "code",
     "collapsed": false,
     "input": [
      "V21"
     ],
     "language": "python",
     "metadata": {},
     "outputs": [
      {
       "latex": [
        "$$\\left[\\begin{smallmatrix}{}\\psi_{21}\\\\u_{21}\\\\A_{21}\\\\B_{21}\\end{smallmatrix}\\right]$$"
       ],
       "metadata": {},
       "output_type": "pyout",
       "png": "[encoded data removed]",
       "prompt_number": 240,
       "text": [
        "\u23a1\u03c8\u2082\u2081\u23a4\n",
        "\u23a2   \u23a5\n",
        "\u23a2u\u2082\u2081\u23a5\n",
        "\u23a2   \u23a5\n",
        "\u23a2A\u2082\u2081\u23a5\n",
        "\u23a2   \u23a5\n",
        "\u23a3B\u2082\u2081\u23a6"
       ]
      }
     ],
     "prompt_number": 240
    },
    {
     "cell_type": "code",
     "collapsed": false,
     "input": [
      "(-L*V21 + L1twiddle*V11).subs(dz, 1j*Q)"
     ],
     "language": "python",
     "metadata": {},
     "outputs": [
      {
       "latex": [
        "$$\\left[\\begin{smallmatrix}{}A \\left(- 3.0 Co Q^{2} + Co d_{x}^{2}\\right) + A_{21} \\left(1.0 i Co Q^{3} - 1.0 i Co Q d_{x}^{2}\\right) - 2.0 i Q u_{21} + \\psi \\left(- \\frac{4.0 i}{R} Q^{3} + \\frac{4.0 i}{R} Q d_{x}^{2}\\right) + \\psi_{21} \\left(- \\frac{1.0 Q^{4}}{R} + \\frac{2.0 Q^{2}}{R} d_{x}^{2} - \\frac{d_{x}^{4}}{R}\\right) + 2 u\\\\B Co - 1.0 i B_{21} Co Q - 1.0 i Q \\psi_{21} \\left(q - 2\\right) + \\frac{2.0 i}{R} Q u + \\psi \\left(q - 2\\right) + u_{21} \\left(\\frac{1.0 Q^{2}}{R} - \\frac{d_{x}^{2}}{R}\\right)\\\\\\frac{2.0 i}{R_{m}} A Q + A_{21} \\left(\\frac{1.0 Q^{2}}{R_{m}} - \\frac{d_{x}^{2}}{R_{m}}\\right) - 1.0 i Q \\psi_{21} + \\psi\\\\- A q + 1.0 i A_{21} Q q + \\frac{2.0 i}{R_{m}} B Q + B_{21} \\left(\\frac{1.0 Q^{2}}{R_{m}} - \\frac{d_{x}^{2}}{R_{m}}\\right) - 1.0 i Q u_{21} + u\\end{smallmatrix}\\right]$$"
       ],
       "metadata": {},
       "output_type": "pyout",
       "png": "[encoded data removed]",
       "prompt_number": 241,
       "text": [
        "\u23a1                                                                             \n",
        "\u23a2  \u239b          2        2\u239e       \u239b          3                2\u239e                \n",
        "\u23a2A\u22c5\u239d- 3.0\u22c5Co\u22c5Q  + Co\u22c5d\u2093 \u23a0 + A\u2082\u2081\u22c5\u239d1.0\u22c5\u2148\u22c5Co\u22c5Q  - 1.0\u22c5\u2148\u22c5Co\u22c5Q\u22c5d\u2093 \u23a0 - 2.0\u22c5\u2148\u22c5Q\u22c5u\u2082\u2081 +\n",
        "\u23a2                                                                             \n",
        "\u23a2                                                                             \n",
        "\u23a2                                                                             \n",
        "\u23a2                                                                            2\n",
        "\u23a2                              B\u22c5Co - 1.0\u22c5\u2148\u22c5B\u2082\u2081\u22c5Co\u22c5Q - 1.0\u22c5\u2148\u22c5Q\u22c5\u03c8\u2082\u2081\u22c5(q - 2) + \u2500\n",
        "\u23a2                                                                             \n",
        "\u23a2                                                                             \n",
        "\u23a2                                                                  \u239b     2    \n",
        "\u23a2                                                  2.0\u22c5\u2148\u22c5A\u22c5Q       \u239c1.0\u22c5Q    d\n",
        "\u23a2                                                  \u2500\u2500\u2500\u2500\u2500\u2500\u2500\u2500\u2500 + A\u2082\u2081\u22c5\u239c\u2500\u2500\u2500\u2500\u2500\u2500 - \u2500\n",
        "\u23a2                                                     R_m          \u239d R_m     R\n",
        "\u23a2                                                                             \n",
        "\u23a2                                                                             \n",
        "\u23a2                                                             2.0\u22c5\u2148\u22c5B\u22c5Q       \n",
        "\u23a2                                      -A\u22c5q + 1.0\u22c5\u2148\u22c5A\u2082\u2081\u22c5Q\u22c5q + \u2500\u2500\u2500\u2500\u2500\u2500\u2500\u2500\u2500 + B\u2082\u2081\u22c5\n",
        "\u23a3                                                                R_m          \n",
        "\n",
        "   \u239b         3             2\u239e       \u239b       4        2   2     4\u239e      \u23a4\n",
        "   \u239c  4.0\u22c5\u2148\u22c5Q    4.0\u22c5\u2148\u22c5Q\u22c5d\u2093 \u239f       \u239c  1.0\u22c5Q    2.0\u22c5Q \u22c5d\u2093    d\u2093 \u239f      \u23a5\n",
        " \u03c8\u22c5\u239c- \u2500\u2500\u2500\u2500\u2500\u2500\u2500\u2500 + \u2500\u2500\u2500\u2500\u2500\u2500\u2500\u2500\u2500\u2500\u2500\u239f + \u03c8\u2082\u2081\u22c5\u239c- \u2500\u2500\u2500\u2500\u2500\u2500 + \u2500\u2500\u2500\u2500\u2500\u2500\u2500\u2500\u2500\u2500 - \u2500\u2500\u2500\u239f + 2\u22c5u\u23a5\n",
        "   \u239d     R            R     \u23a0       \u239d    R          R         R \u23a0      \u23a5\n",
        "                                                                       \u23a5\n",
        "                           \u239b     2     2\u239e                              \u23a5\n",
        ".0\u22c5\u2148\u22c5Q\u22c5u                   \u239c1.0\u22c5Q    d\u2093 \u239f                              \u23a5\n",
        "\u2500\u2500\u2500\u2500\u2500\u2500\u2500\u2500 + \u03c8\u22c5(q - 2) + u\u2082\u2081\u22c5\u239c\u2500\u2500\u2500\u2500\u2500\u2500 - \u2500\u2500\u2500\u239f                              \u23a5\n",
        "   R                       \u239d  R       R \u23a0                              \u23a5\n",
        "                                                                       \u23a5\n",
        " 2\u239e                                                                    \u23a5\n",
        "\u2093 \u239f                                                                    \u23a5\n",
        "\u2500\u2500\u239f - 1.0\u22c5\u2148\u22c5Q\u22c5\u03c8\u2082\u2081 + \u03c8                                                  \u23a5\n",
        "_m\u23a0                                                                    \u23a5\n",
        "                                                                       \u23a5\n",
        "\u239b     2     2\u239e                                                         \u23a5\n",
        "\u239c1.0\u22c5Q    d\u2093 \u239f                                                         \u23a5\n",
        "\u239c\u2500\u2500\u2500\u2500\u2500\u2500 - \u2500\u2500\u2500\u239f - 1.0\u22c5\u2148\u22c5Q\u22c5u\u2082\u2081 + u                                       \u23a5\n",
        "\u239d R_m     R_m\u23a0                                                         \u23a6"
       ]
      }
     ],
     "prompt_number": 241
    },
    {
     "cell_type": "code",
     "collapsed": false,
     "input": [
      "(L2twiddle*V11 - L1twiddle*V21).subs(dz, 1j*Q)"
     ],
     "language": "python",
     "metadata": {},
     "outputs": [
      {
       "latex": [
        "$$\\left[\\begin{smallmatrix}{}3.0 i A Co Q - A_{21} \\left(- 3.0 Co Q^{2} + Co d_{x}^{2}\\right) + \\psi \\left(- \\frac{6.0 Q^{2}}{R} + \\frac{2 d_{x}^{2}}{R}\\right) - \\psi_{21} \\left(- \\frac{4.0 i}{R} Q^{3} + \\frac{4.0 i}{R} Q d_{x}^{2}\\right) - 2 u_{21}\\\\- B_{21} Co - \\frac{2.0 i}{R} Q u_{21} - \\psi_{21} \\left(q - 2\\right) + \\frac{u}{R}\\\\\\frac{A}{R_{m}} - \\frac{2.0 i}{R_{m}} A_{21} Q - \\psi_{21}\\\\A_{21} q + \\frac{B}{R_{m}} - \\frac{2.0 i}{R_{m}} B_{21} Q - u_{21}\\end{smallmatrix}\\right]$$"
       ],
       "metadata": {},
       "output_type": "pyout",
       "png": "[encoded data removed]",
       "prompt_number": 242,
       "text": [
        "\u23a1                                              \u239b       2       2\u239e       \u239b     \n",
        "\u23a2                   \u239b          2        2\u239e     \u239c  6.0\u22c5Q    2\u22c5d\u2093 \u239f       \u239c  4.0\n",
        "\u23a23.0\u22c5\u2148\u22c5A\u22c5Co\u22c5Q - A\u2082\u2081\u22c5\u239d- 3.0\u22c5Co\u22c5Q  + Co\u22c5d\u2093 \u23a0 + \u03c8\u22c5\u239c- \u2500\u2500\u2500\u2500\u2500\u2500 + \u2500\u2500\u2500\u2500\u2500\u239f - \u03c8\u2082\u2081\u22c5\u239c- \u2500\u2500\u2500\n",
        "\u23a2                                              \u239d    R        R  \u23a0       \u239d     \n",
        "\u23a2                                                                             \n",
        "\u23a2                                           2.0\u22c5\u2148\u22c5Q\u22c5u\u2082\u2081                 u     \n",
        "\u23a2                                 -B\u2082\u2081\u22c5Co - \u2500\u2500\u2500\u2500\u2500\u2500\u2500\u2500\u2500\u2500\u2500 - \u03c8\u2082\u2081\u22c5(q - 2) + \u2500     \n",
        "\u23a2                                                R                      R     \n",
        "\u23a2                                                                             \n",
        "\u23a2                                          A    2.0\u22c5\u2148\u22c5A\u2082\u2081\u22c5Q                   \n",
        "\u23a2                                         \u2500\u2500\u2500 - \u2500\u2500\u2500\u2500\u2500\u2500\u2500\u2500\u2500\u2500\u2500 - \u03c8\u2082\u2081             \n",
        "\u23a2                                         R_m       R_m                       \n",
        "\u23a2                                                                             \n",
        "\u23a2                                              B    2.0\u22c5\u2148\u22c5B\u2082\u2081\u22c5Q               \n",
        "\u23a2                                     A\u2082\u2081\u22c5q + \u2500\u2500\u2500 - \u2500\u2500\u2500\u2500\u2500\u2500\u2500\u2500\u2500\u2500\u2500 - u\u2082\u2081         \n",
        "\u23a3                                             R_m       R_m                   \n",
        "\n",
        "    3             2\u239e        \u23a4\n",
        "\u22c5\u2148\u22c5Q    4.0\u22c5\u2148\u22c5Q\u22c5d\u2093 \u239f        \u23a5\n",
        "\u2500\u2500\u2500\u2500\u2500 + \u2500\u2500\u2500\u2500\u2500\u2500\u2500\u2500\u2500\u2500\u2500\u239f - 2\u22c5u\u2082\u2081\u23a5\n",
        "R            R     \u23a0        \u23a5\n",
        "                            \u23a5\n",
        "                            \u23a5\n",
        "                            \u23a5\n",
        "                            \u23a5\n",
        "                            \u23a5\n",
        "                            \u23a5\n",
        "                            \u23a5\n",
        "                            \u23a5\n",
        "                            \u23a5\n",
        "                            \u23a5\n",
        "                            \u23a5\n",
        "                            \u23a6"
       ]
      }
     ],
     "prompt_number": 242
    },
    {
     "cell_type": "code",
     "collapsed": false,
     "input": [
      "L"
     ],
     "language": "python",
     "metadata": {},
     "outputs": [
      {
       "latex": [
        "$$\\left[\\begin{smallmatrix}{}\\frac{d_{x}^{4}}{R} + \\frac{2 d_{x}^{2}}{R} d_{z}^{2} + \\frac{d_{z}^{4}}{R} & 2 d_{z} & Co d_{x}^{2} d_{z} + Co d_{z}^{3} & 0\\\\d_{z} \\left(q - 2\\right) & \\frac{d_{x}^{2}}{R} + \\frac{d_{z}^{2}}{R} & 0 & Co d_{z}\\\\d_{z} & 0 & \\frac{d_{x}^{2}}{R_{m}} + \\frac{d_{z}^{2}}{R_{m}} & 0\\\\0 & d_{z} & - d_{z} q & \\frac{d_{x}^{2}}{R_{m}} + \\frac{d_{z}^{2}}{R_{m}}\\end{smallmatrix}\\right]$$"
       ],
       "metadata": {},
       "output_type": "pyout",
       "png": "[encoded data removed]",
       "prompt_number": 243,
       "text": [
        "\u23a1  4       2    2      4                                              \u23a4\n",
        "\u23a2d\u2093    2\u22c5d\u2093 \u22c5d_z    d_z                    2             3            \u23a5\n",
        "\u23a2\u2500\u2500\u2500 + \u2500\u2500\u2500\u2500\u2500\u2500\u2500\u2500\u2500\u2500 + \u2500\u2500\u2500\u2500    2\u22c5d_z     Co\u22c5d\u2093 \u22c5d_z + Co\u22c5d_z       0     \u23a5\n",
        "\u23a2 R        R         R                                                \u23a5\n",
        "\u23a2                                                                     \u23a5\n",
        "\u23a2                           2      2                                  \u23a5\n",
        "\u23a2                         d\u2093    d_z                                   \u23a5\n",
        "\u23a2      d_z\u22c5(q - 2)        \u2500\u2500\u2500 + \u2500\u2500\u2500\u2500           0              Co\u22c5d_z  \u23a5\n",
        "\u23a2                          R     R                                    \u23a5\n",
        "\u23a2                                                                     \u23a5\n",
        "\u23a2                                            2      2                 \u23a5\n",
        "\u23a2                                          d\u2093    d_z                  \u23a5\n",
        "\u23a2          d_z                0            \u2500\u2500\u2500 + \u2500\u2500\u2500\u2500           0     \u23a5\n",
        "\u23a2                                          R_m   R_m                  \u23a5\n",
        "\u23a2                                                                     \u23a5\n",
        "\u23a2                                                             2      2\u23a5\n",
        "\u23a2                                                           d\u2093    d_z \u23a5\n",
        "\u23a2           0                d_z             -d_z\u22c5q         \u2500\u2500\u2500 + \u2500\u2500\u2500\u2500\u23a5\n",
        "\u23a3                                                           R_m   R_m \u23a6"
       ]
      }
     ],
     "prompt_number": 243
    },
    {
     "cell_type": "code",
     "collapsed": false,
     "input": [
      "L = L0 + L1*dz + L2*dz**2 + L3*dz**3 + L4*dz**4\n",
      "L"
     ],
     "language": "python",
     "metadata": {},
     "outputs": [
      {
       "latex": [
        "$$\\left[\\begin{smallmatrix}{}\\frac{d_{x}^{4}}{R} + \\frac{2 d_{x}^{2}}{R} d_{z}^{2} + \\frac{d_{z}^{4}}{R} & 2 d_{z} & Co d_{x}^{2} d_{z} + Co d_{z}^{3} & 0\\\\d_{z} \\left(q - 2\\right) & \\frac{d_{x}^{2}}{R} + \\frac{d_{z}^{2}}{R} & 0 & Co d_{z}\\\\d_{z} & 0 & \\frac{d_{x}^{2}}{R_{m}} + \\frac{d_{z}^{2}}{R_{m}} & 0\\\\0 & d_{z} & - d_{z} q & \\frac{d_{x}^{2}}{R_{m}} + \\frac{d_{z}^{2}}{R_{m}}\\end{smallmatrix}\\right]$$"
       ],
       "metadata": {},
       "output_type": "pyout",
       "png": "[encoded data removed]",
       "prompt_number": 248,
       "text": [
        "\u23a1  4       2    2      4                                              \u23a4\n",
        "\u23a2d\u2093    2\u22c5d\u2093 \u22c5d_z    d_z                    2             3            \u23a5\n",
        "\u23a2\u2500\u2500\u2500 + \u2500\u2500\u2500\u2500\u2500\u2500\u2500\u2500\u2500\u2500 + \u2500\u2500\u2500\u2500    2\u22c5d_z     Co\u22c5d\u2093 \u22c5d_z + Co\u22c5d_z       0     \u23a5\n",
        "\u23a2 R        R         R                                                \u23a5\n",
        "\u23a2                                                                     \u23a5\n",
        "\u23a2                           2      2                                  \u23a5\n",
        "\u23a2                         d\u2093    d_z                                   \u23a5\n",
        "\u23a2      d_z\u22c5(q - 2)        \u2500\u2500\u2500 + \u2500\u2500\u2500\u2500           0              Co\u22c5d_z  \u23a5\n",
        "\u23a2                          R     R                                    \u23a5\n",
        "\u23a2                                                                     \u23a5\n",
        "\u23a2                                            2      2                 \u23a5\n",
        "\u23a2                                          d\u2093    d_z                  \u23a5\n",
        "\u23a2          d_z                0            \u2500\u2500\u2500 + \u2500\u2500\u2500\u2500           0     \u23a5\n",
        "\u23a2                                          R_m   R_m                  \u23a5\n",
        "\u23a2                                                                     \u23a5\n",
        "\u23a2                                                             2      2\u23a5\n",
        "\u23a2                                                           d\u2093    d_z \u23a5\n",
        "\u23a2           0                d_z             -d_z\u22c5q         \u2500\u2500\u2500 + \u2500\u2500\u2500\u2500\u23a5\n",
        "\u23a3                                                           R_m   R_m \u23a6"
       ]
      }
     ],
     "prompt_number": 248
    },
    {
     "cell_type": "code",
     "collapsed": false,
     "input": [
      "LT =  L.subs(dz, 1j*Q).adjoint()"
     ],
     "language": "python",
     "metadata": {},
     "outputs": [],
     "prompt_number": 244
    },
    {
     "cell_type": "code",
     "collapsed": false,
     "input": [
      "-LT*VT"
     ],
     "language": "python",
     "metadata": {},
     "outputs": [
      {
       "latex": [
        "$$\\left[\\begin{smallmatrix}{}1.0 i A Q + 1.0 i Q u \\left(q - 2\\right) + \\psi \\left(- \\frac{1.0 Q^{4}}{R} + \\frac{2.0 Q^{2}}{R} d_{x}^{2} - \\frac{d_{x}^{4}}{R}\\right)\\\\1.0 i B Q + 2.0 i Q \\psi + u \\left(\\frac{1.0 Q^{2}}{R} - \\frac{d_{x}^{2}}{R}\\right)\\\\A \\left(\\frac{1.0 Q^{2}}{R_{m}} - \\frac{d_{x}^{2}}{R_{m}}\\right) - 1.0 i B Q q + \\psi \\left(- 1.0 i Co Q^{3} + 1.0 i Co Q d_{x}^{2}\\right)\\\\B \\left(\\frac{1.0 Q^{2}}{R_{m}} - \\frac{d_{x}^{2}}{R_{m}}\\right) + 1.0 i Co Q u\\end{smallmatrix}\\right]$$"
       ],
       "metadata": {},
       "output_type": "pyout",
       "png": "[encoded data removed]",
       "prompt_number": 245,
       "text": [
        "\u23a1                                    \u239b       4        2   2     4\u239e  \u23a4\n",
        "\u23a2                                    \u239c  1.0\u22c5Q    2.0\u22c5Q \u22c5d\u2093    d\u2093 \u239f  \u23a5\n",
        "\u23a2  1.0\u22c5\u2148\u22c5A\u22c5Q + 1.0\u22c5\u2148\u22c5Q\u22c5u\u22c5(q - 2) + \u03c8\u22c5\u239c- \u2500\u2500\u2500\u2500\u2500\u2500 + \u2500\u2500\u2500\u2500\u2500\u2500\u2500\u2500\u2500\u2500 - \u2500\u2500\u2500\u239f  \u23a5\n",
        "\u23a2                                    \u239d    R          R         R \u23a0  \u23a5\n",
        "\u23a2                                                                   \u23a5\n",
        "\u23a2                                       \u239b     2     2\u239e              \u23a5\n",
        "\u23a2                                       \u239c1.0\u22c5Q    d\u2093 \u239f              \u23a5\n",
        "\u23a2             1.0\u22c5\u2148\u22c5B\u22c5Q + 2.0\u22c5\u2148\u22c5Q\u22c5\u03c8 + u\u22c5\u239c\u2500\u2500\u2500\u2500\u2500\u2500 - \u2500\u2500\u2500\u239f              \u23a5\n",
        "\u23a2                                       \u239d  R       R \u23a0              \u23a5\n",
        "\u23a2                                                                   \u23a5\n",
        "\u23a2  \u239b     2     2\u239e                                                   \u23a5\n",
        "\u23a2  \u239c1.0\u22c5Q    d\u2093 \u239f                   \u239b            3                2\u239e\u23a5\n",
        "\u23a2A\u22c5\u239c\u2500\u2500\u2500\u2500\u2500\u2500 - \u2500\u2500\u2500\u239f - 1.0\u22c5\u2148\u22c5B\u22c5Q\u22c5q + \u03c8\u22c5\u239d- 1.0\u22c5\u2148\u22c5Co\u22c5Q  + 1.0\u22c5\u2148\u22c5Co\u22c5Q\u22c5d\u2093 \u23a0\u23a5\n",
        "\u23a2  \u239d R_m     R_m\u23a0                                                   \u23a5\n",
        "\u23a2                                                                   \u23a5\n",
        "\u23a2                    \u239b     2     2\u239e                                 \u23a5\n",
        "\u23a2                    \u239c1.0\u22c5Q    d\u2093 \u239f                                 \u23a5\n",
        "\u23a2                  B\u22c5\u239c\u2500\u2500\u2500\u2500\u2500\u2500 - \u2500\u2500\u2500\u239f + 1.0\u22c5\u2148\u22c5Co\u22c5Q\u22c5u                  \u23a5\n",
        "\u23a3                    \u239d R_m     R_m\u23a0                                 \u23a6"
       ]
      }
     ],
     "prompt_number": 245
    },
    {
     "cell_type": "code",
     "collapsed": false,
     "input": [
      "-1*L.adjoint().subs(dz, 1j*Q)*VT"
     ],
     "language": "python",
     "metadata": {},
     "outputs": [
      {
       "latex": [
        "$$\\left[\\begin{smallmatrix}{}- 1.0 i A Q - 1.0 i Q u \\left(q - 2\\right) + \\psi \\left(- \\frac{1.0 Q^{4}}{R} + \\frac{2.0 Q^{2}}{R} d_{x}^{2} - \\frac{d_{x}^{4}}{R}\\right)\\\\- 1.0 i B Q - 2.0 i Q \\psi + u \\left(\\frac{1.0 Q^{2}}{R} - \\frac{d_{x}^{2}}{R}\\right)\\\\A \\left(\\frac{1.0 Q^{2}}{R_{m}} - \\frac{d_{x}^{2}}{R_{m}}\\right) + 1.0 i B Q q + \\psi \\left(1.0 i Co Q^{3} - 1.0 i Co Q d_{x}^{2}\\right)\\\\B \\left(\\frac{1.0 Q^{2}}{R_{m}} - \\frac{d_{x}^{2}}{R_{m}}\\right) - 1.0 i Co Q u\\end{smallmatrix}\\right]$$"
       ],
       "metadata": {},
       "output_type": "pyout",
       "png": "[encoded data removed]",
       "prompt_number": 246,
       "text": [
        "\u23a1                                   \u239b       4        2   2     4\u239e \u23a4\n",
        "\u23a2                                   \u239c  1.0\u22c5Q    2.0\u22c5Q \u22c5d\u2093    d\u2093 \u239f \u23a5\n",
        "\u23a2-1.0\u22c5\u2148\u22c5A\u22c5Q - 1.0\u22c5\u2148\u22c5Q\u22c5u\u22c5(q - 2) + \u03c8\u22c5\u239c- \u2500\u2500\u2500\u2500\u2500\u2500 + \u2500\u2500\u2500\u2500\u2500\u2500\u2500\u2500\u2500\u2500 - \u2500\u2500\u2500\u239f \u23a5\n",
        "\u23a2                                   \u239d    R          R         R \u23a0 \u23a5\n",
        "\u23a2                                                                 \u23a5\n",
        "\u23a2                                       \u239b     2     2\u239e            \u23a5\n",
        "\u23a2                                       \u239c1.0\u22c5Q    d\u2093 \u239f            \u23a5\n",
        "\u23a2            -1.0\u22c5\u2148\u22c5B\u22c5Q - 2.0\u22c5\u2148\u22c5Q\u22c5\u03c8 + u\u22c5\u239c\u2500\u2500\u2500\u2500\u2500\u2500 - \u2500\u2500\u2500\u239f            \u23a5\n",
        "\u23a2                                       \u239d  R       R \u23a0            \u23a5\n",
        "\u23a2                                                                 \u23a5\n",
        "\u23a2  \u239b     2     2\u239e                                                 \u23a5\n",
        "\u23a2  \u239c1.0\u22c5Q    d\u2093 \u239f                   \u239b          3                2\u239e\u23a5\n",
        "\u23a2A\u22c5\u239c\u2500\u2500\u2500\u2500\u2500\u2500 - \u2500\u2500\u2500\u239f + 1.0\u22c5\u2148\u22c5B\u22c5Q\u22c5q + \u03c8\u22c5\u239d1.0\u22c5\u2148\u22c5Co\u22c5Q  - 1.0\u22c5\u2148\u22c5Co\u22c5Q\u22c5d\u2093 \u23a0\u23a5\n",
        "\u23a2  \u239d R_m     R_m\u23a0                                                 \u23a5\n",
        "\u23a2                                                                 \u23a5\n",
        "\u23a2                   \u239b     2     2\u239e                                \u23a5\n",
        "\u23a2                   \u239c1.0\u22c5Q    d\u2093 \u239f                                \u23a5\n",
        "\u23a2                 B\u22c5\u239c\u2500\u2500\u2500\u2500\u2500\u2500 - \u2500\u2500\u2500\u239f - 1.0\u22c5\u2148\u22c5Co\u22c5Q\u22c5u                 \u23a5\n",
        "\u23a3                   \u239d R_m     R_m\u23a0                                \u23a6"
       ]
      }
     ],
     "prompt_number": 246
    },
    {
     "cell_type": "code",
     "collapsed": false,
     "input": [],
     "language": "python",
     "metadata": {},
     "outputs": [
      {
       "latex": [
        "$$\\left[\\begin{smallmatrix}{}\\frac{d_{x}^{4}}{R} + \\frac{2 d_{x}^{2}}{R} d_{z}^{2} + \\frac{d_{z}^{4}}{R} & 2 d_{z} & Co d_{x}^{2} d_{z} + Co d_{z}^{3} & 0\\\\d_{z} \\left(q - 2\\right) & \\frac{d_{x}^{2}}{R} + \\frac{d_{z}^{2}}{R} & 0 & Co d_{z}\\\\d_{z} & 0 & \\frac{d_{x}^{2}}{R_{m}} + \\frac{d_{z}^{2}}{R_{m}} & 0\\\\0 & d_{z} & - d_{z} q & \\frac{d_{x}^{2}}{R_{m}} + \\frac{d_{z}^{2}}{R_{m}}\\end{smallmatrix}\\right]$$"
       ],
       "metadata": {},
       "output_type": "pyout",
       "png": "[encoded data removed]",
       "prompt_number": 247,
       "text": [
        "\u23a1  4       2    2      4                                              \u23a4\n",
        "\u23a2d\u2093    2\u22c5d\u2093 \u22c5d_z    d_z                    2             3            \u23a5\n",
        "\u23a2\u2500\u2500\u2500 + \u2500\u2500\u2500\u2500\u2500\u2500\u2500\u2500\u2500\u2500 + \u2500\u2500\u2500\u2500    2\u22c5d_z     Co\u22c5d\u2093 \u22c5d_z + Co\u22c5d_z       0     \u23a5\n",
        "\u23a2 R        R         R                                                \u23a5\n",
        "\u23a2                                                                     \u23a5\n",
        "\u23a2                           2      2                                  \u23a5\n",
        "\u23a2                         d\u2093    d_z                                   \u23a5\n",
        "\u23a2      d_z\u22c5(q - 2)        \u2500\u2500\u2500 + \u2500\u2500\u2500\u2500           0              Co\u22c5d_z  \u23a5\n",
        "\u23a2                          R     R                                    \u23a5\n",
        "\u23a2                                                                     \u23a5\n",
        "\u23a2                                            2      2                 \u23a5\n",
        "\u23a2                                          d\u2093    d_z                  \u23a5\n",
        "\u23a2          d_z                0            \u2500\u2500\u2500 + \u2500\u2500\u2500\u2500           0     \u23a5\n",
        "\u23a2                                          R_m   R_m                  \u23a5\n",
        "\u23a2                                                                     \u23a5\n",
        "\u23a2                                                             2      2\u23a5\n",
        "\u23a2                                                           d\u2093    d_z \u23a5\n",
        "\u23a2           0                d_z             -d_z\u22c5q         \u2500\u2500\u2500 + \u2500\u2500\u2500\u2500\u23a5\n",
        "\u23a3                                                           R_m   R_m \u23a6"
       ]
      }
     ],
     "prompt_number": 247
    },
    {
     "cell_type": "code",
     "collapsed": false,
     "input": [
      "L1twiddle*VT"
     ],
     "language": "python",
     "metadata": {},
     "outputs": [
      {
       "latex": [
        "$$\\left[\\begin{smallmatrix}{}A \\left(Co d_{x}^{2} + 3 Co d_{z}^{2}\\right) + \\psi \\left(\\frac{4 d_{z}}{R} d_{x}^{2} + \\frac{4 d_{z}^{3}}{R}\\right) + 2 u\\\\B Co + \\psi \\left(q - 2\\right) + \\frac{2 d_{z}}{R} u\\\\\\frac{2 A}{R_{m}} d_{z} + \\psi\\\\- A q + \\frac{2 B}{R_{m}} d_{z} + u\\end{smallmatrix}\\right]$$"
       ],
       "metadata": {},
       "output_type": "pyout",
       "png": "[encoded data removed]",
       "prompt_number": 252,
       "text": [
        "\u23a1                           \u239b    2            3\u239e      \u23a4\n",
        "\u23a2  \u239b     2           2\u239e     \u239c4\u22c5d\u2093 \u22c5d_z   4\u22c5d_z \u239f      \u23a5\n",
        "\u23a2A\u22c5\u239dCo\u22c5d\u2093  + 3\u22c5Co\u22c5d_z \u23a0 + \u03c8\u22c5\u239c\u2500\u2500\u2500\u2500\u2500\u2500\u2500\u2500\u2500 + \u2500\u2500\u2500\u2500\u2500\u2500\u239f + 2\u22c5u\u23a5\n",
        "\u23a2                           \u239d    R         R   \u23a0      \u23a5\n",
        "\u23a2                                                     \u23a5\n",
        "\u23a2                                2\u22c5d_z\u22c5u              \u23a5\n",
        "\u23a2             B\u22c5Co + \u03c8\u22c5(q - 2) + \u2500\u2500\u2500\u2500\u2500\u2500\u2500              \u23a5\n",
        "\u23a2                                   R                 \u23a5\n",
        "\u23a2                                                     \u23a5\n",
        "\u23a2                     2\u22c5A\u22c5d_z                         \u23a5\n",
        "\u23a2                     \u2500\u2500\u2500\u2500\u2500\u2500\u2500 + \u03c8                     \u23a5\n",
        "\u23a2                       R_m                           \u23a5\n",
        "\u23a2                                                     \u23a5\n",
        "\u23a2                        2\u22c5B\u22c5d_z                      \u23a5\n",
        "\u23a2                 -A\u22c5q + \u2500\u2500\u2500\u2500\u2500\u2500\u2500 + u                  \u23a5\n",
        "\u23a3                          R_m                        \u23a6"
       ]
      }
     ],
     "prompt_number": 252
    },
    {
     "cell_type": "code",
     "collapsed": false,
     "input": [
      "L1"
     ],
     "language": "python",
     "metadata": {},
     "outputs": [
      {
       "latex": [
        "$$\\left[\\begin{smallmatrix}{}0 & 2 & Co d_{x}^{2} & 0\\\\q - 2 & 0 & 0 & Co\\\\1 & 0 & 0 & 0\\\\0 & 1 & - q & 0\\end{smallmatrix}\\right]$$"
       ],
       "metadata": {},
       "output_type": "pyout",
       "png": "[encoded data removed]",
       "prompt_number": 253,
       "text": [
        "\u23a1               2    \u23a4\n",
        "\u23a2  0    2  Co\u22c5d\u2093   0 \u23a5\n",
        "\u23a2                    \u23a5\n",
        "\u23a2q - 2  0    0     Co\u23a5\n",
        "\u23a2                    \u23a5\n",
        "\u23a2  1    0    0     0 \u23a5\n",
        "\u23a2                    \u23a5\n",
        "\u23a3  0    1    -q    0 \u23a6"
       ]
      }
     ],
     "prompt_number": 253
    },
    {
     "cell_type": "code",
     "collapsed": false,
     "input": [
      "-L*VT"
     ],
     "language": "python",
     "metadata": {},
     "outputs": [
      {
       "latex": [
        "$$\\left[\\begin{smallmatrix}{}A \\left(- Co d_{x}^{2} d_{z} - Co d_{z}^{3}\\right) - 2 d_{z} u + \\psi \\left(- \\frac{d_{x}^{4}}{R} - \\frac{2 d_{x}^{2}}{R} d_{z}^{2} - \\frac{d_{z}^{4}}{R}\\right)\\\\- B Co d_{z} - d_{z} \\psi \\left(q - 2\\right) + u \\left(- \\frac{d_{x}^{2}}{R} - \\frac{d_{z}^{2}}{R}\\right)\\\\A \\left(- \\frac{d_{x}^{2}}{R_{m}} - \\frac{d_{z}^{2}}{R_{m}}\\right) - d_{z} \\psi\\\\A d_{z} q + B \\left(- \\frac{d_{x}^{2}}{R_{m}} - \\frac{d_{z}^{2}}{R_{m}}\\right) - d_{z} u\\end{smallmatrix}\\right]$$"
       ],
       "metadata": {},
       "output_type": "pyout",
       "png": "[encoded data removed]",
       "prompt_number": 255,
       "text": [
        "\u23a1                                         \u239b    4       2    2      4\u239e\u23a4\n",
        "\u23a2  \u239b       2             3\u239e               \u239c  d\u2093    2\u22c5d\u2093 \u22c5d_z    d_z \u239f\u23a5\n",
        "\u23a2A\u22c5\u239d- Co\u22c5d\u2093 \u22c5d_z - Co\u22c5d_z \u23a0 - 2\u22c5d_z\u22c5u + \u03c8\u22c5\u239c- \u2500\u2500\u2500 - \u2500\u2500\u2500\u2500\u2500\u2500\u2500\u2500\u2500\u2500 - \u2500\u2500\u2500\u2500\u239f\u23a5\n",
        "\u23a2                                         \u239d   R        R         R  \u23a0\u23a5\n",
        "\u23a2                                                                    \u23a5\n",
        "\u23a2                                          \u239b    2      2\u239e            \u23a5\n",
        "\u23a2                                          \u239c  d\u2093    d_z \u239f            \u23a5\n",
        "\u23a2            -B\u22c5Co\u22c5d_z - d_z\u22c5\u03c8\u22c5(q - 2) + u\u22c5\u239c- \u2500\u2500\u2500 - \u2500\u2500\u2500\u2500\u239f            \u23a5\n",
        "\u23a2                                          \u239d   R     R  \u23a0            \u23a5\n",
        "\u23a2                                                                    \u23a5\n",
        "\u23a2                        \u239b    2      2\u239e                              \u23a5\n",
        "\u23a2                        \u239c  d\u2093    d_z \u239f                              \u23a5\n",
        "\u23a2                      A\u22c5\u239c- \u2500\u2500\u2500 - \u2500\u2500\u2500\u2500\u239f - d_z\u22c5\u03c8                      \u23a5\n",
        "\u23a2                        \u239d  R_m   R_m \u23a0                              \u23a5\n",
        "\u23a2                                                                    \u23a5\n",
        "\u23a2                             \u239b    2      2\u239e                         \u23a5\n",
        "\u23a2                             \u239c  d\u2093    d_z \u239f                         \u23a5\n",
        "\u23a2                 A\u22c5d_z\u22c5q + B\u22c5\u239c- \u2500\u2500\u2500 - \u2500\u2500\u2500\u2500\u239f - d_z\u22c5u                 \u23a5\n",
        "\u23a3                             \u239d  R_m   R_m \u23a0                         \u23a6"
       ]
      }
     ],
     "prompt_number": 255
    },
    {
     "cell_type": "code",
     "collapsed": false,
     "input": [],
     "language": "python",
     "metadata": {},
     "outputs": []
    }
   ],
   "metadata": {}
  }
 ]
}