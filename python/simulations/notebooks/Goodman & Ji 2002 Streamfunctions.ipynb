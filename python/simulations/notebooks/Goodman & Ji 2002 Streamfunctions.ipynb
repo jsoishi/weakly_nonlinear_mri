{
 "cells": [
  {
   "cell_type": "code",
   "execution_count": 1,
   "metadata": {
    "collapsed": false
   },
   "outputs": [
    {
     "name": "stderr",
     "output_type": "stream",
     "text": [
      "/Users/susanclark/dedalus_upgraded/dedalus/lib/python3.4/site-packages/IPython/kernel/__init__.py:13: ShimWarning: The `IPython.kernel` package has been deprecated. You should import from ipykernel or jupyter_client instead.\n",
      "  \"You should import from ipykernel or jupyter_client instead.\", ShimWarning)\n"
     ]
    }
   ],
   "source": [
    "%matplotlib nbagg\n",
    "import time\n",
    "import h5py\n",
    "import matplotlib.pylab as plt\n",
    "import numpy as np\n",
    "import dedalus.public as de\n",
    "from dedalus.extras import flow_tools"
   ]
  },
  {
   "cell_type": "code",
   "execution_count": 2,
   "metadata": {
    "collapsed": true
   },
   "outputs": [],
   "source": [
    "import logging\n",
    "root = logging.root\n",
    "for h in root.handlers:\n",
    "    h.setLevel(\"INFO\")\n",
    "    \n",
    "logger = logging.getLogger(__name__)"
   ]
  },
  {
   "cell_type": "code",
   "execution_count": 3,
   "metadata": {
    "collapsed": true
   },
   "outputs": [],
   "source": [
    "nr = 128#256\n",
    "\n",
    "r_in = 5. # cm\n",
    "r_out = 3*r_in\n",
    "h = 10. # cm\n",
    "\n",
    "nu = 3.26e-3 # cm^2/s\n",
    "eta = 2000 # cm^2/s\n",
    "rho = 6 # g/cm^3\n",
    "B0 = 3000 # G"
   ]
  },
  {
   "cell_type": "code",
   "execution_count": 4,
   "metadata": {
    "collapsed": false
   },
   "outputs": [
    {
     "name": "stdout",
     "output_type": "stream",
     "text": [
      "Re_in = 487957.8476026697; Re_out = 58896.823006819046\n",
      "zeta bar = 0.062104757527239964\n"
     ]
    }
   ],
   "source": [
    "d = r_out - r_in\n",
    "eps = h/d\n",
    "K = np.pi/h * np.sqrt(1+eps**2)\n",
    "Omega_in = 314 # rad/s\n",
    "Omega_out = 37.9 # rad/s\n",
    "Re_in = Omega_in/(nu*K**2)\n",
    "Re_out = Omega_out/(nu*K**2)\n",
    "zeta_bar = 2*(r_out**2 * Omega_out - r_in**2 * Omega_in)/((r_out**2 - r_in**2)*np.sqrt(Omega_in*Omega_out))\n",
    "print(\"Re_in = {}; Re_out = {}\".format(Re_in,Re_out))\n",
    "print(\"zeta bar = {}\".format(zeta_bar))"
   ]
  },
  {
   "cell_type": "code",
   "execution_count": 5,
   "metadata": {
    "collapsed": true
   },
   "outputs": [],
   "source": [
    "r = de.Chebyshev('r',nr,interval=[r_in, r_out])\n",
    "domain = de.Domain([r])#,grid_dtype=np.double)\n",
    "\n",
    "nr2 = 192#384\n",
    "r2 = de.Chebyshev('r',nr2,interval=[r_in, r_out])\n",
    "domain2 = de.Domain([r2])#,grid_dtype=np.double)"
   ]
  },
  {
   "cell_type": "code",
   "execution_count": 6,
   "metadata": {
    "collapsed": true
   },
   "outputs": [],
   "source": [
    "r_g = r.grid()"
   ]
  },
  {
   "cell_type": "code",
   "execution_count": 7,
   "metadata": {
    "collapsed": false
   },
   "outputs": [],
   "source": [
    "c2 = (Omega_out - Omega_in)/(1/r_out**2 - 1/r_in**2)\n",
    "c1 = Omega_in - c2/r_in**2\n",
    "\n",
    "Omega = c1 + c2/r_g**2"
   ]
  },
  {
   "cell_type": "code",
   "execution_count": 8,
   "metadata": {
    "collapsed": true
   },
   "outputs": [],
   "source": [
    "omega = domain.new_field()\n",
    "vorticity = domain.new_field()\n",
    "r2_omega = domain.new_field()"
   ]
  },
  {
   "cell_type": "code",
   "execution_count": 9,
   "metadata": {
    "collapsed": false
   },
   "outputs": [
    {
     "name": "stdout",
     "output_type": "stream",
     "text": [
      "2016-05-05 15:08:23,986 problems 0/1 INFO :: Solving EVP with homogeneity tolerance of 1.000e-10\n",
      "2016-05-05 15:08:23,988 problems 0/1 INFO :: Solving EVP with homogeneity tolerance of 1.000e-10\n"
     ]
    }
   ],
   "source": [
    "variables = ['psi', 'u', 'A', 'B', 'psir', 'psirr', 'psirrr', 'ur', 'Ar', 'Br']\n",
    "gmri1 = de.EVP(domain,variables, 'sigma')\n",
    "gmri2 = de.EVP(domain2,variables, 'sigma')\n",
    "\n",
    "for gmri in [gmri1, gmri2]:\n",
    "    gmri.parameters['nu'] = nu\n",
    "    gmri.parameters['eta'] = eta\n",
    "    gmri.parameters['rho'] = rho\n",
    "    gmri.parameters['B0'] = B0\n",
    "    gmri.parameters['pi'] = np.pi\n",
    "    gmri.parameters['k'] = np.pi/h\n",
    "    gmri.parameters['c1'] = c1\n",
    "    gmri.parameters['c2'] = c2\n",
    "    #gmri.substitutions['u0'] = '(c1*r + c2/r)'\n",
    "    gmri.substitutions['ru0'] = '(r*r*c1 + c2)' # u0 = r Omega(r) = Ar + B/r\n",
    "    gmri.substitutions['rrdu0'] = '(c1*r*r-c2)' # du0/dr = A - B/r^2\n",
    "    gmri.substitutions['inv4pirho'] = '(1/(4*pi*rho))'\n",
    "    gmri.substitutions['psivisc'] = '(r**2*k**2*psir - r**3*k**2*psirr - 3*psir + 3*r*psirr - 2*r**2*psirrr + r**3*dr(psirrr) + r**3*k**4*psi + r**2*k**2*psir - r**3*k**2*psirr)'\n",
    "    gmri.substitutions['uvisc'] = '(r**2*dr(ur) + r*ur - r**2*k**2*u - u)'\n",
    "    gmri.substitutions['Avisc'] = '(r**2*dr(Ar) - r**2*k**2*A - Ar)'\n",
    "    gmri.substitutions['Bvisc'] = '(-r**2*k**2*B + r**2*dr(Br) + r*Br - B)'"
   ]
  },
  {
   "cell_type": "code",
   "execution_count": 10,
   "metadata": {
    "collapsed": false
   },
   "outputs": [],
   "source": [
    "for gmri in [gmri1, gmri2]:\n",
    "    gmri.add_equation(\"sigma*(r**3*k**2*psi + r**3*psirr - r**2*psir) - r**2*2*ru0*1j*k*u + r**3*inv4pirho*B0*1j*k**3*A + inv4pirho*B0*r**2*1j*k*Ar - inv4pirho*r**3*B0*1j*k*dr(Ar) - nu*psivisc = 0\")\n",
    "    gmri.add_equation(\"sigma*r**3*u + 1j*k*ru0*psi + 1j*k*rrdu0*psi - 1j*k*r**3*inv4pirho*B0*B - nu*r*uvisc = 0\") # correct 5/5\n",
    "    gmri.add_equation(\"sigma*r**2*A - r**2*B0*1j*k*psi - eta*Avisc = 0\")\n",
    "    gmri.add_equation(\"sigma*r**3*B + ru0*1j*k*A - r**3*B0*1j*k*u - 1j*k*rrdu0*A - eta*r*Bvisc = 0\") # correct 5/5"
   ]
  },
  {
   "cell_type": "code",
   "execution_count": 11,
   "metadata": {
    "collapsed": false
   },
   "outputs": [],
   "source": [
    "for gmri in [gmri1, gmri2]:\n",
    "    gmri.add_equation(\"dr(psi) - psir = 0\")\n",
    "    gmri.add_equation(\"dr(psir) - psirr = 0\")\n",
    "    gmri.add_equation(\"dr(psirr) - psirrr = 0\")\n",
    "    gmri.add_equation(\"dr(u) - ur = 0\")\n",
    "    gmri.add_equation(\"dr(A) - Ar = 0\")\n",
    "    gmri.add_equation(\"dr(B) - Br = 0\")"
   ]
  },
  {
   "cell_type": "code",
   "execution_count": 12,
   "metadata": {
    "collapsed": false
   },
   "outputs": [],
   "source": [
    "for gmri in [gmri1, gmri2]:\n",
    "    gmri.add_bc('left(u) = 0')\n",
    "    gmri.add_bc('right(u) = 0')\n",
    "    gmri.add_bc('left(psi) = 0')\n",
    "    gmri.add_bc('right(psi) = 0')\n",
    "    gmri.add_bc('left(A) = 0')\n",
    "    gmri.add_bc('right(A) = 0')\n",
    "    gmri.add_bc('left(psir) = 0')\n",
    "    gmri.add_bc('right(psir) = 0')\n",
    "    gmri.add_bc('left(B + r*Br) = 0')\n",
    "    gmri.add_bc('right(B + r*Br) = 0')"
   ]
  },
  {
   "cell_type": "code",
   "execution_count": 13,
   "metadata": {
    "collapsed": false
   },
   "outputs": [],
   "source": [
    "gmri_solver1 = gmri1.build_solver()\n",
    "gmri_solver2 = gmri2.build_solver()"
   ]
  },
  {
   "cell_type": "code",
   "execution_count": null,
   "metadata": {
    "collapsed": false
   },
   "outputs": [],
   "source": [
    "#gmri_solver1.problem.substitutions"
   ]
  },
  {
   "cell_type": "code",
   "execution_count": null,
   "metadata": {
    "collapsed": false
   },
   "outputs": [],
   "source": [
    "gmri_solver1.solve(gmri_solver1.pencils[0])\n",
    "gmri_solver2.solve(gmri_solver2.pencils[0])"
   ]
  },
  {
   "cell_type": "code",
   "execution_count": null,
   "metadata": {
    "collapsed": true
   },
   "outputs": [],
   "source": [
    "def discard_spurious_eigenvalues(lambda1, lambda2):\n",
    "\n",
    "    \"\"\"\n",
    "    lambda1 :: eigenvalues from low res run\n",
    "    lambda2 :: eigenvalues from high res run\n",
    "\n",
    "    Solves the linear eigenvalue problem for two different resolutions.\n",
    "    Returns trustworthy eigenvalues using nearest delta, from Boyd chapter 7.\n",
    "    \"\"\"\n",
    "\n",
    "    # Reverse engineer correct indices to make unsorted list from sorted\n",
    "    reverse_lambda1_indx = np.arange(len(lambda1)) \n",
    "    reverse_lambda2_indx = np.arange(len(lambda2))\n",
    "\n",
    "    lambda1_and_indx = np.asarray(list(zip(lambda1, reverse_lambda1_indx)))\n",
    "    lambda2_and_indx = np.asarray(list(zip(lambda2, reverse_lambda2_indx)))\n",
    "\n",
    "    # remove nans\n",
    "    lambda1_and_indx = lambda1_and_indx[np.isfinite(lambda1)]\n",
    "    lambda2_and_indx = lambda2_and_indx[np.isfinite(lambda2)]\n",
    "\n",
    "    # Sort lambda1 and lambda2 by real parts\n",
    "    lambda1_and_indx = lambda1_and_indx[np.argsort(lambda1_and_indx[:, 0].real)]\n",
    "    lambda2_and_indx = lambda2_and_indx[np.argsort(lambda2_and_indx[:, 0].real)]\n",
    "\n",
    "    lambda1_sorted = lambda1_and_indx[:, 0]\n",
    "    lambda2_sorted = lambda2_and_indx[:, 0]\n",
    "\n",
    "    # Compute sigmas from lower resolution run (gridnum = N1)\n",
    "    sigmas = np.zeros(len(lambda1_sorted))\n",
    "    sigmas[0] = np.abs(lambda1_sorted[0] - lambda1_sorted[1])\n",
    "    sigmas[1:-1] = [0.5*(np.abs(lambda1_sorted[j] - lambda1_sorted[j - 1]) + np.abs(lambda1_sorted[j + 1] - lambda1_sorted[j])) for j in range(1, len(lambda1_sorted) - 1)]\n",
    "    sigmas[-1] = np.abs(lambda1_sorted[-2] - lambda1_sorted[-1])\n",
    "\n",
    "    if not (np.isfinite(sigmas)).all():\n",
    "        print(\"WARNING: at least one eigenvalue spacings (sigmas) is non-finite (np.inf or np.nan)!\")\n",
    "\n",
    "    # Nearest delta\n",
    "    delta_near = np.array([np.nanmin(np.abs(lambda1_sorted[j] - lambda2_sorted)/sigmas[j]) for j in range(len(lambda1_sorted))])\n",
    "\n",
    "    # Discard eigenvalues with 1/delta_near < 10^6\n",
    "    lambda1_and_indx = lambda1_and_indx[np.where((1.0/delta_near) > 1E6)]\n",
    "    #print(lambda1_and_indx)\n",
    "\n",
    "    lambda1 = lambda1_and_indx[:, 0]\n",
    "    indx = lambda1_and_indx[:, 1]\n",
    "\n",
    "    return lambda1, indx"
   ]
  },
  {
   "cell_type": "code",
   "execution_count": null,
   "metadata": {
    "collapsed": true
   },
   "outputs": [],
   "source": [
    "# Discard spurious eigenvalues\n",
    "ev1 = gmri_solver1.eigenvalues\n",
    "ev2 = gmri_solver2.eigenvalues\n",
    "goodeigs, goodeigs_indices = discard_spurious_eigenvalues(ev1, ev2)"
   ]
  },
  {
   "cell_type": "code",
   "execution_count": null,
   "metadata": {
    "collapsed": false
   },
   "outputs": [],
   "source": [
    "goodeigs_index = np.nanargmax(goodeigs.real)\n",
    "marginal_mode_index = int(goodeigs_indices[goodeigs_index])\n",
    "\n",
    "gmri_solver1.set_state(marginal_mode_index)"
   ]
  },
  {
   "cell_type": "code",
   "execution_count": null,
   "metadata": {
    "collapsed": false
   },
   "outputs": [],
   "source": [
    "goodeigs[goodeigs_index]"
   ]
  },
  {
   "cell_type": "code",
   "execution_count": null,
   "metadata": {
    "collapsed": false
   },
   "outputs": [],
   "source": [
    "np.nanmin(np.abs(goodeigs.real))"
   ]
  },
  {
   "cell_type": "code",
   "execution_count": null,
   "metadata": {
    "collapsed": false
   },
   "outputs": [],
   "source": [
    "u = 1j*(np.pi/10)*(1/r_g)*gmri_solver1.state['psi']['g']\n",
    "v = gmri_solver1.state['u']['g']\n",
    "w = (-1/r_g)*gmri_solver1.state['psir']['g']\n",
    "Br = 1j*(np.pi/10)*(1/r_g)*gmri_solver1.state['A']['g']\n",
    "#Br = 1j*(np.pi/10)*(1/r_g)*gmri_solver1.state['A']['g']\n",
    "Bphi = gmri_solver1.state['B']['g']\n",
    "Bz = (-1/r_g)*gmri_solver1.state['Ar']['g']\n",
    "\n",
    "#scale_factor = 2.7/np.abs(v.real).max()\n",
    "#scale_factor = 2.7/v.max()\n",
    "scale_factor = 2.7/np.abs(v.real).max()\n",
    "print(\"scaling by {}\".format(scale_factor))\n",
    "print(v.real.max(), v.max())"
   ]
  },
  {
   "cell_type": "code",
   "execution_count": null,
   "metadata": {
    "collapsed": false
   },
   "outputs": [],
   "source": [
    "fig = plt.figure()\n",
    "plt.plot(r_g, v.real)\n",
    "plt.plot(r_g, v.imag)"
   ]
  },
  {
   "cell_type": "code",
   "execution_count": null,
   "metadata": {
    "collapsed": false
   },
   "outputs": [],
   "source": [
    "fig = plt.figure()\n",
    "ax1 = fig.add_subplot(221)\n",
    "ax2 = fig.add_subplot(222)\n",
    "ax3 = fig.add_subplot(223)\n",
    "ax4 = fig.add_subplot(224)\n",
    "ax1.plot(r_g, scale_factor*gmri_solver1.state['psi']['g'])\n",
    "ax1.set_title(r\"$\\Psi$\")\n",
    "ax2.plot(r_g, scale_factor*gmri_solver1.state['u']['g'])\n",
    "ax2.set_title(r\"$u$\")\n",
    "ax3.plot(r_g, scale_factor*gmri_solver1.state['A']['g'])\n",
    "ax3.set_title(r\"$A$\")\n",
    "ax4.plot(r_g, scale_factor*gmri_solver1.state['B']['g'])\n",
    "ax4.set_title(r\"$B$\")\n",
    "#plt.plot(r_g, Bphi*scale_factor*5)\n",
    "#plt.plot(r_g,scale_factor*Br.imag)\n",
    "#plt.plot(r_g, Br)\n",
    "#plt.plot(r_g, Bz)\n",
    "#plt.ylim(-0.4, 0.4)\n",
    "#Br*scale_factor"
   ]
  },
  {
   "cell_type": "code",
   "execution_count": null,
   "metadata": {
    "collapsed": false
   },
   "outputs": [],
   "source": [
    "len(v)"
   ]
  },
  {
   "cell_type": "code",
   "execution_count": null,
   "metadata": {
    "collapsed": false
   },
   "outputs": [],
   "source": [
    "plt.figure()\n",
    "plt.plot(r_g,scale_factor*v,'k',ls='--', color = \"red\")\n",
    "plt.plot(r_g,scale_factor*u/3.,'k',ls='dotted', color = \"orange\")\n",
    "plt.plot(r_g,scale_factor*w*0.07,'k',ls='-.', color = \"green\")\n",
    "plt.plot(r_g,scale_factor*Br/np.sqrt(4*np.pi*rho),'k', color = \"blue\")\n",
    "plt.plot(r_g,scale_factor*Bphi/np.sqrt(4*np.pi*rho)*5,'k',dashes=[2,4,8,4], color = \"purple\")\n",
    "plt.plot(r_g,scale_factor*Bz/np.sqrt(4*np.pi*rho),'k',dashes=[4,4], color = \"pink\")\n",
    "plt.xlabel('r', fontsize=18)\n",
    "plt.ylabel('f', fontsize=18)\n",
    "plt.axvspan(4, 5, alpha=0.5, color='red')\n",
    "plt.axvspan(15, 16, alpha=0.5, color='red')\n",
    "\n",
    "plt.xlim(4,16)\n",
    "#plt.ylim(-0.4,0.4)\n",
    "#plt.ylim(-0.3, 0.3)\n",
    "#plt.ylim(-0.4,0.4)"
   ]
  },
  {
   "cell_type": "code",
   "execution_count": null,
   "metadata": {
    "collapsed": false
   },
   "outputs": [],
   "source": [
    "plt.figure()\n",
    "plt.plot(r_g,scale_factor*v,'b',ls='--')\n",
    "plt.plot(r_g,scale_factor*u/3,'k',ls='dotted')\n",
    "plt.plot(r_g,scale_factor*w*0.07,'k',ls='-.')\n",
    "plt.plot(r_g,scale_factor*Br/np.sqrt(4*np.pi*rho),'k')\n",
    "plt.plot(r_g,scale_factor*Bphi/np.sqrt(4*np.pi*rho)*5,'k',dashes=[2,4,8,4])\n",
    "plt.plot(r_g,scale_factor*Bz/np.sqrt(4*np.pi*rho),'k',dashes=[4,4])\n",
    "plt.xlabel('r', fontsize=18)\n",
    "plt.ylabel('f', fontsize=18)\n",
    "plt.axvspan(4.8, 5, alpha=0.5, color='red')\n",
    "\n",
    "plt.xlim(4.8,6)\n",
    "plt.ylim(-0.5,3)"
   ]
  },
  {
   "cell_type": "code",
   "execution_count": null,
   "metadata": {
    "collapsed": false
   },
   "outputs": [],
   "source": [
    "v"
   ]
  },
  {
   "cell_type": "code",
   "execution_count": null,
   "metadata": {
    "collapsed": true
   },
   "outputs": [],
   "source": []
  },
  {
   "cell_type": "code",
   "execution_count": null,
   "metadata": {
    "collapsed": true
   },
   "outputs": [],
   "source": []
  }
 ],
 "metadata": {
  "kernelspec": {
   "display_name": "Python 3",
   "language": "python",
   "name": "python3"
  },
  "language_info": {
   "codemirror_mode": {
    "name": "ipython",
    "version": 3
   },
   "file_extension": ".py",
   "mimetype": "text/x-python",
   "name": "python",
   "nbconvert_exporter": "python",
   "pygments_lexer": "ipython3",
   "version": "3.4.1"
  }
 },
 "nbformat": 4,
 "nbformat_minor": 0
}
