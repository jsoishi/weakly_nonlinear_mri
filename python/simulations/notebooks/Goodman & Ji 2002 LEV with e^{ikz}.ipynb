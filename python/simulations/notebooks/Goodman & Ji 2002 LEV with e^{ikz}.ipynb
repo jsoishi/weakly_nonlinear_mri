{
 "cells": [
  {
   "cell_type": "code",
   "execution_count": 22,
   "metadata": {
    "collapsed": false
   },
   "outputs": [],
   "source": [
    "%matplotlib nbagg\n",
    "import time\n",
    "import h5py\n",
    "import matplotlib.pylab as plt\n",
    "import numpy as np\n",
    "import dedalus.public as de\n",
    "from dedalus.extras import flow_tools"
   ]
  },
  {
   "cell_type": "code",
   "execution_count": 23,
   "metadata": {
    "collapsed": true
   },
   "outputs": [],
   "source": [
    "import logging\n",
    "root = logging.root\n",
    "for h in root.handlers:\n",
    "    h.setLevel(\"INFO\")\n",
    "    \n",
    "logger = logging.getLogger(__name__)"
   ]
  },
  {
   "cell_type": "code",
   "execution_count": 24,
   "metadata": {
    "collapsed": true
   },
   "outputs": [],
   "source": [
    "nr = 256\n",
    "\n",
    "r_in = 5. # cm\n",
    "r_out = 3*r_in\n",
    "h = 10. # cm\n",
    "\n",
    "nu = 3.26e-3 # cm^2/s\n",
    "eta = 2000 # cm^2/s\n",
    "rho = 6 # g/cm^3\n",
    "B0 = 3000 # G"
   ]
  },
  {
   "cell_type": "code",
   "execution_count": 25,
   "metadata": {
    "collapsed": false
   },
   "outputs": [
    {
     "name": "stdout",
     "output_type": "stream",
     "text": [
      "Re_in = 487957.8476026697; Re_out = 58896.823006819046\n",
      "zeta bar = 0.062104757527239964\n"
     ]
    }
   ],
   "source": [
    "d = r_out - r_in\n",
    "eps = h/d\n",
    "K = np.pi/h * np.sqrt(1+eps**2)\n",
    "Omega_in = 314 # rad/s\n",
    "Omega_out = 37.9 # rad/s\n",
    "Re_in = Omega_in/(nu*K**2)\n",
    "Re_out = Omega_out/(nu*K**2)\n",
    "zeta_bar = 2*(r_out**2 * Omega_out - r_in**2 * Omega_in)/((r_out**2 - r_in**2)*np.sqrt(Omega_in*Omega_out))\n",
    "print(\"Re_in = {}; Re_out = {}\".format(Re_in,Re_out))\n",
    "print(\"zeta bar = {}\".format(zeta_bar))"
   ]
  },
  {
   "cell_type": "code",
   "execution_count": 26,
   "metadata": {
    "collapsed": true
   },
   "outputs": [],
   "source": [
    "r = de.Chebyshev('r',nr,interval=[r_in, r_out])\n",
    "domain = de.Domain([r])#,grid_dtype=np.double)\n",
    "\n",
    "nr2 = 384\n",
    "r2 = de.Chebyshev('r',nr2,interval=[r_in, r_out])\n",
    "domain2 = de.Domain([r2])#,grid_dtype=np.double)"
   ]
  },
  {
   "cell_type": "code",
   "execution_count": 27,
   "metadata": {
    "collapsed": true
   },
   "outputs": [],
   "source": [
    "r_g = r.grid()"
   ]
  },
  {
   "cell_type": "code",
   "execution_count": 28,
   "metadata": {
    "collapsed": true
   },
   "outputs": [],
   "source": [
    "B = (Omega_out - Omega_in)/(1/r_out**2 - 1/r_in**2)\n",
    "A = Omega_in - B/r_in**2\n",
    "\n",
    "Omega = A + B/r_g**2"
   ]
  },
  {
   "cell_type": "code",
   "execution_count": 29,
   "metadata": {
    "collapsed": true
   },
   "outputs": [],
   "source": [
    "omega = domain.new_field()\n",
    "vorticity = domain.new_field()\n",
    "r2_omega = domain.new_field()"
   ]
  },
  {
   "cell_type": "code",
   "execution_count": 30,
   "metadata": {
    "collapsed": false
   },
   "outputs": [
    {
     "name": "stdout",
     "output_type": "stream",
     "text": [
      "2016-05-05 11:48:17,266 problems 0/1 INFO :: Solving EVP with homogeneity tolerance of 1.000e-10\n",
      "2016-05-05 11:48:17,288 problems 0/1 INFO :: Solving EVP with homogeneity tolerance of 1.000e-10\n"
     ]
    }
   ],
   "source": [
    "variables = ['u','v','w','Br','Bphi','Bz','p','vr','wr','Bphi_r']\n",
    "gmri1 = de.EVP(domain,variables, 'sigma')\n",
    "gmri2 = de.EVP(domain2,variables, 'sigma')\n",
    "\n",
    "for gmri in [gmri1, gmri2]:\n",
    "    gmri.parameters['nu'] = nu\n",
    "    gmri.parameters['eta'] = eta\n",
    "    gmri.parameters['rho'] = rho\n",
    "    gmri.parameters['u0'] = 1\n",
    "    gmri.parameters['u0r'] = 1\n",
    "    gmri.parameters['B0'] = B0\n",
    "    gmri.parameters['pi'] = np.pi\n",
    "    gmri.parameters['k'] = np.pi/h\n",
    "    gmri.parameters['A'] = A\n",
    "    gmri.parameters['B'] = B\n",
    "    gmri.substitutions['ru0'] = '(r*r*A + B)' # u0 = r Omega(r) = Ar + B/r\n",
    "    gmri.substitutions['rrdu0'] = '(A*r*r-B)' # du0/dr = A - B/r^2"
   ]
  },
  {
   "cell_type": "code",
   "execution_count": 31,
   "metadata": {
    "collapsed": true
   },
   "outputs": [],
   "source": [
    "# Equations with dz -> 1j*k\n",
    "for gmri in [gmri1, gmri2]:\n",
    "    gmri.add_equation(\"r**2*sigma*(u) - nu*r**2*(-k**2*u + 1j*k*wr)  + r**2*dr(p)/rho - 2*ru0*v - r**2*B0*1j*k*Br/(4*pi*rho) = 0\")\n",
    "    gmri.add_equation(\"r**2*sigma*(v) - nu*(r**2*dr(vr) + r*vr - r**2*k**2*v - v) + ru0*u + u*rrdu0 - r**2*B0*1j*k*Bphi/(4*pi*rho) = 0\")\n",
    "    gmri.add_equation(\"r*sigma*(w) - nu*(r*dr(wr) + wr - r*k**2*w) + 1j*r*k*p/rho - r*B0*1j*k*Bz/(4*pi*rho) = 0\")\n",
    "    gmri.add_equation(\"r*dr(u) + u + r*1j*k*w = 0\")\n",
    "    gmri.add_equation(\"vr - dr(v) = 0\")\n",
    "    gmri.add_equation(\"wr - dr(w) = 0\")\n",
    "    gmri.add_equation(\"sigma*(Br) - eta*(-k**2*Br - 1j*k*dr(Bz)) - B0*1j*k*u = 0\")\n",
    "    gmri.add_equation(\"r**2*sigma*(Bphi) - eta*(r**2*dr(Bphi_r) - r**2*k**2*Bphi + r*Bphi_r - Bphi) - Br*rrdu0 + ru0*Br - r**2*B0*1j*k*v = 0\")\n",
    "    gmri.add_equation(\"r*dr(Br) + Br + r*1j*k*Bz = 0\")\n",
    "    gmri.add_equation(\"Bphi_r - dr(Bphi) = 0\")"
   ]
  },
  {
   "cell_type": "code",
   "execution_count": 32,
   "metadata": {
    "collapsed": true
   },
   "outputs": [],
   "source": [
    "# boundary conditions\n",
    "for gmri in [gmri1, gmri2]:\n",
    "    gmri.add_bc(\"left(u) = 0\")\n",
    "    gmri.add_bc(\"left(v) = 0\")\n",
    "    gmri.add_bc(\"left(w) = 0\")\n",
    "    gmri.add_bc(\"right(u) = 0\")\n",
    "    gmri.add_bc(\"right(v) = 0\")\n",
    "    gmri.add_bc(\"right(w) = 0\")\n",
    "    gmri.add_bc(\"left(Br) = 0\")\n",
    "    gmri.add_bc(\"right(Br) = 0\")\n",
    "    gmri.add_bc(\"left(dr(r*Bphi)) = 0\")\n",
    "    gmri.add_bc(\"right(dr(r*Bphi)) = 0\")"
   ]
  },
  {
   "cell_type": "code",
   "execution_count": null,
   "metadata": {
    "collapsed": true
   },
   "outputs": [],
   "source": [
    "gmri_solver1 = gmri1.build_solver()\n",
    "gmri_solver2 = gmri2.build_solver()"
   ]
  },
  {
   "cell_type": "code",
   "execution_count": null,
   "metadata": {
    "collapsed": false
   },
   "outputs": [],
   "source": [
    "gmri_solver1.solve(gmri_solver1.pencils[0])\n",
    "gmri_solver2.solve(gmri_solver2.pencils[0])"
   ]
  },
  {
   "cell_type": "code",
   "execution_count": null,
   "metadata": {
    "collapsed": true
   },
   "outputs": [],
   "source": [
    "def discard_spurious_eigenvalues(lambda1, lambda2):\n",
    "\n",
    "    \"\"\"\n",
    "    lambda1 :: eigenvalues from low res run\n",
    "    lambda2 :: eigenvalues from high res run\n",
    "\n",
    "    Solves the linear eigenvalue problem for two different resolutions.\n",
    "    Returns trustworthy eigenvalues using nearest delta, from Boyd chapter 7.\n",
    "    \"\"\"\n",
    "\n",
    "    # Reverse engineer correct indices to make unsorted list from sorted\n",
    "    reverse_lambda1_indx = np.arange(len(lambda1)) \n",
    "    reverse_lambda2_indx = np.arange(len(lambda2))\n",
    "\n",
    "    lambda1_and_indx = np.asarray(list(zip(lambda1, reverse_lambda1_indx)))\n",
    "    lambda2_and_indx = np.asarray(list(zip(lambda2, reverse_lambda2_indx)))\n",
    "\n",
    "    # remove nans\n",
    "    lambda1_and_indx = lambda1_and_indx[np.isfinite(lambda1)]\n",
    "    lambda2_and_indx = lambda2_and_indx[np.isfinite(lambda2)]\n",
    "\n",
    "    # Sort lambda1 and lambda2 by real parts\n",
    "    lambda1_and_indx = lambda1_and_indx[np.argsort(lambda1_and_indx[:, 0].real)]\n",
    "    lambda2_and_indx = lambda2_and_indx[np.argsort(lambda2_and_indx[:, 0].real)]\n",
    "\n",
    "    lambda1_sorted = lambda1_and_indx[:, 0]\n",
    "    lambda2_sorted = lambda2_and_indx[:, 0]\n",
    "\n",
    "    # Compute sigmas from lower resolution run (gridnum = N1)\n",
    "    sigmas = np.zeros(len(lambda1_sorted))\n",
    "    sigmas[0] = np.abs(lambda1_sorted[0] - lambda1_sorted[1])\n",
    "    sigmas[1:-1] = [0.5*(np.abs(lambda1_sorted[j] - lambda1_sorted[j - 1]) + np.abs(lambda1_sorted[j + 1] - lambda1_sorted[j])) for j in range(1, len(lambda1_sorted) - 1)]\n",
    "    sigmas[-1] = np.abs(lambda1_sorted[-2] - lambda1_sorted[-1])\n",
    "\n",
    "    if not (np.isfinite(sigmas)).all():\n",
    "        print(\"WARNING: at least one eigenvalue spacings (sigmas) is non-finite (np.inf or np.nan)!\")\n",
    "\n",
    "    # Nearest delta\n",
    "    delta_near = np.array([np.nanmin(np.abs(lambda1_sorted[j] - lambda2_sorted)/sigmas[j]) for j in range(len(lambda1_sorted))])\n",
    "\n",
    "    # Discard eigenvalues with 1/delta_near < 10^6\n",
    "    lambda1_and_indx = lambda1_and_indx[np.where((1.0/delta_near) > 1E6)]\n",
    "    #print(lambda1_and_indx)\n",
    "\n",
    "    lambda1 = lambda1_and_indx[:, 0]\n",
    "    indx = lambda1_and_indx[:, 1]\n",
    "\n",
    "    return lambda1, indx"
   ]
  },
  {
   "cell_type": "code",
   "execution_count": null,
   "metadata": {
    "collapsed": true
   },
   "outputs": [],
   "source": [
    "# Discard spurious eigenvalues\n",
    "ev1 = gmri_solver1.eigenvalues\n",
    "ev2 = gmri_solver2.eigenvalues\n",
    "goodeigs, goodeigs_indices = discard_spurious_eigenvalues(ev1, ev2)"
   ]
  },
  {
   "cell_type": "code",
   "execution_count": null,
   "metadata": {
    "collapsed": false
   },
   "outputs": [],
   "source": [
    "goodeigs_index = np.nanargmax(goodeigs.real)\n",
    "marginal_mode_index = int(goodeigs_indices[goodeigs_index])\n",
    "\n",
    "gmri_solver1.set_state(marginal_mode_index)"
   ]
  },
  {
   "cell_type": "code",
   "execution_count": null,
   "metadata": {
    "collapsed": false
   },
   "outputs": [],
   "source": [
    "goodeigs[goodeigs_index]"
   ]
  },
  {
   "cell_type": "code",
   "execution_count": null,
   "metadata": {
    "collapsed": true
   },
   "outputs": [],
   "source": [
    "z_g = domain.grid(0)\n",
    "\n",
    "p = gmri_solver1.state['p']\n",
    "u = gmri_solver1.state['u']\n",
    "v = gmri_solver1.state['v']\n",
    "w = gmri_solver1.state['w']\n",
    "vr = gmri_solver1.state['vr']\n",
    "wr = gmri_solver1.state['wr']\n",
    "Br = gmri_solver1.state['Br']\n",
    "Bphi = gmri_solver1.state['Bphi']\n",
    "Bz = gmri_solver1.state['Bz']\n",
    "\n",
    "scale_factor = 2.7/np.abs(v['g']).max()"
   ]
  },
  {
   "cell_type": "code",
   "execution_count": null,
   "metadata": {
    "collapsed": false
   },
   "outputs": [],
   "source": [
    "plt.figure()\n",
    "plt.plot(z_g, v['g'].real)\n",
    "plt.plot(z_g, v['g'].imag)"
   ]
  },
  {
   "cell_type": "code",
   "execution_count": null,
   "metadata": {
    "collapsed": false
   },
   "outputs": [],
   "source": [
    "plt.figure()\n",
    "plt.plot(z_g,scale_factor*v['g'],'k',ls='--')\n",
    "plt.plot(z_g,scale_factor*u['g']/3.,'k',ls='dotted')\n",
    "plt.plot(z_g,scale_factor*w['g']*0.07,'k',ls='-.')\n",
    "plt.plot(z_g,scale_factor*Br['g']/np.sqrt(4*np.pi*rho),'k')\n",
    "plt.plot(z_g,scale_factor*Bphi['g']/np.sqrt(4*np.pi*rho)*5,'k',dashes=[2,4,8,4])\n",
    "plt.plot(z_g,scale_factor*Bz['g']/np.sqrt(4*np.pi*rho),'k',dashes=[4,4])\n",
    "plt.xlabel('r', fontsize=18)\n",
    "plt.ylabel('f', fontsize=18)\n",
    "plt.axvspan(4, 5, alpha=0.5, color='red')\n",
    "plt.axvspan(15, 16, alpha=0.5, color='red')\n",
    "\n",
    "plt.xlim(4,16)\n",
    "#plt.ylim(-0.4,0.4)\n",
    "plt.ylim(-3, 3)"
   ]
  },
  {
   "cell_type": "code",
   "execution_count": null,
   "metadata": {
    "collapsed": false
   },
   "outputs": [],
   "source": [
    "plt.figure()\n",
    "plt.plot(z_g,scale_factor*v['g'],'b',ls='--')\n",
    "plt.plot(z_g,scale_factor*u['g']/3,'k',ls='dotted')\n",
    "plt.plot(z_g,scale_factor*w['g']*0.07,'k',ls='-.')\n",
    "plt.plot(z_g,scale_factor*Br['g']/np.sqrt(4*np.pi*rho),'k')\n",
    "plt.plot(z_g,scale_factor*Bphi['g']/np.sqrt(4*np.pi*rho)*5,'k',dashes=[2,4,8,4])\n",
    "plt.plot(z_g,scale_factor*Bz['g']/np.sqrt(4*np.pi*rho),'k',dashes=[4,4])\n",
    "plt.xlabel('r', fontsize=18)\n",
    "plt.ylabel('f', fontsize=18)\n",
    "plt.axvspan(4.8, 5, alpha=0.5, color='red')\n",
    "\n",
    "plt.xlim(4.8,6)\n",
    "plt.ylim(-0.5,3)"
   ]
  },
  {
   "cell_type": "code",
   "execution_count": null,
   "metadata": {
    "collapsed": true
   },
   "outputs": [],
   "source": []
  }
 ],
 "metadata": {
  "kernelspec": {
   "display_name": "Python 3",
   "language": "python",
   "name": "python3"
  },
  "language_info": {
   "codemirror_mode": {
    "name": "ipython",
    "version": 3
   },
   "file_extension": ".py",
   "mimetype": "text/x-python",
   "name": "python",
   "nbconvert_exporter": "python",
   "pygments_lexer": "ipython3",
   "version": "3.4.1"
  }
 },
 "nbformat": 4,
 "nbformat_minor": 0
}
